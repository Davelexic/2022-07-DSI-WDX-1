{
    "metadata": {
        "kernelspec": {
            "name": "SQL",
            "display_name": "SQL",
            "language": "sql"
        },
        "language_info": {
            "name": "sql",
            "version": ""
        }
    },
    "nbformat_minor": 2,
    "nbformat": 4,
    "cells": [
        {
            "cell_type": "code",
            "source": [
                "SELECT InvoiceDate, InvoiceDueDate, VendorName\r\n",
                "\r\n",
                "FROM Invoices, InvoiceLineItems, Vendors\r\n",
                "\r\n",
                "JOIN SumInvoices ON VendorID=VendorID\r\n",
                "/* Which Vendors have late invoices?\r\n",
                "*/\r\n",
                "SELECT\r\n",
                "    *\r\n",
                "FROM\r\n",
                "    Invoices\r\n",
                "/* Show vendors will an outstanding balance */\r\n",
                "\r\n",
                "SELECT \r\n",
                "    VendorName, InvoiceDate, InvoiceTotal, InvoiceNumber \r\n",
                "FROM Vendors, I.Invoices\r\n",
                "Inner JOIN\r\n",
                "    Invoices\r\n",
                "ON\r\n",
                "    Vendors.VendorID = Invoices.VendorID\r\n",
                "WHERE\r\n",
                "    InvoiceTotal >= 0\r\n",
                "ORDER BY VendorName, InvoiceTotal DESC;\r\n",
                "/* Which vendors have a total equal to or greater than zero */\r\n",
                "\r\n",
                "    \r\n",
                "\r\n",
                "\r\n",
                "\r\n",
                "\r\n",
                "\r\n",
                "\r\n",
                "\r\n",
                "\r\n",
                "\r\n",
                "\r\n",
                "\r\n",
                "\r\n",
                "    \r\n",
                "\r\n",
                "\r\n",
                "\r\n",
                "\r\n",
                "    \r\n",
                "\r\n",
                "\r\n",
                "\r\n",
                "\r\n",
                "\r\n",
                "\r\n",
                "\r\n",
                "\r\n",
                "    \r\n",
                "\r\n",
                "\r\n",
                "    \r\n",
                "\r\n",
                "    \r\n",
                "\r\n",
                " \r\n",
                "\r\n",
                "\r\n",
                "\r\n",
                "\r\n",
                "\r\n",
                ""
            ],
            "metadata": {
                "azdata_cell_guid": "f3047d17-f145-4e2d-b543-cc4b97f49fc8",
                "language": "sql"
            },
            "outputs": [
                {
                    "output_type": "error",
                    "evalue": "Msg 207, Level 16, State 1, Line 26\r\nInvalid column name 'Invoices'.",
                    "ename": "",
                    "traceback": []
                },
                {
                    "output_type": "display_data",
                    "data": {
                        "text/html": "Total execution time: 00:00:00.009"
                    },
                    "metadata": {}
                }
            ],
            "execution_count": 44
        },
        {
            "cell_type": "markdown",
            "source": [
                "Which vendors have late invoices?"
            ],
            "metadata": {
                "azdata_cell_guid": "5a7f2e63-b308-4e7c-adca-50825dbd4559"
            },
            "attachments": {}
        }
    ]
}