{
    "metadata": {
        "kernelspec": {
            "name": "SQL",
            "display_name": "SQL",
            "language": "sql"
        },
        "language_info": {
            "name": "sql",
            "version": ""
        }
    },
    "nbformat_minor": 2,
    "nbformat": 4,
    "cells": [
        {
            "cell_type": "code",
            "source": [
                "SELECT\r\n",
                "    *\r\n",
                "From \r\n",
                "    ActiveInvoices"
            ],
            "metadata": {
                "azdata_cell_guid": "0f58a12b-c2c9-45a1-96bf-9f0aa4e4b15b",
                "language": "sql",
                "tags": []
            },
            "outputs": [
                {
                    "output_type": "display_data",
                    "data": {
                        "text/html": "(11 rows affected)"
                    },
                    "metadata": {}
                },
                {
                    "output_type": "display_data",
                    "data": {
                        "text/html": "Total execution time: 00:00:00.159"
                    },
                    "metadata": {}
                },
                {
                    "output_type": "execute_result",
                    "execution_count": 3,
                    "data": {
                        "application/vnd.dataresource+json": {
                            "schema": {
                                "fields": [
                                    {
                                        "name": "InvoiceID"
                                    },
                                    {
                                        "name": "VendorID"
                                    },
                                    {
                                        "name": "InvoiceNumber"
                                    },
                                    {
                                        "name": "InvoiceDate"
                                    },
                                    {
                                        "name": "InvoiceTotal"
                                    },
                                    {
                                        "name": "PaymentTotal"
                                    },
                                    {
                                        "name": "CreditTotal"
                                    },
                                    {
                                        "name": "TermsID"
                                    },
                                    {
                                        "name": "InvoiceDueDate"
                                    },
                                    {
                                        "name": "PaymentDate"
                                    }
                                ]
                            },
                            "data": [
                                {
                                    "0": "89",
                                    "1": "72",
                                    "2": "39104",
                                    "3": "2016-03-10 00:00:00",
                                    "4": "85.31",
                                    "5": "0.00",
                                    "6": "0.00",
                                    "7": "3",
                                    "8": "2016-04-09 00:00:00",
                                    "9": "NULL"
                                },
                                {
                                    "0": "94",
                                    "1": "123",
                                    "2": "963253264",
                                    "3": "2016-03-18 00:00:00",
                                    "4": "52.25",
                                    "5": "0.00",
                                    "6": "0.00",
                                    "7": "3",
                                    "8": "2016-04-17 00:00:00",
                                    "9": "NULL"
                                },
                                {
                                    "0": "98",
                                    "1": "83",
                                    "2": "31361833",
                                    "3": "2016-03-21 00:00:00",
                                    "4": "579.42",
                                    "5": "0.00",
                                    "6": "0.00",
                                    "7": "2",
                                    "8": "2016-04-10 00:00:00",
                                    "9": "NULL"
                                },
                                {
                                    "0": "99",
                                    "1": "123",
                                    "2": "263253268",
                                    "3": "2016-03-21 00:00:00",
                                    "4": "59.97",
                                    "5": "0.00",
                                    "6": "0.00",
                                    "7": "3",
                                    "8": "2016-04-20 00:00:00",
                                    "9": "NULL"
                                },
                                {
                                    "0": "100",
                                    "1": "123",
                                    "2": "263253270",
                                    "3": "2016-03-22 00:00:00",
                                    "4": "67.92",
                                    "5": "0.00",
                                    "6": "0.00",
                                    "7": "3",
                                    "8": "2016-04-21 00:00:00",
                                    "9": "NULL"
                                },
                                {
                                    "0": "101",
                                    "1": "123",
                                    "2": "263253273",
                                    "3": "2016-03-22 00:00:00",
                                    "4": "30.75",
                                    "5": "0.00",
                                    "6": "0.00",
                                    "7": "3",
                                    "8": "2016-04-21 00:00:00",
                                    "9": "NULL"
                                },
                                {
                                    "0": "102",
                                    "1": "110",
                                    "2": "P-0608",
                                    "3": "2016-03-23 00:00:00",
                                    "4": "20551.18",
                                    "5": "0.00",
                                    "6": "1200.00",
                                    "7": "3",
                                    "8": "2016-04-22 00:00:00",
                                    "9": "NULL"
                                },
                                {
                                    "0": "105",
                                    "1": "106",
                                    "2": "9982771",
                                    "3": "2016-03-24 00:00:00",
                                    "4": "503.20",
                                    "5": "0.00",
                                    "6": "0.00",
                                    "7": "3",
                                    "8": "2016-04-23 00:00:00",
                                    "9": "NULL"
                                },
                                {
                                    "0": "110",
                                    "1": "80",
                                    "2": "134116",
                                    "3": "2016-03-28 00:00:00",
                                    "4": "90.36",
                                    "5": "0.00",
                                    "6": "0.00",
                                    "7": "2",
                                    "8": "2016-04-17 00:00:00",
                                    "9": "NULL"
                                },
                                {
                                    "0": "112",
                                    "1": "110",
                                    "2": "0-2436",
                                    "3": "2016-03-31 00:00:00",
                                    "4": "10976.06",
                                    "5": "0.00",
                                    "6": "0.00",
                                    "7": "3",
                                    "8": "2016-04-30 00:00:00",
                                    "9": "NULL"
                                },
                                {
                                    "0": "113",
                                    "1": "37",
                                    "2": "547480102",
                                    "3": "2016-04-01 00:00:00",
                                    "4": "224.00",
                                    "5": "0.00",
                                    "6": "0.00",
                                    "7": "3",
                                    "8": "2016-04-30 00:00:00",
                                    "9": "NULL"
                                }
                            ]
                        },
                        "text/html": "<table><tr><th>InvoiceID</th><th>VendorID</th><th>InvoiceNumber</th><th>InvoiceDate</th><th>InvoiceTotal</th><th>PaymentTotal</th><th>CreditTotal</th><th>TermsID</th><th>InvoiceDueDate</th><th>PaymentDate</th></tr><tr><td>89</td><td>72</td><td>39104</td><td>2016-03-10 00:00:00</td><td>85.31</td><td>0.00</td><td>0.00</td><td>3</td><td>2016-04-09 00:00:00</td><td>NULL</td></tr><tr><td>94</td><td>123</td><td>963253264</td><td>2016-03-18 00:00:00</td><td>52.25</td><td>0.00</td><td>0.00</td><td>3</td><td>2016-04-17 00:00:00</td><td>NULL</td></tr><tr><td>98</td><td>83</td><td>31361833</td><td>2016-03-21 00:00:00</td><td>579.42</td><td>0.00</td><td>0.00</td><td>2</td><td>2016-04-10 00:00:00</td><td>NULL</td></tr><tr><td>99</td><td>123</td><td>263253268</td><td>2016-03-21 00:00:00</td><td>59.97</td><td>0.00</td><td>0.00</td><td>3</td><td>2016-04-20 00:00:00</td><td>NULL</td></tr><tr><td>100</td><td>123</td><td>263253270</td><td>2016-03-22 00:00:00</td><td>67.92</td><td>0.00</td><td>0.00</td><td>3</td><td>2016-04-21 00:00:00</td><td>NULL</td></tr><tr><td>101</td><td>123</td><td>263253273</td><td>2016-03-22 00:00:00</td><td>30.75</td><td>0.00</td><td>0.00</td><td>3</td><td>2016-04-21 00:00:00</td><td>NULL</td></tr><tr><td>102</td><td>110</td><td>P-0608</td><td>2016-03-23 00:00:00</td><td>20551.18</td><td>0.00</td><td>1200.00</td><td>3</td><td>2016-04-22 00:00:00</td><td>NULL</td></tr><tr><td>105</td><td>106</td><td>9982771</td><td>2016-03-24 00:00:00</td><td>503.20</td><td>0.00</td><td>0.00</td><td>3</td><td>2016-04-23 00:00:00</td><td>NULL</td></tr><tr><td>110</td><td>80</td><td>134116</td><td>2016-03-28 00:00:00</td><td>90.36</td><td>0.00</td><td>0.00</td><td>2</td><td>2016-04-17 00:00:00</td><td>NULL</td></tr><tr><td>112</td><td>110</td><td>0-2436</td><td>2016-03-31 00:00:00</td><td>10976.06</td><td>0.00</td><td>0.00</td><td>3</td><td>2016-04-30 00:00:00</td><td>NULL</td></tr><tr><td>113</td><td>37</td><td>547480102</td><td>2016-04-01 00:00:00</td><td>224.00</td><td>0.00</td><td>0.00</td><td>3</td><td>2016-04-30 00:00:00</td><td>NULL</td></tr></table>"
                    },
                    "metadata": {}
                }
            ],
            "execution_count": 3
        },
        {
            "cell_type": "code",
            "source": [
                "SELECT\r\n",
                "VendorID, InvoiceTotal,\r\n",
                "FROM ActiveInvoices\r\n",
                "GROUP BY Invoiceid \r\n",
                "HAVING AVG(InvoiceTotal)>100\r\n",
                "ORDER BY  VendorID DESC;"
            ],
            "metadata": {
                "azdata_cell_guid": "a2ec02b6-47d2-4eed-ae18-0780b829114b",
                "language": "sql",
                "tags": []
            },
            "outputs": [
                {
                    "output_type": "error",
                    "evalue": "Msg 156, Level 15, State 1, Line 3\r\nIncorrect syntax near the keyword 'FROM'.",
                    "ename": "",
                    "traceback": []
                },
                {
                    "output_type": "display_data",
                    "data": {
                        "text/html": "Total execution time: 00:00:00.001"
                    },
                    "metadata": {}
                }
            ],
            "execution_count": 2
        },
        {
            "cell_type": "code",
            "source": [
                "SELECT InvoiceID, InvoiceDueDate\r\n",
                "FROM \r\n",
                "ActiveINVOICES\r\n",
                "Select INVOICEID, InvoiceDueDate\r\n",
                "FROM ActiveInvoices JOIN Invoices\r\n",
                "ON  InvoiceID.InvoiceDueDate=InvoiceDueDate.InvoiceID"
            ],
            "metadata": {
                "azdata_cell_guid": "d69cb018-9a8b-474a-902c-4e5aa14d7910",
                "language": "sql"
            },
            "outputs": [
                {
                    "output_type": "error",
                    "evalue": "Msg 4104, Level 16, State 1, Line 6\r\nThe multi-part identifier \"InvoiceID.InvoiceDueDate\" could not be bound.",
                    "ename": "",
                    "traceback": []
                },
                {
                    "output_type": "error",
                    "evalue": "Msg 4104, Level 16, State 1, Line 6\r\nThe multi-part identifier \"InvoiceDueDate.InvoiceID\" could not be bound.",
                    "ename": "",
                    "traceback": []
                },
                {
                    "output_type": "error",
                    "evalue": "Msg 209, Level 16, State 1, Line 4\r\nAmbiguous column name 'INVOICEID'.",
                    "ename": "",
                    "traceback": []
                },
                {
                    "output_type": "display_data",
                    "data": {
                        "text/html": "Total execution time: 00:00:00.004"
                    },
                    "metadata": {}
                }
            ],
            "execution_count": 3
        },
        {
            "cell_type": "code",
            "source": [
                "SELECT 'ACTIVE' AS SOURCE, InvoiceNumber, InvoiceTotal, InvoiceDate\r\n",
                "FROM ActiveInvoices\r\n",
                "WHERE InvoiceDate >= '3/10/2016'\r\n",
                "UNION\r\n",
                "SELECT 'NULL' AS Source, InvoiceNumber, InvoiceTotal, InvoiceDate\r\n",
                "FROM PaidInvoices\r\n",
                "WHERE InvoiceDate >= '3/10/2016'\r\n",
                "ORDER BY InvoiceTotal DESC"
            ],
            "metadata": {
                "azdata_cell_guid": "f011464f-da92-480d-a226-62ae1aa0177c",
                "language": "sql"
            },
            "outputs": [
                {
                    "output_type": "display_data",
                    "data": {
                        "text/html": "(26 rows affected)"
                    },
                    "metadata": {}
                },
                {
                    "output_type": "display_data",
                    "data": {
                        "text/html": "Total execution time: 00:00:00.064"
                    },
                    "metadata": {}
                },
                {
                    "output_type": "execute_result",
                    "metadata": {},
                    "execution_count": 1,
                    "data": {
                        "application/vnd.dataresource+json": {
                            "schema": {
                                "fields": [
                                    {
                                        "name": "SOURCE"
                                    },
                                    {
                                        "name": "InvoiceNumber"
                                    },
                                    {
                                        "name": "InvoiceTotal"
                                    },
                                    {
                                        "name": "InvoiceDate"
                                    }
                                ]
                            },
                            "data": [
                                {
                                    "0": "NULL",
                                    "1": "P-0259",
                                    "2": "26881.40",
                                    "3": "2016-03-19 00:00:00"
                                },
                                {
                                    "0": "NULL",
                                    "1": "0-2060",
                                    "2": "23517.58",
                                    "3": "2016-03-24 00:00:00"
                                },
                                {
                                    "0": "ACTIVE",
                                    "1": "P-0608",
                                    "2": "20551.18",
                                    "3": "2016-03-23 00:00:00"
                                },
                                {
                                    "0": "ACTIVE",
                                    "1": "0-2436",
                                    "2": "10976.06",
                                    "3": "2016-03-31 00:00:00"
                                },
                                {
                                    "0": "NULL",
                                    "1": "989319-447",
                                    "2": "3689.99",
                                    "3": "2016-03-24 00:00:00"
                                },
                                {
                                    "0": "NULL",
                                    "1": "989319-417",
                                    "2": "2051.59",
                                    "3": "2016-03-23 00:00:00"
                                },
                                {
                                    "0": "NULL",
                                    "1": "97/222",
                                    "2": "1000.46",
                                    "3": "2016-03-25 00:00:00"
                                },
                                {
                                    "0": "NULL",
                                    "1": "C73-24",
                                    "2": "600.00",
                                    "3": "2016-03-19 00:00:00"
                                },
                                {
                                    "0": "ACTIVE",
                                    "1": "31361833",
                                    "2": "579.42",
                                    "3": "2016-03-21 00:00:00"
                                },
                                {
                                    "0": "ACTIVE",
                                    "1": "9982771",
                                    "2": "503.20",
                                    "3": "2016-03-24 00:00:00"
                                },
                                {
                                    "0": "NULL",
                                    "1": "97-1024A",
                                    "2": "356.48",
                                    "3": "2016-03-20 00:00:00"
                                },
                                {
                                    "0": "ACTIVE",
                                    "1": "547480102",
                                    "2": "224.00",
                                    "3": "2016-04-01 00:00:00"
                                },
                                {
                                    "0": "NULL",
                                    "1": "4-327-7357",
                                    "2": "162.75",
                                    "3": "2016-03-16 00:00:00"
                                },
                                {
                                    "0": "NULL",
                                    "1": "963253249",
                                    "2": "127.75",
                                    "3": "2016-04-02 00:00:00"
                                },
                                {
                                    "0": "ACTIVE",
                                    "1": "134116",
                                    "2": "90.36",
                                    "3": "2016-03-28 00:00:00"
                                },
                                {
                                    "0": "ACTIVE",
                                    "1": "39104",
                                    "2": "85.31",
                                    "3": "2016-03-10 00:00:00"
                                },
                                {
                                    "0": "ACTIVE",
                                    "1": "263253270",
                                    "2": "67.92",
                                    "3": "2016-03-22 00:00:00"
                                },
                                {
                                    "0": "NULL",
                                    "1": "963253240",
                                    "2": "67.00",
                                    "3": "2016-03-24 00:00:00"
                                },
                                {
                                    "0": "ACTIVE",
                                    "1": "263253268",
                                    "2": "59.97",
                                    "3": "2016-03-21 00:00:00"
                                },
                                {
                                    "0": "ACTIVE",
                                    "1": "963253264",
                                    "2": "52.25",
                                    "3": "2016-03-18 00:00:00"
                                },
                                {
                                    "0": "NULL",
                                    "1": "263253243",
                                    "2": "44.44",
                                    "3": "2016-03-23 00:00:00"
                                },
                                {
                                    "0": "NULL",
                                    "1": "963253252",
                                    "2": "38.75",
                                    "3": "2016-03-12 00:00:00"
                                },
                                {
                                    "0": "NULL",
                                    "1": "111-92R-10095",
                                    "2": "32.70",
                                    "3": "2016-03-15 00:00:00"
                                },
                                {
                                    "0": "ACTIVE",
                                    "1": "263253273",
                                    "2": "30.75",
                                    "3": "2016-03-22 00:00:00"
                                },
                                {
                                    "0": "NULL",
                                    "1": "263253257",
                                    "2": "22.57",
                                    "3": "2016-03-30 00:00:00"
                                },
                                {
                                    "0": "NULL",
                                    "1": "111897",
                                    "2": "16.62",
                                    "3": "2016-03-15 00:00:00"
                                }
                            ]
                        },
                        "text/html": [
                            "<table>",
                            "<tr><th>SOURCE</th><th>InvoiceNumber</th><th>InvoiceTotal</th><th>InvoiceDate</th></tr>",
                            "<tr><td>NULL</td><td>P-0259</td><td>26881.40</td><td>2016-03-19 00:00:00</td></tr>",
                            "<tr><td>NULL</td><td>0-2060</td><td>23517.58</td><td>2016-03-24 00:00:00</td></tr>",
                            "<tr><td>ACTIVE</td><td>P-0608</td><td>20551.18</td><td>2016-03-23 00:00:00</td></tr>",
                            "<tr><td>ACTIVE</td><td>0-2436</td><td>10976.06</td><td>2016-03-31 00:00:00</td></tr>",
                            "<tr><td>NULL</td><td>989319-447</td><td>3689.99</td><td>2016-03-24 00:00:00</td></tr>",
                            "<tr><td>NULL</td><td>989319-417</td><td>2051.59</td><td>2016-03-23 00:00:00</td></tr>",
                            "<tr><td>NULL</td><td>97/222</td><td>1000.46</td><td>2016-03-25 00:00:00</td></tr>",
                            "<tr><td>NULL</td><td>C73-24</td><td>600.00</td><td>2016-03-19 00:00:00</td></tr>",
                            "<tr><td>ACTIVE</td><td>31361833</td><td>579.42</td><td>2016-03-21 00:00:00</td></tr>",
                            "<tr><td>ACTIVE</td><td>9982771</td><td>503.20</td><td>2016-03-24 00:00:00</td></tr>",
                            "<tr><td>NULL</td><td>97-1024A</td><td>356.48</td><td>2016-03-20 00:00:00</td></tr>",
                            "<tr><td>ACTIVE</td><td>547480102</td><td>224.00</td><td>2016-04-01 00:00:00</td></tr>",
                            "<tr><td>NULL</td><td>4-327-7357</td><td>162.75</td><td>2016-03-16 00:00:00</td></tr>",
                            "<tr><td>NULL</td><td>963253249</td><td>127.75</td><td>2016-04-02 00:00:00</td></tr>",
                            "<tr><td>ACTIVE</td><td>134116</td><td>90.36</td><td>2016-03-28 00:00:00</td></tr>",
                            "<tr><td>ACTIVE</td><td>39104</td><td>85.31</td><td>2016-03-10 00:00:00</td></tr>",
                            "<tr><td>ACTIVE</td><td>263253270</td><td>67.92</td><td>2016-03-22 00:00:00</td></tr>",
                            "<tr><td>NULL</td><td>963253240</td><td>67.00</td><td>2016-03-24 00:00:00</td></tr>",
                            "<tr><td>ACTIVE</td><td>263253268</td><td>59.97</td><td>2016-03-21 00:00:00</td></tr>",
                            "<tr><td>ACTIVE</td><td>963253264</td><td>52.25</td><td>2016-03-18 00:00:00</td></tr>",
                            "<tr><td>NULL</td><td>263253243</td><td>44.44</td><td>2016-03-23 00:00:00</td></tr>",
                            "<tr><td>NULL</td><td>963253252</td><td>38.75</td><td>2016-03-12 00:00:00</td></tr>",
                            "<tr><td>NULL</td><td>111-92R-10095</td><td>32.70</td><td>2016-03-15 00:00:00</td></tr>",
                            "<tr><td>ACTIVE</td><td>263253273</td><td>30.75</td><td>2016-03-22 00:00:00</td></tr>",
                            "<tr><td>NULL</td><td>263253257</td><td>22.57</td><td>2016-03-30 00:00:00</td></tr>",
                            "<tr><td>NULL</td><td>111897</td><td>16.62</td><td>2016-03-15 00:00:00</td></tr>",
                            "</table>"
                        ]
                    }
                }
            ],
            "execution_count": 1
        },
        {
            "cell_type": "code",
            "source": [
                "Select \r\n",
                "* \r\n",
                "FROM\r\n",
                "ActiveInvoices"
            ],
            "metadata": {
                "azdata_cell_guid": "d3411b80-1bc6-46bd-b28d-dd96a025a0ec",
                "language": "sql"
            },
            "outputs": [
                {
                    "output_type": "display_data",
                    "data": {
                        "text/html": "(11 rows affected)"
                    },
                    "metadata": {}
                },
                {
                    "output_type": "display_data",
                    "data": {
                        "text/html": "Total execution time: 00:00:00.024"
                    },
                    "metadata": {}
                },
                {
                    "output_type": "execute_result",
                    "execution_count": 21,
                    "data": {
                        "application/vnd.dataresource+json": {
                            "schema": {
                                "fields": [
                                    {
                                        "name": "InvoiceID"
                                    },
                                    {
                                        "name": "VendorID"
                                    },
                                    {
                                        "name": "InvoiceNumber"
                                    },
                                    {
                                        "name": "InvoiceDate"
                                    },
                                    {
                                        "name": "InvoiceTotal"
                                    },
                                    {
                                        "name": "PaymentTotal"
                                    },
                                    {
                                        "name": "CreditTotal"
                                    },
                                    {
                                        "name": "TermsID"
                                    },
                                    {
                                        "name": "InvoiceDueDate"
                                    },
                                    {
                                        "name": "PaymentDate"
                                    }
                                ]
                            },
                            "data": [
                                {
                                    "0": "89",
                                    "1": "72",
                                    "2": "39104",
                                    "3": "2016-03-10 00:00:00",
                                    "4": "85.31",
                                    "5": "0.00",
                                    "6": "0.00",
                                    "7": "3",
                                    "8": "2016-04-09 00:00:00",
                                    "9": "NULL"
                                },
                                {
                                    "0": "94",
                                    "1": "123",
                                    "2": "963253264",
                                    "3": "2016-03-18 00:00:00",
                                    "4": "52.25",
                                    "5": "0.00",
                                    "6": "0.00",
                                    "7": "3",
                                    "8": "2016-04-17 00:00:00",
                                    "9": "NULL"
                                },
                                {
                                    "0": "98",
                                    "1": "83",
                                    "2": "31361833",
                                    "3": "2016-03-21 00:00:00",
                                    "4": "579.42",
                                    "5": "0.00",
                                    "6": "0.00",
                                    "7": "2",
                                    "8": "2016-04-10 00:00:00",
                                    "9": "NULL"
                                },
                                {
                                    "0": "99",
                                    "1": "123",
                                    "2": "263253268",
                                    "3": "2016-03-21 00:00:00",
                                    "4": "59.97",
                                    "5": "0.00",
                                    "6": "0.00",
                                    "7": "3",
                                    "8": "2016-04-20 00:00:00",
                                    "9": "NULL"
                                },
                                {
                                    "0": "100",
                                    "1": "123",
                                    "2": "263253270",
                                    "3": "2016-03-22 00:00:00",
                                    "4": "67.92",
                                    "5": "0.00",
                                    "6": "0.00",
                                    "7": "3",
                                    "8": "2016-04-21 00:00:00",
                                    "9": "NULL"
                                },
                                {
                                    "0": "101",
                                    "1": "123",
                                    "2": "263253273",
                                    "3": "2016-03-22 00:00:00",
                                    "4": "30.75",
                                    "5": "0.00",
                                    "6": "0.00",
                                    "7": "3",
                                    "8": "2016-04-21 00:00:00",
                                    "9": "NULL"
                                },
                                {
                                    "0": "102",
                                    "1": "110",
                                    "2": "P-0608",
                                    "3": "2016-03-23 00:00:00",
                                    "4": "20551.18",
                                    "5": "0.00",
                                    "6": "1200.00",
                                    "7": "3",
                                    "8": "2016-04-22 00:00:00",
                                    "9": "NULL"
                                },
                                {
                                    "0": "105",
                                    "1": "106",
                                    "2": "9982771",
                                    "3": "2016-03-24 00:00:00",
                                    "4": "503.20",
                                    "5": "0.00",
                                    "6": "0.00",
                                    "7": "3",
                                    "8": "2016-04-23 00:00:00",
                                    "9": "NULL"
                                },
                                {
                                    "0": "110",
                                    "1": "80",
                                    "2": "134116",
                                    "3": "2016-03-28 00:00:00",
                                    "4": "90.36",
                                    "5": "0.00",
                                    "6": "0.00",
                                    "7": "2",
                                    "8": "2016-04-17 00:00:00",
                                    "9": "NULL"
                                },
                                {
                                    "0": "112",
                                    "1": "110",
                                    "2": "0-2436",
                                    "3": "2016-03-31 00:00:00",
                                    "4": "10976.06",
                                    "5": "0.00",
                                    "6": "0.00",
                                    "7": "3",
                                    "8": "2016-04-30 00:00:00",
                                    "9": "NULL"
                                },
                                {
                                    "0": "113",
                                    "1": "37",
                                    "2": "547480102",
                                    "3": "2016-04-01 00:00:00",
                                    "4": "224.00",
                                    "5": "0.00",
                                    "6": "0.00",
                                    "7": "3",
                                    "8": "2016-04-30 00:00:00",
                                    "9": "NULL"
                                }
                            ]
                        },
                        "text/html": "<table><tr><th>InvoiceID</th><th>VendorID</th><th>InvoiceNumber</th><th>InvoiceDate</th><th>InvoiceTotal</th><th>PaymentTotal</th><th>CreditTotal</th><th>TermsID</th><th>InvoiceDueDate</th><th>PaymentDate</th></tr><tr><td>89</td><td>72</td><td>39104</td><td>2016-03-10 00:00:00</td><td>85.31</td><td>0.00</td><td>0.00</td><td>3</td><td>2016-04-09 00:00:00</td><td>NULL</td></tr><tr><td>94</td><td>123</td><td>963253264</td><td>2016-03-18 00:00:00</td><td>52.25</td><td>0.00</td><td>0.00</td><td>3</td><td>2016-04-17 00:00:00</td><td>NULL</td></tr><tr><td>98</td><td>83</td><td>31361833</td><td>2016-03-21 00:00:00</td><td>579.42</td><td>0.00</td><td>0.00</td><td>2</td><td>2016-04-10 00:00:00</td><td>NULL</td></tr><tr><td>99</td><td>123</td><td>263253268</td><td>2016-03-21 00:00:00</td><td>59.97</td><td>0.00</td><td>0.00</td><td>3</td><td>2016-04-20 00:00:00</td><td>NULL</td></tr><tr><td>100</td><td>123</td><td>263253270</td><td>2016-03-22 00:00:00</td><td>67.92</td><td>0.00</td><td>0.00</td><td>3</td><td>2016-04-21 00:00:00</td><td>NULL</td></tr><tr><td>101</td><td>123</td><td>263253273</td><td>2016-03-22 00:00:00</td><td>30.75</td><td>0.00</td><td>0.00</td><td>3</td><td>2016-04-21 00:00:00</td><td>NULL</td></tr><tr><td>102</td><td>110</td><td>P-0608</td><td>2016-03-23 00:00:00</td><td>20551.18</td><td>0.00</td><td>1200.00</td><td>3</td><td>2016-04-22 00:00:00</td><td>NULL</td></tr><tr><td>105</td><td>106</td><td>9982771</td><td>2016-03-24 00:00:00</td><td>503.20</td><td>0.00</td><td>0.00</td><td>3</td><td>2016-04-23 00:00:00</td><td>NULL</td></tr><tr><td>110</td><td>80</td><td>134116</td><td>2016-03-28 00:00:00</td><td>90.36</td><td>0.00</td><td>0.00</td><td>2</td><td>2016-04-17 00:00:00</td><td>NULL</td></tr><tr><td>112</td><td>110</td><td>0-2436</td><td>2016-03-31 00:00:00</td><td>10976.06</td><td>0.00</td><td>0.00</td><td>3</td><td>2016-04-30 00:00:00</td><td>NULL</td></tr><tr><td>113</td><td>37</td><td>547480102</td><td>2016-04-01 00:00:00</td><td>224.00</td><td>0.00</td><td>0.00</td><td>3</td><td>2016-04-30 00:00:00</td><td>NULL</td></tr></table>"
                    },
                    "metadata": {}
                }
            ],
            "execution_count": 21
        }
    ]
}