{
    "metadata": {
        "kernelspec": {
            "name": "SQL",
            "display_name": "SQL",
            "language": "sql"
        },
        "language_info": {
            "name": "sql",
            "version": ""
        }
    },
    "nbformat_minor": 2,
    "nbformat": 4,
    "cells": [
        {
            "cell_type": "code",
            "source": [
                "--All Vendors in California\r\n",
                "Select [VendorName], [VendorState]\r\n",
                "From [dbo].[Vendors]\r\n",
                "Where [VendorState] = 'CA';"
            ],
            "metadata": {
                "azdata_cell_guid": "1d4b2685-c189-4fac-a20b-95fda96f1aac",
                "language": "sql"
            },
            "outputs": [
                {
                    "output_type": "display_data",
                    "data": {
                        "text/html": "(75 rows affected)"
                    },
                    "metadata": {}
                },
                {
                    "output_type": "display_data",
                    "data": {
                        "text/html": "Total execution time: 00:00:00.237"
                    },
                    "metadata": {}
                },
                {
                    "output_type": "execute_result",
                    "metadata": {},
                    "execution_count": 1,
                    "data": {
                        "application/vnd.dataresource+json": {
                            "schema": {
                                "fields": [
                                    {
                                        "name": "VendorName"
                                    },
                                    {
                                        "name": "VendorState"
                                    }
                                ]
                            },
                            "data": [
                                {
                                    "0": "Jobtrak",
                                    "1": "CA"
                                },
                                {
                                    "0": "California Chamber Of Commerce",
                                    "1": "CA"
                                },
                                {
                                    "0": "Towne Advertiser's Mailing Svcs",
                                    "1": "CA"
                                },
                                {
                                    "0": "BFI Industries",
                                    "1": "CA"
                                },
                                {
                                    "0": "Pacific Gas & Electric",
                                    "1": "CA"
                                },
                                {
                                    "0": "Robbins Mobile Lock And Key",
                                    "1": "CA"
                                },
                                {
                                    "0": "Bill Marvin Electric Inc",
                                    "1": "CA"
                                },
                                {
                                    "0": "City Of Fresno",
                                    "1": "CA"
                                },
                                {
                                    "0": "Golden Eagle Insurance Co",
                                    "1": "CA"
                                },
                                {
                                    "0": "Expedata Inc",
                                    "1": "CA"
                                },
                                {
                                    "0": "ASC Signs",
                                    "1": "CA"
                                },
                                {
                                    "0": "Internal Revenue Service",
                                    "1": "CA"
                                },
                                {
                                    "0": "Blanchard & Johnson Associates",
                                    "1": "CA"
                                },
                                {
                                    "0": "Fresno Photoengraving Company",
                                    "1": "CA"
                                },
                                {
                                    "0": "Crown Printing",
                                    "1": "CA"
                                },
                                {
                                    "0": "Diversified Printing & Pub",
                                    "1": "CA"
                                },
                                {
                                    "0": "Yale Industrial Trucks-Fresno",
                                    "1": "CA"
                                },
                                {
                                    "0": "California Data Marketing",
                                    "1": "CA"
                                },
                                {
                                    "0": "Vision Envelope & Printing",
                                    "1": "CA"
                                },
                                {
                                    "0": "Costco",
                                    "1": "CA"
                                },
                                {
                                    "0": "IBM",
                                    "1": "CA"
                                },
                                {
                                    "0": "Cal State Termite",
                                    "1": "CA"
                                },
                                {
                                    "0": "Graylift",
                                    "1": "CA"
                                },
                                {
                                    "0": "Blue Cross",
                                    "1": "CA"
                                },
                                {
                                    "0": "Shields Design",
                                    "1": "CA"
                                },
                                {
                                    "0": "Opamp Technical Books",
                                    "1": "CA"
                                },
                                {
                                    "0": "Fresno County Tax Collector",
                                    "1": "CA"
                                },
                                {
                                    "0": "Blue Shield of California",
                                    "1": "CA"
                                },
                                {
                                    "0": "Aztek Label",
                                    "1": "CA"
                                },
                                {
                                    "0": "Gary McKeighan Insurance",
                                    "1": "CA"
                                },
                                {
                                    "0": "Ph Photographic Services",
                                    "1": "CA"
                                },
                                {
                                    "0": "The Windows Deck",
                                    "1": "CA"
                                },
                                {
                                    "0": "Fresno Rack & Shelving Inc",
                                    "1": "CA"
                                },
                                {
                                    "0": "Publishers Marketing Assoc",
                                    "1": "CA"
                                },
                                {
                                    "0": "Lou Gentile's Flower Basket",
                                    "1": "CA"
                                },
                                {
                                    "0": "Texaco",
                                    "1": "CA"
                                },
                                {
                                    "0": "Bill Jones",
                                    "1": "CA"
                                },
                                {
                                    "0": "Frank E Wilber Co",
                                    "1": "CA"
                                },
                                {
                                    "0": "Fresno Credit Bureau",
                                    "1": "CA"
                                },
                                {
                                    "0": "The Fresno Bee",
                                    "1": "CA"
                                },
                                {
                                    "0": "Executive Office Products",
                                    "1": "CA"
                                },
                                {
                                    "0": "Retirement Plan Consultants",
                                    "1": "CA"
                                },
                                {
                                    "0": "State Board Of Equalization",
                                    "1": "CA"
                                },
                                {
                                    "0": "The Presort Center",
                                    "1": "CA"
                                },
                                {
                                    "0": "Valprint",
                                    "1": "CA"
                                },
                                {
                                    "0": "Wang Laboratories, Inc.",
                                    "1": "CA"
                                },
                                {
                                    "0": "Computerworld",
                                    "1": "CA"
                                },
                                {
                                    "0": "DMV Renewal",
                                    "1": "CA"
                                },
                                {
                                    "0": "Evans Executone Inc",
                                    "1": "CA"
                                },
                                {
                                    "0": "Wakefield Co",
                                    "1": "CA"
                                },
                                {
                                    "0": "McKesson Water Products",
                                    "1": "CA"
                                },
                                {
                                    "0": "Zip Print & Copy Center",
                                    "1": "CA"
                                },
                                {
                                    "0": "Abbey Office Furnishings",
                                    "1": "CA"
                                },
                                {
                                    "0": "Pacific Bell",
                                    "1": "CA"
                                },
                                {
                                    "0": "American Express",
                                    "1": "CA"
                                },
                                {
                                    "0": "Bertelsmann Industry Svcs. Inc",
                                    "1": "CA"
                                },
                                {
                                    "0": "California Business Machines",
                                    "1": "CA"
                                },
                                {
                                    "0": "Coffee Break Service",
                                    "1": "CA"
                                },
                                {
                                    "0": "Digital Dreamworks",
                                    "1": "CA"
                                },
                                {
                                    "0": "Dristas Groom & McCormick",
                                    "1": "CA"
                                },
                                {
                                    "0": "Ford Motor Credit Company",
                                    "1": "CA"
                                },
                                {
                                    "0": "Franchise Tax Board",
                                    "1": "CA"
                                },
                                {
                                    "0": "Gostanian General Building",
                                    "1": "CA"
                                },
                                {
                                    "0": "Kent H Landsberg Co",
                                    "1": "CA"
                                },
                                {
                                    "0": "Net Asset, Llc",
                                    "1": "CA"
                                },
                                {
                                    "0": "Office Depot",
                                    "1": "CA"
                                },
                                {
                                    "0": "Pollstar",
                                    "1": "CA"
                                },
                                {
                                    "0": "Postmaster",
                                    "1": "CA"
                                },
                                {
                                    "0": "Roadway Package System, Inc",
                                    "1": "CA"
                                },
                                {
                                    "0": "State of California",
                                    "1": "CA"
                                },
                                {
                                    "0": "Suburban Propane",
                                    "1": "CA"
                                },
                                {
                                    "0": "Unocal",
                                    "1": "CA"
                                },
                                {
                                    "0": "Yesmed, Inc",
                                    "1": "CA"
                                },
                                {
                                    "0": "Dataforms/West",
                                    "1": "CA"
                                },
                                {
                                    "0": "Zylka Design",
                                    "1": "CA"
                                }
                            ]
                        },
                        "text/html": [
                            "<table>",
                            "<tr><th>VendorName</th><th>VendorState</th></tr>",
                            "<tr><td>Jobtrak</td><td>CA</td></tr>",
                            "<tr><td>California Chamber Of Commerce</td><td>CA</td></tr>",
                            "<tr><td>Towne Advertiser's Mailing Svcs</td><td>CA</td></tr>",
                            "<tr><td>BFI Industries</td><td>CA</td></tr>",
                            "<tr><td>Pacific Gas &amp; Electric</td><td>CA</td></tr>",
                            "<tr><td>Robbins Mobile Lock And Key</td><td>CA</td></tr>",
                            "<tr><td>Bill Marvin Electric Inc</td><td>CA</td></tr>",
                            "<tr><td>City Of Fresno</td><td>CA</td></tr>",
                            "<tr><td>Golden Eagle Insurance Co</td><td>CA</td></tr>",
                            "<tr><td>Expedata Inc</td><td>CA</td></tr>",
                            "<tr><td>ASC Signs</td><td>CA</td></tr>",
                            "<tr><td>Internal Revenue Service</td><td>CA</td></tr>",
                            "<tr><td>Blanchard &amp; Johnson Associates</td><td>CA</td></tr>",
                            "<tr><td>Fresno Photoengraving Company</td><td>CA</td></tr>",
                            "<tr><td>Crown Printing</td><td>CA</td></tr>",
                            "<tr><td>Diversified Printing &amp; Pub</td><td>CA</td></tr>",
                            "<tr><td>Yale Industrial Trucks-Fresno</td><td>CA</td></tr>",
                            "<tr><td>California Data Marketing</td><td>CA</td></tr>",
                            "<tr><td>Vision Envelope &amp; Printing</td><td>CA</td></tr>",
                            "<tr><td>Costco</td><td>CA</td></tr>",
                            "<tr><td>IBM</td><td>CA</td></tr>",
                            "<tr><td>Cal State Termite</td><td>CA</td></tr>",
                            "<tr><td>Graylift</td><td>CA</td></tr>",
                            "<tr><td>Blue Cross</td><td>CA</td></tr>",
                            "<tr><td>Shields Design</td><td>CA</td></tr>",
                            "<tr><td>Opamp Technical Books</td><td>CA</td></tr>",
                            "<tr><td>Fresno County Tax Collector</td><td>CA</td></tr>",
                            "<tr><td>Blue Shield of California</td><td>CA</td></tr>",
                            "<tr><td>Aztek Label</td><td>CA</td></tr>",
                            "<tr><td>Gary McKeighan Insurance</td><td>CA</td></tr>",
                            "<tr><td>Ph Photographic Services</td><td>CA</td></tr>",
                            "<tr><td>The Windows Deck</td><td>CA</td></tr>",
                            "<tr><td>Fresno Rack &amp; Shelving Inc</td><td>CA</td></tr>",
                            "<tr><td>Publishers Marketing Assoc</td><td>CA</td></tr>",
                            "<tr><td>Lou Gentile's Flower Basket</td><td>CA</td></tr>",
                            "<tr><td>Texaco</td><td>CA</td></tr>",
                            "<tr><td>Bill Jones</td><td>CA</td></tr>",
                            "<tr><td>Frank E Wilber Co</td><td>CA</td></tr>",
                            "<tr><td>Fresno Credit Bureau</td><td>CA</td></tr>",
                            "<tr><td>The Fresno Bee</td><td>CA</td></tr>",
                            "<tr><td>Executive Office Products</td><td>CA</td></tr>",
                            "<tr><td>Retirement Plan Consultants</td><td>CA</td></tr>",
                            "<tr><td>State Board Of Equalization</td><td>CA</td></tr>",
                            "<tr><td>The Presort Center</td><td>CA</td></tr>",
                            "<tr><td>Valprint</td><td>CA</td></tr>",
                            "<tr><td>Wang Laboratories, Inc.</td><td>CA</td></tr>",
                            "<tr><td>Computerworld</td><td>CA</td></tr>",
                            "<tr><td>DMV Renewal</td><td>CA</td></tr>",
                            "<tr><td>Evans Executone Inc</td><td>CA</td></tr>",
                            "<tr><td>Wakefield Co</td><td>CA</td></tr>",
                            "<tr><td>McKesson Water Products</td><td>CA</td></tr>",
                            "<tr><td>Zip Print &amp; Copy Center</td><td>CA</td></tr>",
                            "<tr><td>Abbey Office Furnishings</td><td>CA</td></tr>",
                            "<tr><td>Pacific Bell</td><td>CA</td></tr>",
                            "<tr><td>American Express</td><td>CA</td></tr>",
                            "<tr><td>Bertelsmann Industry Svcs. Inc</td><td>CA</td></tr>",
                            "<tr><td>California Business Machines</td><td>CA</td></tr>",
                            "<tr><td>Coffee Break Service</td><td>CA</td></tr>",
                            "<tr><td>Digital Dreamworks</td><td>CA</td></tr>",
                            "<tr><td>Dristas Groom &amp; McCormick</td><td>CA</td></tr>",
                            "<tr><td>Ford Motor Credit Company</td><td>CA</td></tr>",
                            "<tr><td>Franchise Tax Board</td><td>CA</td></tr>",
                            "<tr><td>Gostanian General Building</td><td>CA</td></tr>",
                            "<tr><td>Kent H Landsberg Co</td><td>CA</td></tr>",
                            "<tr><td>Net Asset, Llc</td><td>CA</td></tr>",
                            "<tr><td>Office Depot</td><td>CA</td></tr>",
                            "<tr><td>Pollstar</td><td>CA</td></tr>",
                            "<tr><td>Postmaster</td><td>CA</td></tr>",
                            "<tr><td>Roadway Package System, Inc</td><td>CA</td></tr>",
                            "<tr><td>State of California</td><td>CA</td></tr>",
                            "<tr><td>Suburban Propane</td><td>CA</td></tr>",
                            "<tr><td>Unocal</td><td>CA</td></tr>",
                            "<tr><td>Yesmed, Inc</td><td>CA</td></tr>",
                            "<tr><td>Dataforms/West</td><td>CA</td></tr>",
                            "<tr><td>Zylka Design</td><td>CA</td></tr>",
                            "</table>"
                        ]
                    }
                }
            ],
            "execution_count": 1
        }
    ]
}