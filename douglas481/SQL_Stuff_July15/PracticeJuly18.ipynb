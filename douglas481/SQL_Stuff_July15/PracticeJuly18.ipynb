{
    "metadata": {
        "kernelspec": {
            "name": "SQL",
            "display_name": "SQL",
            "language": "sql"
        },
        "language_info": {
            "name": "sql",
            "version": ""
        }
    },
    "nbformat_minor": 2,
    "nbformat": 4,
    "cells": [
        {
            "cell_type": "markdown",
            "source": [
                "Working on SQL Familiarization"
            ],
            "metadata": {
                "language": "sql",
                "azdata_cell_guid": "4e05ac67-4583-44fb-8f21-62e26ae0f66c"
            },
            "attachments": {}
        },
        {
            "cell_type": "code",
            "source": [
                "--Vendor IDs of companies who owe more than $5000\r\n",
                "Select [VendorID], SUM([InvoiceTotal]-[PaymentTotal]) as [BalanceOwed]\r\n",
                "From [dbo].[Invoices]\r\n",
                "Group by [VendorID]\r\n",
                "Having SUM([InvoiceTotal]-[PaymentTotal])>5000\r\n",
                "Order by [VendorID];\r\n",
                ""
            ],
            "metadata": {
                "azdata_cell_guid": "68510a65-1218-4928-92d5-43d337c1ada7",
                "language": "sql"
            },
            "outputs": [
                {
                    "output_type": "display_data",
                    "data": {
                        "text/html": "(3 rows affected)"
                    },
                    "metadata": {}
                },
                {
                    "output_type": "display_data",
                    "data": {
                        "text/html": "Total execution time: 00:00:00.121"
                    },
                    "metadata": {}
                },
                {
                    "output_type": "execute_result",
                    "metadata": {},
                    "execution_count": 2,
                    "data": {
                        "application/vnd.dataresource+json": {
                            "schema": {
                                "fields": [
                                    {
                                        "name": "VendorID"
                                    },
                                    {
                                        "name": "BalanceOwed"
                                    }
                                ]
                            },
                            "data": [
                                {
                                    "0": "97",
                                    "1": "8344.50"
                                },
                                {
                                    "0": "98",
                                    "1": "8344.50"
                                },
                                {
                                    "0": "110",
                                    "1": "23823.19"
                                }
                            ]
                        },
                        "text/html": [
                            "<table>",
                            "<tr><th>VendorID</th><th>BalanceOwed</th></tr>",
                            "<tr><td>97</td><td>8344.50</td></tr>",
                            "<tr><td>98</td><td>8344.50</td></tr>",
                            "<tr><td>110</td><td>23823.19</td></tr>",
                            "</table>"
                        ]
                    }
                }
            ],
            "execution_count": 2
        },
        {
            "cell_type": "code",
            "source": [
                "SELECT [VendorName]\r\n",
                ", [VendorState]\r\n",
                ", [TermsID]\r\n",
                ", [TermsDescription]\r\n",
                "FROM [dbo].[Terms]\r\n",
                "JOIN [dbo].[Vendors]\r\n",
                "ON [Terms].[TermsID]=[Vendors].[DefaultTermsID]\r\n",
                "WHERE TermsID = 1;"
            ],
            "metadata": {
                "azdata_cell_guid": "f947195e-7382-4d32-ad99-dd899081f3b5",
                "language": "sql"
            },
            "outputs": [
                {
                    "output_type": "display_data",
                    "data": {
                        "text/html": "(12 rows affected)"
                    },
                    "metadata": {}
                },
                {
                    "output_type": "display_data",
                    "data": {
                        "text/html": "Total execution time: 00:00:00.005"
                    },
                    "metadata": {}
                },
                {
                    "output_type": "execute_result",
                    "metadata": {},
                    "execution_count": 1,
                    "data": {
                        "application/vnd.dataresource+json": {
                            "schema": {
                                "fields": [
                                    {
                                        "name": "VendorName"
                                    },
                                    {
                                        "name": "VendorState"
                                    },
                                    {
                                        "name": "TermsID"
                                    },
                                    {
                                        "name": "TermsDescription"
                                    }
                                ]
                            },
                            "data": [
                                {
                                    "0": "US Postal Service",
                                    "1": "WI",
                                    "2": "1",
                                    "3": "Net due 10 days"
                                },
                                {
                                    "0": "ASC Signs",
                                    "1": "CA",
                                    "2": "1",
                                    "3": "Net due 10 days"
                                },
                                {
                                    "0": "Internal Revenue Service",
                                    "1": "CA",
                                    "2": "1",
                                    "3": "Net due 10 days"
                                },
                                {
                                    "0": "IBM",
                                    "1": "CA",
                                    "2": "1",
                                    "3": "Net due 10 days"
                                },
                                {
                                    "0": "Lou Gentile's Flower Basket",
                                    "1": "CA",
                                    "2": "1",
                                    "3": "Net due 10 days"
                                },
                                {
                                    "0": "State Board Of Equalization",
                                    "1": "CA",
                                    "2": "1",
                                    "3": "Net due 10 days"
                                },
                                {
                                    "0": "Computerworld",
                                    "1": "CA",
                                    "2": "1",
                                    "3": "Net due 10 days"
                                },
                                {
                                    "0": "Edward Data Services",
                                    "1": "OH",
                                    "2": "1",
                                    "3": "Net due 10 days"
                                },
                                {
                                    "0": "Evans Executone Inc",
                                    "1": "CA",
                                    "2": "1",
                                    "3": "Net due 10 days"
                                },
                                {
                                    "0": "Net Asset, Llc",
                                    "1": "CA",
                                    "2": "1",
                                    "3": "Net due 10 days"
                                },
                                {
                                    "0": "Postmaster",
                                    "1": "CA",
                                    "2": "1",
                                    "3": "Net due 10 days"
                                },
                                {
                                    "0": "State of California",
                                    "1": "CA",
                                    "2": "1",
                                    "3": "Net due 10 days"
                                }
                            ]
                        },
                        "text/html": [
                            "<table>",
                            "<tr><th>VendorName</th><th>VendorState</th><th>TermsID</th><th>TermsDescription</th></tr>",
                            "<tr><td>US Postal Service</td><td>WI</td><td>1</td><td>Net due 10 days</td></tr>",
                            "<tr><td>ASC Signs</td><td>CA</td><td>1</td><td>Net due 10 days</td></tr>",
                            "<tr><td>Internal Revenue Service</td><td>CA</td><td>1</td><td>Net due 10 days</td></tr>",
                            "<tr><td>IBM</td><td>CA</td><td>1</td><td>Net due 10 days</td></tr>",
                            "<tr><td>Lou Gentile's Flower Basket</td><td>CA</td><td>1</td><td>Net due 10 days</td></tr>",
                            "<tr><td>State Board Of Equalization</td><td>CA</td><td>1</td><td>Net due 10 days</td></tr>",
                            "<tr><td>Computerworld</td><td>CA</td><td>1</td><td>Net due 10 days</td></tr>",
                            "<tr><td>Edward Data Services</td><td>OH</td><td>1</td><td>Net due 10 days</td></tr>",
                            "<tr><td>Evans Executone Inc</td><td>CA</td><td>1</td><td>Net due 10 days</td></tr>",
                            "<tr><td>Net Asset, Llc</td><td>CA</td><td>1</td><td>Net due 10 days</td></tr>",
                            "<tr><td>Postmaster</td><td>CA</td><td>1</td><td>Net due 10 days</td></tr>",
                            "<tr><td>State of California</td><td>CA</td><td>1</td><td>Net due 10 days</td></tr>",
                            "</table>"
                        ]
                    }
                }
            ],
            "execution_count": 1
        }
    ]
}