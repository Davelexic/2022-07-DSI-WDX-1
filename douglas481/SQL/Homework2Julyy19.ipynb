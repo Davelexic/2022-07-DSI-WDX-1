{
    "metadata": {
        "kernelspec": {
            "name": "SQL",
            "display_name": "SQL",
            "language": "sql"
        },
        "language_info": {
            "name": "sql",
            "version": ""
        }
    },
    "nbformat_minor": 2,
    "nbformat": 4,
    "cells": [
        {
            "cell_type": "markdown",
            "source": [
                "Homework 2, July 19, 2022"
            ],
            "metadata": {
                "azdata_cell_guid": "9feb2c5d-5ecf-4a6d-b0db-86c441791abb"
            },
            "attachments": {}
        },
        {
            "cell_type": "code",
            "source": [
                "--Finding a list of distinct vendors; meets requirements a, c, d, e, j. Requirements remaining b, f, g, h, i.\r\n",
                "Select V.VendorName\r\n",
                ", COUNT(Distinct V.VendorName) As 'Count'\r\n",
                "FROM Invoices I\r\n",
                "JOIN Vendors V\r\n",
                "ON I.VendorID=V.VendorID\r\n",
                "Group by V.VendorName\r\n",
                "Having COUNT(Distinct V.VendorName)>0\r\n",
                "Order by V.VendorName"
            ],
            "metadata": {
                "azdata_cell_guid": "493cfe05-644e-44c1-b58f-7d78312f0663",
                "language": "sql"
            },
            "outputs": [
                {
                    "output_type": "error",
                    "ename": "",
                    "evalue": "Msg 208, Level 16, State 1, Line 2\r\nInvalid object name 'Invoices'.",
                    "traceback": []
                },
                {
                    "output_type": "display_data",
                    "data": {
                        "text/html": "Total execution time: 00:00:00.002"
                    },
                    "metadata": {}
                }
            ],
            "execution_count": 2
        },
        {
            "cell_type": "code",
            "source": [
                "--Finding the vendors that still owe money in the month of February of 2016; meets requirements b, h. Requirements remaining f, g, i.\r\n",
                "Select V.VendorName\r\n",
                ", I.PaymentTotal-I.InvoiceTotal-I.CreditTotal As 'Balance Remaining'\r\n",
                ", I.InvoiceDueDate\r\n",
                "FROM Invoices I\r\n",
                "Left JOIN Vendors V\r\n",
                "ON I.VendorID=V.VendorID\r\n",
                "WHERE I.PaymentTotal-I.InvoiceTotal+I.CreditTotal>0\r\n",
                "AND I.InvoiceDate BETWEEN '2016-02-01' AND '2016-02-28'\r\n",
                "ORDER BY I.InvoiceDueDate"
            ],
            "metadata": {
                "azdata_cell_guid": "4f9c9c68-a844-40f7-a19b-614826d85490",
                "language": "sql"
            },
            "outputs": [
                {
                    "output_type": "display_data",
                    "data": {
                        "text/html": "(0 rows affected)"
                    },
                    "metadata": {}
                },
                {
                    "output_type": "display_data",
                    "data": {
                        "text/html": "Total execution time: 00:00:00.008"
                    },
                    "metadata": {}
                },
                {
                    "output_type": "execute_result",
                    "execution_count": 15,
                    "data": {
                        "application/vnd.dataresource+json": {
                            "schema": {
                                "fields": [
                                    {
                                        "name": "VendorName"
                                    },
                                    {
                                        "name": "Balance Remaining"
                                    },
                                    {
                                        "name": "InvoiceDueDate"
                                    }
                                ]
                            },
                            "data": []
                        },
                        "text/html": "<table><tr><th>VendorName</th><th>Balance Remaining</th><th>InvoiceDueDate</th></tr></table>"
                    },
                    "metadata": {}
                }
            ],
            "execution_count": 15
        },
        {
            "cell_type": "code",
            "source": [
                "--Shows vendors debt status and how much is remaining as well as the latest invoice due date; meets requirement f. Requirements remaining g, i.\r\n",
                "Select V.VendorName\r\n",
                ", I.PaymentTotal-I.InvoiceTotal+I.CreditTotal As 'Balance Remaining'\r\n",
                ", I.InvoiceDueDate\r\n",
                ", CASE \r\n",
                "    WHEN I.PaymentTotal-I.InvoiceTotal-I.CreditTotal>0 THEN 'Owes Money'\r\n",
                "    ELSE 'Does Not Owe Money'\r\n",
                "    END As 'Debt Status'\r\n",
                "FROM Invoices I\r\n",
                "JOIN Vendors V\r\n",
                "ON I.VendorID=V.VendorID\r\n",
                "Order by V.VendorName"
            ],
            "metadata": {
                "azdata_cell_guid": "df956c70-a2d7-4b58-bd92-b640eae48087",
                "language": "sql"
            },
            "outputs": [
                {
                    "output_type": "display_data",
                    "data": {
                        "text/html": "(120 rows affected)"
                    },
                    "metadata": {}
                },
                {
                    "output_type": "display_data",
                    "data": {
                        "text/html": "Total execution time: 00:00:00.062"
                    },
                    "metadata": {}
                },
                {
                    "output_type": "execute_result",
                    "execution_count": 13,
                    "data": {
                        "application/vnd.dataresource+json": {
                            "schema": {
                                "fields": [
                                    {
                                        "name": "VendorName"
                                    },
                                    {
                                        "name": "Balance Remaining"
                                    },
                                    {
                                        "name": "InvoiceDueDate"
                                    },
                                    {
                                        "name": "Debt Status"
                                    }
                                ]
                            },
                            "data": [
                                {
                                    "0": "Abbey Office Furnishings",
                                    "1": "0.00",
                                    "2": "2016-03-25 00:00:00",
                                    "3": "Does Not Owe Money"
                                },
                                {
                                    "0": "American Express",
                                    "1": "-8344.50",
                                    "2": "2022-03-31 00:00:00",
                                    "3": "Does Not Owe Money"
                                },
                                {
                                    "0": "Bertelsmann Industry Svcs. Inc",
                                    "1": "-4747.50",
                                    "2": "2022-03-31 00:00:00",
                                    "3": "Does Not Owe Money"
                                },
                                {
                                    "0": "Bertelsmann Industry Svcs. Inc",
                                    "1": "0.00",
                                    "2": "2016-03-18 00:00:00",
                                    "3": "Does Not Owe Money"
                                },
                                {
                                    "0": "Blue Cross",
                                    "1": "0.00",
                                    "2": "2016-03-03 00:00:00",
                                    "3": "Does Not Owe Money"
                                },
                                {
                                    "0": "Blue Cross",
                                    "1": "0.00",
                                    "2": "2016-03-07 00:00:00",
                                    "3": "Does Not Owe Money"
                                },
                                {
                                    "0": "Blue Cross",
                                    "1": "-224.00",
                                    "2": "2016-04-30 00:00:00",
                                    "3": "Does Not Owe Money"
                                },
                                {
                                    "0": "Cahners Publishing Company",
                                    "1": "0.00",
                                    "2": "2016-04-09 00:00:00",
                                    "3": "Does Not Owe Money"
                                },
                                {
                                    "0": "Cardinal Business Media, Inc.",
                                    "1": "-90.36",
                                    "2": "2016-04-17 00:00:00",
                                    "3": "Does Not Owe Money"
                                },
                                {
                                    "0": "Cardinal Business Media, Inc.",
                                    "1": "0.00",
                                    "2": "2016-03-12 00:00:00",
                                    "3": "Does Not Owe Money"
                                },
                                {
                                    "0": "Coffee Break Service",
                                    "1": "0.00",
                                    "2": "2016-04-03 00:00:00",
                                    "3": "Does Not Owe Money"
                                },
                                {
                                    "0": "Coffee Break Service",
                                    "1": "-22.97",
                                    "2": "2020-03-31 00:00:00",
                                    "3": "Does Not Owe Money"
                                },
                                {
                                    "0": "Compuserve",
                                    "1": "0.00",
                                    "2": "2016-02-02 00:00:00",
                                    "3": "Does Not Owe Money"
                                },
                                {
                                    "0": "Compuserve",
                                    "1": "0.00",
                                    "2": "2016-01-23 00:00:00",
                                    "3": "Does Not Owe Money"
                                },
                                {
                                    "0": "Compuserve",
                                    "1": "-8344.50",
                                    "2": "2020-03-31 00:00:00",
                                    "3": "Does Not Owe Money"
                                },
                                {
                                    "0": "Computerworld",
                                    "1": "0.00",
                                    "2": "2016-02-21 00:00:00",
                                    "3": "Does Not Owe Money"
                                },
                                {
                                    "0": "Data Reproductions Corp",
                                    "1": "0.00",
                                    "2": "2016-03-01 00:00:00",
                                    "3": "Does Not Owe Money"
                                },
                                {
                                    "0": "Data Reproductions Corp",
                                    "1": "-173.38",
                                    "2": "2020-03-31 00:00:00",
                                    "3": "Does Not Owe Money"
                                },
                                {
                                    "0": "Data Reproductions Corp",
                                    "1": "-85.31",
                                    "2": "2016-04-09 00:00:00",
                                    "3": "Does Not Owe Money"
                                },
                                {
                                    "0": "Dean Witter Reynolds",
                                    "1": "0.00",
                                    "2": "2016-03-31 00:00:00",
                                    "3": "Does Not Owe Money"
                                },
                                {
                                    "0": "Digital Dreamworks",
                                    "1": "0.00",
                                    "2": "2016-02-20 00:00:00",
                                    "3": "Does Not Owe Money"
                                },
                                {
                                    "0": "Dristas Groom & McCormick",
                                    "1": "0.00",
                                    "2": "2016-02-22 00:00:00",
                                    "3": "Does Not Owe Money"
                                },
                                {
                                    "0": "Edward Data Services",
                                    "1": "0.00",
                                    "2": "2016-01-25 00:00:00",
                                    "3": "Does Not Owe Money"
                                },
                                {
                                    "0": "Evans Executone Inc",
                                    "1": "0.00",
                                    "2": "2016-01-04 00:00:00",
                                    "3": "Does Not Owe Money"
                                },
                                {
                                    "0": "Federal Express Corporation",
                                    "1": "0.00",
                                    "2": "2016-01-10 00:00:00",
                                    "3": "Does Not Owe Money"
                                },
                                {
                                    "0": "Federal Express Corporation",
                                    "1": "0.00",
                                    "2": "2016-01-13 00:00:00",
                                    "3": "Does Not Owe Money"
                                },
                                {
                                    "0": "Federal Express Corporation",
                                    "1": "0.00",
                                    "2": "2016-01-16 00:00:00",
                                    "3": "Does Not Owe Money"
                                },
                                {
                                    "0": "Federal Express Corporation",
                                    "1": "0.00",
                                    "2": "2016-01-16 00:00:00",
                                    "3": "Does Not Owe Money"
                                },
                                {
                                    "0": "Federal Express Corporation",
                                    "1": "0.00",
                                    "2": "2016-01-16 00:00:00",
                                    "3": "Does Not Owe Money"
                                },
                                {
                                    "0": "Federal Express Corporation",
                                    "1": "0.00",
                                    "2": "2016-01-21 00:00:00",
                                    "3": "Does Not Owe Money"
                                },
                                {
                                    "0": "Federal Express Corporation",
                                    "1": "0.00",
                                    "2": "2016-01-24 00:00:00",
                                    "3": "Does Not Owe Money"
                                },
                                {
                                    "0": "Federal Express Corporation",
                                    "1": "0.00",
                                    "2": "2016-01-25 00:00:00",
                                    "3": "Does Not Owe Money"
                                },
                                {
                                    "0": "Federal Express Corporation",
                                    "1": "0.00",
                                    "2": "2016-02-10 00:00:00",
                                    "3": "Does Not Owe Money"
                                },
                                {
                                    "0": "Federal Express Corporation",
                                    "1": "0.00",
                                    "2": "2016-02-04 00:00:00",
                                    "3": "Does Not Owe Money"
                                },
                                {
                                    "0": "Federal Express Corporation",
                                    "1": "0.00",
                                    "2": "2016-02-05 00:00:00",
                                    "3": "Does Not Owe Money"
                                },
                                {
                                    "0": "Federal Express Corporation",
                                    "1": "0.00",
                                    "2": "2016-02-24 00:00:00",
                                    "3": "Does Not Owe Money"
                                },
                                {
                                    "0": "Federal Express Corporation",
                                    "1": "0.00",
                                    "2": "2016-02-25 00:00:00",
                                    "3": "Does Not Owe Money"
                                },
                                {
                                    "0": "Federal Express Corporation",
                                    "1": "0.00",
                                    "2": "2016-02-19 00:00:00",
                                    "3": "Does Not Owe Money"
                                },
                                {
                                    "0": "Federal Express Corporation",
                                    "1": "0.00",
                                    "2": "2016-02-15 00:00:00",
                                    "3": "Does Not Owe Money"
                                },
                                {
                                    "0": "Federal Express Corporation",
                                    "1": "0.00",
                                    "2": "2016-02-12 00:00:00",
                                    "3": "Does Not Owe Money"
                                },
                                {
                                    "0": "Federal Express Corporation",
                                    "1": "0.00",
                                    "2": "2016-02-13 00:00:00",
                                    "3": "Does Not Owe Money"
                                },
                                {
                                    "0": "Federal Express Corporation",
                                    "1": "0.00",
                                    "2": "2016-03-15 00:00:00",
                                    "3": "Does Not Owe Money"
                                },
                                {
                                    "0": "Federal Express Corporation",
                                    "1": "0.00",
                                    "2": "2016-03-11 00:00:00",
                                    "3": "Does Not Owe Money"
                                },
                                {
                                    "0": "Federal Express Corporation",
                                    "1": "0.00",
                                    "2": "2016-03-11 00:00:00",
                                    "3": "Does Not Owe Money"
                                },
                                {
                                    "0": "Federal Express Corporation",
                                    "1": "0.00",
                                    "2": "2016-03-17 00:00:00",
                                    "3": "Does Not Owe Money"
                                },
                                {
                                    "0": "Federal Express Corporation",
                                    "1": "0.00",
                                    "2": "2016-03-18 00:00:00",
                                    "3": "Does Not Owe Money"
                                },
                                {
                                    "0": "Federal Express Corporation",
                                    "1": "0.00",
                                    "2": "2016-03-22 00:00:00",
                                    "3": "Does Not Owe Money"
                                },
                                {
                                    "0": "Federal Express Corporation",
                                    "1": "0.00",
                                    "2": "2016-03-22 00:00:00",
                                    "3": "Does Not Owe Money"
                                },
                                {
                                    "0": "Federal Express Corporation",
                                    "1": "0.00",
                                    "2": "2016-02-22 00:00:00",
                                    "3": "Does Not Owe Money"
                                },
                                {
                                    "0": "Federal Express Corporation",
                                    "1": "0.00",
                                    "2": "2016-02-28 00:00:00",
                                    "3": "Does Not Owe Money"
                                },
                                {
                                    "0": "Federal Express Corporation",
                                    "1": "0.00",
                                    "2": "2016-02-28 00:00:00",
                                    "3": "Does Not Owe Money"
                                },
                                {
                                    "0": "Federal Express Corporation",
                                    "1": "0.00",
                                    "2": "2016-03-10 00:00:00",
                                    "3": "Does Not Owe Money"
                                },
                                {
                                    "0": "Federal Express Corporation",
                                    "1": "0.00",
                                    "2": "2016-03-03 00:00:00",
                                    "3": "Does Not Owe Money"
                                },
                                {
                                    "0": "Federal Express Corporation",
                                    "1": "0.00",
                                    "2": "2016-04-23 00:00:00",
                                    "3": "Does Not Owe Money"
                                },
                                {
                                    "0": "Federal Express Corporation",
                                    "1": "0.00",
                                    "2": "2016-04-22 00:00:00",
                                    "3": "Does Not Owe Money"
                                },
                                {
                                    "0": "Federal Express Corporation",
                                    "1": "0.00",
                                    "2": "2016-04-15 00:00:00",
                                    "3": "Does Not Owe Money"
                                },
                                {
                                    "0": "Federal Express Corporation",
                                    "1": "-52.25",
                                    "2": "2016-04-17 00:00:00",
                                    "3": "Does Not Owe Money"
                                },
                                {
                                    "0": "Federal Express Corporation",
                                    "1": "-59.97",
                                    "2": "2016-04-20 00:00:00",
                                    "3": "Does Not Owe Money"
                                },
                                {
                                    "0": "Federal Express Corporation",
                                    "1": "-67.92",
                                    "2": "2016-04-21 00:00:00",
                                    "3": "Does Not Owe Money"
                                },
                                {
                                    "0": "Federal Express Corporation",
                                    "1": "-30.75",
                                    "2": "2016-04-21 00:00:00",
                                    "3": "Does Not Owe Money"
                                },
                                {
                                    "0": "Federal Express Corporation",
                                    "1": "0.00",
                                    "2": "2016-04-01 00:00:00",
                                    "3": "Does Not Owe Money"
                                },
                                {
                                    "0": "Federal Express Corporation",
                                    "1": "0.00",
                                    "2": "2016-04-11 00:00:00",
                                    "3": "Does Not Owe Money"
                                },
                                {
                                    "0": "Federal Express Corporation",
                                    "1": "0.00",
                                    "2": "2016-04-05 00:00:00",
                                    "3": "Does Not Owe Money"
                                },
                                {
                                    "0": "Federal Express Corporation",
                                    "1": "0.00",
                                    "2": "2016-04-06 00:00:00",
                                    "3": "Does Not Owe Money"
                                },
                                {
                                    "0": "Federal Express Corporation",
                                    "1": "0.00",
                                    "2": "2016-04-06 00:00:00",
                                    "3": "Does Not Owe Money"
                                },
                                {
                                    "0": "Federal Express Corporation",
                                    "1": "0.00",
                                    "2": "2016-04-07 00:00:00",
                                    "3": "Does Not Owe Money"
                                },
                                {
                                    "0": "Federal Express Corporation",
                                    "1": "0.00",
                                    "2": "2016-04-07 00:00:00",
                                    "3": "Does Not Owe Money"
                                },
                                {
                                    "0": "Federal Express Corporation",
                                    "1": "0.00",
                                    "2": "2016-03-24 00:00:00",
                                    "3": "Does Not Owe Money"
                                },
                                {
                                    "0": "Federal Express Corporation",
                                    "1": "0.00",
                                    "2": "2016-03-24 00:00:00",
                                    "3": "Does Not Owe Money"
                                },
                                {
                                    "0": "Federal Express Corporation",
                                    "1": "0.00",
                                    "2": "2016-04-29 00:00:00",
                                    "3": "Does Not Owe Money"
                                },
                                {
                                    "0": "Federal Express Corporation",
                                    "1": "0.00",
                                    "2": "2016-05-01 00:00:00",
                                    "3": "Does Not Owe Money"
                                },
                                {
                                    "0": "Ford Motor Credit Company",
                                    "1": "-503.20",
                                    "2": "2016-04-23 00:00:00",
                                    "3": "Does Not Owe Money"
                                },
                                {
                                    "0": "Franchise Tax Board",
                                    "1": "0.00",
                                    "2": "2016-03-04 00:00:00",
                                    "3": "Does Not Owe Money"
                                },
                                {
                                    "0": "Fresno County Tax Collector",
                                    "1": "0.00",
                                    "2": "2016-02-02 00:00:00",
                                    "3": "Does Not Owe Money"
                                },
                                {
                                    "0": "Gostanian General Building",
                                    "1": "0.00",
                                    "2": "2016-02-28 00:00:00",
                                    "3": "Does Not Owe Money"
                                },
                                {
                                    "0": "IBM",
                                    "1": "0.00",
                                    "2": "2016-01-17 00:00:00",
                                    "3": "Does Not Owe Money"
                                },
                                {
                                    "0": "IBM",
                                    "1": "0.00",
                                    "2": "2016-02-19 00:00:00",
                                    "3": "Does Not Owe Money"
                                },
                                {
                                    "0": "Ingram",
                                    "1": "-579.42",
                                    "2": "2016-04-10 00:00:00",
                                    "3": "Does Not Owe Money"
                                },
                                {
                                    "0": "Ingram",
                                    "1": "0.00",
                                    "2": "2016-02-23 00:00:00",
                                    "3": "Does Not Owe Money"
                                },
                                {
                                    "0": "Malloy Lithographing Inc",
                                    "1": "0.00",
                                    "2": "2016-02-27 00:00:00",
                                    "3": "Does Not Owe Money"
                                },
                                {
                                    "0": "Malloy Lithographing Inc",
                                    "1": "0.00",
                                    "2": "2016-04-23 00:00:00",
                                    "3": "Does Not Owe Money"
                                },
                                {
                                    "0": "Malloy Lithographing Inc",
                                    "1": "0.00",
                                    "2": "2016-04-18 00:00:00",
                                    "3": "Does Not Owe Money"
                                },
                                {
                                    "0": "Malloy Lithographing Inc",
                                    "1": "-7296.062",
                                    "2": "2016-04-22 00:00:00",
                                    "3": "Does Not Owe Money"
                                },
                                {
                                    "0": "Malloy Lithographing Inc",
                                    "1": "121.546",
                                    "2": "2016-04-30 00:00:00",
                                    "3": "Does Not Owe Money"
                                },
                                {
                                    "0": "Pacific Bell",
                                    "1": "0.00",
                                    "2": "2016-03-26 00:00:00",
                                    "3": "Does Not Owe Money"
                                },
                                {
                                    "0": "Pacific Bell",
                                    "1": "0.00",
                                    "2": "2016-04-04 00:00:00",
                                    "3": "Does Not Owe Money"
                                },
                                {
                                    "0": "Pacific Bell",
                                    "1": "-219.50",
                                    "2": "2020-03-31 00:00:00",
                                    "3": "Does Not Owe Money"
                                },
                                {
                                    "0": "Pacific Bell",
                                    "1": "0.00",
                                    "2": "2016-01-20 00:00:00",
                                    "3": "Does Not Owe Money"
                                },
                                {
                                    "0": "Pacific Bell",
                                    "1": "0.00",
                                    "2": "2016-02-24 00:00:00",
                                    "3": "Does Not Owe Money"
                                },
                                {
                                    "0": "Pacific Bell",
                                    "1": "0.00",
                                    "2": "2016-02-28 00:00:00",
                                    "3": "Does Not Owe Money"
                                },
                                {
                                    "0": "Pacific Bell",
                                    "1": "0.00",
                                    "2": "2016-02-21 00:00:00",
                                    "3": "Does Not Owe Money"
                                },
                                {
                                    "0": "Pollstar",
                                    "1": "0.00",
                                    "2": "2016-03-02 00:00:00",
                                    "3": "Does Not Owe Money"
                                },
                                {
                                    "0": "Postmaster",
                                    "1": "0.00",
                                    "2": "2016-03-03 00:00:00",
                                    "3": "Does Not Owe Money"
                                },
                                {
                                    "0": "Reiter's Scientific & Pro Books",
                                    "1": "0.00",
                                    "2": "2016-04-08 00:00:00",
                                    "3": "Does Not Owe Money"
                                },
                                {
                                    "0": "Roadway Package System, Inc",
                                    "1": "0.00",
                                    "2": "2016-02-10 00:00:00",
                                    "3": "Does Not Owe Money"
                                },
                                {
                                    "0": "Roadway Package System, Inc",
                                    "1": "0.00",
                                    "2": "2016-02-19 00:00:00",
                                    "3": "Does Not Owe Money"
                                },
                                {
                                    "0": "Roadway Package System, Inc",
                                    "1": "0.00",
                                    "2": "2016-03-25 00:00:00",
                                    "3": "Does Not Owe Money"
                                },
                                {
                                    "0": "Roadway Package System, Inc",
                                    "1": "0.00",
                                    "2": "2016-04-01 00:00:00",
                                    "3": "Does Not Owe Money"
                                },
                                {
                                    "0": "Suburban Propane",
                                    "1": "0.00",
                                    "2": "2016-04-14 00:00:00",
                                    "3": "Does Not Owe Money"
                                },
                                {
                                    "0": "United Parcel Service",
                                    "1": "0.00",
                                    "2": "2016-03-12 00:00:00",
                                    "3": "Does Not Owe Money"
                                },
                                {
                                    "0": "United Parcel Service",
                                    "1": "0.00",
                                    "2": "2016-03-20 00:00:00",
                                    "3": "Does Not Owe Money"
                                },
                                {
                                    "0": "United Parcel Service",
                                    "1": "0.00",
                                    "2": "2016-03-31 00:00:00",
                                    "3": "Does Not Owe Money"
                                },
                                {
                                    "0": "United Parcel Service",
                                    "1": "0.00",
                                    "2": "2016-04-22 00:00:00",
                                    "3": "Does Not Owe Money"
                                },
                                {
                                    "0": "United Parcel Service",
                                    "1": "0.00",
                                    "2": "2016-04-23 00:00:00",
                                    "3": "Does Not Owe Money"
                                },
                                {
                                    "0": "United Parcel Service",
                                    "1": "0.00",
                                    "2": "2016-03-01 00:00:00",
                                    "3": "Does Not Owe Money"
                                },
                                {
                                    "0": "United Parcel Service",
                                    "1": "0.00",
                                    "2": "2016-03-16 00:00:00",
                                    "3": "Does Not Owe Money"
                                },
                                {
                                    "0": "United Parcel Service",
                                    "1": "0.00",
                                    "2": "2016-03-08 00:00:00",
                                    "3": "Does Not Owe Money"
                                },
                                {
                                    "0": "United Parcel Service",
                                    "1": "0.00",
                                    "2": "2016-01-08 00:00:00",
                                    "3": "Does Not Owe Money"
                                },
                                {
                                    "0": "Wakefield Co",
                                    "1": "0.00",
                                    "2": "2016-04-09 00:00:00",
                                    "3": "Does Not Owe Money"
                                },
                                {
                                    "0": "Wang Laboratories, Inc.",
                                    "1": "0.00",
                                    "2": "2016-03-11 00:00:00",
                                    "3": "Does Not Owe Money"
                                },
                                {
                                    "0": "Wells Fargo Bank",
                                    "1": "0.00",
                                    "2": "2016-01-16 00:00:00",
                                    "3": "Does Not Owe Money"
                                },
                                {
                                    "0": "Yesmed, Inc",
                                    "1": "0.00",
                                    "2": "2016-01-31 00:00:00",
                                    "3": "Does Not Owe Money"
                                },
                                {
                                    "0": "Zylka Design",
                                    "1": "0.00",
                                    "2": "2016-01-24 00:00:00",
                                    "3": "Does Not Owe Money"
                                },
                                {
                                    "0": "Zylka Design",
                                    "1": "0.00",
                                    "2": "2016-02-20 00:00:00",
                                    "3": "Does Not Owe Money"
                                },
                                {
                                    "0": "Zylka Design",
                                    "1": "0.00",
                                    "2": "2016-02-24 00:00:00",
                                    "3": "Does Not Owe Money"
                                },
                                {
                                    "0": "Zylka Design",
                                    "1": "0.00",
                                    "2": "2016-02-28 00:00:00",
                                    "3": "Does Not Owe Money"
                                },
                                {
                                    "0": "Zylka Design",
                                    "1": "0.00",
                                    "2": "2016-03-10 00:00:00",
                                    "3": "Does Not Owe Money"
                                },
                                {
                                    "0": "Zylka Design",
                                    "1": "0.00",
                                    "2": "2016-03-25 00:00:00",
                                    "3": "Does Not Owe Money"
                                },
                                {
                                    "0": "Zylka Design",
                                    "1": "0.00",
                                    "2": "2016-03-28 00:00:00",
                                    "3": "Does Not Owe Money"
                                },
                                {
                                    "0": "Zylka Design",
                                    "1": "0.00",
                                    "2": "2016-04-24 00:00:00",
                                    "3": "Does Not Owe Money"
                                }
                            ]
                        },
                        "text/html": "<table><tr><th>VendorName</th><th>Balance Remaining</th><th>InvoiceDueDate</th><th>Debt Status</th></tr><tr><td>Abbey Office Furnishings</td><td>0.00</td><td>2016-03-25 00:00:00</td><td>Does Not Owe Money</td></tr><tr><td>American Express</td><td>-8344.50</td><td>2022-03-31 00:00:00</td><td>Does Not Owe Money</td></tr><tr><td>Bertelsmann Industry Svcs. Inc</td><td>-4747.50</td><td>2022-03-31 00:00:00</td><td>Does Not Owe Money</td></tr><tr><td>Bertelsmann Industry Svcs. Inc</td><td>0.00</td><td>2016-03-18 00:00:00</td><td>Does Not Owe Money</td></tr><tr><td>Blue Cross</td><td>0.00</td><td>2016-03-03 00:00:00</td><td>Does Not Owe Money</td></tr><tr><td>Blue Cross</td><td>0.00</td><td>2016-03-07 00:00:00</td><td>Does Not Owe Money</td></tr><tr><td>Blue Cross</td><td>-224.00</td><td>2016-04-30 00:00:00</td><td>Does Not Owe Money</td></tr><tr><td>Cahners Publishing Company</td><td>0.00</td><td>2016-04-09 00:00:00</td><td>Does Not Owe Money</td></tr><tr><td>Cardinal Business Media, Inc.</td><td>-90.36</td><td>2016-04-17 00:00:00</td><td>Does Not Owe Money</td></tr><tr><td>Cardinal Business Media, Inc.</td><td>0.00</td><td>2016-03-12 00:00:00</td><td>Does Not Owe Money</td></tr><tr><td>Coffee Break Service</td><td>0.00</td><td>2016-04-03 00:00:00</td><td>Does Not Owe Money</td></tr><tr><td>Coffee Break Service</td><td>-22.97</td><td>2020-03-31 00:00:00</td><td>Does Not Owe Money</td></tr><tr><td>Compuserve</td><td>0.00</td><td>2016-02-02 00:00:00</td><td>Does Not Owe Money</td></tr><tr><td>Compuserve</td><td>0.00</td><td>2016-01-23 00:00:00</td><td>Does Not Owe Money</td></tr><tr><td>Compuserve</td><td>-8344.50</td><td>2020-03-31 00:00:00</td><td>Does Not Owe Money</td></tr><tr><td>Computerworld</td><td>0.00</td><td>2016-02-21 00:00:00</td><td>Does Not Owe Money</td></tr><tr><td>Data Reproductions Corp</td><td>0.00</td><td>2016-03-01 00:00:00</td><td>Does Not Owe Money</td></tr><tr><td>Data Reproductions Corp</td><td>-173.38</td><td>2020-03-31 00:00:00</td><td>Does Not Owe Money</td></tr><tr><td>Data Reproductions Corp</td><td>-85.31</td><td>2016-04-09 00:00:00</td><td>Does Not Owe Money</td></tr><tr><td>Dean Witter Reynolds</td><td>0.00</td><td>2016-03-31 00:00:00</td><td>Does Not Owe Money</td></tr><tr><td>Digital Dreamworks</td><td>0.00</td><td>2016-02-20 00:00:00</td><td>Does Not Owe Money</td></tr><tr><td>Dristas Groom &amp; McCormick</td><td>0.00</td><td>2016-02-22 00:00:00</td><td>Does Not Owe Money</td></tr><tr><td>Edward Data Services</td><td>0.00</td><td>2016-01-25 00:00:00</td><td>Does Not Owe Money</td></tr><tr><td>Evans Executone Inc</td><td>0.00</td><td>2016-01-04 00:00:00</td><td>Does Not Owe Money</td></tr><tr><td>Federal Express Corporation</td><td>0.00</td><td>2016-01-10 00:00:00</td><td>Does Not Owe Money</td></tr><tr><td>Federal Express Corporation</td><td>0.00</td><td>2016-01-13 00:00:00</td><td>Does Not Owe Money</td></tr><tr><td>Federal Express Corporation</td><td>0.00</td><td>2016-01-16 00:00:00</td><td>Does Not Owe Money</td></tr><tr><td>Federal Express Corporation</td><td>0.00</td><td>2016-01-16 00:00:00</td><td>Does Not Owe Money</td></tr><tr><td>Federal Express Corporation</td><td>0.00</td><td>2016-01-16 00:00:00</td><td>Does Not Owe Money</td></tr><tr><td>Federal Express Corporation</td><td>0.00</td><td>2016-01-21 00:00:00</td><td>Does Not Owe Money</td></tr><tr><td>Federal Express Corporation</td><td>0.00</td><td>2016-01-24 00:00:00</td><td>Does Not Owe Money</td></tr><tr><td>Federal Express Corporation</td><td>0.00</td><td>2016-01-25 00:00:00</td><td>Does Not Owe Money</td></tr><tr><td>Federal Express Corporation</td><td>0.00</td><td>2016-02-10 00:00:00</td><td>Does Not Owe Money</td></tr><tr><td>Federal Express Corporation</td><td>0.00</td><td>2016-02-04 00:00:00</td><td>Does Not Owe Money</td></tr><tr><td>Federal Express Corporation</td><td>0.00</td><td>2016-02-05 00:00:00</td><td>Does Not Owe Money</td></tr><tr><td>Federal Express Corporation</td><td>0.00</td><td>2016-02-24 00:00:00</td><td>Does Not Owe Money</td></tr><tr><td>Federal Express Corporation</td><td>0.00</td><td>2016-02-25 00:00:00</td><td>Does Not Owe Money</td></tr><tr><td>Federal Express Corporation</td><td>0.00</td><td>2016-02-19 00:00:00</td><td>Does Not Owe Money</td></tr><tr><td>Federal Express Corporation</td><td>0.00</td><td>2016-02-15 00:00:00</td><td>Does Not Owe Money</td></tr><tr><td>Federal Express Corporation</td><td>0.00</td><td>2016-02-12 00:00:00</td><td>Does Not Owe Money</td></tr><tr><td>Federal Express Corporation</td><td>0.00</td><td>2016-02-13 00:00:00</td><td>Does Not Owe Money</td></tr><tr><td>Federal Express Corporation</td><td>0.00</td><td>2016-03-15 00:00:00</td><td>Does Not Owe Money</td></tr><tr><td>Federal Express Corporation</td><td>0.00</td><td>2016-03-11 00:00:00</td><td>Does Not Owe Money</td></tr><tr><td>Federal Express Corporation</td><td>0.00</td><td>2016-03-11 00:00:00</td><td>Does Not Owe Money</td></tr><tr><td>Federal Express Corporation</td><td>0.00</td><td>2016-03-17 00:00:00</td><td>Does Not Owe Money</td></tr><tr><td>Federal Express Corporation</td><td>0.00</td><td>2016-03-18 00:00:00</td><td>Does Not Owe Money</td></tr><tr><td>Federal Express Corporation</td><td>0.00</td><td>2016-03-22 00:00:00</td><td>Does Not Owe Money</td></tr><tr><td>Federal Express Corporation</td><td>0.00</td><td>2016-03-22 00:00:00</td><td>Does Not Owe Money</td></tr><tr><td>Federal Express Corporation</td><td>0.00</td><td>2016-02-22 00:00:00</td><td>Does Not Owe Money</td></tr><tr><td>Federal Express Corporation</td><td>0.00</td><td>2016-02-28 00:00:00</td><td>Does Not Owe Money</td></tr><tr><td>Federal Express Corporation</td><td>0.00</td><td>2016-02-28 00:00:00</td><td>Does Not Owe Money</td></tr><tr><td>Federal Express Corporation</td><td>0.00</td><td>2016-03-10 00:00:00</td><td>Does Not Owe Money</td></tr><tr><td>Federal Express Corporation</td><td>0.00</td><td>2016-03-03 00:00:00</td><td>Does Not Owe Money</td></tr><tr><td>Federal Express Corporation</td><td>0.00</td><td>2016-04-23 00:00:00</td><td>Does Not Owe Money</td></tr><tr><td>Federal Express Corporation</td><td>0.00</td><td>2016-04-22 00:00:00</td><td>Does Not Owe Money</td></tr><tr><td>Federal Express Corporation</td><td>0.00</td><td>2016-04-15 00:00:00</td><td>Does Not Owe Money</td></tr><tr><td>Federal Express Corporation</td><td>-52.25</td><td>2016-04-17 00:00:00</td><td>Does Not Owe Money</td></tr><tr><td>Federal Express Corporation</td><td>-59.97</td><td>2016-04-20 00:00:00</td><td>Does Not Owe Money</td></tr><tr><td>Federal Express Corporation</td><td>-67.92</td><td>2016-04-21 00:00:00</td><td>Does Not Owe Money</td></tr><tr><td>Federal Express Corporation</td><td>-30.75</td><td>2016-04-21 00:00:00</td><td>Does Not Owe Money</td></tr><tr><td>Federal Express Corporation</td><td>0.00</td><td>2016-04-01 00:00:00</td><td>Does Not Owe Money</td></tr><tr><td>Federal Express Corporation</td><td>0.00</td><td>2016-04-11 00:00:00</td><td>Does Not Owe Money</td></tr><tr><td>Federal Express Corporation</td><td>0.00</td><td>2016-04-05 00:00:00</td><td>Does Not Owe Money</td></tr><tr><td>Federal Express Corporation</td><td>0.00</td><td>2016-04-06 00:00:00</td><td>Does Not Owe Money</td></tr><tr><td>Federal Express Corporation</td><td>0.00</td><td>2016-04-06 00:00:00</td><td>Does Not Owe Money</td></tr><tr><td>Federal Express Corporation</td><td>0.00</td><td>2016-04-07 00:00:00</td><td>Does Not Owe Money</td></tr><tr><td>Federal Express Corporation</td><td>0.00</td><td>2016-04-07 00:00:00</td><td>Does Not Owe Money</td></tr><tr><td>Federal Express Corporation</td><td>0.00</td><td>2016-03-24 00:00:00</td><td>Does Not Owe Money</td></tr><tr><td>Federal Express Corporation</td><td>0.00</td><td>2016-03-24 00:00:00</td><td>Does Not Owe Money</td></tr><tr><td>Federal Express Corporation</td><td>0.00</td><td>2016-04-29 00:00:00</td><td>Does Not Owe Money</td></tr><tr><td>Federal Express Corporation</td><td>0.00</td><td>2016-05-01 00:00:00</td><td>Does Not Owe Money</td></tr><tr><td>Ford Motor Credit Company</td><td>-503.20</td><td>2016-04-23 00:00:00</td><td>Does Not Owe Money</td></tr><tr><td>Franchise Tax Board</td><td>0.00</td><td>2016-03-04 00:00:00</td><td>Does Not Owe Money</td></tr><tr><td>Fresno County Tax Collector</td><td>0.00</td><td>2016-02-02 00:00:00</td><td>Does Not Owe Money</td></tr><tr><td>Gostanian General Building</td><td>0.00</td><td>2016-02-28 00:00:00</td><td>Does Not Owe Money</td></tr><tr><td>IBM</td><td>0.00</td><td>2016-01-17 00:00:00</td><td>Does Not Owe Money</td></tr><tr><td>IBM</td><td>0.00</td><td>2016-02-19 00:00:00</td><td>Does Not Owe Money</td></tr><tr><td>Ingram</td><td>-579.42</td><td>2016-04-10 00:00:00</td><td>Does Not Owe Money</td></tr><tr><td>Ingram</td><td>0.00</td><td>2016-02-23 00:00:00</td><td>Does Not Owe Money</td></tr><tr><td>Malloy Lithographing Inc</td><td>0.00</td><td>2016-02-27 00:00:00</td><td>Does Not Owe Money</td></tr><tr><td>Malloy Lithographing Inc</td><td>0.00</td><td>2016-04-23 00:00:00</td><td>Does Not Owe Money</td></tr><tr><td>Malloy Lithographing Inc</td><td>0.00</td><td>2016-04-18 00:00:00</td><td>Does Not Owe Money</td></tr><tr><td>Malloy Lithographing Inc</td><td>-7296.062</td><td>2016-04-22 00:00:00</td><td>Does Not Owe Money</td></tr><tr><td>Malloy Lithographing Inc</td><td>121.546</td><td>2016-04-30 00:00:00</td><td>Does Not Owe Money</td></tr><tr><td>Pacific Bell</td><td>0.00</td><td>2016-03-26 00:00:00</td><td>Does Not Owe Money</td></tr><tr><td>Pacific Bell</td><td>0.00</td><td>2016-04-04 00:00:00</td><td>Does Not Owe Money</td></tr><tr><td>Pacific Bell</td><td>-219.50</td><td>2020-03-31 00:00:00</td><td>Does Not Owe Money</td></tr><tr><td>Pacific Bell</td><td>0.00</td><td>2016-01-20 00:00:00</td><td>Does Not Owe Money</td></tr><tr><td>Pacific Bell</td><td>0.00</td><td>2016-02-24 00:00:00</td><td>Does Not Owe Money</td></tr><tr><td>Pacific Bell</td><td>0.00</td><td>2016-02-28 00:00:00</td><td>Does Not Owe Money</td></tr><tr><td>Pacific Bell</td><td>0.00</td><td>2016-02-21 00:00:00</td><td>Does Not Owe Money</td></tr><tr><td>Pollstar</td><td>0.00</td><td>2016-03-02 00:00:00</td><td>Does Not Owe Money</td></tr><tr><td>Postmaster</td><td>0.00</td><td>2016-03-03 00:00:00</td><td>Does Not Owe Money</td></tr><tr><td>Reiter's Scientific &amp; Pro Books</td><td>0.00</td><td>2016-04-08 00:00:00</td><td>Does Not Owe Money</td></tr><tr><td>Roadway Package System, Inc</td><td>0.00</td><td>2016-02-10 00:00:00</td><td>Does Not Owe Money</td></tr><tr><td>Roadway Package System, Inc</td><td>0.00</td><td>2016-02-19 00:00:00</td><td>Does Not Owe Money</td></tr><tr><td>Roadway Package System, Inc</td><td>0.00</td><td>2016-03-25 00:00:00</td><td>Does Not Owe Money</td></tr><tr><td>Roadway Package System, Inc</td><td>0.00</td><td>2016-04-01 00:00:00</td><td>Does Not Owe Money</td></tr><tr><td>Suburban Propane</td><td>0.00</td><td>2016-04-14 00:00:00</td><td>Does Not Owe Money</td></tr><tr><td>United Parcel Service</td><td>0.00</td><td>2016-03-12 00:00:00</td><td>Does Not Owe Money</td></tr><tr><td>United Parcel Service</td><td>0.00</td><td>2016-03-20 00:00:00</td><td>Does Not Owe Money</td></tr><tr><td>United Parcel Service</td><td>0.00</td><td>2016-03-31 00:00:00</td><td>Does Not Owe Money</td></tr><tr><td>United Parcel Service</td><td>0.00</td><td>2016-04-22 00:00:00</td><td>Does Not Owe Money</td></tr><tr><td>United Parcel Service</td><td>0.00</td><td>2016-04-23 00:00:00</td><td>Does Not Owe Money</td></tr><tr><td>United Parcel Service</td><td>0.00</td><td>2016-03-01 00:00:00</td><td>Does Not Owe Money</td></tr><tr><td>United Parcel Service</td><td>0.00</td><td>2016-03-16 00:00:00</td><td>Does Not Owe Money</td></tr><tr><td>United Parcel Service</td><td>0.00</td><td>2016-03-08 00:00:00</td><td>Does Not Owe Money</td></tr><tr><td>United Parcel Service</td><td>0.00</td><td>2016-01-08 00:00:00</td><td>Does Not Owe Money</td></tr><tr><td>Wakefield Co</td><td>0.00</td><td>2016-04-09 00:00:00</td><td>Does Not Owe Money</td></tr><tr><td>Wang Laboratories, Inc.</td><td>0.00</td><td>2016-03-11 00:00:00</td><td>Does Not Owe Money</td></tr><tr><td>Wells Fargo Bank</td><td>0.00</td><td>2016-01-16 00:00:00</td><td>Does Not Owe Money</td></tr><tr><td>Yesmed, Inc</td><td>0.00</td><td>2016-01-31 00:00:00</td><td>Does Not Owe Money</td></tr><tr><td>Zylka Design</td><td>0.00</td><td>2016-01-24 00:00:00</td><td>Does Not Owe Money</td></tr><tr><td>Zylka Design</td><td>0.00</td><td>2016-02-20 00:00:00</td><td>Does Not Owe Money</td></tr><tr><td>Zylka Design</td><td>0.00</td><td>2016-02-24 00:00:00</td><td>Does Not Owe Money</td></tr><tr><td>Zylka Design</td><td>0.00</td><td>2016-02-28 00:00:00</td><td>Does Not Owe Money</td></tr><tr><td>Zylka Design</td><td>0.00</td><td>2016-03-10 00:00:00</td><td>Does Not Owe Money</td></tr><tr><td>Zylka Design</td><td>0.00</td><td>2016-03-25 00:00:00</td><td>Does Not Owe Money</td></tr><tr><td>Zylka Design</td><td>0.00</td><td>2016-03-28 00:00:00</td><td>Does Not Owe Money</td></tr><tr><td>Zylka Design</td><td>0.00</td><td>2016-04-24 00:00:00</td><td>Does Not Owe Money</td></tr></table>"
                    },
                    "metadata": {}
                }
            ],
            "execution_count": 13
        },
        {
            "cell_type": "code",
            "source": [
                "--Looking for vendors that don't have invoices; meets requirement g. Remaining requirement i.\r\n",
                "Select I.VendorID\r\n",
                "From Invoices I\r\n",
                "EXCEPT\r\n",
                "Select V.VendorID\r\n",
                "From Vendors V"
            ],
            "metadata": {
                "azdata_cell_guid": "314a27f2-2b0c-4e50-88e3-8724849160f2",
                "language": "sql"
            },
            "outputs": [
                {
                    "output_type": "display_data",
                    "data": {
                        "text/html": "(0 rows affected)"
                    },
                    "metadata": {}
                },
                {
                    "output_type": "display_data",
                    "data": {
                        "text/html": "Total execution time: 00:00:00.010"
                    },
                    "metadata": {}
                },
                {
                    "output_type": "execute_result",
                    "execution_count": 14,
                    "data": {
                        "application/vnd.dataresource+json": {
                            "schema": {
                                "fields": [
                                    {
                                        "name": "VendorID"
                                    }
                                ]
                            },
                            "data": []
                        },
                        "text/html": "<table><tr><th>VendorID</th></tr></table>"
                    },
                    "metadata": {}
                }
            ],
            "execution_count": 14
        },
        {
            "cell_type": "code",
            "source": [
                "--Listing all distinct vendor IDs from the invoices and vendor lists; meets requirement i. No remaining requirements.\r\n",
                "Select V.VendorID From Vendors V\r\n",
                "UNION\r\n",
                "Select I.VendorID From Invoices I\r\n",
                "Order By VendorID"
            ],
            "metadata": {
                "azdata_cell_guid": "5b2095c3-a8ce-4e12-8a5b-7d4707394755",
                "language": "sql"
            },
            "outputs": [
                {
                    "output_type": "display_data",
                    "data": {
                        "text/html": "(122 rows affected)"
                    },
                    "metadata": {}
                },
                {
                    "output_type": "display_data",
                    "data": {
                        "text/html": "Total execution time: 00:00:00.018"
                    },
                    "metadata": {}
                },
                {
                    "output_type": "execute_result",
                    "execution_count": 16,
                    "data": {
                        "application/vnd.dataresource+json": {
                            "schema": {
                                "fields": [
                                    {
                                        "name": "VendorID"
                                    }
                                ]
                            },
                            "data": [
                                {
                                    "0": "1"
                                },
                                {
                                    "0": "2"
                                },
                                {
                                    "0": "3"
                                },
                                {
                                    "0": "4"
                                },
                                {
                                    "0": "5"
                                },
                                {
                                    "0": "6"
                                },
                                {
                                    "0": "7"
                                },
                                {
                                    "0": "8"
                                },
                                {
                                    "0": "9"
                                },
                                {
                                    "0": "10"
                                },
                                {
                                    "0": "11"
                                },
                                {
                                    "0": "12"
                                },
                                {
                                    "0": "13"
                                },
                                {
                                    "0": "14"
                                },
                                {
                                    "0": "15"
                                },
                                {
                                    "0": "16"
                                },
                                {
                                    "0": "17"
                                },
                                {
                                    "0": "18"
                                },
                                {
                                    "0": "19"
                                },
                                {
                                    "0": "20"
                                },
                                {
                                    "0": "21"
                                },
                                {
                                    "0": "22"
                                },
                                {
                                    "0": "23"
                                },
                                {
                                    "0": "24"
                                },
                                {
                                    "0": "25"
                                },
                                {
                                    "0": "26"
                                },
                                {
                                    "0": "27"
                                },
                                {
                                    "0": "29"
                                },
                                {
                                    "0": "30"
                                },
                                {
                                    "0": "31"
                                },
                                {
                                    "0": "32"
                                },
                                {
                                    "0": "33"
                                },
                                {
                                    "0": "34"
                                },
                                {
                                    "0": "35"
                                },
                                {
                                    "0": "36"
                                },
                                {
                                    "0": "37"
                                },
                                {
                                    "0": "38"
                                },
                                {
                                    "0": "39"
                                },
                                {
                                    "0": "40"
                                },
                                {
                                    "0": "41"
                                },
                                {
                                    "0": "42"
                                },
                                {
                                    "0": "43"
                                },
                                {
                                    "0": "44"
                                },
                                {
                                    "0": "45"
                                },
                                {
                                    "0": "46"
                                },
                                {
                                    "0": "47"
                                },
                                {
                                    "0": "48"
                                },
                                {
                                    "0": "49"
                                },
                                {
                                    "0": "50"
                                },
                                {
                                    "0": "51"
                                },
                                {
                                    "0": "52"
                                },
                                {
                                    "0": "53"
                                },
                                {
                                    "0": "54"
                                },
                                {
                                    "0": "55"
                                },
                                {
                                    "0": "56"
                                },
                                {
                                    "0": "57"
                                },
                                {
                                    "0": "58"
                                },
                                {
                                    "0": "59"
                                },
                                {
                                    "0": "60"
                                },
                                {
                                    "0": "61"
                                },
                                {
                                    "0": "62"
                                },
                                {
                                    "0": "63"
                                },
                                {
                                    "0": "64"
                                },
                                {
                                    "0": "65"
                                },
                                {
                                    "0": "66"
                                },
                                {
                                    "0": "67"
                                },
                                {
                                    "0": "68"
                                },
                                {
                                    "0": "69"
                                },
                                {
                                    "0": "70"
                                },
                                {
                                    "0": "71"
                                },
                                {
                                    "0": "72"
                                },
                                {
                                    "0": "73"
                                },
                                {
                                    "0": "74"
                                },
                                {
                                    "0": "75"
                                },
                                {
                                    "0": "76"
                                },
                                {
                                    "0": "77"
                                },
                                {
                                    "0": "78"
                                },
                                {
                                    "0": "79"
                                },
                                {
                                    "0": "80"
                                },
                                {
                                    "0": "81"
                                },
                                {
                                    "0": "82"
                                },
                                {
                                    "0": "83"
                                },
                                {
                                    "0": "84"
                                },
                                {
                                    "0": "85"
                                },
                                {
                                    "0": "86"
                                },
                                {
                                    "0": "87"
                                },
                                {
                                    "0": "88"
                                },
                                {
                                    "0": "89"
                                },
                                {
                                    "0": "90"
                                },
                                {
                                    "0": "91"
                                },
                                {
                                    "0": "92"
                                },
                                {
                                    "0": "93"
                                },
                                {
                                    "0": "94"
                                },
                                {
                                    "0": "95"
                                },
                                {
                                    "0": "96"
                                },
                                {
                                    "0": "97"
                                },
                                {
                                    "0": "98"
                                },
                                {
                                    "0": "99"
                                },
                                {
                                    "0": "100"
                                },
                                {
                                    "0": "101"
                                },
                                {
                                    "0": "102"
                                },
                                {
                                    "0": "103"
                                },
                                {
                                    "0": "104"
                                },
                                {
                                    "0": "105"
                                },
                                {
                                    "0": "106"
                                },
                                {
                                    "0": "107"
                                },
                                {
                                    "0": "108"
                                },
                                {
                                    "0": "109"
                                },
                                {
                                    "0": "110"
                                },
                                {
                                    "0": "111"
                                },
                                {
                                    "0": "112"
                                },
                                {
                                    "0": "113"
                                },
                                {
                                    "0": "114"
                                },
                                {
                                    "0": "115"
                                },
                                {
                                    "0": "116"
                                },
                                {
                                    "0": "117"
                                },
                                {
                                    "0": "118"
                                },
                                {
                                    "0": "119"
                                },
                                {
                                    "0": "120"
                                },
                                {
                                    "0": "121"
                                },
                                {
                                    "0": "122"
                                },
                                {
                                    "0": "123"
                                }
                            ]
                        },
                        "text/html": "<table><tr><th>VendorID</th></tr><tr><td>1</td></tr><tr><td>2</td></tr><tr><td>3</td></tr><tr><td>4</td></tr><tr><td>5</td></tr><tr><td>6</td></tr><tr><td>7</td></tr><tr><td>8</td></tr><tr><td>9</td></tr><tr><td>10</td></tr><tr><td>11</td></tr><tr><td>12</td></tr><tr><td>13</td></tr><tr><td>14</td></tr><tr><td>15</td></tr><tr><td>16</td></tr><tr><td>17</td></tr><tr><td>18</td></tr><tr><td>19</td></tr><tr><td>20</td></tr><tr><td>21</td></tr><tr><td>22</td></tr><tr><td>23</td></tr><tr><td>24</td></tr><tr><td>25</td></tr><tr><td>26</td></tr><tr><td>27</td></tr><tr><td>29</td></tr><tr><td>30</td></tr><tr><td>31</td></tr><tr><td>32</td></tr><tr><td>33</td></tr><tr><td>34</td></tr><tr><td>35</td></tr><tr><td>36</td></tr><tr><td>37</td></tr><tr><td>38</td></tr><tr><td>39</td></tr><tr><td>40</td></tr><tr><td>41</td></tr><tr><td>42</td></tr><tr><td>43</td></tr><tr><td>44</td></tr><tr><td>45</td></tr><tr><td>46</td></tr><tr><td>47</td></tr><tr><td>48</td></tr><tr><td>49</td></tr><tr><td>50</td></tr><tr><td>51</td></tr><tr><td>52</td></tr><tr><td>53</td></tr><tr><td>54</td></tr><tr><td>55</td></tr><tr><td>56</td></tr><tr><td>57</td></tr><tr><td>58</td></tr><tr><td>59</td></tr><tr><td>60</td></tr><tr><td>61</td></tr><tr><td>62</td></tr><tr><td>63</td></tr><tr><td>64</td></tr><tr><td>65</td></tr><tr><td>66</td></tr><tr><td>67</td></tr><tr><td>68</td></tr><tr><td>69</td></tr><tr><td>70</td></tr><tr><td>71</td></tr><tr><td>72</td></tr><tr><td>73</td></tr><tr><td>74</td></tr><tr><td>75</td></tr><tr><td>76</td></tr><tr><td>77</td></tr><tr><td>78</td></tr><tr><td>79</td></tr><tr><td>80</td></tr><tr><td>81</td></tr><tr><td>82</td></tr><tr><td>83</td></tr><tr><td>84</td></tr><tr><td>85</td></tr><tr><td>86</td></tr><tr><td>87</td></tr><tr><td>88</td></tr><tr><td>89</td></tr><tr><td>90</td></tr><tr><td>91</td></tr><tr><td>92</td></tr><tr><td>93</td></tr><tr><td>94</td></tr><tr><td>95</td></tr><tr><td>96</td></tr><tr><td>97</td></tr><tr><td>98</td></tr><tr><td>99</td></tr><tr><td>100</td></tr><tr><td>101</td></tr><tr><td>102</td></tr><tr><td>103</td></tr><tr><td>104</td></tr><tr><td>105</td></tr><tr><td>106</td></tr><tr><td>107</td></tr><tr><td>108</td></tr><tr><td>109</td></tr><tr><td>110</td></tr><tr><td>111</td></tr><tr><td>112</td></tr><tr><td>113</td></tr><tr><td>114</td></tr><tr><td>115</td></tr><tr><td>116</td></tr><tr><td>117</td></tr><tr><td>118</td></tr><tr><td>119</td></tr><tr><td>120</td></tr><tr><td>121</td></tr><tr><td>122</td></tr><tr><td>123</td></tr></table>"
                    },
                    "metadata": {}
                }
            ],
            "execution_count": 16
        }
    ]
}