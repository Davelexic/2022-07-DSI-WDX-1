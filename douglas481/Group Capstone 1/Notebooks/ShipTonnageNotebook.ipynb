{
    "metadata": {
        "kernelspec": {
            "name": "SQL",
            "display_name": "SQL",
            "language": "sql"
        },
        "language_info": {
            "name": "sql",
            "version": ""
        }
    },
    "nbformat_minor": 2,
    "nbformat": 4,
    "cells": [
        {
            "cell_type": "markdown",
            "source": [
                "Problem: Port traffic forecasting is valuable business information to allow companies to make decisions on where to send goods to ensure speedy delivery. Ports that do not allow speedy delivery are a problem.\n",
                "\n",
                "Question: Which ports are the slowest?\n",
                "\n",
                "Hypothesis: The busiest ports are the slowest. (Compare Dwell Time and Tonnage to confirm)\n",
                "\n",
                "Min Variable/Data: Ports Names, Ship Count, Tonnage Sum, Arrival Date, Sail Date"
            ],
            "metadata": {
                "azdata_cell_guid": "0cc41a06-f275-4bf4-8cb2-0c7d505c3adf"
            },
            "attachments": {}
        },
        {
            "cell_type": "markdown",
            "source": [
                "I want to first find a breakdown by total count of ships visting each port, as well as the total tonnage"
            ],
            "metadata": {
                "azdata_cell_guid": "ae6d2499-6837-488d-a111-009265b6362a"
            },
            "attachments": {}
        },
        {
            "cell_type": "code",
            "source": [
                "SELECT DISTINCT C.portname\r\n",
                ", SUM(S.dwt) 'Gross Tonnage'\r\n",
                ", COUNT(C.callid) 'Ship Count'\r\n",
                "FROM Calls C\r\n",
                "Join Ships S\r\n",
                "ON C.lrno=S.lrno\r\n",
                "GROUP BY C.portname\r\n",
                "HAVING SUM(S.dwt)>1"
            ],
            "metadata": {
                "azdata_cell_guid": "2b98f4a8-5391-4ad8-ba53-fdae35984f4f",
                "language": "sql"
            },
            "outputs": [
                {
                    "output_type": "display_data",
                    "data": {
                        "text/html": "(1534 rows affected)"
                    },
                    "metadata": {}
                },
                {
                    "output_type": "display_data",
                    "data": {
                        "text/html": "Total execution time: 00:00:01.231"
                    },
                    "metadata": {}
                },
                {
                    "output_type": "execute_result",
                    "execution_count": 5,
                    "data": {
                        "application/vnd.dataresource+json": {
                            "schema": {
                                "fields": [
                                    {
                                        "name": "portname"
                                    },
                                    {
                                        "name": "Gross Tonnage"
                                    },
                                    {
                                        "name": "Ship Count"
                                    }
                                ]
                            },
                            "data": [
                                {
                                    "0": "Abidjan",
                                    "1": "1357098",
                                    "2": "76"
                                },
                                {
                                    "0": "Abidjan Anchorage",
                                    "1": "79589",
                                    "2": "4"
                                },
                                {
                                    "0": "Abidjan Inner Anchorage",
                                    "1": "719681",
                                    "2": "41"
                                },
                                {
                                    "0": "Abidjan Outer Anchorage",
                                    "1": "2366437",
                                    "2": "134"
                                },
                                {
                                    "0": "Abu Dhabi",
                                    "1": "4710973",
                                    "2": "259"
                                },
                                {
                                    "0": "Abu Dhabi Anchorage",
                                    "1": "293936",
                                    "2": "17"
                                },
                                {
                                    "0": "Abu Dhabi Anchorage S2",
                                    "1": "747065",
                                    "2": "43"
                                },
                                {
                                    "0": "Acajutla",
                                    "1": "756514",
                                    "2": "47"
                                },
                                {
                                    "0": "Acajutla Anchorage",
                                    "1": "168293",
                                    "2": "11"
                                },
                                {
                                    "0": "Acapulco",
                                    "1": "1705191",
                                    "2": "108"
                                },
                                {
                                    "0": "Adelaide",
                                    "1": "2139279",
                                    "2": "118"
                                },
                                {
                                    "0": "Aden",
                                    "1": "43246",
                                    "2": "2"
                                },
                                {
                                    "0": "Aioi",
                                    "1": "120792",
                                    "2": "7"
                                },
                                {
                                    "0": "Aioi Anchorage",
                                    "1": "110466",
                                    "2": "6"
                                },
                                {
                                    "0": "Aktau Anchorage Area No 126",
                                    "1": "15013",
                                    "2": "1"
                                },
                                {
                                    "0": "Al Basra Oil Terminal Anchorage A",
                                    "1": "12084",
                                    "2": "1"
                                },
                                {
                                    "0": "Al Basra Oil Terminal Anchorage B",
                                    "1": "268747",
                                    "2": "15"
                                },
                                {
                                    "0": "Al Shaheen Terminal",
                                    "1": "31928",
                                    "2": "2"
                                },
                                {
                                    "0": "Alabama Inland Ports",
                                    "1": "18082",
                                    "2": "1"
                                },
                                {
                                    "0": "Alang",
                                    "1": "21224",
                                    "2": "1"
                                },
                                {
                                    "0": "Alang Anchorage",
                                    "1": "70779",
                                    "2": "6"
                                },
                                {
                                    "0": "Al-Basra Oil Terminal",
                                    "1": "84856",
                                    "2": "5"
                                },
                                {
                                    "0": "Al-Basra Oil Terminal Anchorage A",
                                    "1": "113630",
                                    "2": "7"
                                },
                                {
                                    "0": "Al-Basra Oil Terminal Anchorage B",
                                    "1": "604717",
                                    "2": "36"
                                },
                                {
                                    "0": "Alexandria (Egypt)",
                                    "1": "1751664",
                                    "2": "87"
                                },
                                {
                                    "0": "Alexandria (Egypt) Anchorage",
                                    "1": "1945410",
                                    "2": "96"
                                },
                                {
                                    "0": "Alexandria LPG Anchorage",
                                    "1": "81218",
                                    "2": "4"
                                },
                                {
                                    "0": "Algeciras Anchorage A",
                                    "1": "12778",
                                    "2": "1"
                                },
                                {
                                    "0": "Algeciras Anchorage D",
                                    "1": "12527",
                                    "2": "1"
                                },
                                {
                                    "0": "Algeciras Bay Anchorage",
                                    "1": "144080",
                                    "2": "11"
                                },
                                {
                                    "0": "Alghero",
                                    "1": "16890",
                                    "2": "1"
                                },
                                {
                                    "0": "Aliaga",
                                    "1": "16493",
                                    "2": "1"
                                },
                                {
                                    "0": "Aliaga Anchorage No 7",
                                    "1": "16493",
                                    "2": "1"
                                },
                                {
                                    "0": "Alicante",
                                    "1": "12778",
                                    "2": "1"
                                },
                                {
                                    "0": "Altamira",
                                    "1": "918816",
                                    "2": "64"
                                },
                                {
                                    "0": "Altamira Anchorage No. 1",
                                    "1": "52534",
                                    "2": "3"
                                },
                                {
                                    "0": "Altamira Anchorage No. 2",
                                    "1": "131959",
                                    "2": "9"
                                },
                                {
                                    "0": "Amagasaki-Nishinomiya-Ashiya",
                                    "1": "554711",
                                    "2": "31"
                                },
                                {
                                    "0": "Amsterdam",
                                    "1": "1762761",
                                    "2": "105"
                                },
                                {
                                    "0": "Anchorage 32LD",
                                    "1": "13122",
                                    "2": "2"
                                },
                                {
                                    "0": "Annaba Anchorage",
                                    "1": "21276",
                                    "2": "1"
                                },
                                {
                                    "0": "Annacis Island",
                                    "1": "5994760",
                                    "2": "363"
                                },
                                {
                                    "0": "Antibes",
                                    "1": "180156",
                                    "2": "12"
                                },
                                {
                                    "0": "Antifer Anchorage",
                                    "1": "162514",
                                    "2": "7"
                                },
                                {
                                    "0": "Antofagasta",
                                    "1": "58884",
                                    "2": "3"
                                },
                                {
                                    "0": "Antwerp",
                                    "1": "9814190",
                                    "2": "510"
                                },
                                {
                                    "0": "Antwerp Methaniers Pilot Boarding Area",
                                    "1": "91805",
                                    "2": "6"
                                },
                                {
                                    "0": "Antwerp Wandelaar Pilot Boarding Area",
                                    "1": "1490194",
                                    "2": "79"
                                },
                                {
                                    "0": "Aoshan Joint-Inspection Anchorage",
                                    "1": "172751",
                                    "2": "12"
                                },
                                {
                                    "0": "Apapa",
                                    "1": "791620",
                                    "2": "53"
                                },
                                {
                                    "0": "Apra Harbor",
                                    "1": "881602",
                                    "2": "62"
                                },
                                {
                                    "0": "Aqaba",
                                    "1": "4553606",
                                    "2": "231"
                                },
                                {
                                    "0": "Aratu",
                                    "1": "2156420",
                                    "2": "119"
                                },
                                {
                                    "0": "Arawak Cay Port",
                                    "1": "161673",
                                    "2": "13"
                                },
                                {
                                    "0": "Ardrossan (Australia)",
                                    "1": "22692",
                                    "2": "1"
                                },
                                {
                                    "0": "Arica",
                                    "1": "110503",
                                    "2": "7"
                                },
                                {
                                    "0": "Arica Anchorage",
                                    "1": "112361",
                                    "2": "7"
                                },
                                {
                                    "0": "Aruba STS Transhipment Area",
                                    "1": "3205449",
                                    "2": "184"
                                },
                                {
                                    "0": "Ashdod Anchorage",
                                    "1": "21120",
                                    "2": "1"
                                },
                                {
                                    "0": "Assaluyeh",
                                    "1": "21300",
                                    "2": "1"
                                },
                                {
                                    "0": "Astoria North Anchorage",
                                    "1": "66219",
                                    "2": "4"
                                },
                                {
                                    "0": "Astoria South Anchorage",
                                    "1": "91442",
                                    "2": "6"
                                },
                                {
                                    "0": "Atucha",
                                    "1": "1312233",
                                    "2": "76"
                                },
                                {
                                    "0": "Auckland",
                                    "1": "4244893",
                                    "2": "238"
                                },
                                {
                                    "0": "Auckland Anchor Berths",
                                    "1": "622227",
                                    "2": "33"
                                },
                                {
                                    "0": "Augusta",
                                    "1": "12527",
                                    "2": "1"
                                },
                                {
                                    "0": "Augusta Anchorage",
                                    "1": "12527",
                                    "2": "1"
                                },
                                {
                                    "0": "Aussenelbe Reede Anchorage",
                                    "1": "56987",
                                    "2": "5"
                                },
                                {
                                    "0": "Avola Anchorage",
                                    "1": "65994",
                                    "2": "6"
                                },
                                {
                                    "0": "Bacolod Anchorages",
                                    "1": "13491",
                                    "2": "1"
                                },
                                {
                                    "0": "Balao Terminal Pilot Waiting Area",
                                    "1": "21087",
                                    "2": "1"
                                },
                                {
                                    "0": "Balboa",
                                    "1": "8445011",
                                    "2": "468"
                                },
                                {
                                    "0": "Balikpapan",
                                    "1": "786335",
                                    "2": "250"
                                },
                                {
                                    "0": "Balikpapan Anchorage",
                                    "1": "559849",
                                    "2": "176"
                                },
                                {
                                    "0": "Baltimore (USA)",
                                    "1": "12703134",
                                    "2": "680"
                                },
                                {
                                    "0": "Baltimore (USA) Anchorage No. 1",
                                    "1": "13695",
                                    "2": "1"
                                },
                                {
                                    "0": "Baltimore (USA) Anchorage No. 3 Lower",
                                    "1": "234319",
                                    "2": "12"
                                },
                                {
                                    "0": "Baltimore (USA) Anchorage No. 3 Upper",
                                    "1": "145869",
                                    "2": "9"
                                },
                                {
                                    "0": "Baltimore (USA) Anchorage No. 4",
                                    "1": "109720",
                                    "2": "6"
                                },
                                {
                                    "0": "Baltimore (USA) Outer Anchorage",
                                    "1": "822437",
                                    "2": "43"
                                },
                                {
                                    "0": "Bandar Abbas Merchant Anchorage",
                                    "1": "508848",
                                    "2": "31"
                                },
                                {
                                    "0": "Bandar Abbas Naval Anchorages",
                                    "1": "20138",
                                    "2": "1"
                                },
                                {
                                    "0": "Bandar Imam Khomeini Outer Anchorage",
                                    "1": "34267",
                                    "2": "2"
                                },
                                {
                                    "0": "Bandar Imam Khomeini Outer Anchorage No. 2",
                                    "1": "41559",
                                    "2": "2"
                                },
                                {
                                    "0": "Bandar Shahid Rejaee",
                                    "1": "137353",
                                    "2": "9"
                                },
                                {
                                    "0": "Bandirma Anchorage No. 2",
                                    "1": "13954",
                                    "2": "1"
                                },
                                {
                                    "0": "Banjarmasin",
                                    "1": "905195",
                                    "2": "281"
                                },
                                {
                                    "0": "Baoshan North Anchorage",
                                    "1": "87532",
                                    "2": "6"
                                },
                                {
                                    "0": "Baozhen",
                                    "1": "12939",
                                    "2": "1"
                                },
                                {
                                    "0": "Barcelona",
                                    "1": "4282443",
                                    "2": "238"
                                },
                                {
                                    "0": "Barcelona Fondeadero Este Anchorage",
                                    "1": "401689",
                                    "2": "24"
                                },
                                {
                                    "0": "Barcelona Fondeadero Sur Anchorage",
                                    "1": "22629",
                                    "2": "2"
                                },
                                {
                                    "0": "Barletta",
                                    "1": "27902",
                                    "2": "2"
                                },
                                {
                                    "0": "Barletta Anchorage B",
                                    "1": "12706",
                                    "2": "1"
                                },
                                {
                                    "0": "Basseterre",
                                    "1": "229349",
                                    "2": "13"
                                },
                                {
                                    "0": "Bata",
                                    "1": "49409",
                                    "2": "3"
                                },
                                {
                                    "0": "Bata Anchorage",
                                    "1": "82325",
                                    "2": "5"
                                },
                                {
                                    "0": "Batangas",
                                    "1": "1423887",
                                    "2": "95"
                                },
                                {
                                    "0": "Batangas Bay Anchorage",
                                    "1": "28764",
                                    "2": "2"
                                },
                                {
                                    "0": "Batangas Bay Eastern Anchorages",
                                    "1": "190594",
                                    "2": "11"
                                },
                                {
                                    "0": "Batangas Bay Easterrn Anchorages",
                                    "1": "182389",
                                    "2": "13"
                                },
                                {
                                    "0": "Batangas Outer Anchorage",
                                    "1": "133214",
                                    "2": "8"
                                },
                                {
                                    "0": "Batu Ampar",
                                    "1": "58680",
                                    "2": "21"
                                },
                                {
                                    "0": "Batu Ampar Anchorage",
                                    "1": "72830",
                                    "2": "26"
                                },
                                {
                                    "0": "Baybay",
                                    "1": "18334",
                                    "2": "1"
                                },
                                {
                                    "0": "Bayonne (USA)",
                                    "1": "9158895",
                                    "2": "498"
                                },
                                {
                                    "0": "Beaumont",
                                    "1": "177030",
                                    "2": "9"
                                },
                                {
                                    "0": "Beicao Anchorage",
                                    "1": "20128710",
                                    "2": "1110"
                                },
                                {
                                    "0": "Beihai",
                                    "1": "15577",
                                    "2": "1"
                                },
                                {
                                    "0": "Beiliang",
                                    "1": "245555",
                                    "2": "13"
                                },
                                {
                                    "0": "Beira",
                                    "1": "19670",
                                    "2": "1"
                                },
                                {
                                    "0": "Beira Offshore STS",
                                    "1": "79841",
                                    "2": "4"
                                },
                                {
                                    "0": "Beirut",
                                    "1": "1437509",
                                    "2": "72"
                                },
                                {
                                    "0": "Beirut Anchorage",
                                    "1": "714619",
                                    "2": "37"
                                },
                                {
                                    "0": "Belawan",
                                    "1": "364222",
                                    "2": "104"
                                },
                                {
                                    "0": "Belawan Anchorage",
                                    "1": "46377",
                                    "2": "15"
                                },
                                {
                                    "0": "Belekeri",
                                    "1": "20138",
                                    "2": "1"
                                },
                                {
                                    "0": "Bembridge Anchorage",
                                    "1": "581002",
                                    "2": "28"
                                },
                                {
                                    "0": "Bendorf",
                                    "1": "13951",
                                    "2": "1"
                                },
                                {
                                    "0": "Benghazi",
                                    "1": "33212",
                                    "2": "2"
                                },
                                {
                                    "0": "Benghazi Anchorage",
                                    "1": "33212",
                                    "2": "2"
                                },
                                {
                                    "0": "Benicia",
                                    "1": "4054276",
                                    "2": "238"
                                },
                                {
                                    "0": "Benteng",
                                    "1": "3559",
                                    "2": "1"
                                },
                                {
                                    "0": "Berong",
                                    "1": "11260",
                                    "2": "1"
                                },
                                {
                                    "0": "Big Stone Beach Anchorage",
                                    "1": "1737442",
                                    "2": "93"
                                },
                                {
                                    "0": "Bima Terminal",
                                    "1": "113984",
                                    "2": "39"
                                },
                                {
                                    "0": "Bintulu Gas Tanker Anchorage",
                                    "1": "21286",
                                    "2": "1"
                                },
                                {
                                    "0": "Bohai Peng Lai FPSO",
                                    "1": "17395",
                                    "2": "2"
                                },
                                {
                                    "0": "Bonga Offshore Terminal",
                                    "1": "14868",
                                    "2": "1"
                                },
                                {
                                    "0": "Bopec Terminal Anchorage",
                                    "1": "413410",
                                    "2": "26"
                                },
                                {
                                    "0": "Borg Havn IKS",
                                    "1": "19628",
                                    "2": "1"
                                },
                                {
                                    "0": "Borusan",
                                    "1": "1122060",
                                    "2": "90"
                                },
                                {
                                    "0": "Borusan Anchorage",
                                    "1": "946443",
                                    "2": "75"
                                },
                                {
                                    "0": "Boryeong",
                                    "1": "12471",
                                    "2": "1"
                                },
                                {
                                    "0": "Boryeong Anchor Berth A-2",
                                    "1": "12706",
                                    "2": "1"
                                },
                                {
                                    "0": "Bosphorus TSS Lane Northbound",
                                    "1": "299448",
                                    "2": "23"
                                },
                                {
                                    "0": "Bosphorus TSS Lane Southbound",
                                    "1": "387317",
                                    "2": "30"
                                },
                                {
                                    "0": "Boston (USA)",
                                    "1": "1148893",
                                    "2": "62"
                                },
                                {
                                    "0": "Boston (USA) Outer Anchorage",
                                    "1": "78892",
                                    "2": "4"
                                },
                                {
                                    "0": "Botany Bay",
                                    "1": "21000",
                                    "2": "1"
                                },
                                {
                                    "0": "Botany Bay Anchorage",
                                    "1": "2159155",
                                    "2": "119"
                                },
                                {
                                    "0": "Botas (Ceyhan) Oil Terminal",
                                    "1": "12706",
                                    "2": "1"
                                },
                                {
                                    "0": "Boulogne-sur-Mer Anchorage",
                                    "1": "11373",
                                    "2": "1"
                                },
                                {
                                    "0": "Bozcaada North Anchorage",
                                    "1": "29936",
                                    "2": "1"
                                },
                                {
                                    "0": "Brake",
                                    "1": "30043",
                                    "2": "2"
                                },
                                {
                                    "0": "Bremen",
                                    "1": "129291",
                                    "2": "8"
                                },
                                {
                                    "0": "Bremen Neue-Weser-Nord-Reede Anchorage",
                                    "1": "693885",
                                    "2": "37"
                                },
                                {
                                    "0": "Bremerhaven",
                                    "1": "14558958",
                                    "2": "733"
                                },
                                {
                                    "0": "Brest",
                                    "1": "21059",
                                    "2": "1"
                                },
                                {
                                    "0": "Bridgetown",
                                    "1": "243727",
                                    "2": "30"
                                },
                                {
                                    "0": "Brighton",
                                    "1": "25486",
                                    "2": "2"
                                },
                                {
                                    "0": "Brisbane",
                                    "1": "9268316",
                                    "2": "513"
                                },
                                {
                                    "0": "Brisbane Anchorage",
                                    "1": "6190796",
                                    "2": "342"
                                },
                                {
                                    "0": "Brisbane Outer Anchorage",
                                    "1": "9686476",
                                    "2": "538"
                                },
                                {
                                    "0": "Bristol",
                                    "1": "1285598",
                                    "2": "71"
                                },
                                {
                                    "0": "Brunsbuttel",
                                    "1": "40453",
                                    "2": "2"
                                },
                                {
                                    "0": "Brunswick",
                                    "1": "6825611",
                                    "2": "342"
                                },
                                {
                                    "0": "BTC Terminal Ceyhan",
                                    "1": "37723",
                                    "2": "2"
                                },
                                {
                                    "0": "Buenaventura",
                                    "1": "3375857",
                                    "2": "193"
                                },
                                {
                                    "0": "Buenaventura Anchorage",
                                    "1": "4034930",
                                    "2": "231"
                                },
                                {
                                    "0": "Bunga Orkid Terminal",
                                    "1": "17738",
                                    "2": "1"
                                },
                                {
                                    "0": "Busan",
                                    "1": "177897",
                                    "2": "11"
                                },
                                {
                                    "0": "Busan New Port",
                                    "1": "2423240",
                                    "2": "145"
                                },
                                {
                                    "0": "Busan Section N Anchorage",
                                    "1": "357731",
                                    "2": "23"
                                },
                                {
                                    "0": "Cadiz",
                                    "1": "55218",
                                    "2": "2"
                                },
                                {
                                    "0": "Cadiz Anchorage",
                                    "1": "220722",
                                    "2": "9"
                                },
                                {
                                    "0": "Caen",
                                    "1": "10834",
                                    "2": "1"
                                },
                                {
                                    "0": "Cagliari Zona Bravo Anchorage",
                                    "1": "15154",
                                    "2": "1"
                                },
                                {
                                    "0": "Cai Lan",
                                    "1": "123011",
                                    "2": "6"
                                },
                                {
                                    "0": "Cai Mep",
                                    "1": "60239",
                                    "2": "5"
                                },
                                {
                                    "0": "Cai Mep Anchorages",
                                    "1": "12249",
                                    "2": "1"
                                },
                                {
                                    "0": "Caldera (Costa Rica)",
                                    "1": "665614",
                                    "2": "40"
                                },
                                {
                                    "0": "Callao",
                                    "1": "7288987",
                                    "2": "436"
                                },
                                {
                                    "0": "Callao Anchorages",
                                    "1": "5613068",
                                    "2": "340"
                                },
                                {
                                    "0": "Camaret",
                                    "1": "12282",
                                    "2": "1"
                                },
                                {
                                    "0": "Campana",
                                    "1": "205768",
                                    "2": "11"
                                },
                                {
                                    "0": "Campana Anchorage",
                                    "1": "4566893",
                                    "2": "272"
                                },
                                {
                                    "0": "Cannes",
                                    "1": "345299",
                                    "2": "23"
                                },
                                {
                                    "0": "Canvey Island",
                                    "1": "22500",
                                    "2": "1"
                                },
                                {
                                    "0": "Caofeidian",
                                    "1": "56633",
                                    "2": "3"
                                },
                                {
                                    "0": "Caofeidian East Anchorage",
                                    "1": "839737",
                                    "2": "52"
                                },
                                {
                                    "0": "Caofeidian West Anchorage",
                                    "1": "133572",
                                    "2": "7"
                                },
                                {
                                    "0": "Cape Cod Canal",
                                    "1": "388163",
                                    "2": "20"
                                },
                                {
                                    "0": "Cape Town",
                                    "1": "58120",
                                    "2": "3"
                                },
                                {
                                    "0": "Carnarvon",
                                    "1": "18549",
                                    "2": "1"
                                },
                                {
                                    "0": "Caronte",
                                    "1": "12527",
                                    "2": "1"
                                },
                                {
                                    "0": "Cartagena (Colombia)",
                                    "1": "5513818",
                                    "2": "312"
                                },
                                {
                                    "0": "Cartagena (Colombia) Anchorage",
                                    "1": "2039709",
                                    "2": "113"
                                },
                                {
                                    "0": "Casablanca",
                                    "1": "579524",
                                    "2": "28"
                                },
                                {
                                    "0": "Casablanca Anchorage",
                                    "1": "621965",
                                    "2": "29"
                                },
                                {
                                    "0": "Casablanca East Anchorage",
                                    "1": "37562",
                                    "2": "2"
                                },
                                {
                                    "0": "Castries",
                                    "1": "217178",
                                    "2": "12"
                                },
                                {
                                    "0": "Cebu",
                                    "1": "23008",
                                    "2": "2"
                                },
                                {
                                    "0": "CFD 11 Terminal",
                                    "1": "88729",
                                    "2": "5"
                                },
                                {
                                    "0": "Chaguaramas Anchorage",
                                    "1": "2920449",
                                    "2": "217"
                                },
                                {
                                    "0": "Changi General Purposes Anchorage (ACGP)",
                                    "1": "39249",
                                    "2": "2"
                                },
                                {
                                    "0": "Changjiang Mouth No 1 Anchorage",
                                    "1": "24629915",
                                    "2": "1373"
                                },
                                {
                                    "0": "Changjiang Mouth No 2 Anchorage",
                                    "1": "15014284",
                                    "2": "849"
                                },
                                {
                                    "0": "Changjiang Mouth No 3 Anchorage",
                                    "1": "5009594",
                                    "2": "302"
                                },
                                {
                                    "0": "Changsha",
                                    "1": "18724",
                                    "2": "1"
                                },
                                {
                                    "0": "Changshu Port Ocean Liners Anchorage",
                                    "1": "19924",
                                    "2": "2"
                                },
                                {
                                    "0": "Changshu Port Xiahailun Anchorage",
                                    "1": "35211",
                                    "2": "4"
                                },
                                {
                                    "0": "Changzhou",
                                    "1": "21466",
                                    "2": "1"
                                },
                                {
                                    "0": "Chanthaburi",
                                    "1": "20138",
                                    "2": "1"
                                },
                                {
                                    "0": "Charleston",
                                    "1": "1802204",
                                    "2": "100"
                                },
                                {
                                    "0": "Charleston Commercial Anchorage A",
                                    "1": "18724",
                                    "2": "1"
                                },
                                {
                                    "0": "Charleston Outer Anchorage",
                                    "1": "2850734",
                                    "2": "164"
                                },
                                {
                                    "0": "Chemainus",
                                    "1": "140746",
                                    "2": "5"
                                },
                                {
                                    "0": "Chennai",
                                    "1": "992732",
                                    "2": "61"
                                },
                                {
                                    "0": "Cherry Island General Anchorage 6",
                                    "1": "82567",
                                    "2": "4"
                                },
                                {
                                    "0": "Chiba",
                                    "1": "1567632",
                                    "2": "84"
                                },
                                {
                                    "0": "Chiba Anchorage",
                                    "1": "2351748",
                                    "2": "130"
                                },
                                {
                                    "0": "Chittagong",
                                    "1": "609219",
                                    "2": "70"
                                },
                                {
                                    "0": "Chittagong Anchorages",
                                    "1": "961805",
                                    "2": "107"
                                },
                                {
                                    "0": "Chiwan",
                                    "1": "21276",
                                    "2": "1"
                                },
                                {
                                    "0": "Chongming",
                                    "1": "494671",
                                    "2": "31"
                                },
                                {
                                    "0": "Chongming Anchorage",
                                    "1": "159956",
                                    "2": "11"
                                },
                                {
                                    "0": "Chuansha",
                                    "1": "93115",
                                    "2": "8"
                                },
                                {
                                    "0": "Cidade de Santos MV20 FPSO",
                                    "1": "19048",
                                    "2": "1"
                                },
                                {
                                    "0": "Cinta",
                                    "1": "172572",
                                    "2": "12"
                                },
                                {
                                    "0": "Cinta Anchorage",
                                    "1": "14381",
                                    "2": "1"
                                },
                                {
                                    "0": "Civitavecchia",
                                    "1": "219628",
                                    "2": "18"
                                },
                                {
                                    "0": "Cochin Anchorage",
                                    "1": "13241",
                                    "2": "1"
                                },
                                {
                                    "0": "Coco Solo North",
                                    "1": "2963329",
                                    "2": "164"
                                },
                                {
                                    "0": "Cologne",
                                    "1": "22500",
                                    "2": "1"
                                },
                                {
                                    "0": "Colombo",
                                    "1": "745548",
                                    "2": "46"
                                },
                                {
                                    "0": "Colombo Inner Anchorage",
                                    "1": "649481",
                                    "2": "40"
                                },
                                {
                                    "0": "Colombo Outer Anchorage",
                                    "1": "1117583",
                                    "2": "70"
                                },
                                {
                                    "0": "Colombo Southern Anchorage",
                                    "1": "702249",
                                    "2": "44"
                                },
                                {
                                    "0": "Colon",
                                    "1": "6886024",
                                    "2": "326"
                                },
                                {
                                    "0": "Come By Chance",
                                    "1": "28223",
                                    "2": "1"
                                },
                                {
                                    "0": "Conakry",
                                    "1": "464997",
                                    "2": "29"
                                },
                                {
                                    "0": "Constantza",
                                    "1": "227240",
                                    "2": "18"
                                },
                                {
                                    "0": "Constantza Anchorage No. 1",
                                    "1": "26124",
                                    "2": "2"
                                },
                                {
                                    "0": "Constantza Anchorage No. 2",
                                    "1": "76948",
                                    "2": "6"
                                },
                                {
                                    "0": "Constantza Anchorage No. 3",
                                    "1": "25412",
                                    "2": "2"
                                },
                                {
                                    "0": "Corinto",
                                    "1": "986554",
                                    "2": "57"
                                },
                                {
                                    "0": "Cotonou",
                                    "1": "2018493",
                                    "2": "131"
                                },
                                {
                                    "0": "Cotonou Anchorage",
                                    "1": "1443877",
                                    "2": "89"
                                },
                                {
                                    "0": "Cottonwood Island Anchorage",
                                    "1": "69750",
                                    "2": "4"
                                },
                                {
                                    "0": "CPC Terminal SPBM 1",
                                    "1": "15261",
                                    "2": "1"
                                },
                                {
                                    "0": "CPC Terminal SPBM 2",
                                    "1": "16451",
                                    "2": "1"
                                },
                                {
                                    "0": "Cristobal",
                                    "1": "44134",
                                    "2": "2"
                                },
                                {
                                    "0": "Cuddalore",
                                    "1": "17127",
                                    "2": "1"
                                },
                                {
                                    "0": "Cuxhaven",
                                    "1": "249051",
                                    "2": "15"
                                },
                                {
                                    "0": "Dabhol",
                                    "1": "18638",
                                    "2": "1"
                                },
                                {
                                    "0": "Daesan",
                                    "1": "19670",
                                    "2": "1"
                                },
                                {
                                    "0": "Daesan Anchorage No 2",
                                    "1": "16789103",
                                    "2": "936"
                                },
                                {
                                    "0": "Daesan Anchorages",
                                    "1": "112217",
                                    "2": "6"
                                },
                                {
                                    "0": "Daesan Mazhi Dangerous Goods Anchorage",
                                    "1": "56525",
                                    "2": "3"
                                },
                                {
                                    "0": "Dafeng Anchorage",
                                    "1": "21323",
                                    "2": "1"
                                },
                                {
                                    "0": "Dagang (Qingdao)",
                                    "1": "442368",
                                    "2": "23"
                                },
                                {
                                    "0": "Dagukou Chemical Disperse Anchorage",
                                    "1": "230908",
                                    "2": "14"
                                },
                                {
                                    "0": "Dagukou North Anchorage",
                                    "1": "10169673",
                                    "2": "596"
                                },
                                {
                                    "0": "Dagukou Quarantine Anchorage",
                                    "1": "3876356",
                                    "2": "225"
                                },
                                {
                                    "0": "Dagukou South Anchorage",
                                    "1": "5796038",
                                    "2": "343"
                                },
                                {
                                    "0": "Dahej",
                                    "1": "27343",
                                    "2": "1"
                                },
                                {
                                    "0": "Dahej Anchorage",
                                    "1": "32254",
                                    "2": "3"
                                },
                                {
                                    "0": "Dai Hung Offshore Terminals STS Area",
                                    "1": "344580",
                                    "2": "23"
                                },
                                {
                                    "0": "Daishan",
                                    "1": "120243",
                                    "2": "9"
                                },
                                {
                                    "0": "Dakar",
                                    "1": "1068415",
                                    "2": "58"
                                },
                                {
                                    "0": "Dakar Anchorage",
                                    "1": "753952",
                                    "2": "39"
                                },
                                {
                                    "0": "Dalian",
                                    "1": "82471",
                                    "2": "6"
                                },
                                {
                                    "0": "Dalian Cargo Vessel Anchorage",
                                    "1": "407544",
                                    "2": "24"
                                },
                                {
                                    "0": "Dalian No 1 Quarantine Anchorage",
                                    "1": "237585",
                                    "2": "13"
                                },
                                {
                                    "0": "Dalian No 2 Quarantine Anchorage",
                                    "1": "34337",
                                    "2": "2"
                                },
                                {
                                    "0": "Dalian Oil Tanker Anchorage",
                                    "1": "14080",
                                    "2": "1"
                                },
                                {
                                    "0": "Dalian Outer Anchorage",
                                    "1": "1012906",
                                    "2": "62"
                                },
                                {
                                    "0": "Dalian Tanker Anchorage",
                                    "1": "36278",
                                    "2": "3"
                                },
                                {
                                    "0": "Dammam",
                                    "1": "8394802",
                                    "2": "487"
                                },
                                {
                                    "0": "Dammam E Anchorage",
                                    "1": "10150138",
                                    "2": "591"
                                },
                                {
                                    "0": "Dammam W Anchorage",
                                    "1": "12588",
                                    "2": "1"
                                },
                                {
                                    "0": "Dandong",
                                    "1": "15031",
                                    "2": "1"
                                },
                                {
                                    "0": "Dar es Salaam",
                                    "1": "3367868",
                                    "2": "192"
                                },
                                {
                                    "0": "Dar es Salaam Anchorages",
                                    "1": "6470252",
                                    "2": "371"
                                },
                                {
                                    "0": "Dardanelles TSS Lane Northbound",
                                    "1": "2513873",
                                    "2": "169"
                                },
                                {
                                    "0": "Dardanelles TSS Lane Southbound",
                                    "1": "689271",
                                    "2": "48"
                                },
                                {
                                    "0": "Dardanelles TTS Lane Southbound",
                                    "1": "2002703",
                                    "2": "131"
                                },
                                {
                                    "0": "Darwin",
                                    "1": "241421",
                                    "2": "16"
                                },
                                {
                                    "0": "Darwin Outer Anchorages",
                                    "1": "15413",
                                    "2": "1"
                                },
                                {
                                    "0": "Darwin SPM Anchorage",
                                    "1": "20746",
                                    "2": "2"
                                },
                                {
                                    "0": "Dayao Bay",
                                    "1": "631972",
                                    "2": "41"
                                },
                                {
                                    "0": "Deauville",
                                    "1": "10834",
                                    "2": "1"
                                },
                                {
                                    "0": "Degrad des Cannes",
                                    "1": "140790",
                                    "2": "30"
                                },
                                {
                                    "0": "Dellys",
                                    "1": "21059",
                                    "2": "1"
                                },
                                {
                                    "0": "Deltaport",
                                    "1": "14366",
                                    "2": "1"
                                },
                                {
                                    "0": "Derince",
                                    "1": "1612941",
                                    "2": "107"
                                },
                                {
                                    "0": "Digang",
                                    "1": "17435",
                                    "2": "1"
                                },
                                {
                                    "0": "Dighi",
                                    "1": "3995",
                                    "2": "1"
                                },
                                {
                                    "0": "Diliskelesi",
                                    "1": "648386",
                                    "2": "57"
                                },
                                {
                                    "0": "Diliskelesi Anchorage",
                                    "1": "11260",
                                    "2": "1"
                                },
                                {
                                    "0": "Djibouti",
                                    "1": "1515592",
                                    "2": "71"
                                },
                                {
                                    "0": "Djibouti Outer Anchorage",
                                    "1": "1012071",
                                    "2": "49"
                                },
                                {
                                    "0": "Djibouti Waiting Anchorage",
                                    "1": "20190",
                                    "2": "1"
                                },
                                {
                                    "0": "Doha (Qatar)",
                                    "1": "5699952",
                                    "2": "316"
                                },
                                {
                                    "0": "Doha (Qatar) Anchorage A",
                                    "1": "1671778",
                                    "2": "96"
                                },
                                {
                                    "0": "Doha (Qatar) Anchorage B",
                                    "1": "98707",
                                    "2": "6"
                                },
                                {
                                    "0": "Dongdu",
                                    "1": "134296",
                                    "2": "9"
                                },
                                {
                                    "0": "Dongwan",
                                    "1": "12853",
                                    "2": "1"
                                },
                                {
                                    "0": "Dongying",
                                    "1": "20056",
                                    "2": "1"
                                },
                                {
                                    "0": "Douala",
                                    "1": "320325",
                                    "2": "20"
                                },
                                {
                                    "0": "Douala Anchorage",
                                    "1": "831038",
                                    "2": "51"
                                },
                                {
                                    "0": "Dover Strait",
                                    "1": "9349522",
                                    "2": "511"
                                },
                                {
                                    "0": "DP World Djazair",
                                    "1": "75630",
                                    "2": "4"
                                },
                                {
                                    "0": "DP World Djazair Anchorage 1",
                                    "1": "42192",
                                    "2": "3"
                                },
                                {
                                    "0": "DP World Djazair Anchorage 2",
                                    "1": "98752",
                                    "2": "5"
                                },
                                {
                                    "0": "DP World Djen-Djen",
                                    "1": "1040222",
                                    "2": "58"
                                },
                                {
                                    "0": "DP World Djen-Djen Anchorage",
                                    "1": "1648186",
                                    "2": "98"
                                },
                                {
                                    "0": "Dublin",
                                    "1": "40985",
                                    "2": "2"
                                },
                                {
                                    "0": "Duisburg (Ruhrort)",
                                    "1": "16493",
                                    "2": "1"
                                },
                                {
                                    "0": "Dulang Marine Terminal",
                                    "1": "82437",
                                    "2": "5"
                                },
                                {
                                    "0": "Dumai",
                                    "1": "2662",
                                    "2": "1"
                                },
                                {
                                    "0": "Durban",
                                    "1": "8279515",
                                    "2": "451"
                                },
                                {
                                    "0": "Durban Outer Anchorage",
                                    "1": "12738384",
                                    "2": "695"
                                },
                                {
                                    "0": "Durres",
                                    "1": "21400",
                                    "2": "1"
                                },
                                {
                                    "0": "Durres Bay Anchorage",
                                    "1": "7894",
                                    "2": "1"
                                },
                                {
                                    "0": "East London",
                                    "1": "1513576",
                                    "2": "78"
                                },
                                {
                                    "0": "East Port Said Bypass",
                                    "1": "6158120",
                                    "2": "316"
                                },
                                {
                                    "0": "East Wight Anchorage",
                                    "1": "5716344",
                                    "2": "265"
                                },
                                {
                                    "0": "Eastern Anchorage (AEW)",
                                    "1": "5095184",
                                    "2": "334"
                                },
                                {
                                    "0": "Eastern Bunkering A Anchorage (AEBA)",
                                    "1": "1292274",
                                    "2": "71"
                                },
                                {
                                    "0": "Eastern Bunkering B Anchorage (AEBB)",
                                    "1": "3665254",
                                    "2": "219"
                                },
                                {
                                    "0": "Eastern Bunkering C Anchorage (AEBC)",
                                    "1": "10044421",
                                    "2": "547"
                                },
                                {
                                    "0": "Eastern Holding A Anchorage (AEHA)",
                                    "1": "834291",
                                    "2": "49"
                                },
                                {
                                    "0": "Eastern Holding B Anchorage (AEHB)",
                                    "1": "1755771",
                                    "2": "107"
                                },
                                {
                                    "0": "Eastern Passage",
                                    "1": "945739",
                                    "2": "53"
                                },
                                {
                                    "0": "Eastern Petroleum A Anchorage (AEPA)",
                                    "1": "1055671",
                                    "2": "64"
                                },
                                {
                                    "0": "Eastern Petroleum B Anchorage (AEPBB)",
                                    "1": "15031",
                                    "2": "1"
                                },
                                {
                                    "0": "Eastern Petroleum C Anchorage (AEPBC)",
                                    "1": "353355",
                                    "2": "21"
                                },
                                {
                                    "0": "Eastern Special Purposes A Anchorage (AESPA)",
                                    "1": "7880313",
                                    "2": "417"
                                },
                                {
                                    "0": "Eemshaven",
                                    "1": "77043",
                                    "2": "4"
                                },
                                {
                                    "0": "Eilat",
                                    "1": "1094889",
                                    "2": "65"
                                },
                                {
                                    "0": "El Dekheila",
                                    "1": "40729",
                                    "2": "2"
                                },
                                {
                                    "0": "El Palito Anchorage",
                                    "1": "17297",
                                    "2": "1"
                                },
                                {
                                    "0": "Elbe Approach Outer Anchorage",
                                    "1": "1177216",
                                    "2": "61"
                                },
                                {
                                    "0": "Elbe Approach Reede Anchorage",
                                    "1": "22815",
                                    "2": "1"
                                },
                                {
                                    "0": "Eleusis",
                                    "1": "15301",
                                    "2": "1"
                                },
                                {
                                    "0": "Emden",
                                    "1": "2824653",
                                    "2": "155"
                                },
                                {
                                    "0": "Ennore",
                                    "1": "983642",
                                    "2": "63"
                                },
                                {
                                    "0": "Erawan Terminal",
                                    "1": "119703",
                                    "2": "7"
                                },
                                {
                                    "0": "Escobar LNG",
                                    "1": "162749",
                                    "2": "8"
                                },
                                {
                                    "0": "Esmeraldas",
                                    "1": "1096741",
                                    "2": "66"
                                },
                                {
                                    "0": "Esmeraldas Pilot Boarding Anchorage",
                                    "1": "15097",
                                    "2": "1"
                                },
                                {
                                    "0": "Esmeraldas Quarantine Anchorage",
                                    "1": "36045",
                                    "2": "2"
                                },
                                {
                                    "0": "Essequibo River",
                                    "1": "210220",
                                    "2": "50"
                                },
                                {
                                    "0": "Europoort",
                                    "1": "1399015",
                                    "2": "65"
                                },
                                {
                                    "0": "Everett (Washington)",
                                    "1": "301495",
                                    "2": "15"
                                },
                                {
                                    "0": "Everingen Anchorage",
                                    "1": "53344",
                                    "2": "4"
                                },
                                {
                                    "0": "Ezhou",
                                    "1": "17232",
                                    "2": "1"
                                },
                                {
                                    "0": "Falmouth Bay Anchorage",
                                    "1": "23662",
                                    "2": "2"
                                },
                                {
                                    "0": "Fangcheng No 1 Anchorage",
                                    "1": "18724",
                                    "2": "1"
                                },
                                {
                                    "0": "Fawley",
                                    "1": "935390",
                                    "2": "42"
                                },
                                {
                                    "0": "Fengxian",
                                    "1": "15577",
                                    "2": "1"
                                },
                                {
                                    "0": "Fethiye",
                                    "1": "10834",
                                    "2": "1"
                                },
                                {
                                    "0": "Fort-de-France",
                                    "1": "482506",
                                    "2": "45"
                                },
                                {
                                    "0": "Fort-de-France Tanker Anchorage",
                                    "1": "12250",
                                    "2": "1"
                                },
                                {
                                    "0": "Fraser River Port",
                                    "1": "85319",
                                    "2": "5"
                                },
                                {
                                    "0": "Fredericia",
                                    "1": "260343",
                                    "2": "11"
                                },
                                {
                                    "0": "Fredericia FA1 Anchorage",
                                    "1": "25765",
                                    "2": "1"
                                },
                                {
                                    "0": "Freeport (Bahamas)",
                                    "1": "358965",
                                    "2": "25"
                                },
                                {
                                    "0": "Freeport (Bahamas) Anchorage",
                                    "1": "29380",
                                    "2": "4"
                                },
                                {
                                    "0": "Freetown",
                                    "1": "15097",
                                    "2": "1"
                                },
                                {
                                    "0": "Freetown Anchorage",
                                    "1": "94282",
                                    "2": "6"
                                },
                                {
                                    "0": "Fremantle",
                                    "1": "4391194",
                                    "2": "222"
                                },
                                {
                                    "0": "Fremantle Anchorage N",
                                    "1": "4337472",
                                    "2": "215"
                                },
                                {
                                    "0": "Fujairah Anchorage A",
                                    "1": "20434",
                                    "2": "1"
                                },
                                {
                                    "0": "Fujairah Anchorage B",
                                    "1": "699666",
                                    "2": "46"
                                },
                                {
                                    "0": "Fujairah Anchorage C",
                                    "1": "40080",
                                    "2": "2"
                                },
                                {
                                    "0": "Fujairah Anchorage N",
                                    "1": "41300",
                                    "2": "2"
                                },
                                {
                                    "0": "Fujairah Anchorage No 2",
                                    "1": "2828732",
                                    "2": "166"
                                },
                                {
                                    "0": "Fujairah Anchorage S",
                                    "1": "233591",
                                    "2": "17"
                                },
                                {
                                    "0": "Fujairah Anchorage T",
                                    "1": "13954",
                                    "2": "1"
                                },
                                {
                                    "0": "Fujairah Anchorage W",
                                    "1": "10817",
                                    "2": "1"
                                },
                                {
                                    "0": "Fukuyama Quarantine Anchorage",
                                    "1": "70349",
                                    "2": "4"
                                },
                                {
                                    "0": "Funabashi",
                                    "1": "161267",
                                    "2": "11"
                                },
                                {
                                    "0": "Funafuti",
                                    "1": "28818",
                                    "2": "1"
                                },
                                {
                                    "0": "Fushiki",
                                    "1": "2922",
                                    "2": "3"
                                },
                                {
                                    "0": "Gadani",
                                    "1": "17435",
                                    "2": "1"
                                },
                                {
                                    "0": "Galveston",
                                    "1": "3814981",
                                    "2": "189"
                                },
                                {
                                    "0": "Galveston - Bolivar Roads Anchorage",
                                    "1": "108844",
                                    "2": "5"
                                },
                                {
                                    "0": "Galveston Approach Anchorage",
                                    "1": "1595079",
                                    "2": "85"
                                },
                                {
                                    "0": "Galveston Deep Water Anchorage",
                                    "1": "823522",
                                    "2": "43"
                                },
                                {
                                    "0": "Gamagori",
                                    "1": "1569697",
                                    "2": "91"
                                },
                                {
                                    "0": "Gamagori Anchorage",
                                    "1": "1063782",
                                    "2": "62"
                                },
                                {
                                    "0": "Ganjingzi",
                                    "1": "9694",
                                    "2": "1"
                                },
                                {
                                    "0": "Gaolan",
                                    "1": "12003",
                                    "2": "1"
                                },
                                {
                                    "0": "Gebe Island",
                                    "1": "17252",
                                    "2": "1"
                                },
                                {
                                    "0": "Gela Anchorage B",
                                    "1": "22675",
                                    "2": "1"
                                },
                                {
                                    "0": "Gelendzhik",
                                    "1": "16493",
                                    "2": "1"
                                },
                                {
                                    "0": "Gelibolu Explosives Anchorage",
                                    "1": "11262",
                                    "2": "1"
                                },
                                {
                                    "0": "Gemlik",
                                    "1": "52241",
                                    "2": "3"
                                },
                                {
                                    "0": "Gemlik Anchorage",
                                    "1": "263746",
                                    "2": "21"
                                },
                                {
                                    "0": "Gemlik Explosives Anchorage",
                                    "1": "50275",
                                    "2": "4"
                                },
                                {
                                    "0": "General San Martin",
                                    "1": "28092",
                                    "2": "1"
                                },
                                {
                                    "0": "General San Martin Anchor Berth No 1",
                                    "1": "28092",
                                    "2": "1"
                                },
                                {
                                    "0": "Genoa",
                                    "1": "491920",
                                    "2": "22"
                                },
                                {
                                    "0": "Genoa Zona Alfa Anchorage",
                                    "1": "317205",
                                    "2": "15"
                                },
                                {
                                    "0": "Genoa Zona Delta Anchorage",
                                    "1": "25556",
                                    "2": "2"
                                },
                                {
                                    "0": "Georgetown (Guyana)",
                                    "1": "278016",
                                    "2": "64"
                                },
                                {
                                    "0": "Gera Bay",
                                    "1": "28031",
                                    "2": "2"
                                },
                                {
                                    "0": "Ghent",
                                    "1": "286158",
                                    "2": "18"
                                },
                                {
                                    "0": "Gibraltar",
                                    "1": "21428",
                                    "2": "1"
                                },
                                {
                                    "0": "Gibraltar Bay Anchorage",
                                    "1": "395346",
                                    "2": "27"
                                },
                                {
                                    "0": "Gibraltar East Anchorage",
                                    "1": "12778",
                                    "2": "1"
                                },
                                {
                                    "0": "Gijon",
                                    "1": "47314",
                                    "2": "2"
                                },
                                {
                                    "0": "Gijon Dangerous Cargoes Anchorage",
                                    "1": "27176",
                                    "2": "1"
                                },
                                {
                                    "0": "Gingoog",
                                    "1": "18947",
                                    "2": "1"
                                },
                                {
                                    "0": "Gioia Tauro",
                                    "1": "1752352",
                                    "2": "117"
                                },
                                {
                                    "0": "Giurgiu",
                                    "1": "21462",
                                    "2": "1"
                                },
                                {
                                    "0": "Gladstone",
                                    "1": "26872",
                                    "2": "2"
                                },
                                {
                                    "0": "Gladstone Outer Harbour Anchorage",
                                    "1": "39362",
                                    "2": "3"
                                },
                                {
                                    "0": "Godbout",
                                    "1": "56446",
                                    "2": "2"
                                },
                                {
                                    "0": "Golfo di Genova Anchorage",
                                    "1": "1922868",
                                    "2": "96"
                                },
                                {
                                    "0": "Gothenburg",
                                    "1": "513206",
                                    "2": "24"
                                },
                                {
                                    "0": "Gothenburg Inner Anchorage",
                                    "1": "80905",
                                    "2": "4"
                                },
                                {
                                    "0": "Gouangzhou Anchorage Berths",
                                    "1": "1868000",
                                    "2": "106"
                                },
                                {
                                    "0": "Grays Harbor",
                                    "1": "850674",
                                    "2": "60"
                                },
                                {
                                    "0": "Gresik",
                                    "1": "4995",
                                    "2": "2"
                                },
                                {
                                    "0": "Gresik Anchorage",
                                    "1": "222004",
                                    "2": "86"
                                },
                                {
                                    "0": "Guangzhou",
                                    "1": "5546540",
                                    "2": "330"
                                },
                                {
                                    "0": "Guangzhou Anchorage Berths",
                                    "1": "2541543",
                                    "2": "156"
                                },
                                {
                                    "0": "Guanta",
                                    "1": "21000",
                                    "2": "1"
                                },
                                {
                                    "0": "Guayaquil",
                                    "1": "914733",
                                    "2": "54"
                                },
                                {
                                    "0": "Guayaquil Deep Water Anchorage",
                                    "1": "197055",
                                    "2": "12"
                                },
                                {
                                    "0": "Guayaquil Explosives Anchorage",
                                    "1": "883336",
                                    "2": "53"
                                },
                                {
                                    "0": "Guayaquil Explosives Anchorage No. 2",
                                    "1": "87108",
                                    "2": "5"
                                },
                                {
                                    "0": "Guayaquil Quarantine Anchorage",
                                    "1": "124002",
                                    "2": "8"
                                },
                                {
                                    "0": "Gulf of Arzew Anchorage",
                                    "1": "36629",
                                    "2": "2"
                                },
                                {
                                    "0": "Gulfmex No 2",
                                    "1": "1933956",
                                    "2": "97"
                                },
                                {
                                    "0": "Gunsan",
                                    "1": "4432662",
                                    "2": "227"
                                },
                                {
                                    "0": "Gunsan Anchorage A-1",
                                    "1": "28854",
                                    "2": "2"
                                },
                                {
                                    "0": "Gunsan Anchorage A-2",
                                    "1": "561671",
                                    "2": "29"
                                },
                                {
                                    "0": "Gunsan Anchorage A-3",
                                    "1": "56290",
                                    "2": "3"
                                },
                                {
                                    "0": "Gunsan Quarantine Anchorage",
                                    "1": "1132859",
                                    "2": "57"
                                },
                                {
                                    "0": "Gwadar",
                                    "1": "21276",
                                    "2": "1"
                                },
                                {
                                    "0": "Gwangyang",
                                    "1": "10386833",
                                    "2": "587"
                                },
                                {
                                    "0": "Hadera Anchorage",
                                    "1": "21037",
                                    "2": "1"
                                },
                                {
                                    "0": "Hakata",
                                    "1": "1276756",
                                    "2": "125"
                                },
                                {
                                    "0": "Hakata Anchorage",
                                    "1": "732848",
                                    "2": "56"
                                },
                                {
                                    "0": "Hakata Quarantine Anchorage",
                                    "1": "133452",
                                    "2": "30"
                                },
                                {
                                    "0": "Haldia Anchorage",
                                    "1": "112224",
                                    "2": "16"
                                },
                                {
                                    "0": "Haldia Outer Anchorage",
                                    "1": "210420",
                                    "2": "30"
                                },
                                {
                                    "0": "Halifax",
                                    "1": "95149",
                                    "2": "4"
                                },
                                {
                                    "0": "Halifax Inner Anchorage",
                                    "1": "303338",
                                    "2": "17"
                                },
                                {
                                    "0": "Halifax Outer Anchorage",
                                    "1": "30188",
                                    "2": "2"
                                },
                                {
                                    "0": "Hambantota",
                                    "1": "2628519",
                                    "2": "165"
                                },
                                {
                                    "0": "Hamble",
                                    "1": "20138",
                                    "2": "1"
                                },
                                {
                                    "0": "Hamburg",
                                    "1": "1183198",
                                    "2": "71"
                                },
                                {
                                    "0": "Hamburg Aussenelbe Reede Anchorage",
                                    "1": "13954",
                                    "2": "1"
                                },
                                {
                                    "0": "Hamburg Elbe Approach Outer Anchorage",
                                    "1": "72759",
                                    "2": "4"
                                },
                                {
                                    "0": "Hamburg Neue-Weser-Reede Anchorage",
                                    "1": "36521",
                                    "2": "2"
                                },
                                {
                                    "0": "Hamilton (Bermuda)",
                                    "1": "171062",
                                    "2": "11"
                                },
                                {
                                    "0": "Hamina",
                                    "1": "43986",
                                    "2": "1"
                                },
                                {
                                    "0": "Hampton Roads",
                                    "1": "15577",
                                    "2": "1"
                                },
                                {
                                    "0": "Hampton Roads A Anchorage North",
                                    "1": "333147",
                                    "2": "20"
                                },
                                {
                                    "0": "Hampton Roads A Anchorage South",
                                    "1": "20131",
                                    "2": "1"
                                },
                                {
                                    "0": "Hampton Roads East Anchorage",
                                    "1": "20131",
                                    "2": "1"
                                },
                                {
                                    "0": "Hampton Roads F Anchorage",
                                    "1": "16632",
                                    "2": "1"
                                },
                                {
                                    "0": "Hampton Roads G Anchorage",
                                    "1": "37715",
                                    "2": "2"
                                },
                                {
                                    "0": "Hampton Roads I Anchorage",
                                    "1": "211554",
                                    "2": "11"
                                },
                                {
                                    "0": "Hamriyah Anchorage A",
                                    "1": "187110",
                                    "2": "10"
                                },
                                {
                                    "0": "Hamriyah Anchorage B",
                                    "1": "13370",
                                    "2": "1"
                                },
                                {
                                    "0": "Hannan",
                                    "1": "17372",
                                    "2": "1"
                                },
                                {
                                    "0": "Hannan Outer Anchorage",
                                    "1": "1678005",
                                    "2": "110"
                                },
                                {
                                    "0": "Hansweert",
                                    "1": "128412",
                                    "2": "7"
                                },
                                {
                                    "0": "Havana",
                                    "1": "81238",
                                    "2": "7"
                                },
                                {
                                    "0": "Hengsha Anchorage East Area",
                                    "1": "185600",
                                    "2": "11"
                                },
                                {
                                    "0": "Hengsha Anchorage Western Area",
                                    "1": "237020",
                                    "2": "11"
                                },
                                {
                                    "0": "Hengsha Tanker Anchorage",
                                    "1": "63125",
                                    "2": "4"
                                },
                                {
                                    "0": "Hengyang",
                                    "1": "15577",
                                    "2": "1"
                                },
                                {
                                    "0": "Heshangdao",
                                    "1": "28223",
                                    "2": "1"
                                },
                                {
                                    "0": "Hibikinada Inner Anchorage",
                                    "1": "2325",
                                    "2": "1"
                                },
                                {
                                    "0": "Higashi-Harima Anchorage",
                                    "1": "15154",
                                    "2": "1"
                                },
                                {
                                    "0": "Hilo",
                                    "1": "678294",
                                    "2": "54"
                                },
                                {
                                    "0": "Himeji",
                                    "1": "18082",
                                    "2": "1"
                                },
                                {
                                    "0": "Himekawa",
                                    "1": "14868",
                                    "2": "1"
                                },
                                {
                                    "0": "Hirohata",
                                    "1": "18082",
                                    "2": "1"
                                },
                                {
                                    "0": "Hiroshima",
                                    "1": "7701710",
                                    "2": "480"
                                },
                                {
                                    "0": "Hiroshima Quarantine Anchorage",
                                    "1": "6479457",
                                    "2": "394"
                                },
                                {
                                    "0": "Hitachi",
                                    "1": "1404606",
                                    "2": "78"
                                },
                                {
                                    "0": "Hitachinaka",
                                    "1": "2673103",
                                    "2": "141"
                                },
                                {
                                    "0": "Hodeidah",
                                    "1": "1060404",
                                    "2": "55"
                                },
                                {
                                    "0": "Hodeidah Anchorage",
                                    "1": "715075",
                                    "2": "37"
                                },
                                {
                                    "0": "Hoheweg-Reede Anchorage",
                                    "1": "204703",
                                    "2": "11"
                                },
                                {
                                    "0": "Holtenau",
                                    "1": "14155",
                                    "2": "1"
                                },
                                {
                                    "0": "Homs",
                                    "1": "258872",
                                    "2": "16"
                                },
                                {
                                    "0": "Homs Anchorage",
                                    "1": "256295",
                                    "2": "17"
                                },
                                {
                                    "0": "Hon Gay",
                                    "1": "103169",
                                    "2": "5"
                                },
                                {
                                    "0": "Honfleur",
                                    "1": "11369",
                                    "2": "1"
                                },
                                {
                                    "0": "Hong Kong",
                                    "1": "1463236",
                                    "2": "97"
                                },
                                {
                                    "0": "Hong Kong Anchorage 10DG",
                                    "1": "716796",
                                    "2": "46"
                                },
                                {
                                    "0": "Hong Kong Anchorage 13ZH",
                                    "1": "3859722",
                                    "2": "226"
                                },
                                {
                                    "0": "Hong Kong Anchorage 17GS",
                                    "1": "1157542",
                                    "2": "63"
                                },
                                {
                                    "0": "Hong Kong Anchorage 18GS",
                                    "1": "4653463",
                                    "2": "266"
                                },
                                {
                                    "0": "Hong Kong Anchorage 22DY",
                                    "1": "21053",
                                    "2": "1"
                                },
                                {
                                    "0": "Hong Kong Anchorage 23DY",
                                    "1": "18638",
                                    "2": "1"
                                },
                                {
                                    "0": "Hong Kong Anchorage No 11SM",
                                    "1": "14110",
                                    "2": "1"
                                },
                                {
                                    "0": "Hong Kong Anchorage No 1BJ",
                                    "1": "97368",
                                    "2": "5"
                                },
                                {
                                    "0": "Hong Kong Anchorage No 2WS",
                                    "1": "21120",
                                    "2": "1"
                                },
                                {
                                    "0": "Hong Kong Anchorage No 4DT",
                                    "1": "157902",
                                    "2": "9"
                                },
                                {
                                    "0": "Hong KOng Anchorage No 5GZ",
                                    "1": "166560",
                                    "2": "9"
                                },
                                {
                                    "0": "Hong Kong Anchorages 21 & 22DY",
                                    "1": "98771",
                                    "2": "5"
                                },
                                {
                                    "0": "Hong Kong Anchorages 7SM",
                                    "1": "421493",
                                    "2": "24"
                                },
                                {
                                    "0": "Hong Kong Anchorages 7SM 8SM & 11SM",
                                    "1": "582595",
                                    "2": "34"
                                },
                                {
                                    "0": "Hong Kong Dangan Island Anchorage",
                                    "1": "171351",
                                    "2": "11"
                                },
                                {
                                    "0": "Hong Kong Dangan Island Eastern Anchorage",
                                    "1": "1621871",
                                    "2": "111"
                                },
                                {
                                    "0": "Hong Kong Kau Yi Chau Dangerous Goods Anchorage",
                                    "1": "17189",
                                    "2": "1"
                                },
                                {
                                    "0": "Hong Kong Kellett Anchorage No 1",
                                    "1": "57100",
                                    "2": "3"
                                },
                                {
                                    "0": "Hong Kong Kowloon",
                                    "1": "586955",
                                    "2": "32"
                                },
                                {
                                    "0": "Hong Kong North Lamma Anchorage",
                                    "1": "62654",
                                    "2": "4"
                                },
                                {
                                    "0": "Hong Kong North West Anchorage",
                                    "1": "41075",
                                    "2": "5"
                                },
                                {
                                    "0": "Hong Kong Pun Shan Shek Anchorage",
                                    "1": "31904",
                                    "2": "2"
                                },
                                {
                                    "0": "Hong Kong South East Lamma Anchorage",
                                    "1": "22500",
                                    "2": "1"
                                },
                                {
                                    "0": "Hong Kong South Lamma Anchorage",
                                    "1": "546782",
                                    "2": "36"
                                },
                                {
                                    "0": "Hong Kong South West Lamma Anchorage",
                                    "1": "17765",
                                    "2": "1"
                                },
                                {
                                    "0": "Hong Kong Western Anchorage No 1-3",
                                    "1": "40871",
                                    "2": "3"
                                },
                                {
                                    "0": "Honolulu",
                                    "1": "1569746",
                                    "2": "108"
                                },
                                {
                                    "0": "Horsburgh Anchorage",
                                    "1": "5586698",
                                    "2": "347"
                                },
                                {
                                    "0": "Hososhima",
                                    "1": "21276",
                                    "2": "1"
                                },
                                {
                                    "0": "Hososhima Anchorage",
                                    "1": "12084",
                                    "2": "1"
                                },
                                {
                                    "0": "Houston",
                                    "1": "2060544",
                                    "2": "119"
                                },
                                {
                                    "0": "Huainan",
                                    "1": "12991",
                                    "2": "1"
                                },
                                {
                                    "0": "Huanghua Anchorage No. 2",
                                    "1": "31308",
                                    "2": "2"
                                },
                                {
                                    "0": "Huanghua Anchorage No. 4",
                                    "1": "28837",
                                    "2": "1"
                                },
                                {
                                    "0": "Huanghua Anchorage No. 6",
                                    "1": "236504",
                                    "2": "11"
                                },
                                {
                                    "0": "Huangpu",
                                    "1": "21063",
                                    "2": "3"
                                },
                                {
                                    "0": "Huelva Outer Anchorage",
                                    "1": "93096",
                                    "2": "5"
                                },
                                {
                                    "0": "Hueneme",
                                    "1": "4463770",
                                    "2": "268"
                                },
                                {
                                    "0": "Humen",
                                    "1": "34185",
                                    "2": "2"
                                },
                                {
                                    "0": "Humen Anchorage Berths 41-44SJ",
                                    "1": "1309481",
                                    "2": "75"
                                },
                                {
                                    "0": "Ijmuiden",
                                    "1": "2898910",
                                    "2": "172"
                                },
                                {
                                    "0": "IJmuiden Anchorage",
                                    "1": "57342",
                                    "2": "4"
                                },
                                {
                                    "0": "IJmuiden Anchorage No. 7",
                                    "1": "70136",
                                    "2": "5"
                                },
                                {
                                    "0": "Ijmuiden Inner Anchorage",
                                    "1": "670535",
                                    "2": "36"
                                },
                                {
                                    "0": "Ijmuiden Outer Anchorage",
                                    "1": "17339",
                                    "2": "1"
                                },
                                {
                                    "0": "Illichevsk",
                                    "1": "101670",
                                    "2": "10"
                                },
                                {
                                    "0": "Illichevsk No 351 Anchorage",
                                    "1": "28894",
                                    "2": "2"
                                },
                                {
                                    "0": "Imari",
                                    "1": "40321",
                                    "2": "2"
                                },
                                {
                                    "0": "Immingham",
                                    "1": "1204475",
                                    "2": "56"
                                },
                                {
                                    "0": "Immingham Anchorage",
                                    "1": "218100",
                                    "2": "11"
                                },
                                {
                                    "0": "Incheon",
                                    "1": "8457210",
                                    "2": "465"
                                },
                                {
                                    "0": "Incheon Central Fairway Anchorage",
                                    "1": "4603232",
                                    "2": "259"
                                },
                                {
                                    "0": "Incheon Inner Fairway Anchorage",
                                    "1": "3239121",
                                    "2": "183"
                                },
                                {
                                    "0": "Incheon Outer Anchorage",
                                    "1": "1178295",
                                    "2": "66"
                                },
                                {
                                    "0": "Innoshima",
                                    "1": "406146",
                                    "2": "23"
                                },
                                {
                                    "0": "Interflour Port",
                                    "1": "47484",
                                    "2": "4"
                                },
                                {
                                    "0": "Iquique",
                                    "1": "4114682",
                                    "2": "245"
                                },
                                {
                                    "0": "Iquique Explosives Anchorage",
                                    "1": "159418",
                                    "2": "10"
                                },
                                {
                                    "0": "Iquique Quarantine Anchorage",
                                    "1": "358797",
                                    "2": "24"
                                },
                                {
                                    "0": "Isdemir",
                                    "1": "20190",
                                    "2": "1"
                                },
                                {
                                    "0": "Ishikariwan Shinko",
                                    "1": "11260",
                                    "2": "1"
                                },
                                {
                                    "0": "Iskenderun",
                                    "1": "664663",
                                    "2": "33"
                                },
                                {
                                    "0": "Iskenderun Anchorage",
                                    "1": "74000",
                                    "2": "4"
                                },
                                {
                                    "0": "Iskenderun Explosives Anchorage",
                                    "1": "811715",
                                    "2": "40"
                                },
                                {
                                    "0": "Istanbul Anchorage",
                                    "1": "38118",
                                    "2": "3"
                                },
                                {
                                    "0": "Istanbul Outer Anchorage",
                                    "1": "4538039",
                                    "2": "309"
                                },
                                {
                                    "0": "Itozaki Outer Anchorage",
                                    "1": "51323",
                                    "2": "4"
                                },
                                {
                                    "0": "Iwakuni",
                                    "1": "14155",
                                    "2": "1"
                                },
                                {
                                    "0": "Izmir",
                                    "1": "393992",
                                    "2": "19"
                                },
                                {
                                    "0": "Izmit Anchorage",
                                    "1": "481453",
                                    "2": "37"
                                },
                                {
                                    "0": "Jacksonville",
                                    "1": "12632078",
                                    "2": "728"
                                },
                                {
                                    "0": "Jacksonville Anchorage",
                                    "1": "2078637",
                                    "2": "125"
                                },
                                {
                                    "0": "Jakhau Anchorage",
                                    "1": "21323",
                                    "2": "1"
                                },
                                {
                                    "0": "Jebel Ali",
                                    "1": "13050074",
                                    "2": "736"
                                },
                                {
                                    "0": "Jebel Ali Anchorage",
                                    "1": "24797627",
                                    "2": "1405"
                                },
                                {
                                    "0": "Jeddah",
                                    "1": "10280129",
                                    "2": "535"
                                },
                                {
                                    "0": "Jeddah Anchorage D",
                                    "1": "160333",
                                    "2": "9"
                                },
                                {
                                    "0": "Jeddah Anchorage E",
                                    "1": "984831",
                                    "2": "51"
                                },
                                {
                                    "0": "Jiang Yin",
                                    "1": "29949",
                                    "2": "2"
                                },
                                {
                                    "0": "Jiang Yin Anchorage",
                                    "1": "4197511",
                                    "2": "276"
                                },
                                {
                                    "0": "Jiangyin",
                                    "1": "12939",
                                    "2": "1"
                                },
                                {
                                    "0": "Jiangyin Anchorage",
                                    "1": "213291",
                                    "2": "9"
                                },
                                {
                                    "0": "Jiangyuanansha Temporary Anchorage",
                                    "1": "12250",
                                    "2": "1"
                                },
                                {
                                    "0": "Jingjiang",
                                    "1": "97533",
                                    "2": "5"
                                },
                                {
                                    "0": "Jinhae Bay East Anchorage",
                                    "1": "40600",
                                    "2": "2"
                                },
                                {
                                    "0": "Jinzhou Anchorage No 1",
                                    "1": "10834",
                                    "2": "1"
                                },
                                {
                                    "0": "Johor",
                                    "1": "401799",
                                    "2": "20"
                                },
                                {
                                    "0": "Johor Anchorages",
                                    "1": "293690",
                                    "2": "17"
                                },
                                {
                                    "0": "Jorf Lasfar Anchorage",
                                    "1": "508724",
                                    "2": "29"
                                },
                                {
                                    "0": "Jubail",
                                    "1": "21052",
                                    "2": "1"
                                },
                                {
                                    "0": "Jubail Holding Anchorage",
                                    "1": "1162039",
                                    "2": "63"
                                },
                                {
                                    "0": "Jubail Inner Anchorage",
                                    "1": "21052",
                                    "2": "1"
                                },
                                {
                                    "0": "Kabil",
                                    "1": "16651",
                                    "2": "2"
                                },
                                {
                                    "0": "Kabil Anchorage",
                                    "1": "4051",
                                    "2": "1"
                                },
                                {
                                    "0": "Kagoshima",
                                    "1": "501972",
                                    "2": "354"
                                },
                                {
                                    "0": "Kahului",
                                    "1": "741099",
                                    "2": "59"
                                },
                                {
                                    "0": "Kaimana",
                                    "1": "2457",
                                    "2": "1"
                                },
                                {
                                    "0": "Kakogawa",
                                    "1": "1307173",
                                    "2": "74"
                                },
                                {
                                    "0": "Kakogawa Anchorage",
                                    "1": "767214",
                                    "2": "43"
                                },
                                {
                                    "0": "Kalama",
                                    "1": "28223",
                                    "2": "1"
                                },
                                {
                                    "0": "Kalama Anchorage",
                                    "1": "128044",
                                    "2": "9"
                                },
                                {
                                    "0": "Kalamata",
                                    "1": "10600",
                                    "2": "1"
                                },
                                {
                                    "0": "Kalba Anchorage B",
                                    "1": "4693",
                                    "2": "1"
                                },
                                {
                                    "0": "Kalundborg Fjord Anchorage",
                                    "1": "137418",
                                    "2": "6"
                                },
                                {
                                    "0": "Kamaishi",
                                    "1": "19093",
                                    "2": "1"
                                },
                                {
                                    "0": "Kamarajar",
                                    "1": "392667",
                                    "2": "26"
                                },
                                {
                                    "0": "Kanda",
                                    "1": "7748813",
                                    "2": "472"
                                },
                                {
                                    "0": "Kanda Northern Anchorage",
                                    "1": "119139",
                                    "2": "12"
                                },
                                {
                                    "0": "Kanda Outer Anchorage",
                                    "1": "1374721",
                                    "2": "91"
                                },
                                {
                                    "0": "Kanda Southern Anchorage",
                                    "1": "246296",
                                    "2": "20"
                                },
                                {
                                    "0": "Kanmon Ko",
                                    "1": "1698603",
                                    "2": "103"
                                },
                                {
                                    "0": "Kanokawa Anchorage",
                                    "1": "9300",
                                    "2": "4"
                                },
                                {
                                    "0": "Kaohsiung",
                                    "1": "98280",
                                    "2": "11"
                                },
                                {
                                    "0": "Kaohsiung No 1 Anchorage",
                                    "1": "97466",
                                    "2": "10"
                                },
                                {
                                    "0": "Kaohsiung No 2 Anchorage",
                                    "1": "98215",
                                    "2": "7"
                                },
                                {
                                    "0": "Kaohsiung No 3 Anchorage",
                                    "1": "51920",
                                    "2": "4"
                                },
                                {
                                    "0": "Kapar Power Station",
                                    "1": "21004",
                                    "2": "1"
                                },
                                {
                                    "0": "Karachi",
                                    "1": "275895",
                                    "2": "15"
                                },
                                {
                                    "0": "Karachi Anchorages",
                                    "1": "180298",
                                    "2": "10"
                                },
                                {
                                    "0": "Karimun STS Anchorage",
                                    "1": "200503",
                                    "2": "60"
                                },
                                {
                                    "0": "Karumba",
                                    "1": "22717",
                                    "2": "1"
                                },
                                {
                                    "0": "Kasaoka Anchorage",
                                    "1": "32852",
                                    "2": "2"
                                },
                                {
                                    "0": "Kashima",
                                    "1": "31140",
                                    "2": "2"
                                },
                                {
                                    "0": "Kashima Anchorage",
                                    "1": "360662",
                                    "2": "22"
                                },
                                {
                                    "0": "Kasim Marine Terminal",
                                    "1": "33009",
                                    "2": "3"
                                },
                                {
                                    "0": "Kattegat Anchorage A",
                                    "1": "73741",
                                    "2": "4"
                                },
                                {
                                    "0": "Kattegat Anchorage 'A'",
                                    "1": "192641",
                                    "2": "10"
                                },
                                {
                                    "0": "Kattegat Anchorage B",
                                    "1": "17252",
                                    "2": "1"
                                },
                                {
                                    "0": "Kattegat Anchorage 'B'",
                                    "1": "60169",
                                    "2": "3"
                                },
                                {
                                    "0": "Kattupalli",
                                    "1": "15154",
                                    "2": "1"
                                },
                                {
                                    "0": "Kawasaki",
                                    "1": "7870529",
                                    "2": "458"
                                },
                                {
                                    "0": "Kawasaki Anchorage",
                                    "1": "7364659",
                                    "2": "426"
                                },
                                {
                                    "0": "Keelung",
                                    "1": "983731",
                                    "2": "50"
                                },
                                {
                                    "0": "Keelung Anchorage",
                                    "1": "105513",
                                    "2": "6"
                                },
                                {
                                    "0": "Kelly Point Anchorage",
                                    "1": "227457",
                                    "2": "14"
                                },
                                {
                                    "0": "Kertih Port",
                                    "1": "20138",
                                    "2": "1"
                                },
                                {
                                    "0": "Khalifa Bin Salman",
                                    "1": "5531218",
                                    "2": "312"
                                },
                                {
                                    "0": "Khalifa Bin Salman Anchorage",
                                    "1": "2756322",
                                    "2": "160"
                                },
                                {
                                    "0": "Khalifa Port",
                                    "1": "701633",
                                    "2": "36"
                                },
                                {
                                    "0": "Khalifa Port Anchorage",
                                    "1": "41111",
                                    "2": "2"
                                },
                                {
                                    "0": "Khasab",
                                    "1": "53595",
                                    "2": "3"
                                },
                                {
                                    "0": "Khor Al Zubair",
                                    "1": "18770",
                                    "2": "1"
                                },
                                {
                                    "0": "Khor Al Zubair Anchorage",
                                    "1": "1378210",
                                    "2": "81"
                                },
                                {
                                    "0": "Khor Fakkan Anchorage B",
                                    "1": "19670",
                                    "2": "1"
                                },
                                {
                                    "0": "Kiame Marine Terminal",
                                    "1": "19093",
                                    "2": "1"
                                },
                                {
                                    "0": "Kikuma Anchorage",
                                    "1": "12600",
                                    "2": "1"
                                },
                                {
                                    "0": "King Fahd Industrial Port (Yanbu)",
                                    "1": "30907",
                                    "2": "1"
                                },
                                {
                                    "0": "King Fahd Industrial Port (Yanbu) Anchorage North",
                                    "1": "2120013",
                                    "2": "106"
                                },
                                {
                                    "0": "Kingston (Jamaica)",
                                    "1": "1688642",
                                    "2": "131"
                                },
                                {
                                    "0": "Kingston (jamaica) Inner Anchorage",
                                    "1": "35579",
                                    "2": "4"
                                },
                                {
                                    "0": "Kingston (Jamaica) Outer Anchorage",
                                    "1": "2011304",
                                    "2": "150"
                                },
                                {
                                    "0": "Kingstown",
                                    "1": "176936",
                                    "2": "10"
                                },
                                {
                                    "0": "Kinuura",
                                    "1": "81533",
                                    "2": "18"
                                },
                                {
                                    "0": "Kinuura Quarantine Anchorage",
                                    "1": "27900",
                                    "2": "12"
                                },
                                {
                                    "0": "Kinwan",
                                    "1": "21323",
                                    "2": "1"
                                },
                                {
                                    "0": "Kisarazu",
                                    "1": "1050673",
                                    "2": "66"
                                },
                                {
                                    "0": "Kisarazu Anchorage",
                                    "1": "1073629",
                                    "2": "60"
                                },
                                {
                                    "0": "Kiyanly",
                                    "1": "16837",
                                    "2": "1"
                                },
                                {
                                    "0": "Kizomba Terminals Anchorage",
                                    "1": "118103",
                                    "2": "7"
                                },
                                {
                                    "0": "Kobe",
                                    "1": "10287913",
                                    "2": "576"
                                },
                                {
                                    "0": "Kobe Anchorage",
                                    "1": "11065251",
                                    "2": "617"
                                },
                                {
                                    "0": "Kochi (Japan)",
                                    "1": "9300",
                                    "2": "4"
                                },
                                {
                                    "0": "Kokura",
                                    "1": "12600",
                                    "2": "1"
                                },
                                {
                                    "0": "Kolkata",
                                    "1": "154308",
                                    "2": "22"
                                },
                                {
                                    "0": "Kolkata Anchorage",
                                    "1": "154308",
                                    "2": "22"
                                },
                                {
                                    "0": "Komatsushima",
                                    "1": "2325",
                                    "2": "1"
                                },
                                {
                                    "0": "Koper",
                                    "1": "1643664",
                                    "2": "108"
                                },
                                {
                                    "0": "Koper Anchorage",
                                    "1": "1528041",
                                    "2": "99"
                                },
                                {
                                    "0": "Kos",
                                    "1": "10834",
                                    "2": "1"
                                },
                                {
                                    "0": "Kota Kinabalu",
                                    "1": "275019",
                                    "2": "17"
                                },
                                {
                                    "0": "Kota Kinabalu Dangerous Petroleum Anchorage",
                                    "1": "9313",
                                    "2": "1"
                                },
                                {
                                    "0": "Kralendijk",
                                    "1": "265830",
                                    "2": "18"
                                },
                                {
                                    "0": "Krasnogorskiy",
                                    "1": "21120",
                                    "2": "1"
                                },
                                {
                                    "0": "Krautsand Reede Anchorage",
                                    "1": "9694",
                                    "2": "1"
                                },
                                {
                                    "0": "Krefeld",
                                    "1": "20139",
                                    "2": "1"
                                },
                                {
                                    "0": "Kuching",
                                    "1": "206404",
                                    "2": "14"
                                },
                                {
                                    "0": "Kuching Anchorage",
                                    "1": "99842",
                                    "2": "6"
                                },
                                {
                                    "0": "Kudamatsu",
                                    "1": "39024",
                                    "2": "2"
                                },
                                {
                                    "0": "Kudamatsu Loading Anchorage",
                                    "1": "39024",
                                    "2": "2"
                                },
                                {
                                    "0": "Kure",
                                    "1": "17738",
                                    "2": "1"
                                },
                                {
                                    "0": "Kwame Nkrumah MV21 FPSO Waiting Area",
                                    "1": "35596",
                                    "2": "2"
                                },
                                {
                                    "0": "La Goulette",
                                    "1": "275564",
                                    "2": "18"
                                },
                                {
                                    "0": "La Goulette Anchorage",
                                    "1": "223315",
                                    "2": "12"
                                },
                                {
                                    "0": "La Guaira",
                                    "1": "50972",
                                    "2": "4"
                                },
                                {
                                    "0": "La Maddalena (Sardinia)",
                                    "1": "16890",
                                    "2": "1"
                                },
                                {
                                    "0": "La Paz",
                                    "1": "17713",
                                    "2": "1"
                                },
                                {
                                    "0": "La Plata Anchorage",
                                    "1": "4069598",
                                    "2": "238"
                                },
                                {
                                    "0": "La Rochelle-Pallice",
                                    "1": "12778",
                                    "2": "1"
                                },
                                {
                                    "0": "La Rochelle-Pallice Anchorage",
                                    "1": "12778",
                                    "2": "1"
                                },
                                {
                                    "0": "Labuan",
                                    "1": "234546",
                                    "2": "14"
                                },
                                {
                                    "0": "Labuan Anchorage",
                                    "1": "355625",
                                    "2": "21"
                                },
                                {
                                    "0": "Labuan Oil Terminal Tanker Anchorage",
                                    "1": "95798",
                                    "2": "6"
                                },
                                {
                                    "0": "Lae",
                                    "1": "331844",
                                    "2": "26"
                                },
                                {
                                    "0": "Lae Anchor Berth QS",
                                    "1": "26783",
                                    "2": "2"
                                },
                                {
                                    "0": "Laem Chabang",
                                    "1": "10838128",
                                    "2": "645"
                                },
                                {
                                    "0": "Lagos (Nigeria)",
                                    "1": "3448294",
                                    "2": "203"
                                },
                                {
                                    "0": "Lagos (Nigeria) Anchorage",
                                    "1": "6986022",
                                    "2": "418"
                                },
                                {
                                    "0": "Lalang Marine Terminal",
                                    "1": "5324",
                                    "2": "2"
                                },
                                {
                                    "0": "Larnaca",
                                    "1": "240268",
                                    "2": "10"
                                },
                                {
                                    "0": "Larnaca Anchorage",
                                    "1": "68534",
                                    "2": "3"
                                },
                                {
                                    "0": "Las Palmas",
                                    "1": "132296",
                                    "2": "8"
                                },
                                {
                                    "0": "Las Palmas Rada Sur Anchorage",
                                    "1": "362173",
                                    "2": "22"
                                },
                                {
                                    "0": "Lazaro Cardenas",
                                    "1": "6454289",
                                    "2": "359"
                                },
                                {
                                    "0": "Le Havre",
                                    "1": "3776164",
                                    "2": "195"
                                },
                                {
                                    "0": "Le Havre No 1 Anchorage",
                                    "1": "87888",
                                    "2": "5"
                                },
                                {
                                    "0": "Le Havre No 2 Anchorage",
                                    "1": "427136",
                                    "2": "19"
                                },
                                {
                                    "0": "Le Havre No 3 Anchorage",
                                    "1": "810179",
                                    "2": "42"
                                },
                                {
                                    "0": "Leam Chabang Harbour Anchorage",
                                    "1": "6718471",
                                    "2": "409"
                                },
                                {
                                    "0": "Leigh Small Ship Anchorage",
                                    "1": "25765",
                                    "2": "1"
                                },
                                {
                                    "0": "Leixoes Anchorage",
                                    "1": "14110",
                                    "2": "1"
                                },
                                {
                                    "0": "Leonis FSO",
                                    "1": "21668",
                                    "2": "2"
                                },
                                {
                                    "0": "Levuka",
                                    "1": "17252",
                                    "2": "1"
                                },
                                {
                                    "0": "Lhokseumawe",
                                    "1": "21037",
                                    "2": "1"
                                },
                                {
                                    "0": "Lianyungang",
                                    "1": "1655288",
                                    "2": "88"
                                },
                                {
                                    "0": "Lianyungang Anchorage No 1",
                                    "1": "905227",
                                    "2": "49"
                                },
                                {
                                    "0": "Lianyungang Anchorage No 2",
                                    "1": "677299",
                                    "2": "37"
                                },
                                {
                                    "0": "Lianyungang Anchorage No 3",
                                    "1": "571690",
                                    "2": "31"
                                },
                                {
                                    "0": "Lianyungang Anchorage No 4",
                                    "1": "430828",
                                    "2": "21"
                                },
                                {
                                    "0": "Lianyungang Anchorage No 5",
                                    "1": "176389",
                                    "2": "9"
                                },
                                {
                                    "0": "Lianyungang Dangerous Goods Anchorage",
                                    "1": "104467",
                                    "2": "5"
                                },
                                {
                                    "0": "Libreville Anchorage",
                                    "1": "562666",
                                    "2": "35"
                                },
                                {
                                    "0": "Limas",
                                    "1": "1011966",
                                    "2": "83"
                                },
                                {
                                    "0": "Limassol",
                                    "1": "162858",
                                    "2": "5"
                                },
                                {
                                    "0": "Limassol Port Anchorage",
                                    "1": "108406",
                                    "2": "3"
                                },
                                {
                                    "0": "Liuhe Ocean Liners Anchorage",
                                    "1": "175749",
                                    "2": "10"
                                },
                                {
                                    "0": "Liuheng",
                                    "1": "721956",
                                    "2": "50"
                                },
                                {
                                    "0": "Liuheng North Anchorage",
                                    "1": "834473",
                                    "2": "49"
                                },
                                {
                                    "0": "Livorno",
                                    "1": "2162171",
                                    "2": "130"
                                },
                                {
                                    "0": "Lobito",
                                    "1": "48608",
                                    "2": "3"
                                },
                                {
                                    "0": "Lobito Anchorage",
                                    "1": "31356",
                                    "2": "2"
                                },
                                {
                                    "0": "Lobos Islands",
                                    "1": "387024",
                                    "2": "25"
                                },
                                {
                                    "0": "Lome",
                                    "1": "366140",
                                    "2": "25"
                                },
                                {
                                    "0": "Lome Anchorage",
                                    "1": "195537",
                                    "2": "12"
                                },
                                {
                                    "0": "London",
                                    "1": "470421",
                                    "2": "23"
                                },
                                {
                                    "0": "London Gateway",
                                    "1": "60261",
                                    "2": "3"
                                },
                                {
                                    "0": "London Thamesport",
                                    "1": "10834",
                                    "2": "1"
                                },
                                {
                                    "0": "Long Beach",
                                    "1": "4547519",
                                    "2": "244"
                                },
                                {
                                    "0": "Long Beach Anchorage B",
                                    "1": "281922",
                                    "2": "18"
                                },
                                {
                                    "0": "Long Beach Anchorage F",
                                    "1": "294597",
                                    "2": "17"
                                },
                                {
                                    "0": "Long Beach Anchorage G",
                                    "1": "95214",
                                    "2": "6"
                                },
                                {
                                    "0": "Long Beach Southern Anchorage",
                                    "1": "7157511",
                                    "2": "455"
                                },
                                {
                                    "0": "Longkou",
                                    "1": "67147",
                                    "2": "4"
                                },
                                {
                                    "0": "Longview Anchorage",
                                    "1": "95265",
                                    "2": "6"
                                },
                                {
                                    "0": "Los Angeles",
                                    "1": "1953694",
                                    "2": "132"
                                },
                                {
                                    "0": "Lower Vancouver Anchorage",
                                    "1": "17442",
                                    "2": "1"
                                },
                                {
                                    "0": "Luanda",
                                    "1": "1961129",
                                    "2": "109"
                                },
                                {
                                    "0": "Luanda Inner Anchorage",
                                    "1": "2209949",
                                    "2": "122"
                                },
                                {
                                    "0": "Luanda Outer Anchorage",
                                    "1": "3605264",
                                    "2": "200"
                                },
                                {
                                    "0": "Luhuashan South Anchorage",
                                    "1": "247912",
                                    "2": "28"
                                },
                                {
                                    "0": "Luoyuan bay Harbour Anchorage",
                                    "1": "21421",
                                    "2": "1"
                                },
                                {
                                    "0": "Lusi",
                                    "1": "9694",
                                    "2": "1"
                                },
                                {
                                    "0": "Lyttelton",
                                    "1": "1766706",
                                    "2": "116"
                                },
                                {
                                    "0": "Lyttelton Anchorage",
                                    "1": "680731",
                                    "2": "46"
                                },
                                {
                                    "0": "Ma Zhou Island",
                                    "1": "60958",
                                    "2": "5"
                                },
                                {
                                    "0": "Ma Zhou West Dangerous Goods Anchorage",
                                    "1": "55914",
                                    "2": "3"
                                },
                                {
                                    "0": "Madura",
                                    "1": "4995",
                                    "2": "2"
                                },
                                {
                                    "0": "Magellan Strait Area",
                                    "1": "812253",
                                    "2": "58"
                                },
                                {
                                    "0": "Mailiao No 2 Anchorage",
                                    "1": "20056",
                                    "2": "1"
                                },
                                {
                                    "0": "Maizuru",
                                    "1": "26899",
                                    "2": "7"
                                },
                                {
                                    "0": "Majishan Port Anchorage No 1",
                                    "1": "322996",
                                    "2": "22"
                                },
                                {
                                    "0": "Majishan Port Anchorage No 2",
                                    "1": "69406",
                                    "2": "6"
                                },
                                {
                                    "0": "Makassar",
                                    "1": "604092",
                                    "2": "171"
                                },
                                {
                                    "0": "Makassar Anchorage",
                                    "1": "582562",
                                    "2": "167"
                                },
                                {
                                    "0": "Malabo",
                                    "1": "73584",
                                    "2": "6"
                                },
                                {
                                    "0": "Malacca",
                                    "1": "30135",
                                    "2": "2"
                                },
                                {
                                    "0": "Malaga",
                                    "1": "165066",
                                    "2": "15"
                                },
                                {
                                    "0": "Malaga Anchorage",
                                    "1": "32502",
                                    "2": "3"
                                },
                                {
                                    "0": "Malaga Dangerous Cargo Anchorage",
                                    "1": "43336",
                                    "2": "4"
                                },
                                {
                                    "0": "Malmo",
                                    "1": "603502",
                                    "2": "29"
                                },
                                {
                                    "0": "Malmok Anchorage",
                                    "1": "167021",
                                    "2": "12"
                                },
                                {
                                    "0": "Malta Valletta and Marsaxlokk Anchorage",
                                    "1": "6728507",
                                    "2": "350"
                                },
                                {
                                    "0": "Mamonal Anchorage A",
                                    "1": "17006",
                                    "2": "1"
                                },
                                {
                                    "0": "Mamonal Anchorage E",
                                    "1": "110157",
                                    "2": "7"
                                },
                                {
                                    "0": "Mangalia",
                                    "1": "102377",
                                    "2": "5"
                                },
                                {
                                    "0": "Mangalia Anchorage",
                                    "1": "20578",
                                    "2": "1"
                                },
                                {
                                    "0": "Mangalore",
                                    "1": "35142",
                                    "2": "2"
                                },
                                {
                                    "0": "Manila",
                                    "1": "141687",
                                    "2": "10"
                                },
                                {
                                    "0": "Manila Anchorages",
                                    "1": "222396",
                                    "2": "17"
                                },
                                {
                                    "0": "Man-of-War Anchorage (AMOW)",
                                    "1": "38730",
                                    "2": "2"
                                },
                                {
                                    "0": "Manta",
                                    "1": "1764867",
                                    "2": "112"
                                },
                                {
                                    "0": "Manzanillo (Mexico)",
                                    "1": "1510243",
                                    "2": "88"
                                },
                                {
                                    "0": "Manzanillo (Mexico) Anchorage",
                                    "1": "438357",
                                    "2": "26"
                                },
                                {
                                    "0": "Manzanillo (Mexico) Anchorage A",
                                    "1": "34791",
                                    "2": "2"
                                },
                                {
                                    "0": "Maputo",
                                    "1": "2932622",
                                    "2": "168"
                                },
                                {
                                    "0": "Maputo Bay Anchorage",
                                    "1": "5206386",
                                    "2": "293"
                                },
                                {
                                    "0": "Maputo Outer Anchorage",
                                    "1": "1036327",
                                    "2": "56"
                                },
                                {
                                    "0": "Marcus Hook General Anchorage 7",
                                    "1": "408028",
                                    "2": "20"
                                },
                                {
                                    "0": "Marcus Hook Quarantine Anchorage",
                                    "1": "61485",
                                    "2": "3"
                                },
                                {
                                    "0": "Margate Roads Anchorage",
                                    "1": "1603081",
                                    "2": "97"
                                },
                                {
                                    "0": "Marsaxlokk",
                                    "1": "92882",
                                    "2": "4"
                                },
                                {
                                    "0": "Marsaxlokk Anchorage",
                                    "1": "860624",
                                    "2": "58"
                                },
                                {
                                    "0": "Marseille",
                                    "1": "241510",
                                    "2": "21"
                                },
                                {
                                    "0": "Marseille Nord Anchorage",
                                    "1": "22520",
                                    "2": "2"
                                },
                                {
                                    "0": "Marseilles Mouillage Ouest Anchorage",
                                    "1": "25054",
                                    "2": "2"
                                },
                                {
                                    "0": "Marseilles Nord Anchorage",
                                    "1": "102786",
                                    "2": "9"
                                },
                                {
                                    "0": "Marugame",
                                    "1": "178196",
                                    "2": "10"
                                },
                                {
                                    "0": "Masan",
                                    "1": "2612167",
                                    "2": "137"
                                },
                                {
                                    "0": "Masao",
                                    "1": "17435",
                                    "2": "1"
                                },
                                {
                                    "0": "Mashi Anchorage Area No 1",
                                    "1": "1691753",
                                    "2": "108"
                                },
                                {
                                    "0": "Mashi Anchorage Area No 2",
                                    "1": "851823",
                                    "2": "50"
                                },
                                {
                                    "0": "Massawa",
                                    "1": "17386",
                                    "2": "1"
                                },
                                {
                                    "0": "Matanzas (Cuba) Anchorage",
                                    "1": "9386",
                                    "2": "2"
                                },
                                {
                                    "0": "Matsuura Anchorage",
                                    "1": "40321",
                                    "2": "2"
                                },
                                {
                                    "0": "Matsuyama",
                                    "1": "24507",
                                    "2": "2"
                                },
                                {
                                    "0": "Mazhi Dangerous Goods Anchorage",
                                    "1": "402659",
                                    "2": "22"
                                },
                                {
                                    "0": "Mazhi Dangerous Goods Operation Anchorage",
                                    "1": "59217",
                                    "2": "4"
                                },
                                {
                                    "0": "M'Bao Oil Terminal",
                                    "1": "20138",
                                    "2": "1"
                                },
                                {
                                    "0": "Mega",
                                    "1": "91488",
                                    "2": "5"
                                },
                                {
                                    "0": "Meishan",
                                    "1": "106549",
                                    "2": "5"
                                },
                                {
                                    "0": "Mejillones",
                                    "1": "66520",
                                    "2": "4"
                                },
                                {
                                    "0": "Melbourne",
                                    "1": "8903635",
                                    "2": "485"
                                },
                                {
                                    "0": "Melbourne Explosives Anchorage",
                                    "1": "926110",
                                    "2": "52"
                                },
                                {
                                    "0": "Merak Anchorage",
                                    "1": "117479",
                                    "2": "7"
                                },
                                {
                                    "0": "Mersin",
                                    "1": "636119",
                                    "2": "35"
                                },
                                {
                                    "0": "Mersin Anchorage",
                                    "1": "457545",
                                    "2": "24"
                                },
                                {
                                    "0": "Mersin Anchorage No. 1",
                                    "1": "99278",
                                    "2": "5"
                                },
                                {
                                    "0": "Mersin Anchorage No. 2",
                                    "1": "40672",
                                    "2": "2"
                                },
                                {
                                    "0": "Mersin Anchorages",
                                    "1": "254182",
                                    "2": "15"
                                },
                                {
                                    "0": "Methaniers Pilot Boarding Area",
                                    "1": "150315",
                                    "2": "8"
                                },
                                {
                                    "0": "Miami",
                                    "1": "18724",
                                    "2": "1"
                                },
                                {
                                    "0": "Miami Anchorage",
                                    "1": "18724",
                                    "2": "1"
                                },
                                {
                                    "0": "Milford Haven Anchorage",
                                    "1": "18770",
                                    "2": "1"
                                },
                                {
                                    "0": "Milos Island",
                                    "1": "10834",
                                    "2": "1"
                                },
                                {
                                    "0": "Mina Abd Allah Terminal_Mina Ash Shuaybah Petroleum Products Pier Anchorage",
                                    "1": "19670",
                                    "2": "1"
                                },
                                {
                                    "0": "Mina Al Ahmadi South Pier Anchorage",
                                    "1": "19670",
                                    "2": "1"
                                },
                                {
                                    "0": "MIna Al Ahmadi SPM Anchorage",
                                    "1": "123160",
                                    "2": "6"
                                },
                                {
                                    "0": "Mina al Fahal Anchorage",
                                    "1": "21421",
                                    "2": "1"
                                },
                                {
                                    "0": "Miri",
                                    "1": "12507",
                                    "2": "1"
                                },
                                {
                                    "0": "Mishima-Kawanoe",
                                    "1": "20434",
                                    "2": "1"
                                },
                                {
                                    "0": "Misumi (Kumamoto)",
                                    "1": "20056",
                                    "2": "1"
                                },
                                {
                                    "0": "Mitajiri",
                                    "1": "4990534",
                                    "2": "298"
                                },
                                {
                                    "0": "Mizushima",
                                    "1": "3189396",
                                    "2": "191"
                                },
                                {
                                    "0": "Mizushima Anchor Berths A - E",
                                    "1": "18770",
                                    "2": "1"
                                },
                                {
                                    "0": "Mizushima Quarantine Anchorage",
                                    "1": "368611",
                                    "2": "26"
                                },
                                {
                                    "0": "Mobile",
                                    "1": "92539",
                                    "2": "5"
                                },
                                {
                                    "0": "Mobile Outer Fairway Anchorage",
                                    "1": "74767",
                                    "2": "4"
                                },
                                {
                                    "0": "Mohammedia Anchorage",
                                    "1": "18770",
                                    "2": "1"
                                },
                                {
                                    "0": "Moji",
                                    "1": "5539392",
                                    "2": "333"
                                },
                                {
                                    "0": "Moji Northern Anchorage",
                                    "1": "4650",
                                    "2": "2"
                                },
                                {
                                    "0": "Moji Southern Anchorage",
                                    "1": "84671",
                                    "2": "8"
                                },
                                {
                                    "0": "Mokha",
                                    "1": "16178",
                                    "2": "1"
                                },
                                {
                                    "0": "Mokpo",
                                    "1": "10854448",
                                    "2": "587"
                                },
                                {
                                    "0": "Mokpo Anchorage Area IV",
                                    "1": "2574363",
                                    "2": "139"
                                },
                                {
                                    "0": "Mokpo Anchorage Area V",
                                    "1": "500830",
                                    "2": "26"
                                },
                                {
                                    "0": "Mokpo Outer Anchorages",
                                    "1": "1240980",
                                    "2": "63"
                                },
                                {
                                    "0": "Mombasa",
                                    "1": "3415364",
                                    "2": "194"
                                },
                                {
                                    "0": "Mombasa Anchorages",
                                    "1": "2272066",
                                    "2": "129"
                                },
                                {
                                    "0": "Monbetsu",
                                    "1": "12490",
                                    "2": "1"
                                },
                                {
                                    "0": "Monfalcone",
                                    "1": "20434",
                                    "2": "1"
                                },
                                {
                                    "0": "Monfalcone Anchorage",
                                    "1": "20434",
                                    "2": "1"
                                },
                                {
                                    "0": "Mongla",
                                    "1": "188586",
                                    "2": "22"
                                },
                                {
                                    "0": "Montevideo",
                                    "1": "1625034",
                                    "2": "89"
                                },
                                {
                                    "0": "Montevideo Anchorage and Service Area",
                                    "1": "6581458",
                                    "2": "376"
                                },
                                {
                                    "0": "Mormugao",
                                    "1": "12893",
                                    "2": "1"
                                },
                                {
                                    "0": "Muara",
                                    "1": "154400",
                                    "2": "15"
                                },
                                {
                                    "0": "Muara Anchorage",
                                    "1": "529747",
                                    "2": "43"
                                },
                                {
                                    "0": "Muara Pantai",
                                    "1": "17297",
                                    "2": "1"
                                },
                                {
                                    "0": "Muara Tawar Power Station (PLTGU) CBM",
                                    "1": "2662",
                                    "2": "1"
                                },
                                {
                                    "0": "Muhammad Bin Qasim",
                                    "1": "78680",
                                    "2": "4"
                                },
                                {
                                    "0": "Muhammad Bin Qasim Outer Anchorage",
                                    "1": "19670",
                                    "2": "1"
                                },
                                {
                                    "0": "Mumbai",
                                    "1": "1393564",
                                    "2": "73"
                                },
                                {
                                    "0": "Mumbai Anchorage",
                                    "1": "1088873",
                                    "2": "61"
                                },
                                {
                                    "0": "Mumbai Bravo (East) Anchorage",
                                    "1": "33355",
                                    "2": "2"
                                },
                                {
                                    "0": "Mumbai Bravo (West) Anchorage",
                                    "1": "275391",
                                    "2": "15"
                                },
                                {
                                    "0": "Mumbai Cargo Transhipment Area",
                                    "1": "42813",
                                    "2": "2"
                                },
                                {
                                    "0": "Mumbai Outer Anchorage",
                                    "1": "777525",
                                    "2": "42"
                                },
                                {
                                    "0": "Mundra",
                                    "1": "733796",
                                    "2": "39"
                                },
                                {
                                    "0": "Mundra General Anchorage A",
                                    "1": "1057022",
                                    "2": "56"
                                },
                                {
                                    "0": "Mundra General Anchorage B",
                                    "1": "42788",
                                    "2": "2"
                                },
                                {
                                    "0": "Mundra South Basin",
                                    "1": "291505",
                                    "2": "15"
                                },
                                {
                                    "0": "Mundra SPM Anchorage",
                                    "1": "73325",
                                    "2": "4"
                                },
                                {
                                    "0": "Mundra SPM's Anchorage",
                                    "1": "15461",
                                    "2": "1"
                                },
                                {
                                    "0": "Munguba",
                                    "1": "30907",
                                    "2": "1"
                                },
                                {
                                    "0": "Muroran",
                                    "1": "19381",
                                    "2": "1"
                                },
                                {
                                    "0": "Musaffah",
                                    "1": "17481",
                                    "2": "1"
                                },
                                {
                                    "0": "Musaffah Anchorage",
                                    "1": "321959",
                                    "2": "18"
                                },
                                {
                                    "0": "My Thoi",
                                    "1": "28566",
                                    "2": "1"
                                },
                                {
                                    "0": "NA",
                                    "1": "160203191",
                                    "2": "8976"
                                },
                                {
                                    "0": "Nagasaki South Section",
                                    "1": "21462",
                                    "2": "1"
                                },
                                {
                                    "0": "Nagoya",
                                    "1": "29923071",
                                    "2": "1768"
                                },
                                {
                                    "0": "Nagoya Anchorage",
                                    "1": "6952105",
                                    "2": "464"
                                },
                                {
                                    "0": "Nagoya LPG Anchorage",
                                    "1": "5458722",
                                    "2": "321"
                                },
                                {
                                    "0": "Naha",
                                    "1": "120191",
                                    "2": "8"
                                },
                                {
                                    "0": "Nakhodka",
                                    "1": "61921",
                                    "2": "3"
                                },
                                {
                                    "0": "Nakhodka Anchorage No. 167",
                                    "1": "12755",
                                    "2": "1"
                                },
                                {
                                    "0": "Nakhodka Anchorage No. 306",
                                    "1": "12755",
                                    "2": "1"
                                },
                                {
                                    "0": "Nakhodka Anchorages 166 to 167",
                                    "1": "39177",
                                    "2": "3"
                                },
                                {
                                    "0": "Nanao",
                                    "1": "20139",
                                    "2": "1"
                                },
                                {
                                    "0": "Nancao Temporary Anchorage B for Dangerous Cargo Vessels",
                                    "1": "6561",
                                    "2": "1"
                                },
                                {
                                    "0": "Nancao Temporary Anchorage No 1",
                                    "1": "15301",
                                    "2": "1"
                                },
                                {
                                    "0": "Nancao Temporary Anchorage No 2",
                                    "1": "13122",
                                    "2": "2"
                                },
                                {
                                    "0": "Nanhui",
                                    "1": "27609",
                                    "2": "1"
                                },
                                {
                                    "0": "Nanjing",
                                    "1": "46300",
                                    "2": "5"
                                },
                                {
                                    "0": "Nansha",
                                    "1": "15413",
                                    "2": "1"
                                },
                                {
                                    "0": "Nansha Anchorage 33LD",
                                    "1": "6561",
                                    "2": "1"
                                },
                                {
                                    "0": "Nantong",
                                    "1": "829908",
                                    "2": "46"
                                },
                                {
                                    "0": "Nantong Port Dangerous Goods Anchorage",
                                    "1": "420089",
                                    "2": "24"
                                },
                                {
                                    "0": "Nantong Port Erhaojia Anchorage",
                                    "1": "74373",
                                    "2": "4"
                                },
                                {
                                    "0": "Nantong Port Lightering Anchorage",
                                    "1": "92615",
                                    "2": "5"
                                },
                                {
                                    "0": "Naoetsu",
                                    "1": "20895",
                                    "2": "1"
                                },
                                {
                                    "0": "Nassau",
                                    "1": "543451",
                                    "2": "58"
                                },
                                {
                                    "0": "Naze",
                                    "1": "58138",
                                    "2": "41"
                                },
                                {
                                    "0": "Neendakara",
                                    "1": "37820",
                                    "2": "2"
                                },
                                {
                                    "0": "Nelson",
                                    "1": "1430719",
                                    "2": "95"
                                },
                                {
                                    "0": "Nemrut Bay Outer Anchorage",
                                    "1": "16493",
                                    "2": "1"
                                },
                                {
                                    "0": "Neue-Weser-Nord-Reede Anchorage",
                                    "1": "2912281",
                                    "2": "160"
                                },
                                {
                                    "0": "Neue-Weser-Reede Anchorage",
                                    "1": "21091",
                                    "2": "1"
                                },
                                {
                                    "0": "Neuhaus",
                                    "1": "20138",
                                    "2": "1"
                                },
                                {
                                    "0": "New Glasgow & Trenton",
                                    "1": "14274",
                                    "2": "1"
                                },
                                {
                                    "0": "New Sand Hole Anchorage",
                                    "1": "558218",
                                    "2": "26"
                                },
                                {
                                    "0": "New York & New Jersey",
                                    "1": "13208808",
                                    "2": "712"
                                },
                                {
                                    "0": "New York & New Jersey Anchorage",
                                    "1": "205732",
                                    "2": "10"
                                },
                                {
                                    "0": "New York & New Jersey Brenton Point Anchorage Ground",
                                    "1": "21000",
                                    "2": "1"
                                },
                                {
                                    "0": "New York_New Jersey Anchorage",
                                    "1": "137347",
                                    "2": "8"
                                },
                                {
                                    "0": "Newcaste Upon Tyne Anchorage",
                                    "1": "1262598",
                                    "2": "64"
                                },
                                {
                                    "0": "Newcastle (Australia)",
                                    "1": "204741",
                                    "2": "7"
                                },
                                {
                                    "0": "Newcastle (Australia) Anchorage",
                                    "1": "213844",
                                    "2": "7"
                                },
                                {
                                    "0": "Newcastle upon Tyne",
                                    "1": "1314563",
                                    "2": "67"
                                },
                                {
                                    "0": "Newcastle upon Tyne Anchorage",
                                    "1": "287344",
                                    "2": "15"
                                },
                                {
                                    "0": "Newport (Rhode Island)",
                                    "1": "93620",
                                    "2": "5"
                                },
                                {
                                    "0": "Newport (Rhode Island) Naval & General A",
                                    "1": "284852",
                                    "2": "15"
                                },
                                {
                                    "0": "Newport (Rhode Island) Naval & General A Anchorage",
                                    "1": "132688",
                                    "2": "7"
                                },
                                {
                                    "0": "Newport News",
                                    "1": "1546298",
                                    "2": "75"
                                },
                                {
                                    "0": "Niihama",
                                    "1": "56310",
                                    "2": "3"
                                },
                                {
                                    "0": "Niihama Anchorage",
                                    "1": "309883",
                                    "2": "17"
                                },
                                {
                                    "0": "Nikolayev Outer Anchorage",
                                    "1": "21000",
                                    "2": "1"
                                },
                                {
                                    "0": "Ningbo Anchorage",
                                    "1": "122607",
                                    "2": "8"
                                },
                                {
                                    "0": "No 1 Qianhai Anchorage",
                                    "1": "155502",
                                    "2": "8"
                                },
                                {
                                    "0": "Nordenham",
                                    "1": "17280",
                                    "2": "1"
                                },
                                {
                                    "0": "Nordostreed Anchorage; Brunsbuttel",
                                    "1": "37596",
                                    "2": "3"
                                },
                                {
                                    "0": "Norfolk",
                                    "1": "41336",
                                    "2": "3"
                                },
                                {
                                    "0": "North Port",
                                    "1": "1197193",
                                    "2": "87"
                                },
                                {
                                    "0": "North Port Anchorage North",
                                    "1": "100785",
                                    "2": "7"
                                },
                                {
                                    "0": "North Port Anchorage South",
                                    "1": "307677",
                                    "2": "23"
                                },
                                {
                                    "0": "North Vancouver",
                                    "1": "428207",
                                    "2": "16"
                                },
                                {
                                    "0": "Northport (Malaysia)",
                                    "1": "215472",
                                    "2": "16"
                                },
                                {
                                    "0": "Northport Anchorage North (Malaysia)",
                                    "1": "22765",
                                    "2": "2"
                                },
                                {
                                    "0": "Northport Anchorage South (Malaysia)",
                                    "1": "24009",
                                    "2": "2"
                                },
                                {
                                    "0": "Noumea",
                                    "1": "702828",
                                    "2": "36"
                                },
                                {
                                    "0": "Novorossiysk",
                                    "1": "50824",
                                    "2": "4"
                                },
                                {
                                    "0": "Novorossiysk Anchorage 410",
                                    "1": "15577",
                                    "2": "1"
                                },
                                {
                                    "0": "Novorossiysk Anchorage 414",
                                    "1": "12706",
                                    "2": "1"
                                },
                                {
                                    "0": "Nueva Palmira",
                                    "1": "144799",
                                    "2": "7"
                                },
                                {
                                    "0": "Nueva Palmira Anchorage",
                                    "1": "124936",
                                    "2": "6"
                                },
                                {
                                    "0": "Oarai",
                                    "1": "13951",
                                    "2": "1"
                                },
                                {
                                    "0": "Offshore Pascagoula No 2",
                                    "1": "30340",
                                    "2": "2"
                                },
                                {
                                    "0": "Ogishima",
                                    "1": "256673",
                                    "2": "14"
                                },
                                {
                                    "0": "Oita",
                                    "1": "18304",
                                    "2": "1"
                                },
                                {
                                    "0": "Oita Anchorage",
                                    "1": "13954",
                                    "2": "1"
                                },
                                {
                                    "0": "Oita Quarantine Anchorage",
                                    "1": "18304",
                                    "2": "1"
                                },
                                {
                                    "0": "Okpo Anchorage",
                                    "1": "11156046",
                                    "2": "618"
                                },
                                {
                                    "0": "Omaezaki",
                                    "1": "1819947",
                                    "2": "109"
                                },
                                {
                                    "0": "Onahama",
                                    "1": "78875",
                                    "2": "3"
                                },
                                {
                                    "0": "Onahama Quarantine Anchorage",
                                    "1": "17201",
                                    "2": "1"
                                },
                                {
                                    "0": "Oostdyck",
                                    "1": "260577",
                                    "2": "14"
                                },
                                {
                                    "0": "Oranjestad (Aruba)",
                                    "1": "1256550",
                                    "2": "72"
                                },
                                {
                                    "0": "Osaka",
                                    "1": "1187293",
                                    "2": "79"
                                },
                                {
                                    "0": "Osaka Anchorage",
                                    "1": "192878",
                                    "2": "12"
                                },
                                {
                                    "0": "Osaka Quarantine Anchorage",
                                    "1": "190077",
                                    "2": "18"
                                },
                                {
                                    "0": "Oudna Terminal",
                                    "1": "22675",
                                    "2": "1"
                                },
                                {
                                    "0": "Owendo",
                                    "1": "335204",
                                    "2": "21"
                                },
                                {
                                    "0": "Palenque",
                                    "1": "95880",
                                    "2": "24"
                                },
                                {
                                    "0": "Palma",
                                    "1": "11260",
                                    "2": "1"
                                },
                                {
                                    "0": "Panama Canal",
                                    "1": "10410869",
                                    "2": "565"
                                },
                                {
                                    "0": "Panama Canal Atlantic Inner Anchorage",
                                    "1": "9673098",
                                    "2": "520"
                                },
                                {
                                    "0": "Panama Canal Atlantic Outer Anchorage",
                                    "1": "26458711",
                                    "2": "1399"
                                },
                                {
                                    "0": "Panama Canal Pacific Anchorage",
                                    "1": "16838104",
                                    "2": "929"
                                },
                                {
                                    "0": "Pantoloan",
                                    "1": "21847",
                                    "2": "7"
                                },
                                {
                                    "0": "Papeete",
                                    "1": "553937",
                                    "2": "18"
                                },
                                {
                                    "0": "Paramaribo",
                                    "1": "333441",
                                    "2": "77"
                                },
                                {
                                    "0": "Paranagua",
                                    "1": "3731779",
                                    "2": "206"
                                },
                                {
                                    "0": "Paranagua Anchorage No 12",
                                    "1": "6896482",
                                    "2": "380"
                                },
                                {
                                    "0": "Paranagua Anchorage No 5",
                                    "1": "61344",
                                    "2": "4"
                                },
                                {
                                    "0": "Paranagua Anchorage No 6",
                                    "1": "232177",
                                    "2": "11"
                                },
                                {
                                    "0": "Paranagua Anchorage No 7",
                                    "1": "142013",
                                    "2": "9"
                                },
                                {
                                    "0": "Paranagua Anchorage No 8",
                                    "1": "81027",
                                    "2": "4"
                                },
                                {
                                    "0": "Paranagua Anchorage No 9",
                                    "1": "149569",
                                    "2": "9"
                                },
                                {
                                    "0": "Paris",
                                    "1": "38569",
                                    "2": "2"
                                },
                                {
                                    "0": "Pasajes",
                                    "1": "9694",
                                    "2": "1"
                                },
                                {
                                    "0": "Paulsboro",
                                    "1": "1755947",
                                    "2": "82"
                                },
                                {
                                    "0": "Pearl Harbor",
                                    "1": "87927",
                                    "2": "7"
                                },
                                {
                                    "0": "Pecem Anchorage",
                                    "1": "21900",
                                    "2": "1"
                                },
                                {
                                    "0": "Pemba",
                                    "1": "18334",
                                    "2": "1"
                                },
                                {
                                    "0": "Petchburi Terminal",
                                    "1": "12249",
                                    "2": "1"
                                },
                                {
                                    "0": "Philadelphia",
                                    "1": "2507446",
                                    "2": "119"
                                },
                                {
                                    "0": "Philipsburg Anchorage",
                                    "1": "20144",
                                    "2": "1"
                                },
                                {
                                    "0": "Phnom-Penh",
                                    "1": "21286",
                                    "2": "1"
                                },
                                {
                                    "0": "Pindhara",
                                    "1": "18638",
                                    "2": "1"
                                },
                                {
                                    "0": "Piraeus",
                                    "1": "4054858",
                                    "2": "265"
                                },
                                {
                                    "0": "Piraeus Anchorage",
                                    "1": "5699706",
                                    "2": "378"
                                },
                                {
                                    "0": "Pittsburg",
                                    "1": "17765",
                                    "2": "1"
                                },
                                {
                                    "0": "Plumper Sound Anchorage No 1-5",
                                    "1": "28548",
                                    "2": "2"
                                },
                                {
                                    "0": "Pohang",
                                    "1": "22675",
                                    "2": "1"
                                },
                                {
                                    "0": "Pohang Outer Anchorages",
                                    "1": "17950",
                                    "2": "1"
                                },
                                {
                                    "0": "Pohang Yeongil",
                                    "1": "44375",
                                    "2": "3"
                                },
                                {
                                    "0": "Pointe-a-Pitre",
                                    "1": "347342",
                                    "2": "33"
                                },
                                {
                                    "0": "Pointe-Noire",
                                    "1": "440615",
                                    "2": "25"
                                },
                                {
                                    "0": "Pointe-Noire Anchorage",
                                    "1": "806096",
                                    "2": "47"
                                },
                                {
                                    "0": "Poleng",
                                    "1": "19381",
                                    "2": "1"
                                },
                                {
                                    "0": "Pomalaa",
                                    "1": "41176",
                                    "2": "2"
                                },
                                {
                                    "0": "Pontianak Anchorage",
                                    "1": "15154",
                                    "2": "1"
                                },
                                {
                                    "0": "Port Akdeniz Anchorage No 1",
                                    "1": "9694",
                                    "2": "1"
                                },
                                {
                                    "0": "Port Angeles",
                                    "1": "161879",
                                    "2": "7"
                                },
                                {
                                    "0": "Port Arthur",
                                    "1": "201346",
                                    "2": "9"
                                },
                                {
                                    "0": "Port au Prince",
                                    "1": "43945",
                                    "2": "11"
                                },
                                {
                                    "0": "Port Canaveral",
                                    "1": "360389",
                                    "2": "18"
                                },
                                {
                                    "0": "Port de L'Amitie",
                                    "1": "126726",
                                    "2": "7"
                                },
                                {
                                    "0": "Port de L'Amitie Anchorage",
                                    "1": "180244",
                                    "2": "10"
                                },
                                {
                                    "0": "Port Elizabeth",
                                    "1": "2676471",
                                    "2": "136"
                                },
                                {
                                    "0": "Port Elizabeth Anchorage No 1",
                                    "1": "168165",
                                    "2": "9"
                                },
                                {
                                    "0": "Port Elizabeth Anchorage No 2",
                                    "1": "367202",
                                    "2": "20"
                                },
                                {
                                    "0": "Port Everglades",
                                    "1": "387274",
                                    "2": "30"
                                },
                                {
                                    "0": "Port Everglades Anchorage",
                                    "1": "97606",
                                    "2": "8"
                                },
                                {
                                    "0": "Port Gentil",
                                    "1": "12778",
                                    "2": "1"
                                },
                                {
                                    "0": "Port Gentil Anchorage",
                                    "1": "12778",
                                    "2": "1"
                                },
                                {
                                    "0": "Port Jerome",
                                    "1": "88406",
                                    "2": "6"
                                },
                                {
                                    "0": "Port Kembla",
                                    "1": "9250965",
                                    "2": "509"
                                },
                                {
                                    "0": "Port Kembla Anchor Berths",
                                    "1": "9560093",
                                    "2": "523"
                                },
                                {
                                    "0": "Port Klang Lay-Up Anchorage",
                                    "1": "10869549",
                                    "2": "687"
                                },
                                {
                                    "0": "Port Louis",
                                    "1": "523961",
                                    "2": "26"
                                },
                                {
                                    "0": "Port Louis Anchorage",
                                    "1": "678622",
                                    "2": "35"
                                },
                                {
                                    "0": "Port Moresby",
                                    "1": "310210",
                                    "2": "24"
                                },
                                {
                                    "0": "Port Moresby Outer Anchorage",
                                    "1": "436125",
                                    "2": "33"
                                },
                                {
                                    "0": "Port Moresby Quarantine Anchorage",
                                    "1": "107838",
                                    "2": "8"
                                },
                                {
                                    "0": "Port Neches",
                                    "1": "98350",
                                    "2": "5"
                                },
                                {
                                    "0": "Port North Fraser",
                                    "1": "5384220",
                                    "2": "326"
                                },
                                {
                                    "0": "Port of Davisville",
                                    "1": "606273",
                                    "2": "33"
                                },
                                {
                                    "0": "Port of South Louisiana",
                                    "1": "15154",
                                    "2": "1"
                                },
                                {
                                    "0": "Port of Spain",
                                    "1": "1650145",
                                    "2": "129"
                                },
                                {
                                    "0": "Port Rashid",
                                    "1": "219585",
                                    "2": "13"
                                },
                                {
                                    "0": "Port Rashid Anchorage A",
                                    "1": "250837",
                                    "2": "13"
                                },
                                {
                                    "0": "Port Rashid Anchorage C",
                                    "1": "352688",
                                    "2": "20"
                                },
                                {
                                    "0": "Port Rashid Anchorage D",
                                    "1": "666967",
                                    "2": "39"
                                },
                                {
                                    "0": "Port Rashid Long Term Anchorage",
                                    "1": "195249",
                                    "2": "11"
                                },
                                {
                                    "0": "Port Refuge",
                                    "1": "20138",
                                    "2": "1"
                                },
                                {
                                    "0": "Port Reunion",
                                    "1": "669407",
                                    "2": "29"
                                },
                                {
                                    "0": "Port Royal (Jamaica) Small Craft Anchorage",
                                    "1": "140918",
                                    "2": "9"
                                },
                                {
                                    "0": "Port Said",
                                    "1": "3024098",
                                    "2": "151"
                                },
                                {
                                    "0": "Port Said Cargo Transhipment Anchorage",
                                    "1": "39642",
                                    "2": "2"
                                },
                                {
                                    "0": "Port Said North Anchorage",
                                    "1": "6165514",
                                    "2": "322"
                                },
                                {
                                    "0": "Port Said South Anchorage",
                                    "1": "6034195",
                                    "2": "309"
                                },
                                {
                                    "0": "Port Said West Anchorage",
                                    "1": "24168",
                                    "2": "2"
                                },
                                {
                                    "0": "Port Sudan",
                                    "1": "973268",
                                    "2": "47"
                                },
                                {
                                    "0": "Port Sultan Qaboos",
                                    "1": "1955012",
                                    "2": "112"
                                },
                                {
                                    "0": "Port Sultan Qaboos Anchorage",
                                    "1": "105810",
                                    "2": "5"
                                },
                                {
                                    "0": "Port Wentworth",
                                    "1": "1444734",
                                    "2": "50"
                                },
                                {
                                    "0": "Portland (USA-Oregon)",
                                    "1": "4957121",
                                    "2": "305"
                                },
                                {
                                    "0": "Porto Cervo",
                                    "1": "15013",
                                    "2": "1"
                                },
                                {
                                    "0": "Portsmouth (USA-Hampton Roads)",
                                    "1": "73545",
                                    "2": "5"
                                },
                                {
                                    "0": "Portsmouth Man-of-War Anchorage",
                                    "1": "21424",
                                    "2": "1"
                                },
                                {
                                    "0": "Posorja Anchorage",
                                    "1": "53023",
                                    "2": "3"
                                },
                                {
                                    "0": "Providence",
                                    "1": "507373",
                                    "2": "28"
                                },
                                {
                                    "0": "PSVM FPSO",
                                    "1": "94246",
                                    "2": "6"
                                },
                                {
                                    "0": "Puerto Cabello",
                                    "1": "2143321",
                                    "2": "105"
                                },
                                {
                                    "0": "Puerto Cabello Anchorage",
                                    "1": "3445177",
                                    "2": "172"
                                },
                                {
                                    "0": "Puerto Cortes",
                                    "1": "378823",
                                    "2": "26"
                                },
                                {
                                    "0": "Puerto Cortes Anchorage",
                                    "1": "28566",
                                    "2": "1"
                                },
                                {
                                    "0": "Puerto Limon",
                                    "1": "406890",
                                    "2": "24"
                                },
                                {
                                    "0": "Puerto Limon Anchorage",
                                    "1": "297838",
                                    "2": "19"
                                },
                                {
                                    "0": "Puerto Moin",
                                    "1": "84805",
                                    "2": "5"
                                },
                                {
                                    "0": "Puerto Princesa",
                                    "1": "9313",
                                    "2": "1"
                                },
                                {
                                    "0": "Puerto Progreso Anchorage",
                                    "1": "20096",
                                    "2": "1"
                                },
                                {
                                    "0": "Puerto Quetzal",
                                    "1": "1088980",
                                    "2": "64"
                                },
                                {
                                    "0": "Puerto Quetzal Anchorage",
                                    "1": "345350",
                                    "2": "20"
                                },
                                {
                                    "0": "Pulupandan",
                                    "1": "30774",
                                    "2": "2"
                                },
                                {
                                    "0": "Pyeong Taek",
                                    "1": "23912112",
                                    "2": "1320"
                                },
                                {
                                    "0": "Pyeong Taek Anchorage",
                                    "1": "16660582",
                                    "2": "905"
                                },
                                {
                                    "0": "Pyeong Taek Quarantine Anchorage",
                                    "1": "17597043",
                                    "2": "978"
                                },
                                {
                                    "0": "Qasr Ahmed",
                                    "1": "1280807",
                                    "2": "83"
                                },
                                {
                                    "0": "Qasr Ahmed Anchorage",
                                    "1": "2378683",
                                    "2": "148"
                                },
                                {
                                    "0": "Qingdao",
                                    "1": "1898050",
                                    "2": "94"
                                },
                                {
                                    "0": "Qingdao Inner Anchorage",
                                    "1": "126031",
                                    "2": "5"
                                },
                                {
                                    "0": "Qingdao Outer Anchorage",
                                    "1": "194171",
                                    "2": "9"
                                },
                                {
                                    "0": "Qinhuangdao East Anchorage",
                                    "1": "15546",
                                    "2": "1"
                                },
                                {
                                    "0": "Qinzhou No 1 Anchorage 10 to 20t vessels",
                                    "1": "20138",
                                    "2": "1"
                                },
                                {
                                    "0": "Qinzhou Quarantine Anchorage",
                                    "1": "36626",
                                    "2": "2"
                                },
                                {
                                    "0": "Qushan",
                                    "1": "436939",
                                    "2": "27"
                                },
                                {
                                    "0": "Rabaul",
                                    "1": "15154",
                                    "2": "1"
                                },
                                {
                                    "0": "Rang Dong FPSO",
                                    "1": "16493",
                                    "2": "1"
                                },
                                {
                                    "0": "Ras Diheisa Deep Water Anchorage",
                                    "1": "236816",
                                    "2": "13"
                                },
                                {
                                    "0": "Ras Laffan Anchorage 1",
                                    "1": "12588",
                                    "2": "1"
                                },
                                {
                                    "0": "Ras Laffan Anchorage 2",
                                    "1": "241098",
                                    "2": "14"
                                },
                                {
                                    "0": "Ras Laffan SPM Terminal",
                                    "1": "17442",
                                    "2": "1"
                                },
                                {
                                    "0": "Ras Tanura Tanker Anchorage",
                                    "1": "27309",
                                    "2": "2"
                                },
                                {
                                    "0": "Recalada Anchorage",
                                    "1": "531414",
                                    "2": "30"
                                },
                                {
                                    "0": "Recife",
                                    "1": "111419",
                                    "2": "7"
                                },
                                {
                                    "0": "Recife Anchorage",
                                    "1": "89896",
                                    "2": "5"
                                },
                                {
                                    "0": "Rede Vlissingen Anchorage",
                                    "1": "80623",
                                    "2": "5"
                                },
                                {
                                    "0": "Reede Fedderwarden Anchorage",
                                    "1": "68005",
                                    "2": "3"
                                },
                                {
                                    "0": "Revdanda",
                                    "1": "36758",
                                    "2": "2"
                                },
                                {
                                    "0": "Richards Bay Anchorage",
                                    "1": "38172",
                                    "2": "2"
                                },
                                {
                                    "0": "Richmond (California)",
                                    "1": "2166414",
                                    "2": "133"
                                },
                                {
                                    "0": "Richmond (Canada)",
                                    "1": "2514618",
                                    "2": "155"
                                },
                                {
                                    "0": "Rio de Janeiro",
                                    "1": "1323702",
                                    "2": "68"
                                },
                                {
                                    "0": "Rio de Janeiro Anchorage No 1",
                                    "1": "110594",
                                    "2": "5"
                                },
                                {
                                    "0": "Rio de Janeiro Anchorage No 13",
                                    "1": "1143752",
                                    "2": "60"
                                },
                                {
                                    "0": "Rio de Janeiro Anchorage No 14",
                                    "1": "273028",
                                    "2": "15"
                                },
                                {
                                    "0": "Rio de Janeiro Anchorage No 2 (N)",
                                    "1": "73586",
                                    "2": "4"
                                },
                                {
                                    "0": "Rio de Janeiro Anchorage No 3A",
                                    "1": "28566",
                                    "2": "1"
                                },
                                {
                                    "0": "Rio de Janeiro Anchorage No 4",
                                    "1": "11373",
                                    "2": "1"
                                },
                                {
                                    "0": "Rio Grande (Brazil)",
                                    "1": "1128848",
                                    "2": "53"
                                },
                                {
                                    "0": "Rio Grande (Brazil) Anchorage",
                                    "1": "1795433",
                                    "2": "84"
                                },
                                {
                                    "0": "Rio Haina",
                                    "1": "58423",
                                    "2": "6"
                                },
                                {
                                    "0": "River Plate Lightering Area A",
                                    "1": "4822558",
                                    "2": "278"
                                },
                                {
                                    "0": "River Plate Lightering Area D",
                                    "1": "249613",
                                    "2": "14"
                                },
                                {
                                    "0": "Rizhao Anchorage No 2",
                                    "1": "10834",
                                    "2": "1"
                                },
                                {
                                    "0": "Roberts Bank",
                                    "1": "15681",
                                    "2": "1"
                                },
                                {
                                    "0": "Rodman Naval Station",
                                    "1": "50535",
                                    "2": "2"
                                },
                                {
                                    "0": "Rosario",
                                    "1": "21000",
                                    "2": "1"
                                },
                                {
                                    "0": "Roseau",
                                    "1": "116859",
                                    "2": "7"
                                },
                                {
                                    "0": "Rostock",
                                    "1": "21053",
                                    "2": "1"
                                },
                                {
                                    "0": "Rotterdam",
                                    "1": "13951",
                                    "2": "1"
                                },
                                {
                                    "0": "Rotterdam Anchorage No 3A",
                                    "1": "599928",
                                    "2": "31"
                                },
                                {
                                    "0": "Rotterdam Anchorage No 3C",
                                    "1": "340360",
                                    "2": "17"
                                },
                                {
                                    "0": "Rotterdam Anchorage No 4BN",
                                    "1": "63975",
                                    "2": "4"
                                },
                                {
                                    "0": "Rotterdam Anchorage No 5A",
                                    "1": "37413",
                                    "2": "3"
                                },
                                {
                                    "0": "Rotterdam Anchorage No 5B",
                                    "1": "74826",
                                    "2": "6"
                                },
                                {
                                    "0": "Rotterdam Anchorage No. 2",
                                    "1": "17382",
                                    "2": "1"
                                },
                                {
                                    "0": "Rotterdam Emergency Deep Water Anchorage",
                                    "1": "142735",
                                    "2": "6"
                                },
                                {
                                    "0": "Rouen",
                                    "1": "90991",
                                    "2": "6"
                                },
                                {
                                    "0": "Ryde Middle Anchorage",
                                    "1": "318518",
                                    "2": "13"
                                },
                                {
                                    "0": "Sabine Pass",
                                    "1": "245332",
                                    "2": "10"
                                },
                                {
                                    "0": "Sabine Pass Inshore Anchorage",
                                    "1": "59010",
                                    "2": "3"
                                },
                                {
                                    "0": "Safety Fairway Anchorages",
                                    "1": "14342",
                                    "2": "1"
                                },
                                {
                                    "0": "Sagunto",
                                    "1": "1016166",
                                    "2": "72"
                                },
                                {
                                    "0": "Sagunto Anchorage",
                                    "1": "334065",
                                    "2": "24"
                                },
                                {
                                    "0": "Sagunto Dangerous Cargo Anchorage",
                                    "1": "200469",
                                    "2": "13"
                                },
                                {
                                    "0": "Saigon",
                                    "1": "619700",
                                    "2": "42"
                                },
                                {
                                    "0": "Saiki",
                                    "1": "12200",
                                    "2": "1"
                                },
                                {
                                    "0": "Saipan",
                                    "1": "477180",
                                    "2": "27"
                                },
                                {
                                    "0": "Saiqi",
                                    "1": "15261",
                                    "2": "1"
                                },
                                {
                                    "0": "Sakai",
                                    "1": "114971",
                                    "2": "5"
                                },
                                {
                                    "0": "Sakai Anchor Berths",
                                    "1": "19013",
                                    "2": "1"
                                },
                                {
                                    "0": "Sakaide",
                                    "1": "65100",
                                    "2": "28"
                                },
                                {
                                    "0": "Sakaide Quarantine Anchorage",
                                    "1": "13950",
                                    "2": "6"
                                },
                                {
                                    "0": "Sakaiminato",
                                    "1": "12939",
                                    "2": "1"
                                },
                                {
                                    "0": "Sakata",
                                    "1": "15577",
                                    "2": "1"
                                },
                                {
                                    "0": "Salalah",
                                    "1": "118020",
                                    "2": "6"
                                },
                                {
                                    "0": "Salalah Anchorage",
                                    "1": "59010",
                                    "2": "3"
                                },
                                {
                                    "0": "Saldanha Bay Outer Anchorage",
                                    "1": "20139",
                                    "2": "1"
                                },
                                {
                                    "0": "Salem River Anchorage No 1",
                                    "1": "18772",
                                    "2": "1"
                                },
                                {
                                    "0": "Salem River Anchorage No 2",
                                    "1": "19013",
                                    "2": "1"
                                },
                                {
                                    "0": "Salem River Anchorage No 3",
                                    "1": "301100",
                                    "2": "16"
                                },
                                {
                                    "0": "Salerno",
                                    "1": "111999",
                                    "2": "8"
                                },
                                {
                                    "0": "Salina Anchorage",
                                    "1": "57596",
                                    "2": "4"
                                },
                                {
                                    "0": "Salvador",
                                    "1": "232264",
                                    "2": "13"
                                },
                                {
                                    "0": "Salvador Anchorage No 1",
                                    "1": "53847",
                                    "2": "3"
                                },
                                {
                                    "0": "Salvador Anchorage No 2",
                                    "1": "479433",
                                    "2": "28"
                                },
                                {
                                    "0": "Salvador Anchorage No 3",
                                    "1": "699401",
                                    "2": "39"
                                },
                                {
                                    "0": "Salvador Quarantine Anchorage",
                                    "1": "64417",
                                    "2": "3"
                                },
                                {
                                    "0": "Samalaju",
                                    "1": "41862",
                                    "2": "2"
                                },
                                {
                                    "0": "Samos",
                                    "1": "21276",
                                    "2": "1"
                                },
                                {
                                    "0": "San Antonio",
                                    "1": "4094055",
                                    "2": "241"
                                },
                                {
                                    "0": "San Antonio Anchorage",
                                    "1": "2620704",
                                    "2": "158"
                                },
                                {
                                    "0": "San Diego",
                                    "1": "5529593",
                                    "2": "357"
                                },
                                {
                                    "0": "San Francisco",
                                    "1": "50232",
                                    "2": "3"
                                },
                                {
                                    "0": "San Francisco General Anchorage",
                                    "1": "268136",
                                    "2": "16"
                                },
                                {
                                    "0": "San Juan",
                                    "1": "2436621",
                                    "2": "144"
                                },
                                {
                                    "0": "San Lorenzo - San Martin",
                                    "1": "12322",
                                    "2": "1"
                                },
                                {
                                    "0": "San Lorenzo (Honduras)",
                                    "1": "872218",
                                    "2": "53"
                                },
                                {
                                    "0": "Sandakan",
                                    "1": "21349",
                                    "2": "1"
                                },
                                {
                                    "0": "Sangi",
                                    "1": "41309",
                                    "2": "2"
                                },
                                {
                                    "0": "Santa Cruz de Tenerife",
                                    "1": "12778",
                                    "2": "1"
                                },
                                {
                                    "0": "Santa Cruz de Tenerife Anchorage",
                                    "1": "76985",
                                    "2": "4"
                                },
                                {
                                    "0": "Santa Marta",
                                    "1": "2034546",
                                    "2": "144"
                                },
                                {
                                    "0": "Santander",
                                    "1": "1585939",
                                    "2": "68"
                                },
                                {
                                    "0": "Santander Anchorage",
                                    "1": "490306",
                                    "2": "20"
                                },
                                {
                                    "0": "Santo Domingo",
                                    "1": "2154235",
                                    "2": "189"
                                },
                                {
                                    "0": "Santo Domingo Anchorage",
                                    "1": "47940",
                                    "2": "12"
                                },
                                {
                                    "0": "Santo Tomas de Castilla",
                                    "1": "449504",
                                    "2": "33"
                                },
                                {
                                    "0": "Santos",
                                    "1": "5877997",
                                    "2": "324"
                                },
                                {
                                    "0": "Santos Anchorage",
                                    "1": "416095",
                                    "2": "24"
                                },
                                {
                                    "0": "Santos Outer Anchorage",
                                    "1": "8137261",
                                    "2": "447"
                                },
                                {
                                    "0": "Santos Quarantine Anchorage",
                                    "1": "300060",
                                    "2": "18"
                                },
                                {
                                    "0": "Sao Sebastiao",
                                    "1": "59669",
                                    "2": "4"
                                },
                                {
                                    "0": "Sao Sebastiao North Anchorage",
                                    "1": "28220",
                                    "2": "2"
                                },
                                {
                                    "0": "Sao Sebastiao South Anchorage",
                                    "1": "17339",
                                    "2": "1"
                                },
                                {
                                    "0": "Saraylar",
                                    "1": "13695",
                                    "2": "1"
                                },
                                {
                                    "0": "Sarikei",
                                    "1": "51320",
                                    "2": "3"
                                },
                                {
                                    "0": "Satui Coal Anchorage A",
                                    "1": "621397",
                                    "2": "222"
                                },
                                {
                                    "0": "Saumlaki",
                                    "1": "28566",
                                    "2": "1"
                                },
                                {
                                    "0": "Savannah",
                                    "1": "3222858",
                                    "2": "113"
                                },
                                {
                                    "0": "Savona-Vado",
                                    "1": "682267",
                                    "2": "36"
                                },
                                {
                                    "0": "Savona-Vado Anchorage A",
                                    "1": "67594",
                                    "2": "4"
                                },
                                {
                                    "0": "Savona-Vado Anchorage B",
                                    "1": "18781",
                                    "2": "1"
                                },
                                {
                                    "0": "Savona-Vado Anchorage C",
                                    "1": "40038",
                                    "2": "2"
                                },
                                {
                                    "0": "Savona-Vado Anchorage D",
                                    "1": "68199",
                                    "2": "3"
                                },
                                {
                                    "0": "Savona-Vado Anchorage E",
                                    "1": "104695",
                                    "2": "6"
                                },
                                {
                                    "0": "Scheveningen",
                                    "1": "20139",
                                    "2": "1"
                                },
                                {
                                    "0": "Schouwenbank Anchorage",
                                    "1": "5960159",
                                    "2": "305"
                                },
                                {
                                    "0": "Seattle",
                                    "1": "76609",
                                    "2": "4"
                                },
                                {
                                    "0": "Seibu Oil Sea Berth",
                                    "1": "41449",
                                    "2": "2"
                                },
                                {
                                    "0": "Seine Approach Anchorage",
                                    "1": "72946",
                                    "2": "4"
                                },
                                {
                                    "0": "Selaata",
                                    "1": "17372",
                                    "2": "1"
                                },
                                {
                                    "0": "Senboku",
                                    "1": "5315364",
                                    "2": "388"
                                },
                                {
                                    "0": "Senboku Anchorage",
                                    "1": "815375",
                                    "2": "59"
                                },
                                {
                                    "0": "Senbong",
                                    "1": "14868",
                                    "2": "1"
                                },
                                {
                                    "0": "Sendai",
                                    "1": "35288",
                                    "2": "8"
                                },
                                {
                                    "0": "Sendai Anchorage",
                                    "1": "18345",
                                    "2": "3"
                                },
                                {
                                    "0": "Sete",
                                    "1": "436362",
                                    "2": "31"
                                },
                                {
                                    "0": "Sete Anchorage",
                                    "1": "93044",
                                    "2": "8"
                                },
                                {
                                    "0": "Setubal",
                                    "1": "352769",
                                    "2": "20"
                                },
                                {
                                    "0": "Setubal Military & Commercial Anchorage",
                                    "1": "111569",
                                    "2": "7"
                                },
                                {
                                    "0": "Seville",
                                    "1": "17245",
                                    "2": "1"
                                },
                                {
                                    "0": "Sha Lung Oil Terminal",
                                    "1": "21106",
                                    "2": "1"
                                },
                                {
                                    "0": "Shahid Rajaee",
                                    "1": "275804",
                                    "2": "15"
                                },
                                {
                                    "0": "Shahid Rajaee Anchorage",
                                    "1": "33430",
                                    "2": "2"
                                },
                                {
                                    "0": "Shanghai",
                                    "1": "17206590",
                                    "2": "977"
                                },
                                {
                                    "0": "Shanghai Changxing Island",
                                    "1": "234502",
                                    "2": "12"
                                },
                                {
                                    "0": "Shanghai Wusong Estuary Anchorage",
                                    "1": "112071",
                                    "2": "7"
                                },
                                {
                                    "0": "Shanhaiguan",
                                    "1": "282372",
                                    "2": "18"
                                },
                                {
                                    "0": "Shanhaiguan Shipyard Anchorage",
                                    "1": "49182",
                                    "2": "3"
                                },
                                {
                                    "0": "Shanwei Lightering Anchorage",
                                    "1": "21059",
                                    "2": "1"
                                },
                                {
                                    "0": "Sharjah",
                                    "1": "1530667",
                                    "2": "87"
                                },
                                {
                                    "0": "Sharjah Anchorage",
                                    "1": "2988238",
                                    "2": "168"
                                },
                                {
                                    "0": "Sheerness",
                                    "1": "1836046",
                                    "2": "121"
                                },
                                {
                                    "0": "Shenhu",
                                    "1": "40276",
                                    "2": "2"
                                },
                                {
                                    "0": "Shi Wei",
                                    "1": "28100",
                                    "2": "1"
                                },
                                {
                                    "0": "Shihu Anchorage",
                                    "1": "45927",
                                    "2": "7"
                                },
                                {
                                    "0": "Shilong",
                                    "1": "17709",
                                    "2": "1"
                                },
                                {
                                    "0": "Shimizu",
                                    "1": "85149",
                                    "2": "5"
                                },
                                {
                                    "0": "Shimonoseki",
                                    "1": "882181",
                                    "2": "53"
                                },
                                {
                                    "0": "Shimonoseki Inner Anchorage",
                                    "1": "15536",
                                    "2": "1"
                                },
                                {
                                    "0": "Shimonoseki New Port",
                                    "1": "50109",
                                    "2": "3"
                                },
                                {
                                    "0": "Shimonoseki Outer Anchorage",
                                    "1": "2119498",
                                    "2": "124"
                                },
                                {
                                    "0": "Shimonoseki Quarantine Anchorage",
                                    "1": "90977",
                                    "2": "5"
                                },
                                {
                                    "0": "Shimotsu Anchorage",
                                    "1": "163906",
                                    "2": "10"
                                },
                                {
                                    "0": "Shin-Moji Anchorage",
                                    "1": "37390",
                                    "2": "6"
                                },
                                {
                                    "0": "Shuaiba",
                                    "1": "178360",
                                    "2": "9"
                                },
                                {
                                    "0": "Shuaiba Outer Harbour Anchorage",
                                    "1": "118020",
                                    "2": "6"
                                },
                                {
                                    "0": "Shui Dong",
                                    "1": "18376",
                                    "2": "1"
                                },
                                {
                                    "0": "Shui Dong SBM Anchorage",
                                    "1": "15031",
                                    "2": "1"
                                },
                                {
                                    "0": "Shuwaikh",
                                    "1": "6415008",
                                    "2": "351"
                                },
                                {
                                    "0": "Shuwaikh Anchorage B",
                                    "1": "323029",
                                    "2": "19"
                                },
                                {
                                    "0": "Shuwaikh Anchorage C",
                                    "1": "5492829",
                                    "2": "298"
                                },
                                {
                                    "0": "Shuwaikh Anchorage D",
                                    "1": "1227580",
                                    "2": "64"
                                },
                                {
                                    "0": "Shuwaikh Anchorage E",
                                    "1": "858428",
                                    "2": "45"
                                },
                                {
                                    "0": "Sidi Kerir Terminal",
                                    "1": "25765",
                                    "2": "1"
                                },
                                {
                                    "0": "Sines Anchorage",
                                    "1": "14342",
                                    "2": "1"
                                },
                                {
                                    "0": "Singapore",
                                    "1": "33252209",
                                    "2": "1954"
                                },
                                {
                                    "0": "Singapore Eastern Anchorage (AEW)",
                                    "1": "1322272",
                                    "2": "87"
                                },
                                {
                                    "0": "Singapore Eastern Bunkering A Anchorage (AEBA)",
                                    "1": "265840",
                                    "2": "17"
                                },
                                {
                                    "0": "Singapore Eastern Bunkering B Anchorage (AEBB)",
                                    "1": "798402",
                                    "2": "46"
                                },
                                {
                                    "0": "Singapore Eastern Bunkering C Anchorage (AEBC)",
                                    "1": "2195438",
                                    "2": "125"
                                },
                                {
                                    "0": "Singapore Eastern Holding A Anchorage (AEHA)",
                                    "1": "357232",
                                    "2": "19"
                                },
                                {
                                    "0": "Singapore Eastern Holding B Anchorage (AEHB)",
                                    "1": "619441",
                                    "2": "45"
                                },
                                {
                                    "0": "Singapore Eastern Petroleum A Anchorage (AEPA)",
                                    "1": "162536",
                                    "2": "9"
                                },
                                {
                                    "0": "Singapore Eastern Petroleum C Anchorage (AEPBC)",
                                    "1": "49284",
                                    "2": "4"
                                },
                                {
                                    "0": "Singapore Eastern Special Purposes A Anchorage (AESPA)",
                                    "1": "1917509",
                                    "2": "109"
                                },
                                {
                                    "0": "Singapore EOPL Anchorage",
                                    "1": "904767",
                                    "2": "53"
                                },
                                {
                                    "0": "Singapore Horsburgh Anchorage",
                                    "1": "2357450",
                                    "2": "145"
                                },
                                {
                                    "0": "Singapore LNG/LPG/Chemical Gas Carrier Anchorage (ALGAS)",
                                    "1": "7014",
                                    "2": "1"
                                },
                                {
                                    "0": "Singapore Man-of-War Anchorage (AMOW)",
                                    "1": "24600",
                                    "2": "2"
                                },
                                {
                                    "0": "Singapore Nipa Transit Anchorage",
                                    "1": "104670",
                                    "2": "11"
                                },
                                {
                                    "0": "Singapore Pasir Panjang Holding Anchorage",
                                    "1": "21349",
                                    "2": "1"
                                },
                                {
                                    "0": "Singapore Raffles Reserved Anchorage (ARAFR)",
                                    "1": "17386",
                                    "2": "1"
                                },
                                {
                                    "0": "Singapore Sudong Bunkering A Anchorage (ASUBA)",
                                    "1": "7014",
                                    "2": "1"
                                },
                                {
                                    "0": "Singapore Sudong Holding Anchorage (ASH)",
                                    "1": "74432",
                                    "2": "4"
                                },
                                {
                                    "0": "Singapore Very Large Crude Carrier Anchorage (AVLCC)",
                                    "1": "7014",
                                    "2": "1"
                                },
                                {
                                    "0": "Singapore Western Anchorage (AWW)",
                                    "1": "254601",
                                    "2": "15"
                                },
                                {
                                    "0": "Singapore Western Holding Anchorage (AWH)",
                                    "1": "70322",
                                    "2": "4"
                                },
                                {
                                    "0": "Singapore Western Petroleum A Anchorage (AWPA)",
                                    "1": "55241",
                                    "2": "3"
                                },
                                {
                                    "0": "Singapore Western Petroleum B Anchorage (AWPB)",
                                    "1": "284145",
                                    "2": "16"
                                },
                                {
                                    "0": "Singapore Western Quarantine and Immigration Anchorage (AWQI)",
                                    "1": "234737",
                                    "2": "15"
                                },
                                {
                                    "0": "Singapore WOPL Anchorage",
                                    "1": "2653420",
                                    "2": "180"
                                },
                                {
                                    "0": "Sintete",
                                    "1": "20138",
                                    "2": "1"
                                },
                                {
                                    "0": "Sitra Explosives Anchorage",
                                    "1": "830974",
                                    "2": "47"
                                },
                                {
                                    "0": "Sitra Inner Anchorage",
                                    "1": "12352",
                                    "2": "1"
                                },
                                {
                                    "0": "Sitra Outer Anchorages A1 to A4",
                                    "1": "1552072",
                                    "2": "86"
                                },
                                {
                                    "0": "Sitra Outer Anchorages B1 to B7",
                                    "1": "136472",
                                    "2": "9"
                                },
                                {
                                    "0": "Skagen Anchorage",
                                    "1": "380950",
                                    "2": "17"
                                },
                                {
                                    "0": "Slavyanka",
                                    "1": "974",
                                    "2": "1"
                                },
                                {
                                    "0": "Slavyanka Anchorages",
                                    "1": "1948",
                                    "2": "2"
                                },
                                {
                                    "0": "Smith's Bluff",
                                    "1": "78680",
                                    "2": "4"
                                },
                                {
                                    "0": "Sochi",
                                    "1": "10834",
                                    "2": "1"
                                },
                                {
                                    "0": "Sohar",
                                    "1": "4469947",
                                    "2": "250"
                                },
                                {
                                    "0": "Sohar Anchorage A",
                                    "1": "977877",
                                    "2": "54"
                                },
                                {
                                    "0": "Sohar Anchorage B",
                                    "1": "250732",
                                    "2": "13"
                                },
                                {
                                    "0": "Song Xia",
                                    "1": "12500",
                                    "2": "1"
                                },
                                {
                                    "0": "Song Xia Anchorage",
                                    "1": "21005",
                                    "2": "1"
                                },
                                {
                                    "0": "South Falls Head Anchorage",
                                    "1": "1221189",
                                    "2": "68"
                                },
                                {
                                    "0": "South Sabine Point",
                                    "1": "4155264",
                                    "2": "207"
                                },
                                {
                                    "0": "South Sabine Point Western Extension",
                                    "1": "290140",
                                    "2": "14"
                                },
                                {
                                    "0": "Southampton",
                                    "1": "9905428",
                                    "2": "459"
                                },
                                {
                                    "0": "Southend Deep Water Anchorage",
                                    "1": "55407",
                                    "2": "3"
                                },
                                {
                                    "0": "Southtex",
                                    "1": "1821507",
                                    "2": "97"
                                },
                                {
                                    "0": "Southwold STS",
                                    "1": "41297",
                                    "2": "2"
                                },
                                {
                                    "0": "Split",
                                    "1": "20180",
                                    "2": "1"
                                },
                                {
                                    "0": "Springergeul Anchorage",
                                    "1": "39761",
                                    "2": "2"
                                },
                                {
                                    "0": "Sriracha Oil Terminals",
                                    "1": "211038",
                                    "2": "13"
                                },
                                {
                                    "0": "Sriracha Oil Terminals Anchorage",
                                    "1": "235578",
                                    "2": "12"
                                },
                                {
                                    "0": "Sriracha Oil Terminals Western Petroleum and Lightening Anchorage Area",
                                    "1": "12500",
                                    "2": "1"
                                },
                                {
                                    "0": "St George's (Bermuda)",
                                    "1": "21503",
                                    "2": "1"
                                },
                                {
                                    "0": "St George's (Bermuda) Anchorage",
                                    "1": "77011",
                                    "2": "4"
                                },
                                {
                                    "0": "St John's (Antigua)",
                                    "1": "245329",
                                    "2": "17"
                                },
                                {
                                    "0": "St Marc",
                                    "1": "30999",
                                    "2": "2"
                                },
                                {
                                    "0": "St Petersburg",
                                    "1": "21000",
                                    "2": "1"
                                },
                                {
                                    "0": "Strasbourg",
                                    "1": "16493",
                                    "2": "1"
                                },
                                {
                                    "0": "Su-Ao",
                                    "1": "46998",
                                    "2": "3"
                                },
                                {
                                    "0": "Suape",
                                    "1": "292471",
                                    "2": "17"
                                },
                                {
                                    "0": "Suape Anchorage",
                                    "1": "332125",
                                    "2": "19"
                                },
                                {
                                    "0": "Suape Marine Terminal",
                                    "1": "65058",
                                    "2": "4"
                                },
                                {
                                    "0": "Subic Bay",
                                    "1": "20682",
                                    "2": "2"
                                },
                                {
                                    "0": "Subic Bay Anchorages",
                                    "1": "18626",
                                    "2": "2"
                                },
                                {
                                    "0": "Sudong Bunkering A Anchorage (ASUBA)",
                                    "1": "15461",
                                    "2": "1"
                                },
                                {
                                    "0": "Sudong Bunkering B Anchorage (ASUBB)",
                                    "1": "20190",
                                    "2": "1"
                                },
                                {
                                    "0": "Sudong Explosive Anchorage (ASUEX)",
                                    "1": "42328",
                                    "2": "2"
                                },
                                {
                                    "0": "Sudong Holding Anchorage (ASH)",
                                    "1": "67581",
                                    "2": "4"
                                },
                                {
                                    "0": "Suez",
                                    "1": "5356725",
                                    "2": "274"
                                },
                                {
                                    "0": "Suez Bay Anchorage 1A - 10A",
                                    "1": "3056321",
                                    "2": "159"
                                },
                                {
                                    "0": "Suez Bay Anchorage 1C - 5C",
                                    "1": "42555",
                                    "2": "2"
                                },
                                {
                                    "0": "Suez Bay Anchorage 1D - 6D",
                                    "1": "399739",
                                    "2": "20"
                                },
                                {
                                    "0": "Suez Bay Eastern Channel Anchorage",
                                    "1": "13954",
                                    "2": "1"
                                },
                                {
                                    "0": "Suez Bay Outer Anchorage 1 - 29",
                                    "1": "10226123",
                                    "2": "513"
                                },
                                {
                                    "0": "Suez Canal",
                                    "1": "8678530",
                                    "2": "436"
                                },
                                {
                                    "0": "Sungai Linggi",
                                    "1": "34785",
                                    "2": "2"
                                },
                                {
                                    "0": "Sungai Pakning",
                                    "1": "42592",
                                    "2": "16"
                                },
                                {
                                    "0": "Sunk Deep Water Anchorage",
                                    "1": "40690",
                                    "2": "2"
                                },
                                {
                                    "0": "Susaki",
                                    "1": "15154",
                                    "2": "1"
                                },
                                {
                                    "0": "Suva",
                                    "1": "467418",
                                    "2": "27"
                                },
                                {
                                    "0": "Suva Medical Examination Anchorage",
                                    "1": "250906",
                                    "2": "14"
                                },
                                {
                                    "0": "Swinoujscie",
                                    "1": "18922",
                                    "2": "1"
                                },
                                {
                                    "0": "Taboneo Anchorages",
                                    "1": "1166169",
                                    "2": "374"
                                },
                                {
                                    "0": "Tacoma",
                                    "1": "4808937",
                                    "2": "262"
                                },
                                {
                                    "0": "Tacoma Anchorage",
                                    "1": "3236875",
                                    "2": "176"
                                },
                                {
                                    "0": "Taicang",
                                    "1": "191222",
                                    "2": "10"
                                },
                                {
                                    "0": "Taicang Dangerous Goods Anchorage",
                                    "1": "13363",
                                    "2": "1"
                                },
                                {
                                    "0": "Taicang Ocean Liners Anchorage",
                                    "1": "130339",
                                    "2": "7"
                                },
                                {
                                    "0": "Taichung",
                                    "1": "154858",
                                    "2": "8"
                                },
                                {
                                    "0": "Taichung Anchorage",
                                    "1": "141490",
                                    "2": "7"
                                },
                                {
                                    "0": "Taipei",
                                    "1": "3680678",
                                    "2": "208"
                                },
                                {
                                    "0": "Taipei Anchorage",
                                    "1": "869592",
                                    "2": "52"
                                },
                                {
                                    "0": "Taizhou",
                                    "1": "6561",
                                    "2": "1"
                                },
                                {
                                    "0": "Takamatsu",
                                    "1": "17143",
                                    "2": "1"
                                },
                                {
                                    "0": "Takehara",
                                    "1": "25629",
                                    "2": "2"
                                },
                                {
                                    "0": "Takoradi Anchorage",
                                    "1": "190634",
                                    "2": "11"
                                },
                                {
                                    "0": "Tampa",
                                    "1": "453149",
                                    "2": "33"
                                },
                                {
                                    "0": "Tanabe",
                                    "1": "17386",
                                    "2": "1"
                                },
                                {
                                    "0": "Tanauan",
                                    "1": "15154",
                                    "2": "1"
                                },
                                {
                                    "0": "Tangier-Mediterranean",
                                    "1": "281149",
                                    "2": "16"
                                },
                                {
                                    "0": "Tangier-Mediterranean Anchorage",
                                    "1": "225304",
                                    "2": "14"
                                },
                                {
                                    "0": "Tangier-Mediterranean NE Harbour",
                                    "1": "398758",
                                    "2": "25"
                                },
                                {
                                    "0": "Tangshan Anchorage No. 4",
                                    "1": "72619",
                                    "2": "3"
                                },
                                {
                                    "0": "Tangshan Anchorage No. 5",
                                    "1": "142500",
                                    "2": "8"
                                },
                                {
                                    "0": "Tanjung Emas",
                                    "1": "29781",
                                    "2": "4"
                                },
                                {
                                    "0": "Tanjung Emas Anchorage",
                                    "1": "43716",
                                    "2": "6"
                                },
                                {
                                    "0": "Tanjung Intan",
                                    "1": "4979",
                                    "2": "1"
                                },
                                {
                                    "0": "Tanjung Intan Anchorage",
                                    "1": "4979",
                                    "2": "1"
                                },
                                {
                                    "0": "Tanjung Pelepas General Purpose Anchorage",
                                    "1": "2662",
                                    "2": "1"
                                },
                                {
                                    "0": "Tanjung Perak",
                                    "1": "244015",
                                    "2": "91"
                                },
                                {
                                    "0": "Tanjung Perak Anchorage",
                                    "1": "233621",
                                    "2": "87"
                                },
                                {
                                    "0": "Tanjung Perak Inner Anchorages",
                                    "1": "190535",
                                    "2": "74"
                                },
                                {
                                    "0": "Tanjung Peutang",
                                    "1": "2618",
                                    "2": "1"
                                },
                                {
                                    "0": "Tanjung Priok",
                                    "1": "4817305",
                                    "2": "779"
                                },
                                {
                                    "0": "Tanjung Priok Anchorage",
                                    "1": "7758005",
                                    "2": "1322"
                                },
                                {
                                    "0": "Tarakan Island",
                                    "1": "20056",
                                    "2": "1"
                                },
                                {
                                    "0": "Tarragona",
                                    "1": "741611",
                                    "2": "46"
                                },
                                {
                                    "0": "Tarragona Anchorage",
                                    "1": "62810",
                                    "2": "5"
                                },
                                {
                                    "0": "Teesport Approach Anchorage",
                                    "1": "880562",
                                    "2": "43"
                                },
                                {
                                    "0": "Tema",
                                    "1": "2546259",
                                    "2": "151"
                                },
                                {
                                    "0": "Tema Anchorage",
                                    "1": "3591035",
                                    "2": "210"
                                },
                                {
                                    "0": "Tema Tanker Anchorage",
                                    "1": "296068",
                                    "2": "16"
                                },
                                {
                                    "0": "Termini Imerese Anchorage",
                                    "1": "15681",
                                    "2": "1"
                                },
                                {
                                    "0": "Termoli",
                                    "1": "10600",
                                    "2": "1"
                                },
                                {
                                    "0": "Terneuzen",
                                    "1": "5238885",
                                    "2": "275"
                                },
                                {
                                    "0": "Thilawa",
                                    "1": "886214",
                                    "2": "78"
                                },
                                {
                                    "0": "Thira Anchorage East",
                                    "1": "19045",
                                    "2": "1"
                                },
                                {
                                    "0": "Thunder Bay",
                                    "1": "22815",
                                    "2": "1"
                                },
                                {
                                    "0": "Tianjin",
                                    "1": "10603416",
                                    "2": "624"
                                },
                                {
                                    "0": "Tianjin Anchorage No 6",
                                    "1": "12490",
                                    "2": "1"
                                },
                                {
                                    "0": "Tianzhen",
                                    "1": "20190",
                                    "2": "1"
                                },
                                {
                                    "0": "Tilbury",
                                    "1": "1274800",
                                    "2": "62"
                                },
                                {
                                    "0": "Tin Can Island",
                                    "1": "2486231",
                                    "2": "141"
                                },
                                {
                                    "0": "Toamasina",
                                    "1": "1057428",
                                    "2": "49"
                                },
                                {
                                    "0": "Toamasina Anchorage",
                                    "1": "732924",
                                    "2": "33"
                                },
                                {
                                    "0": "Tobata",
                                    "1": "16890",
                                    "2": "1"
                                },
                                {
                                    "0": "Tobruk",
                                    "1": "48470",
                                    "2": "5"
                                },
                                {
                                    "0": "Tobruk and Marsa El Brega Anchorage",
                                    "1": "38776",
                                    "2": "4"
                                },
                                {
                                    "0": "Tokuyama Anchorage",
                                    "1": "103629",
                                    "2": "6"
                                },
                                {
                                    "0": "Tokuyama Quarantine Anchorage",
                                    "1": "15031",
                                    "2": "1"
                                },
                                {
                                    "0": "Tokyo",
                                    "1": "225292",
                                    "2": "8"
                                },
                                {
                                    "0": "Tokyo Anchorage",
                                    "1": "1545122",
                                    "2": "79"
                                },
                                {
                                    "0": "Tomakomai",
                                    "1": "176403",
                                    "2": "10"
                                },
                                {
                                    "0": "Tomakomai Anchorage",
                                    "1": "291722",
                                    "2": "18"
                                },
                                {
                                    "0": "Tongshan",
                                    "1": "12315",
                                    "2": "1"
                                },
                                {
                                    "0": "Tongue DW Anchorage - Hazardous Cargoes",
                                    "1": "40112",
                                    "2": "2"
                                },
                                {
                                    "0": "Tongue DW Anchorage - Non-Hazardous Cargoes",
                                    "1": "676962",
                                    "2": "39"
                                },
                                {
                                    "0": "Torbay Harbour Deep Water Anchorage",
                                    "1": "154174",
                                    "2": "9"
                                },
                                {
                                    "0": "Torres Strait & Great Barrier Reef",
                                    "1": "1057623",
                                    "2": "65"
                                },
                                {
                                    "0": "Townsville",
                                    "1": "1222429",
                                    "2": "71"
                                },
                                {
                                    "0": "Townsville Anchorage",
                                    "1": "1207122",
                                    "2": "71"
                                },
                                {
                                    "0": "Toyama",
                                    "1": "74998",
                                    "2": "77"
                                },
                                {
                                    "0": "Toyohashi",
                                    "1": "12682772",
                                    "2": "726"
                                },
                                {
                                    "0": "Trieste",
                                    "1": "24988",
                                    "2": "2"
                                },
                                {
                                    "0": "Tripoli (Libya)",
                                    "1": "158820",
                                    "2": "9"
                                },
                                {
                                    "0": "Tripoli (Libya) Anchorage",
                                    "1": "103894",
                                    "2": "5"
                                },
                                {
                                    "0": "Tsumatsusaka (Tsu)",
                                    "1": "27321",
                                    "2": "2"
                                },
                                {
                                    "0": "Tsuruga Outer Anchorage",
                                    "1": "21462",
                                    "2": "1"
                                },
                                {
                                    "0": "Tuban",
                                    "1": "127093",
                                    "2": "46"
                                },
                                {
                                    "0": "Tubarao Anchorage No1",
                                    "1": "708418",
                                    "2": "36"
                                },
                                {
                                    "0": "Tubarao Anchorage No2",
                                    "1": "1940960",
                                    "2": "105"
                                },
                                {
                                    "0": "Tubarao Anchorage No3",
                                    "1": "3398959",
                                    "2": "180"
                                },
                                {
                                    "0": "Tuen Mun",
                                    "1": "7894",
                                    "2": "1"
                                },
                                {
                                    "0": "Tuzla",
                                    "1": "29199",
                                    "2": "2"
                                },
                                {
                                    "0": "Tuzla Anchorage",
                                    "1": "50824",
                                    "2": "4"
                                },
                                {
                                    "0": "Twielenfleth Reede Anchorage",
                                    "1": "17339",
                                    "2": "1"
                                },
                                {
                                    "0": "Tyne",
                                    "1": "935230",
                                    "2": "46"
                                },
                                {
                                    "0": "Ube Quarantine Anchorage",
                                    "1": "6290126",
                                    "2": "387"
                                },
                                {
                                    "0": "Uchiura",
                                    "1": "3896",
                                    "2": "4"
                                },
                                {
                                    "0": "Uddevalla",
                                    "1": "196133",
                                    "2": "13"
                                },
                                {
                                    "0": "Ukishima",
                                    "1": "77634",
                                    "2": "5"
                                },
                                {
                                    "0": "Ulsan",
                                    "1": "16992043",
                                    "2": "953"
                                },
                                {
                                    "0": "Ulsan Anchorage",
                                    "1": "595822",
                                    "2": "36"
                                },
                                {
                                    "0": "Ulsan Hyundai",
                                    "1": "2163785",
                                    "2": "122"
                                },
                                {
                                    "0": "Umm Qasr",
                                    "1": "733669",
                                    "2": "43"
                                },
                                {
                                    "0": "Umm Qasr Anchorage",
                                    "1": "193264",
                                    "2": "12"
                                },
                                {
                                    "0": "Upper Vancouver Anchorage",
                                    "1": "20180",
                                    "2": "1"
                                },
                                {
                                    "0": "Usan Terminal",
                                    "1": "109456",
                                    "2": "7"
                                },
                                {
                                    "0": "Ust-Luga",
                                    "1": "17738",
                                    "2": "1"
                                },
                                {
                                    "0": "Ust-Luga Anchorage No 10A",
                                    "1": "17738",
                                    "2": "1"
                                },
                                {
                                    "0": "Valencia",
                                    "1": "727240",
                                    "2": "48"
                                },
                                {
                                    "0": "Valencia Anchorages",
                                    "1": "288589",
                                    "2": "17"
                                },
                                {
                                    "0": "Valletta",
                                    "1": "307637",
                                    "2": "17"
                                },
                                {
                                    "0": "Valletta Anchorage",
                                    "1": "7787055",
                                    "2": "409"
                                },
                                {
                                    "0": "Valletta Bunkering Anchorage 1",
                                    "1": "22221",
                                    "2": "2"
                                },
                                {
                                    "0": "Valletta Bunkering Anchorage 6",
                                    "1": "9694",
                                    "2": "1"
                                },
                                {
                                    "0": "Valparaiso",
                                    "1": "1932358",
                                    "2": "120"
                                },
                                {
                                    "0": "Valparaiso Anchorage",
                                    "1": "1533797",
                                    "2": "96"
                                },
                                {
                                    "0": "Vancouver - English Bay Anchorages",
                                    "1": "430692",
                                    "2": "23"
                                },
                                {
                                    "0": "Vancouver (USA)",
                                    "1": "1674000",
                                    "2": "102"
                                },
                                {
                                    "0": "Vancouver (USA) Anchorage",
                                    "1": "28220",
                                    "2": "2"
                                },
                                {
                                    "0": "Vancouver Harbour Anchorage",
                                    "1": "558943",
                                    "2": "25"
                                },
                                {
                                    "0": "Vancouver Outer Anchorage",
                                    "1": "712153",
                                    "2": "42"
                                },
                                {
                                    "0": "Venice",
                                    "1": "20434",
                                    "2": "1"
                                },
                                {
                                    "0": "Veracruz",
                                    "1": "6619149",
                                    "2": "401"
                                },
                                {
                                    "0": "Veracruz Anchorage",
                                    "1": "4097330",
                                    "2": "251"
                                },
                                {
                                    "0": "Very Large Crude Carrier Anchorage (AVLCC)",
                                    "1": "65429",
                                    "2": "5"
                                },
                                {
                                    "0": "Vigo",
                                    "1": "2036360",
                                    "2": "153"
                                },
                                {
                                    "0": "Vigo Anchorage",
                                    "1": "733655",
                                    "2": "53"
                                },
                                {
                                    "0": "Vigo Inner Anchorage",
                                    "1": "201570",
                                    "2": "12"
                                },
                                {
                                    "0": "Villefranche",
                                    "1": "12490",
                                    "2": "1"
                                },
                                {
                                    "0": "Vitoria",
                                    "1": "2408846",
                                    "2": "125"
                                },
                                {
                                    "0": "Vlaardingen",
                                    "1": "24942",
                                    "2": "2"
                                },
                                {
                                    "0": "Vladivostok",
                                    "1": "732025",
                                    "2": "162"
                                },
                                {
                                    "0": "Vladivostok Anchorage",
                                    "1": "211422",
                                    "2": "16"
                                },
                                {
                                    "0": "Vladivostok Anchorage No. 164A",
                                    "1": "2922",
                                    "2": "3"
                                },
                                {
                                    "0": "Vladivostok Anchorage No. 175a",
                                    "1": "13289",
                                    "2": "2"
                                },
                                {
                                    "0": "Vlissingen",
                                    "1": "7613928",
                                    "2": "400"
                                },
                                {
                                    "0": "Vostochny Bunkering Anchorage",
                                    "1": "81773",
                                    "2": "4"
                                },
                                {
                                    "0": "Vung Tau Anchorage",
                                    "1": "541047",
                                    "2": "39"
                                },
                                {
                                    "0": "Wada",
                                    "1": "15522",
                                    "2": "1"
                                },
                                {
                                    "0": "Wakayama Anchorage No 2",
                                    "1": "36894",
                                    "2": "2"
                                },
                                {
                                    "0": "Wallhamn",
                                    "1": "1251415",
                                    "2": "55"
                                },
                                {
                                    "0": "Walvis Bay",
                                    "1": "920213",
                                    "2": "52"
                                },
                                {
                                    "0": "Walvis Bay Anchorages",
                                    "1": "1107624",
                                    "2": "64"
                                },
                                {
                                    "0": "Wandelaar Pilot Boarding Area",
                                    "1": "1042695",
                                    "2": "50"
                                },
                                {
                                    "0": "Wanger Reede Anchorage",
                                    "1": "20138",
                                    "2": "1"
                                },
                                {
                                    "0": "Weifang",
                                    "1": "18334",
                                    "2": "1"
                                },
                                {
                                    "0": "Weifang Anchorage No 3",
                                    "1": "20144",
                                    "2": "1"
                                },
                                {
                                    "0": "Weipa Anchor Berths",
                                    "1": "17245",
                                    "2": "1"
                                },
                                {
                                    "0": "Weitou",
                                    "1": "13241",
                                    "2": "1"
                                },
                                {
                                    "0": "Wellington",
                                    "1": "1612658",
                                    "2": "108"
                                },
                                {
                                    "0": "Wellington Explosives Anchorage",
                                    "1": "44718",
                                    "2": "3"
                                },
                                {
                                    "0": "Wellington Inner Anchorage",
                                    "1": "746983",
                                    "2": "51"
                                },
                                {
                                    "0": "West Hinder Anchorage",
                                    "1": "8092186",
                                    "2": "415"
                                },
                                {
                                    "0": "West Java LNG Terminal",
                                    "1": "28762",
                                    "2": "2"
                                },
                                {
                                    "0": "West Jurong Anchorage (AWJ)",
                                    "1": "41943",
                                    "2": "5"
                                },
                                {
                                    "0": "Western Anchorage (AWW)",
                                    "1": "1743193",
                                    "2": "109"
                                },
                                {
                                    "0": "Western Holding Anchorage (AWH)",
                                    "1": "249905",
                                    "2": "15"
                                },
                                {
                                    "0": "Western Petroleum A Anchorage (AWPA)",
                                    "1": "104015",
                                    "2": "7"
                                },
                                {
                                    "0": "Western Petroleum B Anchorage (AWPB)",
                                    "1": "669039",
                                    "2": "40"
                                },
                                {
                                    "0": "Western Quarantine and Immigration Anchorage (AWQI)",
                                    "1": "617246",
                                    "2": "39"
                                },
                                {
                                    "0": "Westport (Malaysia)",
                                    "1": "3117157",
                                    "2": "207"
                                },
                                {
                                    "0": "Whyalla",
                                    "1": "20407",
                                    "2": "1"
                                },
                                {
                                    "0": "Widuri Marine Terminal",
                                    "1": "345144",
                                    "2": "24"
                                },
                                {
                                    "0": "Wielingen Noord Anchorage",
                                    "1": "27352",
                                    "2": "1"
                                },
                                {
                                    "0": "Wielingen Zuid Anchorage",
                                    "1": "46112",
                                    "2": "2"
                                },
                                {
                                    "0": "Wilhelmshaven",
                                    "1": "28173",
                                    "2": "2"
                                },
                                {
                                    "0": "Willemstad",
                                    "1": "1327222",
                                    "2": "77"
                                },
                                {
                                    "0": "Wilmington (USA-Delaware)",
                                    "1": "1270878",
                                    "2": "63"
                                },
                                {
                                    "0": "Wilmington (USA-N Carolina)",
                                    "1": "25549",
                                    "2": "2"
                                },
                                {
                                    "0": "Wismar",
                                    "1": "20138",
                                    "2": "1"
                                },
                                {
                                    "0": "Woodbridge Bay",
                                    "1": "60077",
                                    "2": "3"
                                },
                                {
                                    "0": "Wrest Java LNG Terminal",
                                    "1": "43143",
                                    "2": "3"
                                },
                                {
                                    "0": "Wuhu",
                                    "1": "18638",
                                    "2": "1"
                                },
                                {
                                    "0": "Xiahai",
                                    "1": "21120",
                                    "2": "1"
                                },
                                {
                                    "0": "Xiamen",
                                    "1": "972586",
                                    "2": "59"
                                },
                                {
                                    "0": "Xiamen No 1 Anchorage",
                                    "1": "2170645",
                                    "2": "148"
                                },
                                {
                                    "0": "Xiamen No 4 Quarantine Anchorage",
                                    "1": "12200",
                                    "2": "1"
                                },
                                {
                                    "0": "Xiazhimen Crude Oil Lightering Anchorage",
                                    "1": "38467",
                                    "2": "2"
                                },
                                {
                                    "0": "Xiazhimen Kou Ore Carrier Anchorage",
                                    "1": "877640",
                                    "2": "62"
                                },
                                {
                                    "0": "Xiazhimen Kouwai Tanker Anchorage",
                                    "1": "1039241",
                                    "2": "62"
                                },
                                {
                                    "0": "Xiazhimen North Anchorage",
                                    "1": "1097962",
                                    "2": "62"
                                },
                                {
                                    "0": "Xiazhimen South Anchorage",
                                    "1": "1060141",
                                    "2": "74"
                                },
                                {
                                    "0": "Xinhe",
                                    "1": "203888",
                                    "2": "11"
                                },
                                {
                                    "0": "Xiongjiagou",
                                    "1": "17442",
                                    "2": "1"
                                },
                                {
                                    "0": "Xiuyu Anchorage No 2",
                                    "1": "13951",
                                    "2": "1"
                                },
                                {
                                    "0": "Xiuyu Outer Anchorage",
                                    "1": "50790",
                                    "2": "3"
                                },
                                {
                                    "0": "Xuzhou",
                                    "1": "12939",
                                    "2": "1"
                                },
                                {
                                    "0": "Yalova Anchorage",
                                    "1": "2150964",
                                    "2": "148"
                                },
                                {
                                    "0": "Yangjiang Anchorage No 1 - Large Vessels",
                                    "1": "20500",
                                    "2": "1"
                                },
                                {
                                    "0": "Yangkou",
                                    "1": "30970",
                                    "2": "2"
                                },
                                {
                                    "0": "Yangon",
                                    "1": "62766",
                                    "2": "7"
                                },
                                {
                                    "0": "Yangshan",
                                    "1": "231783",
                                    "2": "15"
                                },
                                {
                                    "0": "Yangshan Quarantine Anchorage",
                                    "1": "1008155",
                                    "2": "69"
                                },
                                {
                                    "0": "Yangzhou",
                                    "1": "14696",
                                    "2": "1"
                                },
                                {
                                    "0": "Yantai",
                                    "1": "979858",
                                    "2": "52"
                                },
                                {
                                    "0": "Yantai No 1 Anchorage",
                                    "1": "60371",
                                    "2": "7"
                                },
                                {
                                    "0": "Yantai No 2 Anchorage",
                                    "1": "404246",
                                    "2": "22"
                                },
                                {
                                    "0": "Yantai No 2 Quarantine Anchorage",
                                    "1": "50678",
                                    "2": "2"
                                },
                                {
                                    "0": "Yarimca Anchorage",
                                    "1": "165541",
                                    "2": "10"
                                },
                                {
                                    "0": "Yeyashan Joint Inspection Mooring Anchorage",
                                    "1": "15068",
                                    "2": "1"
                                },
                                {
                                    "0": "Yokkaichi",
                                    "1": "499789",
                                    "2": "107"
                                },
                                {
                                    "0": "Yokkaichi Anchorage",
                                    "1": "75721",
                                    "2": "22"
                                },
                                {
                                    "0": "Yokkaichi and Nagoya Outer Anchorage",
                                    "1": "36743966",
                                    "2": "2294"
                                },
                                {
                                    "0": "Yokkaichi SBMs",
                                    "1": "16275",
                                    "2": "7"
                                },
                                {
                                    "0": "Yokohama",
                                    "1": "29364480",
                                    "2": "1858"
                                },
                                {
                                    "0": "Yokohama Anchorage",
                                    "1": "29980766",
                                    "2": "1926"
                                },
                                {
                                    "0": "Yokosuka",
                                    "1": "2752702",
                                    "2": "165"
                                },
                                {
                                    "0": "Yokosuka Anchorage",
                                    "1": "1388707",
                                    "2": "82"
                                },
                                {
                                    "0": "Yonghung Power Station",
                                    "1": "17216",
                                    "2": "1"
                                },
                                {
                                    "0": "Yosu",
                                    "1": "42448",
                                    "2": "2"
                                },
                                {
                                    "0": "Yosu Anchorage",
                                    "1": "364311",
                                    "2": "21"
                                },
                                {
                                    "0": "Yosu Quarantine Anchorage D-1",
                                    "1": "167344",
                                    "2": "9"
                                },
                                {
                                    "0": "Yosu Quarantine Anchorage D-2",
                                    "1": "446425",
                                    "2": "28"
                                },
                                {
                                    "0": "Yuanyuansha Emergency Anchorage",
                                    "1": "52645",
                                    "2": "3"
                                },
                                {
                                    "0": "Yura",
                                    "1": "285404",
                                    "2": "18"
                                },
                                {
                                    "0": "Yuzhny No 357 Anchorage",
                                    "1": "12315",
                                    "2": "1"
                                },
                                {
                                    "0": "Zaanstad",
                                    "1": "164251",
                                    "2": "8"
                                },
                                {
                                    "0": "Zafiro Marine Terminal",
                                    "1": "21421",
                                    "2": "1"
                                },
                                {
                                    "0": "Zarate",
                                    "1": "3212285",
                                    "2": "185"
                                },
                                {
                                    "0": "Zarate Anchorage",
                                    "1": "227398",
                                    "2": "14"
                                },
                                {
                                    "0": "Zeebrugge",
                                    "1": "9536730",
                                    "2": "509"
                                },
                                {
                                    "0": "Zhangjia Port Tongsha Anchorage",
                                    "1": "34483",
                                    "2": "2"
                                },
                                {
                                    "0": "Zhangjiabu",
                                    "1": "21323",
                                    "2": "1"
                                },
                                {
                                    "0": "Zhangjiagang",
                                    "1": "539248",
                                    "2": "31"
                                },
                                {
                                    "0": "Zhangyan",
                                    "1": "20500",
                                    "2": "1"
                                },
                                {
                                    "0": "Zhanjiang",
                                    "1": "13695",
                                    "2": "1"
                                },
                                {
                                    "0": "Zhenjiang",
                                    "1": "6561",
                                    "2": "1"
                                },
                                {
                                    "0": "Zhongshan",
                                    "1": "20190",
                                    "2": "1"
                                },
                                {
                                    "0": "Zhoushan",
                                    "1": "1948291",
                                    "2": "120"
                                },
                                {
                                    "0": "Zhoushan Anchorage",
                                    "1": "224224",
                                    "2": "15"
                                },
                                {
                                    "0": "Zhoushan Tide and Berth Waiting Anchorage",
                                    "1": "21466",
                                    "2": "1"
                                },
                                {
                                    "0": "Zhuanghe",
                                    "1": "13695",
                                    "2": "1"
                                }
                            ]
                        },
                        "text/html": "<table><tr><th>portname</th><th>Gross Tonnage</th><th>Ship Count</th></tr><tr><td>Abidjan</td><td>1357098</td><td>76</td></tr><tr><td>Abidjan Anchorage</td><td>79589</td><td>4</td></tr><tr><td>Abidjan Inner Anchorage</td><td>719681</td><td>41</td></tr><tr><td>Abidjan Outer Anchorage</td><td>2366437</td><td>134</td></tr><tr><td>Abu Dhabi</td><td>4710973</td><td>259</td></tr><tr><td>Abu Dhabi Anchorage</td><td>293936</td><td>17</td></tr><tr><td>Abu Dhabi Anchorage S2</td><td>747065</td><td>43</td></tr><tr><td>Acajutla</td><td>756514</td><td>47</td></tr><tr><td>Acajutla Anchorage</td><td>168293</td><td>11</td></tr><tr><td>Acapulco</td><td>1705191</td><td>108</td></tr><tr><td>Adelaide</td><td>2139279</td><td>118</td></tr><tr><td>Aden</td><td>43246</td><td>2</td></tr><tr><td>Aioi</td><td>120792</td><td>7</td></tr><tr><td>Aioi Anchorage</td><td>110466</td><td>6</td></tr><tr><td>Aktau Anchorage Area No 126</td><td>15013</td><td>1</td></tr><tr><td>Al Basra Oil Terminal Anchorage A</td><td>12084</td><td>1</td></tr><tr><td>Al Basra Oil Terminal Anchorage B</td><td>268747</td><td>15</td></tr><tr><td>Al Shaheen Terminal</td><td>31928</td><td>2</td></tr><tr><td>Alabama Inland Ports</td><td>18082</td><td>1</td></tr><tr><td>Alang</td><td>21224</td><td>1</td></tr><tr><td>Alang Anchorage</td><td>70779</td><td>6</td></tr><tr><td>Al-Basra Oil Terminal</td><td>84856</td><td>5</td></tr><tr><td>Al-Basra Oil Terminal Anchorage A</td><td>113630</td><td>7</td></tr><tr><td>Al-Basra Oil Terminal Anchorage B</td><td>604717</td><td>36</td></tr><tr><td>Alexandria (Egypt)</td><td>1751664</td><td>87</td></tr><tr><td>Alexandria (Egypt) Anchorage</td><td>1945410</td><td>96</td></tr><tr><td>Alexandria LPG Anchorage</td><td>81218</td><td>4</td></tr><tr><td>Algeciras Anchorage A</td><td>12778</td><td>1</td></tr><tr><td>Algeciras Anchorage D</td><td>12527</td><td>1</td></tr><tr><td>Algeciras Bay Anchorage</td><td>144080</td><td>11</td></tr><tr><td>Alghero</td><td>16890</td><td>1</td></tr><tr><td>Aliaga</td><td>16493</td><td>1</td></tr><tr><td>Aliaga Anchorage No 7</td><td>16493</td><td>1</td></tr><tr><td>Alicante</td><td>12778</td><td>1</td></tr><tr><td>Altamira</td><td>918816</td><td>64</td></tr><tr><td>Altamira Anchorage No. 1</td><td>52534</td><td>3</td></tr><tr><td>Altamira Anchorage No. 2</td><td>131959</td><td>9</td></tr><tr><td>Amagasaki-Nishinomiya-Ashiya</td><td>554711</td><td>31</td></tr><tr><td>Amsterdam</td><td>1762761</td><td>105</td></tr><tr><td>Anchorage 32LD</td><td>13122</td><td>2</td></tr><tr><td>Annaba Anchorage</td><td>21276</td><td>1</td></tr><tr><td>Annacis Island</td><td>5994760</td><td>363</td></tr><tr><td>Antibes</td><td>180156</td><td>12</td></tr><tr><td>Antifer Anchorage</td><td>162514</td><td>7</td></tr><tr><td>Antofagasta</td><td>58884</td><td>3</td></tr><tr><td>Antwerp</td><td>9814190</td><td>510</td></tr><tr><td>Antwerp Methaniers Pilot Boarding Area</td><td>91805</td><td>6</td></tr><tr><td>Antwerp Wandelaar Pilot Boarding Area</td><td>1490194</td><td>79</td></tr><tr><td>Aoshan Joint-Inspection Anchorage</td><td>172751</td><td>12</td></tr><tr><td>Apapa</td><td>791620</td><td>53</td></tr><tr><td>Apra Harbor</td><td>881602</td><td>62</td></tr><tr><td>Aqaba</td><td>4553606</td><td>231</td></tr><tr><td>Aratu</td><td>2156420</td><td>119</td></tr><tr><td>Arawak Cay Port</td><td>161673</td><td>13</td></tr><tr><td>Ardrossan (Australia)</td><td>22692</td><td>1</td></tr><tr><td>Arica</td><td>110503</td><td>7</td></tr><tr><td>Arica Anchorage</td><td>112361</td><td>7</td></tr><tr><td>Aruba STS Transhipment Area</td><td>3205449</td><td>184</td></tr><tr><td>Ashdod Anchorage</td><td>21120</td><td>1</td></tr><tr><td>Assaluyeh</td><td>21300</td><td>1</td></tr><tr><td>Astoria North Anchorage</td><td>66219</td><td>4</td></tr><tr><td>Astoria South Anchorage</td><td>91442</td><td>6</td></tr><tr><td>Atucha</td><td>1312233</td><td>76</td></tr><tr><td>Auckland</td><td>4244893</td><td>238</td></tr><tr><td>Auckland Anchor Berths</td><td>622227</td><td>33</td></tr><tr><td>Augusta</td><td>12527</td><td>1</td></tr><tr><td>Augusta Anchorage</td><td>12527</td><td>1</td></tr><tr><td>Aussenelbe Reede Anchorage</td><td>56987</td><td>5</td></tr><tr><td>Avola Anchorage</td><td>65994</td><td>6</td></tr><tr><td>Bacolod Anchorages</td><td>13491</td><td>1</td></tr><tr><td>Balao Terminal Pilot Waiting Area</td><td>21087</td><td>1</td></tr><tr><td>Balboa</td><td>8445011</td><td>468</td></tr><tr><td>Balikpapan</td><td>786335</td><td>250</td></tr><tr><td>Balikpapan Anchorage</td><td>559849</td><td>176</td></tr><tr><td>Baltimore (USA)</td><td>12703134</td><td>680</td></tr><tr><td>Baltimore (USA) Anchorage No. 1</td><td>13695</td><td>1</td></tr><tr><td>Baltimore (USA) Anchorage No. 3 Lower</td><td>234319</td><td>12</td></tr><tr><td>Baltimore (USA) Anchorage No. 3 Upper</td><td>145869</td><td>9</td></tr><tr><td>Baltimore (USA) Anchorage No. 4</td><td>109720</td><td>6</td></tr><tr><td>Baltimore (USA) Outer Anchorage</td><td>822437</td><td>43</td></tr><tr><td>Bandar Abbas Merchant Anchorage</td><td>508848</td><td>31</td></tr><tr><td>Bandar Abbas Naval Anchorages</td><td>20138</td><td>1</td></tr><tr><td>Bandar Imam Khomeini Outer Anchorage</td><td>34267</td><td>2</td></tr><tr><td>Bandar Imam Khomeini Outer Anchorage No. 2</td><td>41559</td><td>2</td></tr><tr><td>Bandar Shahid Rejaee</td><td>137353</td><td>9</td></tr><tr><td>Bandirma Anchorage No. 2</td><td>13954</td><td>1</td></tr><tr><td>Banjarmasin</td><td>905195</td><td>281</td></tr><tr><td>Baoshan North Anchorage</td><td>87532</td><td>6</td></tr><tr><td>Baozhen</td><td>12939</td><td>1</td></tr><tr><td>Barcelona</td><td>4282443</td><td>238</td></tr><tr><td>Barcelona Fondeadero Este Anchorage</td><td>401689</td><td>24</td></tr><tr><td>Barcelona Fondeadero Sur Anchorage</td><td>22629</td><td>2</td></tr><tr><td>Barletta</td><td>27902</td><td>2</td></tr><tr><td>Barletta Anchorage B</td><td>12706</td><td>1</td></tr><tr><td>Basseterre</td><td>229349</td><td>13</td></tr><tr><td>Bata</td><td>49409</td><td>3</td></tr><tr><td>Bata Anchorage</td><td>82325</td><td>5</td></tr><tr><td>Batangas</td><td>1423887</td><td>95</td></tr><tr><td>Batangas Bay Anchorage</td><td>28764</td><td>2</td></tr><tr><td>Batangas Bay Eastern Anchorages</td><td>190594</td><td>11</td></tr><tr><td>Batangas Bay Easterrn Anchorages</td><td>182389</td><td>13</td></tr><tr><td>Batangas Outer Anchorage</td><td>133214</td><td>8</td></tr><tr><td>Batu Ampar</td><td>58680</td><td>21</td></tr><tr><td>Batu Ampar Anchorage</td><td>72830</td><td>26</td></tr><tr><td>Baybay</td><td>18334</td><td>1</td></tr><tr><td>Bayonne (USA)</td><td>9158895</td><td>498</td></tr><tr><td>Beaumont</td><td>177030</td><td>9</td></tr><tr><td>Beicao Anchorage</td><td>20128710</td><td>1110</td></tr><tr><td>Beihai</td><td>15577</td><td>1</td></tr><tr><td>Beiliang</td><td>245555</td><td>13</td></tr><tr><td>Beira</td><td>19670</td><td>1</td></tr><tr><td>Beira Offshore STS</td><td>79841</td><td>4</td></tr><tr><td>Beirut</td><td>1437509</td><td>72</td></tr><tr><td>Beirut Anchorage</td><td>714619</td><td>37</td></tr><tr><td>Belawan</td><td>364222</td><td>104</td></tr><tr><td>Belawan Anchorage</td><td>46377</td><td>15</td></tr><tr><td>Belekeri</td><td>20138</td><td>1</td></tr><tr><td>Bembridge Anchorage</td><td>581002</td><td>28</td></tr><tr><td>Bendorf</td><td>13951</td><td>1</td></tr><tr><td>Benghazi</td><td>33212</td><td>2</td></tr><tr><td>Benghazi Anchorage</td><td>33212</td><td>2</td></tr><tr><td>Benicia</td><td>4054276</td><td>238</td></tr><tr><td>Benteng</td><td>3559</td><td>1</td></tr><tr><td>Berong</td><td>11260</td><td>1</td></tr><tr><td>Big Stone Beach Anchorage</td><td>1737442</td><td>93</td></tr><tr><td>Bima Terminal</td><td>113984</td><td>39</td></tr><tr><td>Bintulu Gas Tanker Anchorage</td><td>21286</td><td>1</td></tr><tr><td>Bohai Peng Lai FPSO</td><td>17395</td><td>2</td></tr><tr><td>Bonga Offshore Terminal</td><td>14868</td><td>1</td></tr><tr><td>Bopec Terminal Anchorage</td><td>413410</td><td>26</td></tr><tr><td>Borg Havn IKS</td><td>19628</td><td>1</td></tr><tr><td>Borusan</td><td>1122060</td><td>90</td></tr><tr><td>Borusan Anchorage</td><td>946443</td><td>75</td></tr><tr><td>Boryeong</td><td>12471</td><td>1</td></tr><tr><td>Boryeong Anchor Berth A-2</td><td>12706</td><td>1</td></tr><tr><td>Bosphorus TSS Lane Northbound</td><td>299448</td><td>23</td></tr><tr><td>Bosphorus TSS Lane Southbound</td><td>387317</td><td>30</td></tr><tr><td>Boston (USA)</td><td>1148893</td><td>62</td></tr><tr><td>Boston (USA) Outer Anchorage</td><td>78892</td><td>4</td></tr><tr><td>Botany Bay</td><td>21000</td><td>1</td></tr><tr><td>Botany Bay Anchorage</td><td>2159155</td><td>119</td></tr><tr><td>Botas (Ceyhan) Oil Terminal</td><td>12706</td><td>1</td></tr><tr><td>Boulogne-sur-Mer Anchorage</td><td>11373</td><td>1</td></tr><tr><td>Bozcaada North Anchorage</td><td>29936</td><td>1</td></tr><tr><td>Brake</td><td>30043</td><td>2</td></tr><tr><td>Bremen</td><td>129291</td><td>8</td></tr><tr><td>Bremen Neue-Weser-Nord-Reede Anchorage</td><td>693885</td><td>37</td></tr><tr><td>Bremerhaven</td><td>14558958</td><td>733</td></tr><tr><td>Brest</td><td>21059</td><td>1</td></tr><tr><td>Bridgetown</td><td>243727</td><td>30</td></tr><tr><td>Brighton</td><td>25486</td><td>2</td></tr><tr><td>Brisbane</td><td>9268316</td><td>513</td></tr><tr><td>Brisbane Anchorage</td><td>6190796</td><td>342</td></tr><tr><td>Brisbane Outer Anchorage</td><td>9686476</td><td>538</td></tr><tr><td>Bristol</td><td>1285598</td><td>71</td></tr><tr><td>Brunsbuttel</td><td>40453</td><td>2</td></tr><tr><td>Brunswick</td><td>6825611</td><td>342</td></tr><tr><td>BTC Terminal Ceyhan</td><td>37723</td><td>2</td></tr><tr><td>Buenaventura</td><td>3375857</td><td>193</td></tr><tr><td>Buenaventura Anchorage</td><td>4034930</td><td>231</td></tr><tr><td>Bunga Orkid Terminal</td><td>17738</td><td>1</td></tr><tr><td>Busan</td><td>177897</td><td>11</td></tr><tr><td>Busan New Port</td><td>2423240</td><td>145</td></tr><tr><td>Busan Section N Anchorage</td><td>357731</td><td>23</td></tr><tr><td>Cadiz</td><td>55218</td><td>2</td></tr><tr><td>Cadiz Anchorage</td><td>220722</td><td>9</td></tr><tr><td>Caen</td><td>10834</td><td>1</td></tr><tr><td>Cagliari Zona Bravo Anchorage</td><td>15154</td><td>1</td></tr><tr><td>Cai Lan</td><td>123011</td><td>6</td></tr><tr><td>Cai Mep</td><td>60239</td><td>5</td></tr><tr><td>Cai Mep Anchorages</td><td>12249</td><td>1</td></tr><tr><td>Caldera (Costa Rica)</td><td>665614</td><td>40</td></tr><tr><td>Callao</td><td>7288987</td><td>436</td></tr><tr><td>Callao Anchorages</td><td>5613068</td><td>340</td></tr><tr><td>Camaret</td><td>12282</td><td>1</td></tr><tr><td>Campana</td><td>205768</td><td>11</td></tr><tr><td>Campana Anchorage</td><td>4566893</td><td>272</td></tr><tr><td>Cannes</td><td>345299</td><td>23</td></tr><tr><td>Canvey Island</td><td>22500</td><td>1</td></tr><tr><td>Caofeidian</td><td>56633</td><td>3</td></tr><tr><td>Caofeidian East Anchorage</td><td>839737</td><td>52</td></tr><tr><td>Caofeidian West Anchorage</td><td>133572</td><td>7</td></tr><tr><td>Cape Cod Canal</td><td>388163</td><td>20</td></tr><tr><td>Cape Town</td><td>58120</td><td>3</td></tr><tr><td>Carnarvon</td><td>18549</td><td>1</td></tr><tr><td>Caronte</td><td>12527</td><td>1</td></tr><tr><td>Cartagena (Colombia)</td><td>5513818</td><td>312</td></tr><tr><td>Cartagena (Colombia) Anchorage</td><td>2039709</td><td>113</td></tr><tr><td>Casablanca</td><td>579524</td><td>28</td></tr><tr><td>Casablanca Anchorage</td><td>621965</td><td>29</td></tr><tr><td>Casablanca East Anchorage</td><td>37562</td><td>2</td></tr><tr><td>Castries</td><td>217178</td><td>12</td></tr><tr><td>Cebu</td><td>23008</td><td>2</td></tr><tr><td>CFD 11 Terminal</td><td>88729</td><td>5</td></tr><tr><td>Chaguaramas Anchorage</td><td>2920449</td><td>217</td></tr><tr><td>Changi General Purposes Anchorage (ACGP)</td><td>39249</td><td>2</td></tr><tr><td>Changjiang Mouth No 1 Anchorage</td><td>24629915</td><td>1373</td></tr><tr><td>Changjiang Mouth No 2 Anchorage</td><td>15014284</td><td>849</td></tr><tr><td>Changjiang Mouth No 3 Anchorage</td><td>5009594</td><td>302</td></tr><tr><td>Changsha</td><td>18724</td><td>1</td></tr><tr><td>Changshu Port Ocean Liners Anchorage</td><td>19924</td><td>2</td></tr><tr><td>Changshu Port Xiahailun Anchorage</td><td>35211</td><td>4</td></tr><tr><td>Changzhou</td><td>21466</td><td>1</td></tr><tr><td>Chanthaburi</td><td>20138</td><td>1</td></tr><tr><td>Charleston</td><td>1802204</td><td>100</td></tr><tr><td>Charleston Commercial Anchorage A</td><td>18724</td><td>1</td></tr><tr><td>Charleston Outer Anchorage</td><td>2850734</td><td>164</td></tr><tr><td>Chemainus</td><td>140746</td><td>5</td></tr><tr><td>Chennai</td><td>992732</td><td>61</td></tr><tr><td>Cherry Island General Anchorage 6</td><td>82567</td><td>4</td></tr><tr><td>Chiba</td><td>1567632</td><td>84</td></tr><tr><td>Chiba Anchorage</td><td>2351748</td><td>130</td></tr><tr><td>Chittagong</td><td>609219</td><td>70</td></tr><tr><td>Chittagong Anchorages</td><td>961805</td><td>107</td></tr><tr><td>Chiwan</td><td>21276</td><td>1</td></tr><tr><td>Chongming</td><td>494671</td><td>31</td></tr><tr><td>Chongming Anchorage</td><td>159956</td><td>11</td></tr><tr><td>Chuansha</td><td>93115</td><td>8</td></tr><tr><td>Cidade de Santos MV20 FPSO</td><td>19048</td><td>1</td></tr><tr><td>Cinta</td><td>172572</td><td>12</td></tr><tr><td>Cinta Anchorage</td><td>14381</td><td>1</td></tr><tr><td>Civitavecchia</td><td>219628</td><td>18</td></tr><tr><td>Cochin Anchorage</td><td>13241</td><td>1</td></tr><tr><td>Coco Solo North</td><td>2963329</td><td>164</td></tr><tr><td>Cologne</td><td>22500</td><td>1</td></tr><tr><td>Colombo</td><td>745548</td><td>46</td></tr><tr><td>Colombo Inner Anchorage</td><td>649481</td><td>40</td></tr><tr><td>Colombo Outer Anchorage</td><td>1117583</td><td>70</td></tr><tr><td>Colombo Southern Anchorage</td><td>702249</td><td>44</td></tr><tr><td>Colon</td><td>6886024</td><td>326</td></tr><tr><td>Come By Chance</td><td>28223</td><td>1</td></tr><tr><td>Conakry</td><td>464997</td><td>29</td></tr><tr><td>Constantza</td><td>227240</td><td>18</td></tr><tr><td>Constantza Anchorage No. 1</td><td>26124</td><td>2</td></tr><tr><td>Constantza Anchorage No. 2</td><td>76948</td><td>6</td></tr><tr><td>Constantza Anchorage No. 3</td><td>25412</td><td>2</td></tr><tr><td>Corinto</td><td>986554</td><td>57</td></tr><tr><td>Cotonou</td><td>2018493</td><td>131</td></tr><tr><td>Cotonou Anchorage</td><td>1443877</td><td>89</td></tr><tr><td>Cottonwood Island Anchorage</td><td>69750</td><td>4</td></tr><tr><td>CPC Terminal SPBM 1</td><td>15261</td><td>1</td></tr><tr><td>CPC Terminal SPBM 2</td><td>16451</td><td>1</td></tr><tr><td>Cristobal</td><td>44134</td><td>2</td></tr><tr><td>Cuddalore</td><td>17127</td><td>1</td></tr><tr><td>Cuxhaven</td><td>249051</td><td>15</td></tr><tr><td>Dabhol</td><td>18638</td><td>1</td></tr><tr><td>Daesan</td><td>19670</td><td>1</td></tr><tr><td>Daesan Anchorage No 2</td><td>16789103</td><td>936</td></tr><tr><td>Daesan Anchorages</td><td>112217</td><td>6</td></tr><tr><td>Daesan Mazhi Dangerous Goods Anchorage</td><td>56525</td><td>3</td></tr><tr><td>Dafeng Anchorage</td><td>21323</td><td>1</td></tr><tr><td>Dagang (Qingdao)</td><td>442368</td><td>23</td></tr><tr><td>Dagukou Chemical Disperse Anchorage</td><td>230908</td><td>14</td></tr><tr><td>Dagukou North Anchorage</td><td>10169673</td><td>596</td></tr><tr><td>Dagukou Quarantine Anchorage</td><td>3876356</td><td>225</td></tr><tr><td>Dagukou South Anchorage</td><td>5796038</td><td>343</td></tr><tr><td>Dahej</td><td>27343</td><td>1</td></tr><tr><td>Dahej Anchorage</td><td>32254</td><td>3</td></tr><tr><td>Dai Hung Offshore Terminals STS Area</td><td>344580</td><td>23</td></tr><tr><td>Daishan</td><td>120243</td><td>9</td></tr><tr><td>Dakar</td><td>1068415</td><td>58</td></tr><tr><td>Dakar Anchorage</td><td>753952</td><td>39</td></tr><tr><td>Dalian</td><td>82471</td><td>6</td></tr><tr><td>Dalian Cargo Vessel Anchorage</td><td>407544</td><td>24</td></tr><tr><td>Dalian No 1 Quarantine Anchorage</td><td>237585</td><td>13</td></tr><tr><td>Dalian No 2 Quarantine Anchorage</td><td>34337</td><td>2</td></tr><tr><td>Dalian Oil Tanker Anchorage</td><td>14080</td><td>1</td></tr><tr><td>Dalian Outer Anchorage</td><td>1012906</td><td>62</td></tr><tr><td>Dalian Tanker Anchorage</td><td>36278</td><td>3</td></tr><tr><td>Dammam</td><td>8394802</td><td>487</td></tr><tr><td>Dammam E Anchorage</td><td>10150138</td><td>591</td></tr><tr><td>Dammam W Anchorage</td><td>12588</td><td>1</td></tr><tr><td>Dandong</td><td>15031</td><td>1</td></tr><tr><td>Dar es Salaam</td><td>3367868</td><td>192</td></tr><tr><td>Dar es Salaam Anchorages</td><td>6470252</td><td>371</td></tr><tr><td>Dardanelles TSS Lane Northbound</td><td>2513873</td><td>169</td></tr><tr><td>Dardanelles TSS Lane Southbound</td><td>689271</td><td>48</td></tr><tr><td>Dardanelles TTS Lane Southbound</td><td>2002703</td><td>131</td></tr><tr><td>Darwin</td><td>241421</td><td>16</td></tr><tr><td>Darwin Outer Anchorages</td><td>15413</td><td>1</td></tr><tr><td>Darwin SPM Anchorage</td><td>20746</td><td>2</td></tr><tr><td>Dayao Bay</td><td>631972</td><td>41</td></tr><tr><td>Deauville</td><td>10834</td><td>1</td></tr><tr><td>Degrad des Cannes</td><td>140790</td><td>30</td></tr><tr><td>Dellys</td><td>21059</td><td>1</td></tr><tr><td>Deltaport</td><td>14366</td><td>1</td></tr><tr><td>Derince</td><td>1612941</td><td>107</td></tr><tr><td>Digang</td><td>17435</td><td>1</td></tr><tr><td>Dighi</td><td>3995</td><td>1</td></tr><tr><td>Diliskelesi</td><td>648386</td><td>57</td></tr><tr><td>Diliskelesi Anchorage</td><td>11260</td><td>1</td></tr><tr><td>Djibouti</td><td>1515592</td><td>71</td></tr><tr><td>Djibouti Outer Anchorage</td><td>1012071</td><td>49</td></tr><tr><td>Djibouti Waiting Anchorage</td><td>20190</td><td>1</td></tr><tr><td>Doha (Qatar)</td><td>5699952</td><td>316</td></tr><tr><td>Doha (Qatar) Anchorage A</td><td>1671778</td><td>96</td></tr><tr><td>Doha (Qatar) Anchorage B</td><td>98707</td><td>6</td></tr><tr><td>Dongdu</td><td>134296</td><td>9</td></tr><tr><td>Dongwan</td><td>12853</td><td>1</td></tr><tr><td>Dongying</td><td>20056</td><td>1</td></tr><tr><td>Douala</td><td>320325</td><td>20</td></tr><tr><td>Douala Anchorage</td><td>831038</td><td>51</td></tr><tr><td>Dover Strait</td><td>9349522</td><td>511</td></tr><tr><td>DP World Djazair</td><td>75630</td><td>4</td></tr><tr><td>DP World Djazair Anchorage 1</td><td>42192</td><td>3</td></tr><tr><td>DP World Djazair Anchorage 2</td><td>98752</td><td>5</td></tr><tr><td>DP World Djen-Djen</td><td>1040222</td><td>58</td></tr><tr><td>DP World Djen-Djen Anchorage</td><td>1648186</td><td>98</td></tr><tr><td>Dublin</td><td>40985</td><td>2</td></tr><tr><td>Duisburg (Ruhrort)</td><td>16493</td><td>1</td></tr><tr><td>Dulang Marine Terminal</td><td>82437</td><td>5</td></tr><tr><td>Dumai</td><td>2662</td><td>1</td></tr><tr><td>Durban</td><td>8279515</td><td>451</td></tr><tr><td>Durban Outer Anchorage</td><td>12738384</td><td>695</td></tr><tr><td>Durres</td><td>21400</td><td>1</td></tr><tr><td>Durres Bay Anchorage</td><td>7894</td><td>1</td></tr><tr><td>East London</td><td>1513576</td><td>78</td></tr><tr><td>East Port Said Bypass</td><td>6158120</td><td>316</td></tr><tr><td>East Wight Anchorage</td><td>5716344</td><td>265</td></tr><tr><td>Eastern Anchorage (AEW)</td><td>5095184</td><td>334</td></tr><tr><td>Eastern Bunkering A Anchorage (AEBA)</td><td>1292274</td><td>71</td></tr><tr><td>Eastern Bunkering B Anchorage (AEBB)</td><td>3665254</td><td>219</td></tr><tr><td>Eastern Bunkering C Anchorage (AEBC)</td><td>10044421</td><td>547</td></tr><tr><td>Eastern Holding A Anchorage (AEHA)</td><td>834291</td><td>49</td></tr><tr><td>Eastern Holding B Anchorage (AEHB)</td><td>1755771</td><td>107</td></tr><tr><td>Eastern Passage</td><td>945739</td><td>53</td></tr><tr><td>Eastern Petroleum A Anchorage (AEPA)</td><td>1055671</td><td>64</td></tr><tr><td>Eastern Petroleum B Anchorage (AEPBB)</td><td>15031</td><td>1</td></tr><tr><td>Eastern Petroleum C Anchorage (AEPBC)</td><td>353355</td><td>21</td></tr><tr><td>Eastern Special Purposes A Anchorage (AESPA)</td><td>7880313</td><td>417</td></tr><tr><td>Eemshaven</td><td>77043</td><td>4</td></tr><tr><td>Eilat</td><td>1094889</td><td>65</td></tr><tr><td>El Dekheila</td><td>40729</td><td>2</td></tr><tr><td>El Palito Anchorage</td><td>17297</td><td>1</td></tr><tr><td>Elbe Approach Outer Anchorage</td><td>1177216</td><td>61</td></tr><tr><td>Elbe Approach Reede Anchorage</td><td>22815</td><td>1</td></tr><tr><td>Eleusis</td><td>15301</td><td>1</td></tr><tr><td>Emden</td><td>2824653</td><td>155</td></tr><tr><td>Ennore</td><td>983642</td><td>63</td></tr><tr><td>Erawan Terminal</td><td>119703</td><td>7</td></tr><tr><td>Escobar LNG</td><td>162749</td><td>8</td></tr><tr><td>Esmeraldas</td><td>1096741</td><td>66</td></tr><tr><td>Esmeraldas Pilot Boarding Anchorage</td><td>15097</td><td>1</td></tr><tr><td>Esmeraldas Quarantine Anchorage</td><td>36045</td><td>2</td></tr><tr><td>Essequibo River</td><td>210220</td><td>50</td></tr><tr><td>Europoort</td><td>1399015</td><td>65</td></tr><tr><td>Everett (Washington)</td><td>301495</td><td>15</td></tr><tr><td>Everingen Anchorage</td><td>53344</td><td>4</td></tr><tr><td>Ezhou</td><td>17232</td><td>1</td></tr><tr><td>Falmouth Bay Anchorage</td><td>23662</td><td>2</td></tr><tr><td>Fangcheng No 1 Anchorage</td><td>18724</td><td>1</td></tr><tr><td>Fawley</td><td>935390</td><td>42</td></tr><tr><td>Fengxian</td><td>15577</td><td>1</td></tr><tr><td>Fethiye</td><td>10834</td><td>1</td></tr><tr><td>Fort-de-France</td><td>482506</td><td>45</td></tr><tr><td>Fort-de-France Tanker Anchorage</td><td>12250</td><td>1</td></tr><tr><td>Fraser River Port</td><td>85319</td><td>5</td></tr><tr><td>Fredericia</td><td>260343</td><td>11</td></tr><tr><td>Fredericia FA1 Anchorage</td><td>25765</td><td>1</td></tr><tr><td>Freeport (Bahamas)</td><td>358965</td><td>25</td></tr><tr><td>Freeport (Bahamas) Anchorage</td><td>29380</td><td>4</td></tr><tr><td>Freetown</td><td>15097</td><td>1</td></tr><tr><td>Freetown Anchorage</td><td>94282</td><td>6</td></tr><tr><td>Fremantle</td><td>4391194</td><td>222</td></tr><tr><td>Fremantle Anchorage N</td><td>4337472</td><td>215</td></tr><tr><td>Fujairah Anchorage A</td><td>20434</td><td>1</td></tr><tr><td>Fujairah Anchorage B</td><td>699666</td><td>46</td></tr><tr><td>Fujairah Anchorage C</td><td>40080</td><td>2</td></tr><tr><td>Fujairah Anchorage N</td><td>41300</td><td>2</td></tr><tr><td>Fujairah Anchorage No 2</td><td>2828732</td><td>166</td></tr><tr><td>Fujairah Anchorage S</td><td>233591</td><td>17</td></tr><tr><td>Fujairah Anchorage T</td><td>13954</td><td>1</td></tr><tr><td>Fujairah Anchorage W</td><td>10817</td><td>1</td></tr><tr><td>Fukuyama Quarantine Anchorage</td><td>70349</td><td>4</td></tr><tr><td>Funabashi</td><td>161267</td><td>11</td></tr><tr><td>Funafuti</td><td>28818</td><td>1</td></tr><tr><td>Fushiki</td><td>2922</td><td>3</td></tr><tr><td>Gadani</td><td>17435</td><td>1</td></tr><tr><td>Galveston</td><td>3814981</td><td>189</td></tr><tr><td>Galveston - Bolivar Roads Anchorage</td><td>108844</td><td>5</td></tr><tr><td>Galveston Approach Anchorage</td><td>1595079</td><td>85</td></tr><tr><td>Galveston Deep Water Anchorage</td><td>823522</td><td>43</td></tr><tr><td>Gamagori</td><td>1569697</td><td>91</td></tr><tr><td>Gamagori Anchorage</td><td>1063782</td><td>62</td></tr><tr><td>Ganjingzi</td><td>9694</td><td>1</td></tr><tr><td>Gaolan</td><td>12003</td><td>1</td></tr><tr><td>Gebe Island</td><td>17252</td><td>1</td></tr><tr><td>Gela Anchorage B</td><td>22675</td><td>1</td></tr><tr><td>Gelendzhik</td><td>16493</td><td>1</td></tr><tr><td>Gelibolu Explosives Anchorage</td><td>11262</td><td>1</td></tr><tr><td>Gemlik</td><td>52241</td><td>3</td></tr><tr><td>Gemlik Anchorage</td><td>263746</td><td>21</td></tr><tr><td>Gemlik Explosives Anchorage</td><td>50275</td><td>4</td></tr><tr><td>General San Martin</td><td>28092</td><td>1</td></tr><tr><td>General San Martin Anchor Berth No 1</td><td>28092</td><td>1</td></tr><tr><td>Genoa</td><td>491920</td><td>22</td></tr><tr><td>Genoa Zona Alfa Anchorage</td><td>317205</td><td>15</td></tr><tr><td>Genoa Zona Delta Anchorage</td><td>25556</td><td>2</td></tr><tr><td>Georgetown (Guyana)</td><td>278016</td><td>64</td></tr><tr><td>Gera Bay</td><td>28031</td><td>2</td></tr><tr><td>Ghent</td><td>286158</td><td>18</td></tr><tr><td>Gibraltar</td><td>21428</td><td>1</td></tr><tr><td>Gibraltar Bay Anchorage</td><td>395346</td><td>27</td></tr><tr><td>Gibraltar East Anchorage</td><td>12778</td><td>1</td></tr><tr><td>Gijon</td><td>47314</td><td>2</td></tr><tr><td>Gijon Dangerous Cargoes Anchorage</td><td>27176</td><td>1</td></tr><tr><td>Gingoog</td><td>18947</td><td>1</td></tr><tr><td>Gioia Tauro</td><td>1752352</td><td>117</td></tr><tr><td>Giurgiu</td><td>21462</td><td>1</td></tr><tr><td>Gladstone</td><td>26872</td><td>2</td></tr><tr><td>Gladstone Outer Harbour Anchorage</td><td>39362</td><td>3</td></tr><tr><td>Godbout</td><td>56446</td><td>2</td></tr><tr><td>Golfo di Genova Anchorage</td><td>1922868</td><td>96</td></tr><tr><td>Gothenburg</td><td>513206</td><td>24</td></tr><tr><td>Gothenburg Inner Anchorage</td><td>80905</td><td>4</td></tr><tr><td>Gouangzhou Anchorage Berths</td><td>1868000</td><td>106</td></tr><tr><td>Grays Harbor</td><td>850674</td><td>60</td></tr><tr><td>Gresik</td><td>4995</td><td>2</td></tr><tr><td>Gresik Anchorage</td><td>222004</td><td>86</td></tr><tr><td>Guangzhou</td><td>5546540</td><td>330</td></tr><tr><td>Guangzhou Anchorage Berths</td><td>2541543</td><td>156</td></tr><tr><td>Guanta</td><td>21000</td><td>1</td></tr><tr><td>Guayaquil</td><td>914733</td><td>54</td></tr><tr><td>Guayaquil Deep Water Anchorage</td><td>197055</td><td>12</td></tr><tr><td>Guayaquil Explosives Anchorage</td><td>883336</td><td>53</td></tr><tr><td>Guayaquil Explosives Anchorage No. 2</td><td>87108</td><td>5</td></tr><tr><td>Guayaquil Quarantine Anchorage</td><td>124002</td><td>8</td></tr><tr><td>Gulf of Arzew Anchorage</td><td>36629</td><td>2</td></tr><tr><td>Gulfmex No 2</td><td>1933956</td><td>97</td></tr><tr><td>Gunsan</td><td>4432662</td><td>227</td></tr><tr><td>Gunsan Anchorage A-1</td><td>28854</td><td>2</td></tr><tr><td>Gunsan Anchorage A-2</td><td>561671</td><td>29</td></tr><tr><td>Gunsan Anchorage A-3</td><td>56290</td><td>3</td></tr><tr><td>Gunsan Quarantine Anchorage</td><td>1132859</td><td>57</td></tr><tr><td>Gwadar</td><td>21276</td><td>1</td></tr><tr><td>Gwangyang</td><td>10386833</td><td>587</td></tr><tr><td>Hadera Anchorage</td><td>21037</td><td>1</td></tr><tr><td>Hakata</td><td>1276756</td><td>125</td></tr><tr><td>Hakata Anchorage</td><td>732848</td><td>56</td></tr><tr><td>Hakata Quarantine Anchorage</td><td>133452</td><td>30</td></tr><tr><td>Haldia Anchorage</td><td>112224</td><td>16</td></tr><tr><td>Haldia Outer Anchorage</td><td>210420</td><td>30</td></tr><tr><td>Halifax</td><td>95149</td><td>4</td></tr><tr><td>Halifax Inner Anchorage</td><td>303338</td><td>17</td></tr><tr><td>Halifax Outer Anchorage</td><td>30188</td><td>2</td></tr><tr><td>Hambantota</td><td>2628519</td><td>165</td></tr><tr><td>Hamble</td><td>20138</td><td>1</td></tr><tr><td>Hamburg</td><td>1183198</td><td>71</td></tr><tr><td>Hamburg Aussenelbe Reede Anchorage</td><td>13954</td><td>1</td></tr><tr><td>Hamburg Elbe Approach Outer Anchorage</td><td>72759</td><td>4</td></tr><tr><td>Hamburg Neue-Weser-Reede Anchorage</td><td>36521</td><td>2</td></tr><tr><td>Hamilton (Bermuda)</td><td>171062</td><td>11</td></tr><tr><td>Hamina</td><td>43986</td><td>1</td></tr><tr><td>Hampton Roads</td><td>15577</td><td>1</td></tr><tr><td>Hampton Roads A Anchorage North</td><td>333147</td><td>20</td></tr><tr><td>Hampton Roads A Anchorage South</td><td>20131</td><td>1</td></tr><tr><td>Hampton Roads East Anchorage</td><td>20131</td><td>1</td></tr><tr><td>Hampton Roads F Anchorage</td><td>16632</td><td>1</td></tr><tr><td>Hampton Roads G Anchorage</td><td>37715</td><td>2</td></tr><tr><td>Hampton Roads I Anchorage</td><td>211554</td><td>11</td></tr><tr><td>Hamriyah Anchorage A</td><td>187110</td><td>10</td></tr><tr><td>Hamriyah Anchorage B</td><td>13370</td><td>1</td></tr><tr><td>Hannan</td><td>17372</td><td>1</td></tr><tr><td>Hannan Outer Anchorage</td><td>1678005</td><td>110</td></tr><tr><td>Hansweert</td><td>128412</td><td>7</td></tr><tr><td>Havana</td><td>81238</td><td>7</td></tr><tr><td>Hengsha Anchorage East Area</td><td>185600</td><td>11</td></tr><tr><td>Hengsha Anchorage Western Area</td><td>237020</td><td>11</td></tr><tr><td>Hengsha Tanker Anchorage</td><td>63125</td><td>4</td></tr><tr><td>Hengyang</td><td>15577</td><td>1</td></tr><tr><td>Heshangdao</td><td>28223</td><td>1</td></tr><tr><td>Hibikinada Inner Anchorage</td><td>2325</td><td>1</td></tr><tr><td>Higashi-Harima Anchorage</td><td>15154</td><td>1</td></tr><tr><td>Hilo</td><td>678294</td><td>54</td></tr><tr><td>Himeji</td><td>18082</td><td>1</td></tr><tr><td>Himekawa</td><td>14868</td><td>1</td></tr><tr><td>Hirohata</td><td>18082</td><td>1</td></tr><tr><td>Hiroshima</td><td>7701710</td><td>480</td></tr><tr><td>Hiroshima Quarantine Anchorage</td><td>6479457</td><td>394</td></tr><tr><td>Hitachi</td><td>1404606</td><td>78</td></tr><tr><td>Hitachinaka</td><td>2673103</td><td>141</td></tr><tr><td>Hodeidah</td><td>1060404</td><td>55</td></tr><tr><td>Hodeidah Anchorage</td><td>715075</td><td>37</td></tr><tr><td>Hoheweg-Reede Anchorage</td><td>204703</td><td>11</td></tr><tr><td>Holtenau</td><td>14155</td><td>1</td></tr><tr><td>Homs</td><td>258872</td><td>16</td></tr><tr><td>Homs Anchorage</td><td>256295</td><td>17</td></tr><tr><td>Hon Gay</td><td>103169</td><td>5</td></tr><tr><td>Honfleur</td><td>11369</td><td>1</td></tr><tr><td>Hong Kong</td><td>1463236</td><td>97</td></tr><tr><td>Hong Kong Anchorage 10DG</td><td>716796</td><td>46</td></tr><tr><td>Hong Kong Anchorage 13ZH</td><td>3859722</td><td>226</td></tr><tr><td>Hong Kong Anchorage 17GS</td><td>1157542</td><td>63</td></tr><tr><td>Hong Kong Anchorage 18GS</td><td>4653463</td><td>266</td></tr><tr><td>Hong Kong Anchorage 22DY</td><td>21053</td><td>1</td></tr><tr><td>Hong Kong Anchorage 23DY</td><td>18638</td><td>1</td></tr><tr><td>Hong Kong Anchorage No 11SM</td><td>14110</td><td>1</td></tr><tr><td>Hong Kong Anchorage No 1BJ</td><td>97368</td><td>5</td></tr><tr><td>Hong Kong Anchorage No 2WS</td><td>21120</td><td>1</td></tr><tr><td>Hong Kong Anchorage No 4DT</td><td>157902</td><td>9</td></tr><tr><td>Hong KOng Anchorage No 5GZ</td><td>166560</td><td>9</td></tr><tr><td>Hong Kong Anchorages 21 &amp; 22DY</td><td>98771</td><td>5</td></tr><tr><td>Hong Kong Anchorages 7SM</td><td>421493</td><td>24</td></tr><tr><td>Hong Kong Anchorages 7SM 8SM &amp; 11SM</td><td>582595</td><td>34</td></tr><tr><td>Hong Kong Dangan Island Anchorage</td><td>171351</td><td>11</td></tr><tr><td>Hong Kong Dangan Island Eastern Anchorage</td><td>1621871</td><td>111</td></tr><tr><td>Hong Kong Kau Yi Chau Dangerous Goods Anchorage</td><td>17189</td><td>1</td></tr><tr><td>Hong Kong Kellett Anchorage No 1</td><td>57100</td><td>3</td></tr><tr><td>Hong Kong Kowloon</td><td>586955</td><td>32</td></tr><tr><td>Hong Kong North Lamma Anchorage</td><td>62654</td><td>4</td></tr><tr><td>Hong Kong North West Anchorage</td><td>41075</td><td>5</td></tr><tr><td>Hong Kong Pun Shan Shek Anchorage</td><td>31904</td><td>2</td></tr><tr><td>Hong Kong South East Lamma Anchorage</td><td>22500</td><td>1</td></tr><tr><td>Hong Kong South Lamma Anchorage</td><td>546782</td><td>36</td></tr><tr><td>Hong Kong South West Lamma Anchorage</td><td>17765</td><td>1</td></tr><tr><td>Hong Kong Western Anchorage No 1-3</td><td>40871</td><td>3</td></tr><tr><td>Honolulu</td><td>1569746</td><td>108</td></tr><tr><td>Horsburgh Anchorage</td><td>5586698</td><td>347</td></tr><tr><td>Hososhima</td><td>21276</td><td>1</td></tr><tr><td>Hososhima Anchorage</td><td>12084</td><td>1</td></tr><tr><td>Houston</td><td>2060544</td><td>119</td></tr><tr><td>Huainan</td><td>12991</td><td>1</td></tr><tr><td>Huanghua Anchorage No. 2</td><td>31308</td><td>2</td></tr><tr><td>Huanghua Anchorage No. 4</td><td>28837</td><td>1</td></tr><tr><td>Huanghua Anchorage No. 6</td><td>236504</td><td>11</td></tr><tr><td>Huangpu</td><td>21063</td><td>3</td></tr><tr><td>Huelva Outer Anchorage</td><td>93096</td><td>5</td></tr><tr><td>Hueneme</td><td>4463770</td><td>268</td></tr><tr><td>Humen</td><td>34185</td><td>2</td></tr><tr><td>Humen Anchorage Berths 41-44SJ</td><td>1309481</td><td>75</td></tr><tr><td>Ijmuiden</td><td>2898910</td><td>172</td></tr><tr><td>IJmuiden Anchorage</td><td>57342</td><td>4</td></tr><tr><td>IJmuiden Anchorage No. 7</td><td>70136</td><td>5</td></tr><tr><td>Ijmuiden Inner Anchorage</td><td>670535</td><td>36</td></tr><tr><td>Ijmuiden Outer Anchorage</td><td>17339</td><td>1</td></tr><tr><td>Illichevsk</td><td>101670</td><td>10</td></tr><tr><td>Illichevsk No 351 Anchorage</td><td>28894</td><td>2</td></tr><tr><td>Imari</td><td>40321</td><td>2</td></tr><tr><td>Immingham</td><td>1204475</td><td>56</td></tr><tr><td>Immingham Anchorage</td><td>218100</td><td>11</td></tr><tr><td>Incheon</td><td>8457210</td><td>465</td></tr><tr><td>Incheon Central Fairway Anchorage</td><td>4603232</td><td>259</td></tr><tr><td>Incheon Inner Fairway Anchorage</td><td>3239121</td><td>183</td></tr><tr><td>Incheon Outer Anchorage</td><td>1178295</td><td>66</td></tr><tr><td>Innoshima</td><td>406146</td><td>23</td></tr><tr><td>Interflour Port</td><td>47484</td><td>4</td></tr><tr><td>Iquique</td><td>4114682</td><td>245</td></tr><tr><td>Iquique Explosives Anchorage</td><td>159418</td><td>10</td></tr><tr><td>Iquique Quarantine Anchorage</td><td>358797</td><td>24</td></tr><tr><td>Isdemir</td><td>20190</td><td>1</td></tr><tr><td>Ishikariwan Shinko</td><td>11260</td><td>1</td></tr><tr><td>Iskenderun</td><td>664663</td><td>33</td></tr><tr><td>Iskenderun Anchorage</td><td>74000</td><td>4</td></tr><tr><td>Iskenderun Explosives Anchorage</td><td>811715</td><td>40</td></tr><tr><td>Istanbul Anchorage</td><td>38118</td><td>3</td></tr><tr><td>Istanbul Outer Anchorage</td><td>4538039</td><td>309</td></tr><tr><td>Itozaki Outer Anchorage</td><td>51323</td><td>4</td></tr><tr><td>Iwakuni</td><td>14155</td><td>1</td></tr><tr><td>Izmir</td><td>393992</td><td>19</td></tr><tr><td>Izmit Anchorage</td><td>481453</td><td>37</td></tr><tr><td>Jacksonville</td><td>12632078</td><td>728</td></tr><tr><td>Jacksonville Anchorage</td><td>2078637</td><td>125</td></tr><tr><td>Jakhau Anchorage</td><td>21323</td><td>1</td></tr><tr><td>Jebel Ali</td><td>13050074</td><td>736</td></tr><tr><td>Jebel Ali Anchorage</td><td>24797627</td><td>1405</td></tr><tr><td>Jeddah</td><td>10280129</td><td>535</td></tr><tr><td>Jeddah Anchorage D</td><td>160333</td><td>9</td></tr><tr><td>Jeddah Anchorage E</td><td>984831</td><td>51</td></tr><tr><td>Jiang Yin</td><td>29949</td><td>2</td></tr><tr><td>Jiang Yin Anchorage</td><td>4197511</td><td>276</td></tr><tr><td>Jiangyin</td><td>12939</td><td>1</td></tr><tr><td>Jiangyin Anchorage</td><td>213291</td><td>9</td></tr><tr><td>Jiangyuanansha Temporary Anchorage</td><td>12250</td><td>1</td></tr><tr><td>Jingjiang</td><td>97533</td><td>5</td></tr><tr><td>Jinhae Bay East Anchorage</td><td>40600</td><td>2</td></tr><tr><td>Jinzhou Anchorage No 1</td><td>10834</td><td>1</td></tr><tr><td>Johor</td><td>401799</td><td>20</td></tr><tr><td>Johor Anchorages</td><td>293690</td><td>17</td></tr><tr><td>Jorf Lasfar Anchorage</td><td>508724</td><td>29</td></tr><tr><td>Jubail</td><td>21052</td><td>1</td></tr><tr><td>Jubail Holding Anchorage</td><td>1162039</td><td>63</td></tr><tr><td>Jubail Inner Anchorage</td><td>21052</td><td>1</td></tr><tr><td>Kabil</td><td>16651</td><td>2</td></tr><tr><td>Kabil Anchorage</td><td>4051</td><td>1</td></tr><tr><td>Kagoshima</td><td>501972</td><td>354</td></tr><tr><td>Kahului</td><td>741099</td><td>59</td></tr><tr><td>Kaimana</td><td>2457</td><td>1</td></tr><tr><td>Kakogawa</td><td>1307173</td><td>74</td></tr><tr><td>Kakogawa Anchorage</td><td>767214</td><td>43</td></tr><tr><td>Kalama</td><td>28223</td><td>1</td></tr><tr><td>Kalama Anchorage</td><td>128044</td><td>9</td></tr><tr><td>Kalamata</td><td>10600</td><td>1</td></tr><tr><td>Kalba Anchorage B</td><td>4693</td><td>1</td></tr><tr><td>Kalundborg Fjord Anchorage</td><td>137418</td><td>6</td></tr><tr><td>Kamaishi</td><td>19093</td><td>1</td></tr><tr><td>Kamarajar</td><td>392667</td><td>26</td></tr><tr><td>Kanda</td><td>7748813</td><td>472</td></tr><tr><td>Kanda Northern Anchorage</td><td>119139</td><td>12</td></tr><tr><td>Kanda Outer Anchorage</td><td>1374721</td><td>91</td></tr><tr><td>Kanda Southern Anchorage</td><td>246296</td><td>20</td></tr><tr><td>Kanmon Ko</td><td>1698603</td><td>103</td></tr><tr><td>Kanokawa Anchorage</td><td>9300</td><td>4</td></tr><tr><td>Kaohsiung</td><td>98280</td><td>11</td></tr><tr><td>Kaohsiung No 1 Anchorage</td><td>97466</td><td>10</td></tr><tr><td>Kaohsiung No 2 Anchorage</td><td>98215</td><td>7</td></tr><tr><td>Kaohsiung No 3 Anchorage</td><td>51920</td><td>4</td></tr><tr><td>Kapar Power Station</td><td>21004</td><td>1</td></tr><tr><td>Karachi</td><td>275895</td><td>15</td></tr><tr><td>Karachi Anchorages</td><td>180298</td><td>10</td></tr><tr><td>Karimun STS Anchorage</td><td>200503</td><td>60</td></tr><tr><td>Karumba</td><td>22717</td><td>1</td></tr><tr><td>Kasaoka Anchorage</td><td>32852</td><td>2</td></tr><tr><td>Kashima</td><td>31140</td><td>2</td></tr><tr><td>Kashima Anchorage</td><td>360662</td><td>22</td></tr><tr><td>Kasim Marine Terminal</td><td>33009</td><td>3</td></tr><tr><td>Kattegat Anchorage A</td><td>73741</td><td>4</td></tr><tr><td>Kattegat Anchorage 'A'</td><td>192641</td><td>10</td></tr><tr><td>Kattegat Anchorage B</td><td>17252</td><td>1</td></tr><tr><td>Kattegat Anchorage 'B'</td><td>60169</td><td>3</td></tr><tr><td>Kattupalli</td><td>15154</td><td>1</td></tr><tr><td>Kawasaki</td><td>7870529</td><td>458</td></tr><tr><td>Kawasaki Anchorage</td><td>7364659</td><td>426</td></tr><tr><td>Keelung</td><td>983731</td><td>50</td></tr><tr><td>Keelung Anchorage</td><td>105513</td><td>6</td></tr><tr><td>Kelly Point Anchorage</td><td>227457</td><td>14</td></tr><tr><td>Kertih Port</td><td>20138</td><td>1</td></tr><tr><td>Khalifa Bin Salman</td><td>5531218</td><td>312</td></tr><tr><td>Khalifa Bin Salman Anchorage</td><td>2756322</td><td>160</td></tr><tr><td>Khalifa Port</td><td>701633</td><td>36</td></tr><tr><td>Khalifa Port Anchorage</td><td>41111</td><td>2</td></tr><tr><td>Khasab</td><td>53595</td><td>3</td></tr><tr><td>Khor Al Zubair</td><td>18770</td><td>1</td></tr><tr><td>Khor Al Zubair Anchorage</td><td>1378210</td><td>81</td></tr><tr><td>Khor Fakkan Anchorage B</td><td>19670</td><td>1</td></tr><tr><td>Kiame Marine Terminal</td><td>19093</td><td>1</td></tr><tr><td>Kikuma Anchorage</td><td>12600</td><td>1</td></tr><tr><td>King Fahd Industrial Port (Yanbu)</td><td>30907</td><td>1</td></tr><tr><td>King Fahd Industrial Port (Yanbu) Anchorage North</td><td>2120013</td><td>106</td></tr><tr><td>Kingston (Jamaica)</td><td>1688642</td><td>131</td></tr><tr><td>Kingston (jamaica) Inner Anchorage</td><td>35579</td><td>4</td></tr><tr><td>Kingston (Jamaica) Outer Anchorage</td><td>2011304</td><td>150</td></tr><tr><td>Kingstown</td><td>176936</td><td>10</td></tr><tr><td>Kinuura</td><td>81533</td><td>18</td></tr><tr><td>Kinuura Quarantine Anchorage</td><td>27900</td><td>12</td></tr><tr><td>Kinwan</td><td>21323</td><td>1</td></tr><tr><td>Kisarazu</td><td>1050673</td><td>66</td></tr><tr><td>Kisarazu Anchorage</td><td>1073629</td><td>60</td></tr><tr><td>Kiyanly</td><td>16837</td><td>1</td></tr><tr><td>Kizomba Terminals Anchorage</td><td>118103</td><td>7</td></tr><tr><td>Kobe</td><td>10287913</td><td>576</td></tr><tr><td>Kobe Anchorage</td><td>11065251</td><td>617</td></tr><tr><td>Kochi (Japan)</td><td>9300</td><td>4</td></tr><tr><td>Kokura</td><td>12600</td><td>1</td></tr><tr><td>Kolkata</td><td>154308</td><td>22</td></tr><tr><td>Kolkata Anchorage</td><td>154308</td><td>22</td></tr><tr><td>Komatsushima</td><td>2325</td><td>1</td></tr><tr><td>Koper</td><td>1643664</td><td>108</td></tr><tr><td>Koper Anchorage</td><td>1528041</td><td>99</td></tr><tr><td>Kos</td><td>10834</td><td>1</td></tr><tr><td>Kota Kinabalu</td><td>275019</td><td>17</td></tr><tr><td>Kota Kinabalu Dangerous Petroleum Anchorage</td><td>9313</td><td>1</td></tr><tr><td>Kralendijk</td><td>265830</td><td>18</td></tr><tr><td>Krasnogorskiy</td><td>21120</td><td>1</td></tr><tr><td>Krautsand Reede Anchorage</td><td>9694</td><td>1</td></tr><tr><td>Krefeld</td><td>20139</td><td>1</td></tr><tr><td>Kuching</td><td>206404</td><td>14</td></tr><tr><td>Kuching Anchorage</td><td>99842</td><td>6</td></tr><tr><td>Kudamatsu</td><td>39024</td><td>2</td></tr><tr><td>Kudamatsu Loading Anchorage</td><td>39024</td><td>2</td></tr><tr><td>Kure</td><td>17738</td><td>1</td></tr><tr><td>Kwame Nkrumah MV21 FPSO Waiting Area</td><td>35596</td><td>2</td></tr><tr><td>La Goulette</td><td>275564</td><td>18</td></tr><tr><td>La Goulette Anchorage</td><td>223315</td><td>12</td></tr><tr><td>La Guaira</td><td>50972</td><td>4</td></tr><tr><td>La Maddalena (Sardinia)</td><td>16890</td><td>1</td></tr><tr><td>La Paz</td><td>17713</td><td>1</td></tr><tr><td>La Plata Anchorage</td><td>4069598</td><td>238</td></tr><tr><td>La Rochelle-Pallice</td><td>12778</td><td>1</td></tr><tr><td>La Rochelle-Pallice Anchorage</td><td>12778</td><td>1</td></tr><tr><td>Labuan</td><td>234546</td><td>14</td></tr><tr><td>Labuan Anchorage</td><td>355625</td><td>21</td></tr><tr><td>Labuan Oil Terminal Tanker Anchorage</td><td>95798</td><td>6</td></tr><tr><td>Lae</td><td>331844</td><td>26</td></tr><tr><td>Lae Anchor Berth QS</td><td>26783</td><td>2</td></tr><tr><td>Laem Chabang</td><td>10838128</td><td>645</td></tr><tr><td>Lagos (Nigeria)</td><td>3448294</td><td>203</td></tr><tr><td>Lagos (Nigeria) Anchorage</td><td>6986022</td><td>418</td></tr><tr><td>Lalang Marine Terminal</td><td>5324</td><td>2</td></tr><tr><td>Larnaca</td><td>240268</td><td>10</td></tr><tr><td>Larnaca Anchorage</td><td>68534</td><td>3</td></tr><tr><td>Las Palmas</td><td>132296</td><td>8</td></tr><tr><td>Las Palmas Rada Sur Anchorage</td><td>362173</td><td>22</td></tr><tr><td>Lazaro Cardenas</td><td>6454289</td><td>359</td></tr><tr><td>Le Havre</td><td>3776164</td><td>195</td></tr><tr><td>Le Havre No 1 Anchorage</td><td>87888</td><td>5</td></tr><tr><td>Le Havre No 2 Anchorage</td><td>427136</td><td>19</td></tr><tr><td>Le Havre No 3 Anchorage</td><td>810179</td><td>42</td></tr><tr><td>Leam Chabang Harbour Anchorage</td><td>6718471</td><td>409</td></tr><tr><td>Leigh Small Ship Anchorage</td><td>25765</td><td>1</td></tr><tr><td>Leixoes Anchorage</td><td>14110</td><td>1</td></tr><tr><td>Leonis FSO</td><td>21668</td><td>2</td></tr><tr><td>Levuka</td><td>17252</td><td>1</td></tr><tr><td>Lhokseumawe</td><td>21037</td><td>1</td></tr><tr><td>Lianyungang</td><td>1655288</td><td>88</td></tr><tr><td>Lianyungang Anchorage No 1</td><td>905227</td><td>49</td></tr><tr><td>Lianyungang Anchorage No 2</td><td>677299</td><td>37</td></tr><tr><td>Lianyungang Anchorage No 3</td><td>571690</td><td>31</td></tr><tr><td>Lianyungang Anchorage No 4</td><td>430828</td><td>21</td></tr><tr><td>Lianyungang Anchorage No 5</td><td>176389</td><td>9</td></tr><tr><td>Lianyungang Dangerous Goods Anchorage</td><td>104467</td><td>5</td></tr><tr><td>Libreville Anchorage</td><td>562666</td><td>35</td></tr><tr><td>Limas</td><td>1011966</td><td>83</td></tr><tr><td>Limassol</td><td>162858</td><td>5</td></tr><tr><td>Limassol Port Anchorage</td><td>108406</td><td>3</td></tr><tr><td>Liuhe Ocean Liners Anchorage</td><td>175749</td><td>10</td></tr><tr><td>Liuheng</td><td>721956</td><td>50</td></tr><tr><td>Liuheng North Anchorage</td><td>834473</td><td>49</td></tr><tr><td>Livorno</td><td>2162171</td><td>130</td></tr><tr><td>Lobito</td><td>48608</td><td>3</td></tr><tr><td>Lobito Anchorage</td><td>31356</td><td>2</td></tr><tr><td>Lobos Islands</td><td>387024</td><td>25</td></tr><tr><td>Lome</td><td>366140</td><td>25</td></tr><tr><td>Lome Anchorage</td><td>195537</td><td>12</td></tr><tr><td>London</td><td>470421</td><td>23</td></tr><tr><td>London Gateway</td><td>60261</td><td>3</td></tr><tr><td>London Thamesport</td><td>10834</td><td>1</td></tr><tr><td>Long Beach</td><td>4547519</td><td>244</td></tr><tr><td>Long Beach Anchorage B</td><td>281922</td><td>18</td></tr><tr><td>Long Beach Anchorage F</td><td>294597</td><td>17</td></tr><tr><td>Long Beach Anchorage G</td><td>95214</td><td>6</td></tr><tr><td>Long Beach Southern Anchorage</td><td>7157511</td><td>455</td></tr><tr><td>Longkou</td><td>67147</td><td>4</td></tr><tr><td>Longview Anchorage</td><td>95265</td><td>6</td></tr><tr><td>Los Angeles</td><td>1953694</td><td>132</td></tr><tr><td>Lower Vancouver Anchorage</td><td>17442</td><td>1</td></tr><tr><td>Luanda</td><td>1961129</td><td>109</td></tr><tr><td>Luanda Inner Anchorage</td><td>2209949</td><td>122</td></tr><tr><td>Luanda Outer Anchorage</td><td>3605264</td><td>200</td></tr><tr><td>Luhuashan South Anchorage</td><td>247912</td><td>28</td></tr><tr><td>Luoyuan bay Harbour Anchorage</td><td>21421</td><td>1</td></tr><tr><td>Lusi</td><td>9694</td><td>1</td></tr><tr><td>Lyttelton</td><td>1766706</td><td>116</td></tr><tr><td>Lyttelton Anchorage</td><td>680731</td><td>46</td></tr><tr><td>Ma Zhou Island</td><td>60958</td><td>5</td></tr><tr><td>Ma Zhou West Dangerous Goods Anchorage</td><td>55914</td><td>3</td></tr><tr><td>Madura</td><td>4995</td><td>2</td></tr><tr><td>Magellan Strait Area</td><td>812253</td><td>58</td></tr><tr><td>Mailiao No 2 Anchorage</td><td>20056</td><td>1</td></tr><tr><td>Maizuru</td><td>26899</td><td>7</td></tr><tr><td>Majishan Port Anchorage No 1</td><td>322996</td><td>22</td></tr><tr><td>Majishan Port Anchorage No 2</td><td>69406</td><td>6</td></tr><tr><td>Makassar</td><td>604092</td><td>171</td></tr><tr><td>Makassar Anchorage</td><td>582562</td><td>167</td></tr><tr><td>Malabo</td><td>73584</td><td>6</td></tr><tr><td>Malacca</td><td>30135</td><td>2</td></tr><tr><td>Malaga</td><td>165066</td><td>15</td></tr><tr><td>Malaga Anchorage</td><td>32502</td><td>3</td></tr><tr><td>Malaga Dangerous Cargo Anchorage</td><td>43336</td><td>4</td></tr><tr><td>Malmo</td><td>603502</td><td>29</td></tr><tr><td>Malmok Anchorage</td><td>167021</td><td>12</td></tr><tr><td>Malta Valletta and Marsaxlokk Anchorage</td><td>6728507</td><td>350</td></tr><tr><td>Mamonal Anchorage A</td><td>17006</td><td>1</td></tr><tr><td>Mamonal Anchorage E</td><td>110157</td><td>7</td></tr><tr><td>Mangalia</td><td>102377</td><td>5</td></tr><tr><td>Mangalia Anchorage</td><td>20578</td><td>1</td></tr><tr><td>Mangalore</td><td>35142</td><td>2</td></tr><tr><td>Manila</td><td>141687</td><td>10</td></tr><tr><td>Manila Anchorages</td><td>222396</td><td>17</td></tr><tr><td>Man-of-War Anchorage (AMOW)</td><td>38730</td><td>2</td></tr><tr><td>Manta</td><td>1764867</td><td>112</td></tr><tr><td>Manzanillo (Mexico)</td><td>1510243</td><td>88</td></tr><tr><td>Manzanillo (Mexico) Anchorage</td><td>438357</td><td>26</td></tr><tr><td>Manzanillo (Mexico) Anchorage A</td><td>34791</td><td>2</td></tr><tr><td>Maputo</td><td>2932622</td><td>168</td></tr><tr><td>Maputo Bay Anchorage</td><td>5206386</td><td>293</td></tr><tr><td>Maputo Outer Anchorage</td><td>1036327</td><td>56</td></tr><tr><td>Marcus Hook General Anchorage 7</td><td>408028</td><td>20</td></tr><tr><td>Marcus Hook Quarantine Anchorage</td><td>61485</td><td>3</td></tr><tr><td>Margate Roads Anchorage</td><td>1603081</td><td>97</td></tr><tr><td>Marsaxlokk</td><td>92882</td><td>4</td></tr><tr><td>Marsaxlokk Anchorage</td><td>860624</td><td>58</td></tr><tr><td>Marseille</td><td>241510</td><td>21</td></tr><tr><td>Marseille Nord Anchorage</td><td>22520</td><td>2</td></tr><tr><td>Marseilles Mouillage Ouest Anchorage</td><td>25054</td><td>2</td></tr><tr><td>Marseilles Nord Anchorage</td><td>102786</td><td>9</td></tr><tr><td>Marugame</td><td>178196</td><td>10</td></tr><tr><td>Masan</td><td>2612167</td><td>137</td></tr><tr><td>Masao</td><td>17435</td><td>1</td></tr><tr><td>Mashi Anchorage Area No 1</td><td>1691753</td><td>108</td></tr><tr><td>Mashi Anchorage Area No 2</td><td>851823</td><td>50</td></tr><tr><td>Massawa</td><td>17386</td><td>1</td></tr><tr><td>Matanzas (Cuba) Anchorage</td><td>9386</td><td>2</td></tr><tr><td>Matsuura Anchorage</td><td>40321</td><td>2</td></tr><tr><td>Matsuyama</td><td>24507</td><td>2</td></tr><tr><td>Mazhi Dangerous Goods Anchorage</td><td>402659</td><td>22</td></tr><tr><td>Mazhi Dangerous Goods Operation Anchorage</td><td>59217</td><td>4</td></tr><tr><td>M'Bao Oil Terminal</td><td>20138</td><td>1</td></tr><tr><td>Mega</td><td>91488</td><td>5</td></tr><tr><td>Meishan</td><td>106549</td><td>5</td></tr><tr><td>Mejillones</td><td>66520</td><td>4</td></tr><tr><td>Melbourne</td><td>8903635</td><td>485</td></tr><tr><td>Melbourne Explosives Anchorage</td><td>926110</td><td>52</td></tr><tr><td>Merak Anchorage</td><td>117479</td><td>7</td></tr><tr><td>Mersin</td><td>636119</td><td>35</td></tr><tr><td>Mersin Anchorage</td><td>457545</td><td>24</td></tr><tr><td>Mersin Anchorage No. 1</td><td>99278</td><td>5</td></tr><tr><td>Mersin Anchorage No. 2</td><td>40672</td><td>2</td></tr><tr><td>Mersin Anchorages</td><td>254182</td><td>15</td></tr><tr><td>Methaniers Pilot Boarding Area</td><td>150315</td><td>8</td></tr><tr><td>Miami</td><td>18724</td><td>1</td></tr><tr><td>Miami Anchorage</td><td>18724</td><td>1</td></tr><tr><td>Milford Haven Anchorage</td><td>18770</td><td>1</td></tr><tr><td>Milos Island</td><td>10834</td><td>1</td></tr><tr><td>Mina Abd Allah Terminal_Mina Ash Shuaybah Petroleum Products Pier Anchorage</td><td>19670</td><td>1</td></tr><tr><td>Mina Al Ahmadi South Pier Anchorage</td><td>19670</td><td>1</td></tr><tr><td>MIna Al Ahmadi SPM Anchorage</td><td>123160</td><td>6</td></tr><tr><td>Mina al Fahal Anchorage</td><td>21421</td><td>1</td></tr><tr><td>Miri</td><td>12507</td><td>1</td></tr><tr><td>Mishima-Kawanoe</td><td>20434</td><td>1</td></tr><tr><td>Misumi (Kumamoto)</td><td>20056</td><td>1</td></tr><tr><td>Mitajiri</td><td>4990534</td><td>298</td></tr><tr><td>Mizushima</td><td>3189396</td><td>191</td></tr><tr><td>Mizushima Anchor Berths A - E</td><td>18770</td><td>1</td></tr><tr><td>Mizushima Quarantine Anchorage</td><td>368611</td><td>26</td></tr><tr><td>Mobile</td><td>92539</td><td>5</td></tr><tr><td>Mobile Outer Fairway Anchorage</td><td>74767</td><td>4</td></tr><tr><td>Mohammedia Anchorage</td><td>18770</td><td>1</td></tr><tr><td>Moji</td><td>5539392</td><td>333</td></tr><tr><td>Moji Northern Anchorage</td><td>4650</td><td>2</td></tr><tr><td>Moji Southern Anchorage</td><td>84671</td><td>8</td></tr><tr><td>Mokha</td><td>16178</td><td>1</td></tr><tr><td>Mokpo</td><td>10854448</td><td>587</td></tr><tr><td>Mokpo Anchorage Area IV</td><td>2574363</td><td>139</td></tr><tr><td>Mokpo Anchorage Area V</td><td>500830</td><td>26</td></tr><tr><td>Mokpo Outer Anchorages</td><td>1240980</td><td>63</td></tr><tr><td>Mombasa</td><td>3415364</td><td>194</td></tr><tr><td>Mombasa Anchorages</td><td>2272066</td><td>129</td></tr><tr><td>Monbetsu</td><td>12490</td><td>1</td></tr><tr><td>Monfalcone</td><td>20434</td><td>1</td></tr><tr><td>Monfalcone Anchorage</td><td>20434</td><td>1</td></tr><tr><td>Mongla</td><td>188586</td><td>22</td></tr><tr><td>Montevideo</td><td>1625034</td><td>89</td></tr><tr><td>Montevideo Anchorage and Service Area</td><td>6581458</td><td>376</td></tr><tr><td>Mormugao</td><td>12893</td><td>1</td></tr><tr><td>Muara</td><td>154400</td><td>15</td></tr><tr><td>Muara Anchorage</td><td>529747</td><td>43</td></tr><tr><td>Muara Pantai</td><td>17297</td><td>1</td></tr><tr><td>Muara Tawar Power Station (PLTGU) CBM</td><td>2662</td><td>1</td></tr><tr><td>Muhammad Bin Qasim</td><td>78680</td><td>4</td></tr><tr><td>Muhammad Bin Qasim Outer Anchorage</td><td>19670</td><td>1</td></tr><tr><td>Mumbai</td><td>1393564</td><td>73</td></tr><tr><td>Mumbai Anchorage</td><td>1088873</td><td>61</td></tr><tr><td>Mumbai Bravo (East) Anchorage</td><td>33355</td><td>2</td></tr><tr><td>Mumbai Bravo (West) Anchorage</td><td>275391</td><td>15</td></tr><tr><td>Mumbai Cargo Transhipment Area</td><td>42813</td><td>2</td></tr><tr><td>Mumbai Outer Anchorage</td><td>777525</td><td>42</td></tr><tr><td>Mundra</td><td>733796</td><td>39</td></tr><tr><td>Mundra General Anchorage A</td><td>1057022</td><td>56</td></tr><tr><td>Mundra General Anchorage B</td><td>42788</td><td>2</td></tr><tr><td>Mundra South Basin</td><td>291505</td><td>15</td></tr><tr><td>Mundra SPM Anchorage</td><td>73325</td><td>4</td></tr><tr><td>Mundra SPM's Anchorage</td><td>15461</td><td>1</td></tr><tr><td>Munguba</td><td>30907</td><td>1</td></tr><tr><td>Muroran</td><td>19381</td><td>1</td></tr><tr><td>Musaffah</td><td>17481</td><td>1</td></tr><tr><td>Musaffah Anchorage</td><td>321959</td><td>18</td></tr><tr><td>My Thoi</td><td>28566</td><td>1</td></tr><tr><td>NA</td><td>160203191</td><td>8976</td></tr><tr><td>Nagasaki South Section</td><td>21462</td><td>1</td></tr><tr><td>Nagoya</td><td>29923071</td><td>1768</td></tr><tr><td>Nagoya Anchorage</td><td>6952105</td><td>464</td></tr><tr><td>Nagoya LPG Anchorage</td><td>5458722</td><td>321</td></tr><tr><td>Naha</td><td>120191</td><td>8</td></tr><tr><td>Nakhodka</td><td>61921</td><td>3</td></tr><tr><td>Nakhodka Anchorage No. 167</td><td>12755</td><td>1</td></tr><tr><td>Nakhodka Anchorage No. 306</td><td>12755</td><td>1</td></tr><tr><td>Nakhodka Anchorages 166 to 167</td><td>39177</td><td>3</td></tr><tr><td>Nanao</td><td>20139</td><td>1</td></tr><tr><td>Nancao Temporary Anchorage B for Dangerous Cargo Vessels</td><td>6561</td><td>1</td></tr><tr><td>Nancao Temporary Anchorage No 1</td><td>15301</td><td>1</td></tr><tr><td>Nancao Temporary Anchorage No 2</td><td>13122</td><td>2</td></tr><tr><td>Nanhui</td><td>27609</td><td>1</td></tr><tr><td>Nanjing</td><td>46300</td><td>5</td></tr><tr><td>Nansha</td><td>15413</td><td>1</td></tr><tr><td>Nansha Anchorage 33LD</td><td>6561</td><td>1</td></tr><tr><td>Nantong</td><td>829908</td><td>46</td></tr><tr><td>Nantong Port Dangerous Goods Anchorage</td><td>420089</td><td>24</td></tr><tr><td>Nantong Port Erhaojia Anchorage</td><td>74373</td><td>4</td></tr><tr><td>Nantong Port Lightering Anchorage</td><td>92615</td><td>5</td></tr><tr><td>Naoetsu</td><td>20895</td><td>1</td></tr><tr><td>Nassau</td><td>543451</td><td>58</td></tr><tr><td>Naze</td><td>58138</td><td>41</td></tr><tr><td>Neendakara</td><td>37820</td><td>2</td></tr><tr><td>Nelson</td><td>1430719</td><td>95</td></tr><tr><td>Nemrut Bay Outer Anchorage</td><td>16493</td><td>1</td></tr><tr><td>Neue-Weser-Nord-Reede Anchorage</td><td>2912281</td><td>160</td></tr><tr><td>Neue-Weser-Reede Anchorage</td><td>21091</td><td>1</td></tr><tr><td>Neuhaus</td><td>20138</td><td>1</td></tr><tr><td>New Glasgow &amp; Trenton</td><td>14274</td><td>1</td></tr><tr><td>New Sand Hole Anchorage</td><td>558218</td><td>26</td></tr><tr><td>New York &amp; New Jersey</td><td>13208808</td><td>712</td></tr><tr><td>New York &amp; New Jersey Anchorage</td><td>205732</td><td>10</td></tr><tr><td>New York &amp; New Jersey Brenton Point Anchorage Ground</td><td>21000</td><td>1</td></tr><tr><td>New York_New Jersey Anchorage</td><td>137347</td><td>8</td></tr><tr><td>Newcaste Upon Tyne Anchorage</td><td>1262598</td><td>64</td></tr><tr><td>Newcastle (Australia)</td><td>204741</td><td>7</td></tr><tr><td>Newcastle (Australia) Anchorage</td><td>213844</td><td>7</td></tr><tr><td>Newcastle upon Tyne</td><td>1314563</td><td>67</td></tr><tr><td>Newcastle upon Tyne Anchorage</td><td>287344</td><td>15</td></tr><tr><td>Newport (Rhode Island)</td><td>93620</td><td>5</td></tr><tr><td>Newport (Rhode Island) Naval &amp; General A</td><td>284852</td><td>15</td></tr><tr><td>Newport (Rhode Island) Naval &amp; General A Anchorage</td><td>132688</td><td>7</td></tr><tr><td>Newport News</td><td>1546298</td><td>75</td></tr><tr><td>Niihama</td><td>56310</td><td>3</td></tr><tr><td>Niihama Anchorage</td><td>309883</td><td>17</td></tr><tr><td>Nikolayev Outer Anchorage</td><td>21000</td><td>1</td></tr><tr><td>Ningbo Anchorage</td><td>122607</td><td>8</td></tr><tr><td>No 1 Qianhai Anchorage</td><td>155502</td><td>8</td></tr><tr><td>Nordenham</td><td>17280</td><td>1</td></tr><tr><td>Nordostreed Anchorage; Brunsbuttel</td><td>37596</td><td>3</td></tr><tr><td>Norfolk</td><td>41336</td><td>3</td></tr><tr><td>North Port</td><td>1197193</td><td>87</td></tr><tr><td>North Port Anchorage North</td><td>100785</td><td>7</td></tr><tr><td>North Port Anchorage South</td><td>307677</td><td>23</td></tr><tr><td>North Vancouver</td><td>428207</td><td>16</td></tr><tr><td>Northport (Malaysia)</td><td>215472</td><td>16</td></tr><tr><td>Northport Anchorage North (Malaysia)</td><td>22765</td><td>2</td></tr><tr><td>Northport Anchorage South (Malaysia)</td><td>24009</td><td>2</td></tr><tr><td>Noumea</td><td>702828</td><td>36</td></tr><tr><td>Novorossiysk</td><td>50824</td><td>4</td></tr><tr><td>Novorossiysk Anchorage 410</td><td>15577</td><td>1</td></tr><tr><td>Novorossiysk Anchorage 414</td><td>12706</td><td>1</td></tr><tr><td>Nueva Palmira</td><td>144799</td><td>7</td></tr><tr><td>Nueva Palmira Anchorage</td><td>124936</td><td>6</td></tr><tr><td>Oarai</td><td>13951</td><td>1</td></tr><tr><td>Offshore Pascagoula No 2</td><td>30340</td><td>2</td></tr><tr><td>Ogishima</td><td>256673</td><td>14</td></tr><tr><td>Oita</td><td>18304</td><td>1</td></tr><tr><td>Oita Anchorage</td><td>13954</td><td>1</td></tr><tr><td>Oita Quarantine Anchorage</td><td>18304</td><td>1</td></tr><tr><td>Okpo Anchorage</td><td>11156046</td><td>618</td></tr><tr><td>Omaezaki</td><td>1819947</td><td>109</td></tr><tr><td>Onahama</td><td>78875</td><td>3</td></tr><tr><td>Onahama Quarantine Anchorage</td><td>17201</td><td>1</td></tr><tr><td>Oostdyck</td><td>260577</td><td>14</td></tr><tr><td>Oranjestad (Aruba)</td><td>1256550</td><td>72</td></tr><tr><td>Osaka</td><td>1187293</td><td>79</td></tr><tr><td>Osaka Anchorage</td><td>192878</td><td>12</td></tr><tr><td>Osaka Quarantine Anchorage</td><td>190077</td><td>18</td></tr><tr><td>Oudna Terminal</td><td>22675</td><td>1</td></tr><tr><td>Owendo</td><td>335204</td><td>21</td></tr><tr><td>Palenque</td><td>95880</td><td>24</td></tr><tr><td>Palma</td><td>11260</td><td>1</td></tr><tr><td>Panama Canal</td><td>10410869</td><td>565</td></tr><tr><td>Panama Canal Atlantic Inner Anchorage</td><td>9673098</td><td>520</td></tr><tr><td>Panama Canal Atlantic Outer Anchorage</td><td>26458711</td><td>1399</td></tr><tr><td>Panama Canal Pacific Anchorage</td><td>16838104</td><td>929</td></tr><tr><td>Pantoloan</td><td>21847</td><td>7</td></tr><tr><td>Papeete</td><td>553937</td><td>18</td></tr><tr><td>Paramaribo</td><td>333441</td><td>77</td></tr><tr><td>Paranagua</td><td>3731779</td><td>206</td></tr><tr><td>Paranagua Anchorage No 12</td><td>6896482</td><td>380</td></tr><tr><td>Paranagua Anchorage No 5</td><td>61344</td><td>4</td></tr><tr><td>Paranagua Anchorage No 6</td><td>232177</td><td>11</td></tr><tr><td>Paranagua Anchorage No 7</td><td>142013</td><td>9</td></tr><tr><td>Paranagua Anchorage No 8</td><td>81027</td><td>4</td></tr><tr><td>Paranagua Anchorage No 9</td><td>149569</td><td>9</td></tr><tr><td>Paris</td><td>38569</td><td>2</td></tr><tr><td>Pasajes</td><td>9694</td><td>1</td></tr><tr><td>Paulsboro</td><td>1755947</td><td>82</td></tr><tr><td>Pearl Harbor</td><td>87927</td><td>7</td></tr><tr><td>Pecem Anchorage</td><td>21900</td><td>1</td></tr><tr><td>Pemba</td><td>18334</td><td>1</td></tr><tr><td>Petchburi Terminal</td><td>12249</td><td>1</td></tr><tr><td>Philadelphia</td><td>2507446</td><td>119</td></tr><tr><td>Philipsburg Anchorage</td><td>20144</td><td>1</td></tr><tr><td>Phnom-Penh</td><td>21286</td><td>1</td></tr><tr><td>Pindhara</td><td>18638</td><td>1</td></tr><tr><td>Piraeus</td><td>4054858</td><td>265</td></tr><tr><td>Piraeus Anchorage</td><td>5699706</td><td>378</td></tr><tr><td>Pittsburg</td><td>17765</td><td>1</td></tr><tr><td>Plumper Sound Anchorage No 1-5</td><td>28548</td><td>2</td></tr><tr><td>Pohang</td><td>22675</td><td>1</td></tr><tr><td>Pohang Outer Anchorages</td><td>17950</td><td>1</td></tr><tr><td>Pohang Yeongil</td><td>44375</td><td>3</td></tr><tr><td>Pointe-a-Pitre</td><td>347342</td><td>33</td></tr><tr><td>Pointe-Noire</td><td>440615</td><td>25</td></tr><tr><td>Pointe-Noire Anchorage</td><td>806096</td><td>47</td></tr><tr><td>Poleng</td><td>19381</td><td>1</td></tr><tr><td>Pomalaa</td><td>41176</td><td>2</td></tr><tr><td>Pontianak Anchorage</td><td>15154</td><td>1</td></tr><tr><td>Port Akdeniz Anchorage No 1</td><td>9694</td><td>1</td></tr><tr><td>Port Angeles</td><td>161879</td><td>7</td></tr><tr><td>Port Arthur</td><td>201346</td><td>9</td></tr><tr><td>Port au Prince</td><td>43945</td><td>11</td></tr><tr><td>Port Canaveral</td><td>360389</td><td>18</td></tr><tr><td>Port de L'Amitie</td><td>126726</td><td>7</td></tr><tr><td>Port de L'Amitie Anchorage</td><td>180244</td><td>10</td></tr><tr><td>Port Elizabeth</td><td>2676471</td><td>136</td></tr><tr><td>Port Elizabeth Anchorage No 1</td><td>168165</td><td>9</td></tr><tr><td>Port Elizabeth Anchorage No 2</td><td>367202</td><td>20</td></tr><tr><td>Port Everglades</td><td>387274</td><td>30</td></tr><tr><td>Port Everglades Anchorage</td><td>97606</td><td>8</td></tr><tr><td>Port Gentil</td><td>12778</td><td>1</td></tr><tr><td>Port Gentil Anchorage</td><td>12778</td><td>1</td></tr><tr><td>Port Jerome</td><td>88406</td><td>6</td></tr><tr><td>Port Kembla</td><td>9250965</td><td>509</td></tr><tr><td>Port Kembla Anchor Berths</td><td>9560093</td><td>523</td></tr><tr><td>Port Klang Lay-Up Anchorage</td><td>10869549</td><td>687</td></tr><tr><td>Port Louis</td><td>523961</td><td>26</td></tr><tr><td>Port Louis Anchorage</td><td>678622</td><td>35</td></tr><tr><td>Port Moresby</td><td>310210</td><td>24</td></tr><tr><td>Port Moresby Outer Anchorage</td><td>436125</td><td>33</td></tr><tr><td>Port Moresby Quarantine Anchorage</td><td>107838</td><td>8</td></tr><tr><td>Port Neches</td><td>98350</td><td>5</td></tr><tr><td>Port North Fraser</td><td>5384220</td><td>326</td></tr><tr><td>Port of Davisville</td><td>606273</td><td>33</td></tr><tr><td>Port of South Louisiana</td><td>15154</td><td>1</td></tr><tr><td>Port of Spain</td><td>1650145</td><td>129</td></tr><tr><td>Port Rashid</td><td>219585</td><td>13</td></tr><tr><td>Port Rashid Anchorage A</td><td>250837</td><td>13</td></tr><tr><td>Port Rashid Anchorage C</td><td>352688</td><td>20</td></tr><tr><td>Port Rashid Anchorage D</td><td>666967</td><td>39</td></tr><tr><td>Port Rashid Long Term Anchorage</td><td>195249</td><td>11</td></tr><tr><td>Port Refuge</td><td>20138</td><td>1</td></tr><tr><td>Port Reunion</td><td>669407</td><td>29</td></tr><tr><td>Port Royal (Jamaica) Small Craft Anchorage</td><td>140918</td><td>9</td></tr><tr><td>Port Said</td><td>3024098</td><td>151</td></tr><tr><td>Port Said Cargo Transhipment Anchorage</td><td>39642</td><td>2</td></tr><tr><td>Port Said North Anchorage</td><td>6165514</td><td>322</td></tr><tr><td>Port Said South Anchorage</td><td>6034195</td><td>309</td></tr><tr><td>Port Said West Anchorage</td><td>24168</td><td>2</td></tr><tr><td>Port Sudan</td><td>973268</td><td>47</td></tr><tr><td>Port Sultan Qaboos</td><td>1955012</td><td>112</td></tr><tr><td>Port Sultan Qaboos Anchorage</td><td>105810</td><td>5</td></tr><tr><td>Port Wentworth</td><td>1444734</td><td>50</td></tr><tr><td>Portland (USA-Oregon)</td><td>4957121</td><td>305</td></tr><tr><td>Porto Cervo</td><td>15013</td><td>1</td></tr><tr><td>Portsmouth (USA-Hampton Roads)</td><td>73545</td><td>5</td></tr><tr><td>Portsmouth Man-of-War Anchorage</td><td>21424</td><td>1</td></tr><tr><td>Posorja Anchorage</td><td>53023</td><td>3</td></tr><tr><td>Providence</td><td>507373</td><td>28</td></tr><tr><td>PSVM FPSO</td><td>94246</td><td>6</td></tr><tr><td>Puerto Cabello</td><td>2143321</td><td>105</td></tr><tr><td>Puerto Cabello Anchorage</td><td>3445177</td><td>172</td></tr><tr><td>Puerto Cortes</td><td>378823</td><td>26</td></tr><tr><td>Puerto Cortes Anchorage</td><td>28566</td><td>1</td></tr><tr><td>Puerto Limon</td><td>406890</td><td>24</td></tr><tr><td>Puerto Limon Anchorage</td><td>297838</td><td>19</td></tr><tr><td>Puerto Moin</td><td>84805</td><td>5</td></tr><tr><td>Puerto Princesa</td><td>9313</td><td>1</td></tr><tr><td>Puerto Progreso Anchorage</td><td>20096</td><td>1</td></tr><tr><td>Puerto Quetzal</td><td>1088980</td><td>64</td></tr><tr><td>Puerto Quetzal Anchorage</td><td>345350</td><td>20</td></tr><tr><td>Pulupandan</td><td>30774</td><td>2</td></tr><tr><td>Pyeong Taek</td><td>23912112</td><td>1320</td></tr><tr><td>Pyeong Taek Anchorage</td><td>16660582</td><td>905</td></tr><tr><td>Pyeong Taek Quarantine Anchorage</td><td>17597043</td><td>978</td></tr><tr><td>Qasr Ahmed</td><td>1280807</td><td>83</td></tr><tr><td>Qasr Ahmed Anchorage</td><td>2378683</td><td>148</td></tr><tr><td>Qingdao</td><td>1898050</td><td>94</td></tr><tr><td>Qingdao Inner Anchorage</td><td>126031</td><td>5</td></tr><tr><td>Qingdao Outer Anchorage</td><td>194171</td><td>9</td></tr><tr><td>Qinhuangdao East Anchorage</td><td>15546</td><td>1</td></tr><tr><td>Qinzhou No 1 Anchorage 10 to 20t vessels</td><td>20138</td><td>1</td></tr><tr><td>Qinzhou Quarantine Anchorage</td><td>36626</td><td>2</td></tr><tr><td>Qushan</td><td>436939</td><td>27</td></tr><tr><td>Rabaul</td><td>15154</td><td>1</td></tr><tr><td>Rang Dong FPSO</td><td>16493</td><td>1</td></tr><tr><td>Ras Diheisa Deep Water Anchorage</td><td>236816</td><td>13</td></tr><tr><td>Ras Laffan Anchorage 1</td><td>12588</td><td>1</td></tr><tr><td>Ras Laffan Anchorage 2</td><td>241098</td><td>14</td></tr><tr><td>Ras Laffan SPM Terminal</td><td>17442</td><td>1</td></tr><tr><td>Ras Tanura Tanker Anchorage</td><td>27309</td><td>2</td></tr><tr><td>Recalada Anchorage</td><td>531414</td><td>30</td></tr><tr><td>Recife</td><td>111419</td><td>7</td></tr><tr><td>Recife Anchorage</td><td>89896</td><td>5</td></tr><tr><td>Rede Vlissingen Anchorage</td><td>80623</td><td>5</td></tr><tr><td>Reede Fedderwarden Anchorage</td><td>68005</td><td>3</td></tr><tr><td>Revdanda</td><td>36758</td><td>2</td></tr><tr><td>Richards Bay Anchorage</td><td>38172</td><td>2</td></tr><tr><td>Richmond (California)</td><td>2166414</td><td>133</td></tr><tr><td>Richmond (Canada)</td><td>2514618</td><td>155</td></tr><tr><td>Rio de Janeiro</td><td>1323702</td><td>68</td></tr><tr><td>Rio de Janeiro Anchorage No 1</td><td>110594</td><td>5</td></tr><tr><td>Rio de Janeiro Anchorage No 13</td><td>1143752</td><td>60</td></tr><tr><td>Rio de Janeiro Anchorage No 14</td><td>273028</td><td>15</td></tr><tr><td>Rio de Janeiro Anchorage No 2 (N)</td><td>73586</td><td>4</td></tr><tr><td>Rio de Janeiro Anchorage No 3A</td><td>28566</td><td>1</td></tr><tr><td>Rio de Janeiro Anchorage No 4</td><td>11373</td><td>1</td></tr><tr><td>Rio Grande (Brazil)</td><td>1128848</td><td>53</td></tr><tr><td>Rio Grande (Brazil) Anchorage</td><td>1795433</td><td>84</td></tr><tr><td>Rio Haina</td><td>58423</td><td>6</td></tr><tr><td>River Plate Lightering Area A</td><td>4822558</td><td>278</td></tr><tr><td>River Plate Lightering Area D</td><td>249613</td><td>14</td></tr><tr><td>Rizhao Anchorage No 2</td><td>10834</td><td>1</td></tr><tr><td>Roberts Bank</td><td>15681</td><td>1</td></tr><tr><td>Rodman Naval Station</td><td>50535</td><td>2</td></tr><tr><td>Rosario</td><td>21000</td><td>1</td></tr><tr><td>Roseau</td><td>116859</td><td>7</td></tr><tr><td>Rostock</td><td>21053</td><td>1</td></tr><tr><td>Rotterdam</td><td>13951</td><td>1</td></tr><tr><td>Rotterdam Anchorage No 3A</td><td>599928</td><td>31</td></tr><tr><td>Rotterdam Anchorage No 3C</td><td>340360</td><td>17</td></tr><tr><td>Rotterdam Anchorage No 4BN</td><td>63975</td><td>4</td></tr><tr><td>Rotterdam Anchorage No 5A</td><td>37413</td><td>3</td></tr><tr><td>Rotterdam Anchorage No 5B</td><td>74826</td><td>6</td></tr><tr><td>Rotterdam Anchorage No. 2</td><td>17382</td><td>1</td></tr><tr><td>Rotterdam Emergency Deep Water Anchorage</td><td>142735</td><td>6</td></tr><tr><td>Rouen</td><td>90991</td><td>6</td></tr><tr><td>Ryde Middle Anchorage</td><td>318518</td><td>13</td></tr><tr><td>Sabine Pass</td><td>245332</td><td>10</td></tr><tr><td>Sabine Pass Inshore Anchorage</td><td>59010</td><td>3</td></tr><tr><td>Safety Fairway Anchorages</td><td>14342</td><td>1</td></tr><tr><td>Sagunto</td><td>1016166</td><td>72</td></tr><tr><td>Sagunto Anchorage</td><td>334065</td><td>24</td></tr><tr><td>Sagunto Dangerous Cargo Anchorage</td><td>200469</td><td>13</td></tr><tr><td>Saigon</td><td>619700</td><td>42</td></tr><tr><td>Saiki</td><td>12200</td><td>1</td></tr><tr><td>Saipan</td><td>477180</td><td>27</td></tr><tr><td>Saiqi</td><td>15261</td><td>1</td></tr><tr><td>Sakai</td><td>114971</td><td>5</td></tr><tr><td>Sakai Anchor Berths</td><td>19013</td><td>1</td></tr><tr><td>Sakaide</td><td>65100</td><td>28</td></tr><tr><td>Sakaide Quarantine Anchorage</td><td>13950</td><td>6</td></tr><tr><td>Sakaiminato</td><td>12939</td><td>1</td></tr><tr><td>Sakata</td><td>15577</td><td>1</td></tr><tr><td>Salalah</td><td>118020</td><td>6</td></tr><tr><td>Salalah Anchorage</td><td>59010</td><td>3</td></tr><tr><td>Saldanha Bay Outer Anchorage</td><td>20139</td><td>1</td></tr><tr><td>Salem River Anchorage No 1</td><td>18772</td><td>1</td></tr><tr><td>Salem River Anchorage No 2</td><td>19013</td><td>1</td></tr><tr><td>Salem River Anchorage No 3</td><td>301100</td><td>16</td></tr><tr><td>Salerno</td><td>111999</td><td>8</td></tr><tr><td>Salina Anchorage</td><td>57596</td><td>4</td></tr><tr><td>Salvador</td><td>232264</td><td>13</td></tr><tr><td>Salvador Anchorage No 1</td><td>53847</td><td>3</td></tr><tr><td>Salvador Anchorage No 2</td><td>479433</td><td>28</td></tr><tr><td>Salvador Anchorage No 3</td><td>699401</td><td>39</td></tr><tr><td>Salvador Quarantine Anchorage</td><td>64417</td><td>3</td></tr><tr><td>Samalaju</td><td>41862</td><td>2</td></tr><tr><td>Samos</td><td>21276</td><td>1</td></tr><tr><td>San Antonio</td><td>4094055</td><td>241</td></tr><tr><td>San Antonio Anchorage</td><td>2620704</td><td>158</td></tr><tr><td>San Diego</td><td>5529593</td><td>357</td></tr><tr><td>San Francisco</td><td>50232</td><td>3</td></tr><tr><td>San Francisco General Anchorage</td><td>268136</td><td>16</td></tr><tr><td>San Juan</td><td>2436621</td><td>144</td></tr><tr><td>San Lorenzo - San Martin</td><td>12322</td><td>1</td></tr><tr><td>San Lorenzo (Honduras)</td><td>872218</td><td>53</td></tr><tr><td>Sandakan</td><td>21349</td><td>1</td></tr><tr><td>Sangi</td><td>41309</td><td>2</td></tr><tr><td>Santa Cruz de Tenerife</td><td>12778</td><td>1</td></tr><tr><td>Santa Cruz de Tenerife Anchorage</td><td>76985</td><td>4</td></tr><tr><td>Santa Marta</td><td>2034546</td><td>144</td></tr><tr><td>Santander</td><td>1585939</td><td>68</td></tr><tr><td>Santander Anchorage</td><td>490306</td><td>20</td></tr><tr><td>Santo Domingo</td><td>2154235</td><td>189</td></tr><tr><td>Santo Domingo Anchorage</td><td>47940</td><td>12</td></tr><tr><td>Santo Tomas de Castilla</td><td>449504</td><td>33</td></tr><tr><td>Santos</td><td>5877997</td><td>324</td></tr><tr><td>Santos Anchorage</td><td>416095</td><td>24</td></tr><tr><td>Santos Outer Anchorage</td><td>8137261</td><td>447</td></tr><tr><td>Santos Quarantine Anchorage</td><td>300060</td><td>18</td></tr><tr><td>Sao Sebastiao</td><td>59669</td><td>4</td></tr><tr><td>Sao Sebastiao North Anchorage</td><td>28220</td><td>2</td></tr><tr><td>Sao Sebastiao South Anchorage</td><td>17339</td><td>1</td></tr><tr><td>Saraylar</td><td>13695</td><td>1</td></tr><tr><td>Sarikei</td><td>51320</td><td>3</td></tr><tr><td>Satui Coal Anchorage A</td><td>621397</td><td>222</td></tr><tr><td>Saumlaki</td><td>28566</td><td>1</td></tr><tr><td>Savannah</td><td>3222858</td><td>113</td></tr><tr><td>Savona-Vado</td><td>682267</td><td>36</td></tr><tr><td>Savona-Vado Anchorage A</td><td>67594</td><td>4</td></tr><tr><td>Savona-Vado Anchorage B</td><td>18781</td><td>1</td></tr><tr><td>Savona-Vado Anchorage C</td><td>40038</td><td>2</td></tr><tr><td>Savona-Vado Anchorage D</td><td>68199</td><td>3</td></tr><tr><td>Savona-Vado Anchorage E</td><td>104695</td><td>6</td></tr><tr><td>Scheveningen</td><td>20139</td><td>1</td></tr><tr><td>Schouwenbank Anchorage</td><td>5960159</td><td>305</td></tr><tr><td>Seattle</td><td>76609</td><td>4</td></tr><tr><td>Seibu Oil Sea Berth</td><td>41449</td><td>2</td></tr><tr><td>Seine Approach Anchorage</td><td>72946</td><td>4</td></tr><tr><td>Selaata</td><td>17372</td><td>1</td></tr><tr><td>Senboku</td><td>5315364</td><td>388</td></tr><tr><td>Senboku Anchorage</td><td>815375</td><td>59</td></tr><tr><td>Senbong</td><td>14868</td><td>1</td></tr><tr><td>Sendai</td><td>35288</td><td>8</td></tr><tr><td>Sendai Anchorage</td><td>18345</td><td>3</td></tr><tr><td>Sete</td><td>436362</td><td>31</td></tr><tr><td>Sete Anchorage</td><td>93044</td><td>8</td></tr><tr><td>Setubal</td><td>352769</td><td>20</td></tr><tr><td>Setubal Military &amp; Commercial Anchorage</td><td>111569</td><td>7</td></tr><tr><td>Seville</td><td>17245</td><td>1</td></tr><tr><td>Sha Lung Oil Terminal</td><td>21106</td><td>1</td></tr><tr><td>Shahid Rajaee</td><td>275804</td><td>15</td></tr><tr><td>Shahid Rajaee Anchorage</td><td>33430</td><td>2</td></tr><tr><td>Shanghai</td><td>17206590</td><td>977</td></tr><tr><td>Shanghai Changxing Island</td><td>234502</td><td>12</td></tr><tr><td>Shanghai Wusong Estuary Anchorage</td><td>112071</td><td>7</td></tr><tr><td>Shanhaiguan</td><td>282372</td><td>18</td></tr><tr><td>Shanhaiguan Shipyard Anchorage</td><td>49182</td><td>3</td></tr><tr><td>Shanwei Lightering Anchorage</td><td>21059</td><td>1</td></tr><tr><td>Sharjah</td><td>1530667</td><td>87</td></tr><tr><td>Sharjah Anchorage</td><td>2988238</td><td>168</td></tr><tr><td>Sheerness</td><td>1836046</td><td>121</td></tr><tr><td>Shenhu</td><td>40276</td><td>2</td></tr><tr><td>Shi Wei</td><td>28100</td><td>1</td></tr><tr><td>Shihu Anchorage</td><td>45927</td><td>7</td></tr><tr><td>Shilong</td><td>17709</td><td>1</td></tr><tr><td>Shimizu</td><td>85149</td><td>5</td></tr><tr><td>Shimonoseki</td><td>882181</td><td>53</td></tr><tr><td>Shimonoseki Inner Anchorage</td><td>15536</td><td>1</td></tr><tr><td>Shimonoseki New Port</td><td>50109</td><td>3</td></tr><tr><td>Shimonoseki Outer Anchorage</td><td>2119498</td><td>124</td></tr><tr><td>Shimonoseki Quarantine Anchorage</td><td>90977</td><td>5</td></tr><tr><td>Shimotsu Anchorage</td><td>163906</td><td>10</td></tr><tr><td>Shin-Moji Anchorage</td><td>37390</td><td>6</td></tr><tr><td>Shuaiba</td><td>178360</td><td>9</td></tr><tr><td>Shuaiba Outer Harbour Anchorage</td><td>118020</td><td>6</td></tr><tr><td>Shui Dong</td><td>18376</td><td>1</td></tr><tr><td>Shui Dong SBM Anchorage</td><td>15031</td><td>1</td></tr><tr><td>Shuwaikh</td><td>6415008</td><td>351</td></tr><tr><td>Shuwaikh Anchorage B</td><td>323029</td><td>19</td></tr><tr><td>Shuwaikh Anchorage C</td><td>5492829</td><td>298</td></tr><tr><td>Shuwaikh Anchorage D</td><td>1227580</td><td>64</td></tr><tr><td>Shuwaikh Anchorage E</td><td>858428</td><td>45</td></tr><tr><td>Sidi Kerir Terminal</td><td>25765</td><td>1</td></tr><tr><td>Sines Anchorage</td><td>14342</td><td>1</td></tr><tr><td>Singapore</td><td>33252209</td><td>1954</td></tr><tr><td>Singapore Eastern Anchorage (AEW)</td><td>1322272</td><td>87</td></tr><tr><td>Singapore Eastern Bunkering A Anchorage (AEBA)</td><td>265840</td><td>17</td></tr><tr><td>Singapore Eastern Bunkering B Anchorage (AEBB)</td><td>798402</td><td>46</td></tr><tr><td>Singapore Eastern Bunkering C Anchorage (AEBC)</td><td>2195438</td><td>125</td></tr><tr><td>Singapore Eastern Holding A Anchorage (AEHA)</td><td>357232</td><td>19</td></tr><tr><td>Singapore Eastern Holding B Anchorage (AEHB)</td><td>619441</td><td>45</td></tr><tr><td>Singapore Eastern Petroleum A Anchorage (AEPA)</td><td>162536</td><td>9</td></tr><tr><td>Singapore Eastern Petroleum C Anchorage (AEPBC)</td><td>49284</td><td>4</td></tr><tr><td>Singapore Eastern Special Purposes A Anchorage (AESPA)</td><td>1917509</td><td>109</td></tr><tr><td>Singapore EOPL Anchorage</td><td>904767</td><td>53</td></tr><tr><td>Singapore Horsburgh Anchorage</td><td>2357450</td><td>145</td></tr><tr><td>Singapore LNG/LPG/Chemical Gas Carrier Anchorage (ALGAS)</td><td>7014</td><td>1</td></tr><tr><td>Singapore Man-of-War Anchorage (AMOW)</td><td>24600</td><td>2</td></tr><tr><td>Singapore Nipa Transit Anchorage</td><td>104670</td><td>11</td></tr><tr><td>Singapore Pasir Panjang Holding Anchorage</td><td>21349</td><td>1</td></tr><tr><td>Singapore Raffles Reserved Anchorage (ARAFR)</td><td>17386</td><td>1</td></tr><tr><td>Singapore Sudong Bunkering A Anchorage (ASUBA)</td><td>7014</td><td>1</td></tr><tr><td>Singapore Sudong Holding Anchorage (ASH)</td><td>74432</td><td>4</td></tr><tr><td>Singapore Very Large Crude Carrier Anchorage (AVLCC)</td><td>7014</td><td>1</td></tr><tr><td>Singapore Western Anchorage (AWW)</td><td>254601</td><td>15</td></tr><tr><td>Singapore Western Holding Anchorage (AWH)</td><td>70322</td><td>4</td></tr><tr><td>Singapore Western Petroleum A Anchorage (AWPA)</td><td>55241</td><td>3</td></tr><tr><td>Singapore Western Petroleum B Anchorage (AWPB)</td><td>284145</td><td>16</td></tr><tr><td>Singapore Western Quarantine and Immigration Anchorage (AWQI)</td><td>234737</td><td>15</td></tr><tr><td>Singapore WOPL Anchorage</td><td>2653420</td><td>180</td></tr><tr><td>Sintete</td><td>20138</td><td>1</td></tr><tr><td>Sitra Explosives Anchorage</td><td>830974</td><td>47</td></tr><tr><td>Sitra Inner Anchorage</td><td>12352</td><td>1</td></tr><tr><td>Sitra Outer Anchorages A1 to A4</td><td>1552072</td><td>86</td></tr><tr><td>Sitra Outer Anchorages B1 to B7</td><td>136472</td><td>9</td></tr><tr><td>Skagen Anchorage</td><td>380950</td><td>17</td></tr><tr><td>Slavyanka</td><td>974</td><td>1</td></tr><tr><td>Slavyanka Anchorages</td><td>1948</td><td>2</td></tr><tr><td>Smith's Bluff</td><td>78680</td><td>4</td></tr><tr><td>Sochi</td><td>10834</td><td>1</td></tr><tr><td>Sohar</td><td>4469947</td><td>250</td></tr><tr><td>Sohar Anchorage A</td><td>977877</td><td>54</td></tr><tr><td>Sohar Anchorage B</td><td>250732</td><td>13</td></tr><tr><td>Song Xia</td><td>12500</td><td>1</td></tr><tr><td>Song Xia Anchorage</td><td>21005</td><td>1</td></tr><tr><td>South Falls Head Anchorage</td><td>1221189</td><td>68</td></tr><tr><td>South Sabine Point</td><td>4155264</td><td>207</td></tr><tr><td>South Sabine Point Western Extension</td><td>290140</td><td>14</td></tr><tr><td>Southampton</td><td>9905428</td><td>459</td></tr><tr><td>Southend Deep Water Anchorage</td><td>55407</td><td>3</td></tr><tr><td>Southtex</td><td>1821507</td><td>97</td></tr><tr><td>Southwold STS</td><td>41297</td><td>2</td></tr><tr><td>Split</td><td>20180</td><td>1</td></tr><tr><td>Springergeul Anchorage</td><td>39761</td><td>2</td></tr><tr><td>Sriracha Oil Terminals</td><td>211038</td><td>13</td></tr><tr><td>Sriracha Oil Terminals Anchorage</td><td>235578</td><td>12</td></tr><tr><td>Sriracha Oil Terminals Western Petroleum and Lightening Anchorage Area</td><td>12500</td><td>1</td></tr><tr><td>St George's (Bermuda)</td><td>21503</td><td>1</td></tr><tr><td>St George's (Bermuda) Anchorage</td><td>77011</td><td>4</td></tr><tr><td>St John's (Antigua)</td><td>245329</td><td>17</td></tr><tr><td>St Marc</td><td>30999</td><td>2</td></tr><tr><td>St Petersburg</td><td>21000</td><td>1</td></tr><tr><td>Strasbourg</td><td>16493</td><td>1</td></tr><tr><td>Su-Ao</td><td>46998</td><td>3</td></tr><tr><td>Suape</td><td>292471</td><td>17</td></tr><tr><td>Suape Anchorage</td><td>332125</td><td>19</td></tr><tr><td>Suape Marine Terminal</td><td>65058</td><td>4</td></tr><tr><td>Subic Bay</td><td>20682</td><td>2</td></tr><tr><td>Subic Bay Anchorages</td><td>18626</td><td>2</td></tr><tr><td>Sudong Bunkering A Anchorage (ASUBA)</td><td>15461</td><td>1</td></tr><tr><td>Sudong Bunkering B Anchorage (ASUBB)</td><td>20190</td><td>1</td></tr><tr><td>Sudong Explosive Anchorage (ASUEX)</td><td>42328</td><td>2</td></tr><tr><td>Sudong Holding Anchorage (ASH)</td><td>67581</td><td>4</td></tr><tr><td>Suez</td><td>5356725</td><td>274</td></tr><tr><td>Suez Bay Anchorage 1A - 10A</td><td>3056321</td><td>159</td></tr><tr><td>Suez Bay Anchorage 1C - 5C</td><td>42555</td><td>2</td></tr><tr><td>Suez Bay Anchorage 1D - 6D</td><td>399739</td><td>20</td></tr><tr><td>Suez Bay Eastern Channel Anchorage</td><td>13954</td><td>1</td></tr><tr><td>Suez Bay Outer Anchorage 1 - 29</td><td>10226123</td><td>513</td></tr><tr><td>Suez Canal</td><td>8678530</td><td>436</td></tr><tr><td>Sungai Linggi</td><td>34785</td><td>2</td></tr><tr><td>Sungai Pakning</td><td>42592</td><td>16</td></tr><tr><td>Sunk Deep Water Anchorage</td><td>40690</td><td>2</td></tr><tr><td>Susaki</td><td>15154</td><td>1</td></tr><tr><td>Suva</td><td>467418</td><td>27</td></tr><tr><td>Suva Medical Examination Anchorage</td><td>250906</td><td>14</td></tr><tr><td>Swinoujscie</td><td>18922</td><td>1</td></tr><tr><td>Taboneo Anchorages</td><td>1166169</td><td>374</td></tr><tr><td>Tacoma</td><td>4808937</td><td>262</td></tr><tr><td>Tacoma Anchorage</td><td>3236875</td><td>176</td></tr><tr><td>Taicang</td><td>191222</td><td>10</td></tr><tr><td>Taicang Dangerous Goods Anchorage</td><td>13363</td><td>1</td></tr><tr><td>Taicang Ocean Liners Anchorage</td><td>130339</td><td>7</td></tr><tr><td>Taichung</td><td>154858</td><td>8</td></tr><tr><td>Taichung Anchorage</td><td>141490</td><td>7</td></tr><tr><td>Taipei</td><td>3680678</td><td>208</td></tr><tr><td>Taipei Anchorage</td><td>869592</td><td>52</td></tr><tr><td>Taizhou</td><td>6561</td><td>1</td></tr><tr><td>Takamatsu</td><td>17143</td><td>1</td></tr><tr><td>Takehara</td><td>25629</td><td>2</td></tr><tr><td>Takoradi Anchorage</td><td>190634</td><td>11</td></tr><tr><td>Tampa</td><td>453149</td><td>33</td></tr><tr><td>Tanabe</td><td>17386</td><td>1</td></tr><tr><td>Tanauan</td><td>15154</td><td>1</td></tr><tr><td>Tangier-Mediterranean</td><td>281149</td><td>16</td></tr><tr><td>Tangier-Mediterranean Anchorage</td><td>225304</td><td>14</td></tr><tr><td>Tangier-Mediterranean NE Harbour</td><td>398758</td><td>25</td></tr><tr><td>Tangshan Anchorage No. 4</td><td>72619</td><td>3</td></tr><tr><td>Tangshan Anchorage No. 5</td><td>142500</td><td>8</td></tr><tr><td>Tanjung Emas</td><td>29781</td><td>4</td></tr><tr><td>Tanjung Emas Anchorage</td><td>43716</td><td>6</td></tr><tr><td>Tanjung Intan</td><td>4979</td><td>1</td></tr><tr><td>Tanjung Intan Anchorage</td><td>4979</td><td>1</td></tr><tr><td>Tanjung Pelepas General Purpose Anchorage</td><td>2662</td><td>1</td></tr><tr><td>Tanjung Perak</td><td>244015</td><td>91</td></tr><tr><td>Tanjung Perak Anchorage</td><td>233621</td><td>87</td></tr><tr><td>Tanjung Perak Inner Anchorages</td><td>190535</td><td>74</td></tr><tr><td>Tanjung Peutang</td><td>2618</td><td>1</td></tr><tr><td>Tanjung Priok</td><td>4817305</td><td>779</td></tr><tr><td>Tanjung Priok Anchorage</td><td>7758005</td><td>1322</td></tr><tr><td>Tarakan Island</td><td>20056</td><td>1</td></tr><tr><td>Tarragona</td><td>741611</td><td>46</td></tr><tr><td>Tarragona Anchorage</td><td>62810</td><td>5</td></tr><tr><td>Teesport Approach Anchorage</td><td>880562</td><td>43</td></tr><tr><td>Tema</td><td>2546259</td><td>151</td></tr><tr><td>Tema Anchorage</td><td>3591035</td><td>210</td></tr><tr><td>Tema Tanker Anchorage</td><td>296068</td><td>16</td></tr><tr><td>Termini Imerese Anchorage</td><td>15681</td><td>1</td></tr><tr><td>Termoli</td><td>10600</td><td>1</td></tr><tr><td>Terneuzen</td><td>5238885</td><td>275</td></tr><tr><td>Thilawa</td><td>886214</td><td>78</td></tr><tr><td>Thira Anchorage East</td><td>19045</td><td>1</td></tr><tr><td>Thunder Bay</td><td>22815</td><td>1</td></tr><tr><td>Tianjin</td><td>10603416</td><td>624</td></tr><tr><td>Tianjin Anchorage No 6</td><td>12490</td><td>1</td></tr><tr><td>Tianzhen</td><td>20190</td><td>1</td></tr><tr><td>Tilbury</td><td>1274800</td><td>62</td></tr><tr><td>Tin Can Island</td><td>2486231</td><td>141</td></tr><tr><td>Toamasina</td><td>1057428</td><td>49</td></tr><tr><td>Toamasina Anchorage</td><td>732924</td><td>33</td></tr><tr><td>Tobata</td><td>16890</td><td>1</td></tr><tr><td>Tobruk</td><td>48470</td><td>5</td></tr><tr><td>Tobruk and Marsa El Brega Anchorage</td><td>38776</td><td>4</td></tr><tr><td>Tokuyama Anchorage</td><td>103629</td><td>6</td></tr><tr><td>Tokuyama Quarantine Anchorage</td><td>15031</td><td>1</td></tr><tr><td>Tokyo</td><td>225292</td><td>8</td></tr><tr><td>Tokyo Anchorage</td><td>1545122</td><td>79</td></tr><tr><td>Tomakomai</td><td>176403</td><td>10</td></tr><tr><td>Tomakomai Anchorage</td><td>291722</td><td>18</td></tr><tr><td>Tongshan</td><td>12315</td><td>1</td></tr><tr><td>Tongue DW Anchorage - Hazardous Cargoes</td><td>40112</td><td>2</td></tr><tr><td>Tongue DW Anchorage - Non-Hazardous Cargoes</td><td>676962</td><td>39</td></tr><tr><td>Torbay Harbour Deep Water Anchorage</td><td>154174</td><td>9</td></tr><tr><td>Torres Strait &amp; Great Barrier Reef</td><td>1057623</td><td>65</td></tr><tr><td>Townsville</td><td>1222429</td><td>71</td></tr><tr><td>Townsville Anchorage</td><td>1207122</td><td>71</td></tr><tr><td>Toyama</td><td>74998</td><td>77</td></tr><tr><td>Toyohashi</td><td>12682772</td><td>726</td></tr><tr><td>Trieste</td><td>24988</td><td>2</td></tr><tr><td>Tripoli (Libya)</td><td>158820</td><td>9</td></tr><tr><td>Tripoli (Libya) Anchorage</td><td>103894</td><td>5</td></tr><tr><td>Tsumatsusaka (Tsu)</td><td>27321</td><td>2</td></tr><tr><td>Tsuruga Outer Anchorage</td><td>21462</td><td>1</td></tr><tr><td>Tuban</td><td>127093</td><td>46</td></tr><tr><td>Tubarao Anchorage No1</td><td>708418</td><td>36</td></tr><tr><td>Tubarao Anchorage No2</td><td>1940960</td><td>105</td></tr><tr><td>Tubarao Anchorage No3</td><td>3398959</td><td>180</td></tr><tr><td>Tuen Mun</td><td>7894</td><td>1</td></tr><tr><td>Tuzla</td><td>29199</td><td>2</td></tr><tr><td>Tuzla Anchorage</td><td>50824</td><td>4</td></tr><tr><td>Twielenfleth Reede Anchorage</td><td>17339</td><td>1</td></tr><tr><td>Tyne</td><td>935230</td><td>46</td></tr><tr><td>Ube Quarantine Anchorage</td><td>6290126</td><td>387</td></tr><tr><td>Uchiura</td><td>3896</td><td>4</td></tr><tr><td>Uddevalla</td><td>196133</td><td>13</td></tr><tr><td>Ukishima</td><td>77634</td><td>5</td></tr><tr><td>Ulsan</td><td>16992043</td><td>953</td></tr><tr><td>Ulsan Anchorage</td><td>595822</td><td>36</td></tr><tr><td>Ulsan Hyundai</td><td>2163785</td><td>122</td></tr><tr><td>Umm Qasr</td><td>733669</td><td>43</td></tr><tr><td>Umm Qasr Anchorage</td><td>193264</td><td>12</td></tr><tr><td>Upper Vancouver Anchorage</td><td>20180</td><td>1</td></tr><tr><td>Usan Terminal</td><td>109456</td><td>7</td></tr><tr><td>Ust-Luga</td><td>17738</td><td>1</td></tr><tr><td>Ust-Luga Anchorage No 10A</td><td>17738</td><td>1</td></tr><tr><td>Valencia</td><td>727240</td><td>48</td></tr><tr><td>Valencia Anchorages</td><td>288589</td><td>17</td></tr><tr><td>Valletta</td><td>307637</td><td>17</td></tr><tr><td>Valletta Anchorage</td><td>7787055</td><td>409</td></tr><tr><td>Valletta Bunkering Anchorage 1</td><td>22221</td><td>2</td></tr><tr><td>Valletta Bunkering Anchorage 6</td><td>9694</td><td>1</td></tr><tr><td>Valparaiso</td><td>1932358</td><td>120</td></tr><tr><td>Valparaiso Anchorage</td><td>1533797</td><td>96</td></tr><tr><td>Vancouver - English Bay Anchorages</td><td>430692</td><td>23</td></tr><tr><td>Vancouver (USA)</td><td>1674000</td><td>102</td></tr><tr><td>Vancouver (USA) Anchorage</td><td>28220</td><td>2</td></tr><tr><td>Vancouver Harbour Anchorage</td><td>558943</td><td>25</td></tr><tr><td>Vancouver Outer Anchorage</td><td>712153</td><td>42</td></tr><tr><td>Venice</td><td>20434</td><td>1</td></tr><tr><td>Veracruz</td><td>6619149</td><td>401</td></tr><tr><td>Veracruz Anchorage</td><td>4097330</td><td>251</td></tr><tr><td>Very Large Crude Carrier Anchorage (AVLCC)</td><td>65429</td><td>5</td></tr><tr><td>Vigo</td><td>2036360</td><td>153</td></tr><tr><td>Vigo Anchorage</td><td>733655</td><td>53</td></tr><tr><td>Vigo Inner Anchorage</td><td>201570</td><td>12</td></tr><tr><td>Villefranche</td><td>12490</td><td>1</td></tr><tr><td>Vitoria</td><td>2408846</td><td>125</td></tr><tr><td>Vlaardingen</td><td>24942</td><td>2</td></tr><tr><td>Vladivostok</td><td>732025</td><td>162</td></tr><tr><td>Vladivostok Anchorage</td><td>211422</td><td>16</td></tr><tr><td>Vladivostok Anchorage No. 164A</td><td>2922</td><td>3</td></tr><tr><td>Vladivostok Anchorage No. 175a</td><td>13289</td><td>2</td></tr><tr><td>Vlissingen</td><td>7613928</td><td>400</td></tr><tr><td>Vostochny Bunkering Anchorage</td><td>81773</td><td>4</td></tr><tr><td>Vung Tau Anchorage</td><td>541047</td><td>39</td></tr><tr><td>Wada</td><td>15522</td><td>1</td></tr><tr><td>Wakayama Anchorage No 2</td><td>36894</td><td>2</td></tr><tr><td>Wallhamn</td><td>1251415</td><td>55</td></tr><tr><td>Walvis Bay</td><td>920213</td><td>52</td></tr><tr><td>Walvis Bay Anchorages</td><td>1107624</td><td>64</td></tr><tr><td>Wandelaar Pilot Boarding Area</td><td>1042695</td><td>50</td></tr><tr><td>Wanger Reede Anchorage</td><td>20138</td><td>1</td></tr><tr><td>Weifang</td><td>18334</td><td>1</td></tr><tr><td>Weifang Anchorage No 3</td><td>20144</td><td>1</td></tr><tr><td>Weipa Anchor Berths</td><td>17245</td><td>1</td></tr><tr><td>Weitou</td><td>13241</td><td>1</td></tr><tr><td>Wellington</td><td>1612658</td><td>108</td></tr><tr><td>Wellington Explosives Anchorage</td><td>44718</td><td>3</td></tr><tr><td>Wellington Inner Anchorage</td><td>746983</td><td>51</td></tr><tr><td>West Hinder Anchorage</td><td>8092186</td><td>415</td></tr><tr><td>West Java LNG Terminal</td><td>28762</td><td>2</td></tr><tr><td>West Jurong Anchorage (AWJ)</td><td>41943</td><td>5</td></tr><tr><td>Western Anchorage (AWW)</td><td>1743193</td><td>109</td></tr><tr><td>Western Holding Anchorage (AWH)</td><td>249905</td><td>15</td></tr><tr><td>Western Petroleum A Anchorage (AWPA)</td><td>104015</td><td>7</td></tr><tr><td>Western Petroleum B Anchorage (AWPB)</td><td>669039</td><td>40</td></tr><tr><td>Western Quarantine and Immigration Anchorage (AWQI)</td><td>617246</td><td>39</td></tr><tr><td>Westport (Malaysia)</td><td>3117157</td><td>207</td></tr><tr><td>Whyalla</td><td>20407</td><td>1</td></tr><tr><td>Widuri Marine Terminal</td><td>345144</td><td>24</td></tr><tr><td>Wielingen Noord Anchorage</td><td>27352</td><td>1</td></tr><tr><td>Wielingen Zuid Anchorage</td><td>46112</td><td>2</td></tr><tr><td>Wilhelmshaven</td><td>28173</td><td>2</td></tr><tr><td>Willemstad</td><td>1327222</td><td>77</td></tr><tr><td>Wilmington (USA-Delaware)</td><td>1270878</td><td>63</td></tr><tr><td>Wilmington (USA-N Carolina)</td><td>25549</td><td>2</td></tr><tr><td>Wismar</td><td>20138</td><td>1</td></tr><tr><td>Woodbridge Bay</td><td>60077</td><td>3</td></tr><tr><td>Wrest Java LNG Terminal</td><td>43143</td><td>3</td></tr><tr><td>Wuhu</td><td>18638</td><td>1</td></tr><tr><td>Xiahai</td><td>21120</td><td>1</td></tr><tr><td>Xiamen</td><td>972586</td><td>59</td></tr><tr><td>Xiamen No 1 Anchorage</td><td>2170645</td><td>148</td></tr><tr><td>Xiamen No 4 Quarantine Anchorage</td><td>12200</td><td>1</td></tr><tr><td>Xiazhimen Crude Oil Lightering Anchorage</td><td>38467</td><td>2</td></tr><tr><td>Xiazhimen Kou Ore Carrier Anchorage</td><td>877640</td><td>62</td></tr><tr><td>Xiazhimen Kouwai Tanker Anchorage</td><td>1039241</td><td>62</td></tr><tr><td>Xiazhimen North Anchorage</td><td>1097962</td><td>62</td></tr><tr><td>Xiazhimen South Anchorage</td><td>1060141</td><td>74</td></tr><tr><td>Xinhe</td><td>203888</td><td>11</td></tr><tr><td>Xiongjiagou</td><td>17442</td><td>1</td></tr><tr><td>Xiuyu Anchorage No 2</td><td>13951</td><td>1</td></tr><tr><td>Xiuyu Outer Anchorage</td><td>50790</td><td>3</td></tr><tr><td>Xuzhou</td><td>12939</td><td>1</td></tr><tr><td>Yalova Anchorage</td><td>2150964</td><td>148</td></tr><tr><td>Yangjiang Anchorage No 1 - Large Vessels</td><td>20500</td><td>1</td></tr><tr><td>Yangkou</td><td>30970</td><td>2</td></tr><tr><td>Yangon</td><td>62766</td><td>7</td></tr><tr><td>Yangshan</td><td>231783</td><td>15</td></tr><tr><td>Yangshan Quarantine Anchorage</td><td>1008155</td><td>69</td></tr><tr><td>Yangzhou</td><td>14696</td><td>1</td></tr><tr><td>Yantai</td><td>979858</td><td>52</td></tr><tr><td>Yantai No 1 Anchorage</td><td>60371</td><td>7</td></tr><tr><td>Yantai No 2 Anchorage</td><td>404246</td><td>22</td></tr><tr><td>Yantai No 2 Quarantine Anchorage</td><td>50678</td><td>2</td></tr><tr><td>Yarimca Anchorage</td><td>165541</td><td>10</td></tr><tr><td>Yeyashan Joint Inspection Mooring Anchorage</td><td>15068</td><td>1</td></tr><tr><td>Yokkaichi</td><td>499789</td><td>107</td></tr><tr><td>Yokkaichi Anchorage</td><td>75721</td><td>22</td></tr><tr><td>Yokkaichi and Nagoya Outer Anchorage</td><td>36743966</td><td>2294</td></tr><tr><td>Yokkaichi SBMs</td><td>16275</td><td>7</td></tr><tr><td>Yokohama</td><td>29364480</td><td>1858</td></tr><tr><td>Yokohama Anchorage</td><td>29980766</td><td>1926</td></tr><tr><td>Yokosuka</td><td>2752702</td><td>165</td></tr><tr><td>Yokosuka Anchorage</td><td>1388707</td><td>82</td></tr><tr><td>Yonghung Power Station</td><td>17216</td><td>1</td></tr><tr><td>Yosu</td><td>42448</td><td>2</td></tr><tr><td>Yosu Anchorage</td><td>364311</td><td>21</td></tr><tr><td>Yosu Quarantine Anchorage D-1</td><td>167344</td><td>9</td></tr><tr><td>Yosu Quarantine Anchorage D-2</td><td>446425</td><td>28</td></tr><tr><td>Yuanyuansha Emergency Anchorage</td><td>52645</td><td>3</td></tr><tr><td>Yura</td><td>285404</td><td>18</td></tr><tr><td>Yuzhny No 357 Anchorage</td><td>12315</td><td>1</td></tr><tr><td>Zaanstad</td><td>164251</td><td>8</td></tr><tr><td>Zafiro Marine Terminal</td><td>21421</td><td>1</td></tr><tr><td>Zarate</td><td>3212285</td><td>185</td></tr><tr><td>Zarate Anchorage</td><td>227398</td><td>14</td></tr><tr><td>Zeebrugge</td><td>9536730</td><td>509</td></tr><tr><td>Zhangjia Port Tongsha Anchorage</td><td>34483</td><td>2</td></tr><tr><td>Zhangjiabu</td><td>21323</td><td>1</td></tr><tr><td>Zhangjiagang</td><td>539248</td><td>31</td></tr><tr><td>Zhangyan</td><td>20500</td><td>1</td></tr><tr><td>Zhanjiang</td><td>13695</td><td>1</td></tr><tr><td>Zhenjiang</td><td>6561</td><td>1</td></tr><tr><td>Zhongshan</td><td>20190</td><td>1</td></tr><tr><td>Zhoushan</td><td>1948291</td><td>120</td></tr><tr><td>Zhoushan Anchorage</td><td>224224</td><td>15</td></tr><tr><td>Zhoushan Tide and Berth Waiting Anchorage</td><td>21466</td><td>1</td></tr><tr><td>Zhuanghe</td><td>13695</td><td>1</td></tr></table>"
                    },
                    "metadata": {}
                }
            ],
            "execution_count": 5
        },
        {
            "cell_type": "markdown",
            "source": [
                "Now I want find the top 100 by tonnage, then find the top 100 by ship count"
            ],
            "metadata": {
                "azdata_cell_guid": "a0cc7148-3210-40c9-b13d-8e2155c686e7"
            },
            "attachments": {}
        },
        {
            "cell_type": "code",
            "source": [
                "SELECT TOP 101\r\n",
                "*\r\n",
                "FROM ShipsTonnageCountsDoug ST\r\n",
                "ORDER BY ST.Gross_Tonnage DESC;\r\n",
                "-- Top 100 ports by tonnage, number 1 place is the value attributed to transit points"
            ],
            "metadata": {
                "azdata_cell_guid": "5c3335c2-de6b-4476-996b-dfbc41c8679b",
                "language": "sql"
            },
            "outputs": [
                {
                    "output_type": "display_data",
                    "data": {
                        "text/html": "(101 rows affected)"
                    },
                    "metadata": {}
                },
                {
                    "output_type": "display_data",
                    "data": {
                        "text/html": "Total execution time: 00:00:00.019"
                    },
                    "metadata": {}
                },
                {
                    "output_type": "execute_result",
                    "execution_count": 12,
                    "data": {
                        "application/vnd.dataresource+json": {
                            "schema": {
                                "fields": [
                                    {
                                        "name": "portname"
                                    },
                                    {
                                        "name": "Gross_Tonnage"
                                    },
                                    {
                                        "name": "Ship_Count"
                                    }
                                ]
                            },
                            "data": [
                                {
                                    "0": "NA",
                                    "1": "160203191",
                                    "2": "8976"
                                },
                                {
                                    "0": "Yokkaichi and Nagoya Outer Anchorage",
                                    "1": "36743966",
                                    "2": "2294"
                                },
                                {
                                    "0": "Singapore",
                                    "1": "33252209",
                                    "2": "1954"
                                },
                                {
                                    "0": "Yokohama Anchorage",
                                    "1": "29980766",
                                    "2": "1926"
                                },
                                {
                                    "0": "Nagoya",
                                    "1": "29923071",
                                    "2": "1768"
                                },
                                {
                                    "0": "Yokohama",
                                    "1": "29364480",
                                    "2": "1858"
                                },
                                {
                                    "0": "Panama Canal Atlantic Outer Anchorage",
                                    "1": "26458711",
                                    "2": "1399"
                                },
                                {
                                    "0": "Jebel Ali Anchorage",
                                    "1": "24797627",
                                    "2": "1405"
                                },
                                {
                                    "0": "Changjiang Mouth No 1 Anchorage",
                                    "1": "24629915",
                                    "2": "1373"
                                },
                                {
                                    "0": "Pyeong Taek",
                                    "1": "23912112",
                                    "2": "1320"
                                },
                                {
                                    "0": "Beicao Anchorage",
                                    "1": "20128710",
                                    "2": "1110"
                                },
                                {
                                    "0": "Pyeong Taek Quarantine Anchorage",
                                    "1": "17597043",
                                    "2": "978"
                                },
                                {
                                    "0": "Shanghai",
                                    "1": "17206590",
                                    "2": "977"
                                },
                                {
                                    "0": "Ulsan",
                                    "1": "16992043",
                                    "2": "953"
                                },
                                {
                                    "0": "Panama Canal Pacific Anchorage",
                                    "1": "16838104",
                                    "2": "929"
                                },
                                {
                                    "0": "Daesan Anchorage No 2",
                                    "1": "16789103",
                                    "2": "936"
                                },
                                {
                                    "0": "Pyeong Taek Anchorage",
                                    "1": "16660582",
                                    "2": "905"
                                },
                                {
                                    "0": "Changjiang Mouth No 2 Anchorage",
                                    "1": "15014284",
                                    "2": "849"
                                },
                                {
                                    "0": "Bremerhaven",
                                    "1": "14558958",
                                    "2": "733"
                                },
                                {
                                    "0": "New York & New Jersey",
                                    "1": "13208808",
                                    "2": "712"
                                },
                                {
                                    "0": "Jebel Ali",
                                    "1": "13050074",
                                    "2": "736"
                                },
                                {
                                    "0": "Durban Outer Anchorage",
                                    "1": "12738384",
                                    "2": "695"
                                },
                                {
                                    "0": "Baltimore (USA)",
                                    "1": "12703134",
                                    "2": "680"
                                },
                                {
                                    "0": "Toyohashi",
                                    "1": "12682772",
                                    "2": "726"
                                },
                                {
                                    "0": "Jacksonville",
                                    "1": "12632078",
                                    "2": "728"
                                },
                                {
                                    "0": "Okpo Anchorage",
                                    "1": "11156046",
                                    "2": "618"
                                },
                                {
                                    "0": "Kobe Anchorage",
                                    "1": "11065251",
                                    "2": "617"
                                },
                                {
                                    "0": "Port Klang Lay-Up Anchorage",
                                    "1": "10869549",
                                    "2": "687"
                                },
                                {
                                    "0": "Mokpo",
                                    "1": "10854448",
                                    "2": "587"
                                },
                                {
                                    "0": "Laem Chabang",
                                    "1": "10838128",
                                    "2": "645"
                                },
                                {
                                    "0": "Tianjin",
                                    "1": "10603416",
                                    "2": "624"
                                },
                                {
                                    "0": "Panama Canal",
                                    "1": "10410869",
                                    "2": "565"
                                },
                                {
                                    "0": "Gwangyang",
                                    "1": "10386833",
                                    "2": "587"
                                },
                                {
                                    "0": "Kobe",
                                    "1": "10287913",
                                    "2": "576"
                                },
                                {
                                    "0": "Jeddah",
                                    "1": "10280129",
                                    "2": "535"
                                },
                                {
                                    "0": "Suez Bay Outer Anchorage 1 - 29",
                                    "1": "10226123",
                                    "2": "513"
                                },
                                {
                                    "0": "Dagukou North Anchorage",
                                    "1": "10169673",
                                    "2": "596"
                                },
                                {
                                    "0": "Dammam E Anchorage",
                                    "1": "10150138",
                                    "2": "591"
                                },
                                {
                                    "0": "Eastern Bunkering C Anchorage (AEBC)",
                                    "1": "10044421",
                                    "2": "547"
                                },
                                {
                                    "0": "Southampton",
                                    "1": "9905428",
                                    "2": "459"
                                },
                                {
                                    "0": "Antwerp",
                                    "1": "9814190",
                                    "2": "510"
                                },
                                {
                                    "0": "Brisbane Outer Anchorage",
                                    "1": "9686476",
                                    "2": "538"
                                },
                                {
                                    "0": "Panama Canal Atlantic Inner Anchorage",
                                    "1": "9673098",
                                    "2": "520"
                                },
                                {
                                    "0": "Port Kembla Anchor Berths",
                                    "1": "9560093",
                                    "2": "523"
                                },
                                {
                                    "0": "Zeebrugge",
                                    "1": "9536730",
                                    "2": "509"
                                },
                                {
                                    "0": "Dover Strait",
                                    "1": "9349522",
                                    "2": "511"
                                },
                                {
                                    "0": "Brisbane",
                                    "1": "9268316",
                                    "2": "513"
                                },
                                {
                                    "0": "Port Kembla",
                                    "1": "9250965",
                                    "2": "509"
                                },
                                {
                                    "0": "Bayonne (USA)",
                                    "1": "9158895",
                                    "2": "498"
                                },
                                {
                                    "0": "Melbourne",
                                    "1": "8903635",
                                    "2": "485"
                                },
                                {
                                    "0": "Suez Canal",
                                    "1": "8678530",
                                    "2": "436"
                                },
                                {
                                    "0": "Incheon",
                                    "1": "8457210",
                                    "2": "465"
                                },
                                {
                                    "0": "Balboa",
                                    "1": "8445011",
                                    "2": "468"
                                },
                                {
                                    "0": "Dammam",
                                    "1": "8394802",
                                    "2": "487"
                                },
                                {
                                    "0": "Durban",
                                    "1": "8279515",
                                    "2": "451"
                                },
                                {
                                    "0": "Santos Outer Anchorage",
                                    "1": "8137261",
                                    "2": "447"
                                },
                                {
                                    "0": "West Hinder Anchorage",
                                    "1": "8092186",
                                    "2": "415"
                                },
                                {
                                    "0": "Eastern Special Purposes A Anchorage (AESPA)",
                                    "1": "7880313",
                                    "2": "417"
                                },
                                {
                                    "0": "Kawasaki",
                                    "1": "7870529",
                                    "2": "458"
                                },
                                {
                                    "0": "Valletta Anchorage",
                                    "1": "7787055",
                                    "2": "409"
                                },
                                {
                                    "0": "Tanjung Priok Anchorage",
                                    "1": "7758005",
                                    "2": "1322"
                                },
                                {
                                    "0": "Kanda",
                                    "1": "7748813",
                                    "2": "472"
                                },
                                {
                                    "0": "Hiroshima",
                                    "1": "7701710",
                                    "2": "480"
                                },
                                {
                                    "0": "Vlissingen",
                                    "1": "7613928",
                                    "2": "400"
                                },
                                {
                                    "0": "Kawasaki Anchorage",
                                    "1": "7364659",
                                    "2": "426"
                                },
                                {
                                    "0": "Callao",
                                    "1": "7288987",
                                    "2": "436"
                                },
                                {
                                    "0": "Long Beach Southern Anchorage",
                                    "1": "7157511",
                                    "2": "455"
                                },
                                {
                                    "0": "Lagos (Nigeria) Anchorage",
                                    "1": "6986022",
                                    "2": "418"
                                },
                                {
                                    "0": "Nagoya Anchorage",
                                    "1": "6952105",
                                    "2": "464"
                                },
                                {
                                    "0": "Paranagua Anchorage No 12",
                                    "1": "6896482",
                                    "2": "380"
                                },
                                {
                                    "0": "Colon",
                                    "1": "6886024",
                                    "2": "326"
                                },
                                {
                                    "0": "Brunswick",
                                    "1": "6825611",
                                    "2": "342"
                                },
                                {
                                    "0": "Malta Valletta and Marsaxlokk Anchorage",
                                    "1": "6728507",
                                    "2": "350"
                                },
                                {
                                    "0": "Leam Chabang Harbour Anchorage",
                                    "1": "6718471",
                                    "2": "409"
                                },
                                {
                                    "0": "Veracruz",
                                    "1": "6619149",
                                    "2": "401"
                                },
                                {
                                    "0": "Montevideo Anchorage and Service Area",
                                    "1": "6581458",
                                    "2": "376"
                                },
                                {
                                    "0": "Hiroshima Quarantine Anchorage",
                                    "1": "6479457",
                                    "2": "394"
                                },
                                {
                                    "0": "Dar es Salaam Anchorages",
                                    "1": "6470252",
                                    "2": "371"
                                },
                                {
                                    "0": "Lazaro Cardenas",
                                    "1": "6454289",
                                    "2": "359"
                                },
                                {
                                    "0": "Shuwaikh",
                                    "1": "6415008",
                                    "2": "351"
                                },
                                {
                                    "0": "Ube Quarantine Anchorage",
                                    "1": "6290126",
                                    "2": "387"
                                },
                                {
                                    "0": "Brisbane Anchorage",
                                    "1": "6190796",
                                    "2": "342"
                                },
                                {
                                    "0": "Port Said North Anchorage",
                                    "1": "6165514",
                                    "2": "322"
                                },
                                {
                                    "0": "East Port Said Bypass",
                                    "1": "6158120",
                                    "2": "316"
                                },
                                {
                                    "0": "Port Said South Anchorage",
                                    "1": "6034195",
                                    "2": "309"
                                },
                                {
                                    "0": "Annacis Island",
                                    "1": "5994760",
                                    "2": "363"
                                },
                                {
                                    "0": "Schouwenbank Anchorage",
                                    "1": "5960159",
                                    "2": "305"
                                },
                                {
                                    "0": "Santos",
                                    "1": "5877997",
                                    "2": "324"
                                },
                                {
                                    "0": "Dagukou South Anchorage",
                                    "1": "5796038",
                                    "2": "343"
                                },
                                {
                                    "0": "East Wight Anchorage",
                                    "1": "5716344",
                                    "2": "265"
                                },
                                {
                                    "0": "Doha (Qatar)",
                                    "1": "5699952",
                                    "2": "316"
                                },
                                {
                                    "0": "Piraeus Anchorage",
                                    "1": "5699706",
                                    "2": "378"
                                },
                                {
                                    "0": "Callao Anchorages",
                                    "1": "5613068",
                                    "2": "340"
                                },
                                {
                                    "0": "Horsburgh Anchorage",
                                    "1": "5586698",
                                    "2": "347"
                                },
                                {
                                    "0": "Guangzhou",
                                    "1": "5546540",
                                    "2": "330"
                                },
                                {
                                    "0": "Moji",
                                    "1": "5539392",
                                    "2": "333"
                                },
                                {
                                    "0": "Khalifa Bin Salman",
                                    "1": "5531218",
                                    "2": "312"
                                },
                                {
                                    "0": "San Diego",
                                    "1": "5529593",
                                    "2": "357"
                                },
                                {
                                    "0": "Cartagena (Colombia)",
                                    "1": "5513818",
                                    "2": "312"
                                },
                                {
                                    "0": "Shuwaikh Anchorage C",
                                    "1": "5492829",
                                    "2": "298"
                                },
                                {
                                    "0": "Nagoya LPG Anchorage",
                                    "1": "5458722",
                                    "2": "321"
                                }
                            ]
                        },
                        "text/html": "<table><tr><th>portname</th><th>Gross_Tonnage</th><th>Ship_Count</th></tr><tr><td>NA</td><td>160203191</td><td>8976</td></tr><tr><td>Yokkaichi and Nagoya Outer Anchorage</td><td>36743966</td><td>2294</td></tr><tr><td>Singapore</td><td>33252209</td><td>1954</td></tr><tr><td>Yokohama Anchorage</td><td>29980766</td><td>1926</td></tr><tr><td>Nagoya</td><td>29923071</td><td>1768</td></tr><tr><td>Yokohama</td><td>29364480</td><td>1858</td></tr><tr><td>Panama Canal Atlantic Outer Anchorage</td><td>26458711</td><td>1399</td></tr><tr><td>Jebel Ali Anchorage</td><td>24797627</td><td>1405</td></tr><tr><td>Changjiang Mouth No 1 Anchorage</td><td>24629915</td><td>1373</td></tr><tr><td>Pyeong Taek</td><td>23912112</td><td>1320</td></tr><tr><td>Beicao Anchorage</td><td>20128710</td><td>1110</td></tr><tr><td>Pyeong Taek Quarantine Anchorage</td><td>17597043</td><td>978</td></tr><tr><td>Shanghai</td><td>17206590</td><td>977</td></tr><tr><td>Ulsan</td><td>16992043</td><td>953</td></tr><tr><td>Panama Canal Pacific Anchorage</td><td>16838104</td><td>929</td></tr><tr><td>Daesan Anchorage No 2</td><td>16789103</td><td>936</td></tr><tr><td>Pyeong Taek Anchorage</td><td>16660582</td><td>905</td></tr><tr><td>Changjiang Mouth No 2 Anchorage</td><td>15014284</td><td>849</td></tr><tr><td>Bremerhaven</td><td>14558958</td><td>733</td></tr><tr><td>New York &amp; New Jersey</td><td>13208808</td><td>712</td></tr><tr><td>Jebel Ali</td><td>13050074</td><td>736</td></tr><tr><td>Durban Outer Anchorage</td><td>12738384</td><td>695</td></tr><tr><td>Baltimore (USA)</td><td>12703134</td><td>680</td></tr><tr><td>Toyohashi</td><td>12682772</td><td>726</td></tr><tr><td>Jacksonville</td><td>12632078</td><td>728</td></tr><tr><td>Okpo Anchorage</td><td>11156046</td><td>618</td></tr><tr><td>Kobe Anchorage</td><td>11065251</td><td>617</td></tr><tr><td>Port Klang Lay-Up Anchorage</td><td>10869549</td><td>687</td></tr><tr><td>Mokpo</td><td>10854448</td><td>587</td></tr><tr><td>Laem Chabang</td><td>10838128</td><td>645</td></tr><tr><td>Tianjin</td><td>10603416</td><td>624</td></tr><tr><td>Panama Canal</td><td>10410869</td><td>565</td></tr><tr><td>Gwangyang</td><td>10386833</td><td>587</td></tr><tr><td>Kobe</td><td>10287913</td><td>576</td></tr><tr><td>Jeddah</td><td>10280129</td><td>535</td></tr><tr><td>Suez Bay Outer Anchorage 1 - 29</td><td>10226123</td><td>513</td></tr><tr><td>Dagukou North Anchorage</td><td>10169673</td><td>596</td></tr><tr><td>Dammam E Anchorage</td><td>10150138</td><td>591</td></tr><tr><td>Eastern Bunkering C Anchorage (AEBC)</td><td>10044421</td><td>547</td></tr><tr><td>Southampton</td><td>9905428</td><td>459</td></tr><tr><td>Antwerp</td><td>9814190</td><td>510</td></tr><tr><td>Brisbane Outer Anchorage</td><td>9686476</td><td>538</td></tr><tr><td>Panama Canal Atlantic Inner Anchorage</td><td>9673098</td><td>520</td></tr><tr><td>Port Kembla Anchor Berths</td><td>9560093</td><td>523</td></tr><tr><td>Zeebrugge</td><td>9536730</td><td>509</td></tr><tr><td>Dover Strait</td><td>9349522</td><td>511</td></tr><tr><td>Brisbane</td><td>9268316</td><td>513</td></tr><tr><td>Port Kembla</td><td>9250965</td><td>509</td></tr><tr><td>Bayonne (USA)</td><td>9158895</td><td>498</td></tr><tr><td>Melbourne</td><td>8903635</td><td>485</td></tr><tr><td>Suez Canal</td><td>8678530</td><td>436</td></tr><tr><td>Incheon</td><td>8457210</td><td>465</td></tr><tr><td>Balboa</td><td>8445011</td><td>468</td></tr><tr><td>Dammam</td><td>8394802</td><td>487</td></tr><tr><td>Durban</td><td>8279515</td><td>451</td></tr><tr><td>Santos Outer Anchorage</td><td>8137261</td><td>447</td></tr><tr><td>West Hinder Anchorage</td><td>8092186</td><td>415</td></tr><tr><td>Eastern Special Purposes A Anchorage (AESPA)</td><td>7880313</td><td>417</td></tr><tr><td>Kawasaki</td><td>7870529</td><td>458</td></tr><tr><td>Valletta Anchorage</td><td>7787055</td><td>409</td></tr><tr><td>Tanjung Priok Anchorage</td><td>7758005</td><td>1322</td></tr><tr><td>Kanda</td><td>7748813</td><td>472</td></tr><tr><td>Hiroshima</td><td>7701710</td><td>480</td></tr><tr><td>Vlissingen</td><td>7613928</td><td>400</td></tr><tr><td>Kawasaki Anchorage</td><td>7364659</td><td>426</td></tr><tr><td>Callao</td><td>7288987</td><td>436</td></tr><tr><td>Long Beach Southern Anchorage</td><td>7157511</td><td>455</td></tr><tr><td>Lagos (Nigeria) Anchorage</td><td>6986022</td><td>418</td></tr><tr><td>Nagoya Anchorage</td><td>6952105</td><td>464</td></tr><tr><td>Paranagua Anchorage No 12</td><td>6896482</td><td>380</td></tr><tr><td>Colon</td><td>6886024</td><td>326</td></tr><tr><td>Brunswick</td><td>6825611</td><td>342</td></tr><tr><td>Malta Valletta and Marsaxlokk Anchorage</td><td>6728507</td><td>350</td></tr><tr><td>Leam Chabang Harbour Anchorage</td><td>6718471</td><td>409</td></tr><tr><td>Veracruz</td><td>6619149</td><td>401</td></tr><tr><td>Montevideo Anchorage and Service Area</td><td>6581458</td><td>376</td></tr><tr><td>Hiroshima Quarantine Anchorage</td><td>6479457</td><td>394</td></tr><tr><td>Dar es Salaam Anchorages</td><td>6470252</td><td>371</td></tr><tr><td>Lazaro Cardenas</td><td>6454289</td><td>359</td></tr><tr><td>Shuwaikh</td><td>6415008</td><td>351</td></tr><tr><td>Ube Quarantine Anchorage</td><td>6290126</td><td>387</td></tr><tr><td>Brisbane Anchorage</td><td>6190796</td><td>342</td></tr><tr><td>Port Said North Anchorage</td><td>6165514</td><td>322</td></tr><tr><td>East Port Said Bypass</td><td>6158120</td><td>316</td></tr><tr><td>Port Said South Anchorage</td><td>6034195</td><td>309</td></tr><tr><td>Annacis Island</td><td>5994760</td><td>363</td></tr><tr><td>Schouwenbank Anchorage</td><td>5960159</td><td>305</td></tr><tr><td>Santos</td><td>5877997</td><td>324</td></tr><tr><td>Dagukou South Anchorage</td><td>5796038</td><td>343</td></tr><tr><td>East Wight Anchorage</td><td>5716344</td><td>265</td></tr><tr><td>Doha (Qatar)</td><td>5699952</td><td>316</td></tr><tr><td>Piraeus Anchorage</td><td>5699706</td><td>378</td></tr><tr><td>Callao Anchorages</td><td>5613068</td><td>340</td></tr><tr><td>Horsburgh Anchorage</td><td>5586698</td><td>347</td></tr><tr><td>Guangzhou</td><td>5546540</td><td>330</td></tr><tr><td>Moji</td><td>5539392</td><td>333</td></tr><tr><td>Khalifa Bin Salman</td><td>5531218</td><td>312</td></tr><tr><td>San Diego</td><td>5529593</td><td>357</td></tr><tr><td>Cartagena (Colombia)</td><td>5513818</td><td>312</td></tr><tr><td>Shuwaikh Anchorage C</td><td>5492829</td><td>298</td></tr><tr><td>Nagoya LPG Anchorage</td><td>5458722</td><td>321</td></tr></table>"
                    },
                    "metadata": {}
                }
            ],
            "execution_count": 12
        }
    ]
}