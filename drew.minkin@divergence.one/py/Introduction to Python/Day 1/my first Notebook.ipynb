version https://git-lfs.github.com/spec/v1
oid sha256:fbfd86766ce41d45568cc2c19fc97c63e9f6baf822297af4c68e2611f1263ebd
size 43242
