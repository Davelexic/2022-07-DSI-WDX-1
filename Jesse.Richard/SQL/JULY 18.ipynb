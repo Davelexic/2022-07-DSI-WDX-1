{
    "metadata": {
        "kernelspec": {
            "name": "SQL",
            "display_name": "SQL",
            "language": "sql"
        },
        "language_info": {
            "name": "sql",
            "version": ""
        }
    },
    "nbformat_minor": 2,
    "nbformat": 4,
    "cells": [
        {
            "cell_type": "code",
            "source": [
                "--Left Join\r\n",
                "SELECT\r\n",
                "    DeptName\r\n",
                "    ,D.DeptNo\r\n",
                "    ,LastName\r\n",
                "FROM\r\n",
                "    Departments D\r\n",
                "LEFT JOIN\r\n",
                "    Employees E ON D.DeptNo = E.DeptNo\r\n",
                "\r\n",
                "--Right Join\r\n",
                "SELECT\r\n",
                "    DeptName\r\n",
                "    ,D.DeptNo\r\n",
                "    ,LastName\r\n",
                "FROM\r\n",
                "    Departments D\r\n",
                "RIGHT JOIN\r\n",
                "    Employees E ON D.DeptNo = E.DeptNo\r\n",
                "\r\n",
                "--Full Join\r\n",
                "SELECT\r\n",
                "    DeptName\r\n",
                "    ,D.DeptNo\r\n",
                "    ,LastName\r\n",
                "FROM\r\n",
                "    Departments D\r\n",
                "FULL JOIN\r\n",
                "    Employees E ON D.DeptNo = E.DeptNo"
            ],
            "metadata": {
                "azdata_cell_guid": "ef3f061e-3b66-44f5-bd17-f49c1dfec4e1",
                "language": "sql",
                "tags": []
            },
            "outputs": [
                {
                    "output_type": "display_data",
                    "data": {
                        "text/html": "(8 rows affected)"
                    },
                    "metadata": {}
                },
                {
                    "output_type": "display_data",
                    "data": {
                        "text/html": "(9 rows affected)"
                    },
                    "metadata": {}
                },
                {
                    "output_type": "display_data",
                    "data": {
                        "text/html": "(10 rows affected)"
                    },
                    "metadata": {}
                },
                {
                    "output_type": "display_data",
                    "data": {
                        "text/html": "Total execution time: 00:00:00.027"
                    },
                    "metadata": {}
                },
                {
                    "output_type": "execute_result",
                    "metadata": {},
                    "execution_count": 13,
                    "data": {
                        "application/vnd.dataresource+json": {
                            "schema": {
                                "fields": [
                                    {
                                        "name": "DeptName"
                                    },
                                    {
                                        "name": "DeptNo"
                                    },
                                    {
                                        "name": "LastName"
                                    }
                                ]
                            },
                            "data": [
                                {
                                    "0": "Accounting",
                                    "1": "1",
                                    "2": "Hernandez"
                                },
                                {
                                    "0": "Payroll",
                                    "1": "2",
                                    "2": "Smith"
                                },
                                {
                                    "0": "Payroll",
                                    "1": "2",
                                    "2": "Simonian"
                                },
                                {
                                    "0": "Payroll",
                                    "1": "2",
                                    "2": "Aaronsen"
                                },
                                {
                                    "0": "Operations",
                                    "1": "3",
                                    "2": "NULL"
                                },
                                {
                                    "0": "Personnel",
                                    "1": "4",
                                    "2": "Jones"
                                },
                                {
                                    "0": "Personnel",
                                    "1": "4",
                                    "2": "O'Leary"
                                },
                                {
                                    "0": "Maintenance",
                                    "1": "5",
                                    "2": "Hardy"
                                }
                            ]
                        },
                        "text/html": [
                            "<table>",
                            "<tr><th>DeptName</th><th>DeptNo</th><th>LastName</th></tr>",
                            "<tr><td>Accounting</td><td>1</td><td>Hernandez</td></tr>",
                            "<tr><td>Payroll</td><td>2</td><td>Smith</td></tr>",
                            "<tr><td>Payroll</td><td>2</td><td>Simonian</td></tr>",
                            "<tr><td>Payroll</td><td>2</td><td>Aaronsen</td></tr>",
                            "<tr><td>Operations</td><td>3</td><td>NULL</td></tr>",
                            "<tr><td>Personnel</td><td>4</td><td>Jones</td></tr>",
                            "<tr><td>Personnel</td><td>4</td><td>O'Leary</td></tr>",
                            "<tr><td>Maintenance</td><td>5</td><td>Hardy</td></tr>",
                            "</table>"
                        ]
                    }
                },
                {
                    "output_type": "execute_result",
                    "metadata": {},
                    "execution_count": 13,
                    "data": {
                        "application/vnd.dataresource+json": {
                            "schema": {
                                "fields": [
                                    {
                                        "name": "DeptName"
                                    },
                                    {
                                        "name": "DeptNo"
                                    },
                                    {
                                        "name": "LastName"
                                    }
                                ]
                            },
                            "data": [
                                {
                                    "0": "Payroll",
                                    "1": "2",
                                    "2": "Smith"
                                },
                                {
                                    "0": "Personnel",
                                    "1": "4",
                                    "2": "Jones"
                                },
                                {
                                    "0": "Payroll",
                                    "1": "2",
                                    "2": "Simonian"
                                },
                                {
                                    "0": "Accounting",
                                    "1": "1",
                                    "2": "Hernandez"
                                },
                                {
                                    "0": "Payroll",
                                    "1": "2",
                                    "2": "Aaronsen"
                                },
                                {
                                    "0": "NULL",
                                    "1": "NULL",
                                    "2": "Watson"
                                },
                                {
                                    "0": "Personnel",
                                    "1": "4",
                                    "2": "O'Leary"
                                },
                                {
                                    "0": "NULL",
                                    "1": "NULL",
                                    "2": "Locario"
                                },
                                {
                                    "0": "Maintenance",
                                    "1": "5",
                                    "2": "Hardy"
                                }
                            ]
                        },
                        "text/html": [
                            "<table>",
                            "<tr><th>DeptName</th><th>DeptNo</th><th>LastName</th></tr>",
                            "<tr><td>Payroll</td><td>2</td><td>Smith</td></tr>",
                            "<tr><td>Personnel</td><td>4</td><td>Jones</td></tr>",
                            "<tr><td>Payroll</td><td>2</td><td>Simonian</td></tr>",
                            "<tr><td>Accounting</td><td>1</td><td>Hernandez</td></tr>",
                            "<tr><td>Payroll</td><td>2</td><td>Aaronsen</td></tr>",
                            "<tr><td>NULL</td><td>NULL</td><td>Watson</td></tr>",
                            "<tr><td>Personnel</td><td>4</td><td>O'Leary</td></tr>",
                            "<tr><td>NULL</td><td>NULL</td><td>Locario</td></tr>",
                            "<tr><td>Maintenance</td><td>5</td><td>Hardy</td></tr>",
                            "</table>"
                        ]
                    }
                },
                {
                    "output_type": "execute_result",
                    "metadata": {},
                    "execution_count": 13,
                    "data": {
                        "application/vnd.dataresource+json": {
                            "schema": {
                                "fields": [
                                    {
                                        "name": "DeptName"
                                    },
                                    {
                                        "name": "DeptNo"
                                    },
                                    {
                                        "name": "LastName"
                                    }
                                ]
                            },
                            "data": [
                                {
                                    "0": "Accounting",
                                    "1": "1",
                                    "2": "Hernandez"
                                },
                                {
                                    "0": "Payroll",
                                    "1": "2",
                                    "2": "Smith"
                                },
                                {
                                    "0": "Payroll",
                                    "1": "2",
                                    "2": "Simonian"
                                },
                                {
                                    "0": "Payroll",
                                    "1": "2",
                                    "2": "Aaronsen"
                                },
                                {
                                    "0": "Operations",
                                    "1": "3",
                                    "2": "NULL"
                                },
                                {
                                    "0": "Personnel",
                                    "1": "4",
                                    "2": "Jones"
                                },
                                {
                                    "0": "Personnel",
                                    "1": "4",
                                    "2": "O'Leary"
                                },
                                {
                                    "0": "Maintenance",
                                    "1": "5",
                                    "2": "Hardy"
                                },
                                {
                                    "0": "NULL",
                                    "1": "NULL",
                                    "2": "Watson"
                                },
                                {
                                    "0": "NULL",
                                    "1": "NULL",
                                    "2": "Locario"
                                }
                            ]
                        },
                        "text/html": [
                            "<table>",
                            "<tr><th>DeptName</th><th>DeptNo</th><th>LastName</th></tr>",
                            "<tr><td>Accounting</td><td>1</td><td>Hernandez</td></tr>",
                            "<tr><td>Payroll</td><td>2</td><td>Smith</td></tr>",
                            "<tr><td>Payroll</td><td>2</td><td>Simonian</td></tr>",
                            "<tr><td>Payroll</td><td>2</td><td>Aaronsen</td></tr>",
                            "<tr><td>Operations</td><td>3</td><td>NULL</td></tr>",
                            "<tr><td>Personnel</td><td>4</td><td>Jones</td></tr>",
                            "<tr><td>Personnel</td><td>4</td><td>O'Leary</td></tr>",
                            "<tr><td>Maintenance</td><td>5</td><td>Hardy</td></tr>",
                            "<tr><td>NULL</td><td>NULL</td><td>Watson</td></tr>",
                            "<tr><td>NULL</td><td>NULL</td><td>Locario</td></tr>",
                            "</table>"
                        ]
                    }
                }
            ],
            "execution_count": 13
        },
        {
            "cell_type": "code",
            "source": [
                "SELECT\r\n",
                "    InvoiceNumber\r\n",
                "    ,VendorName\r\n",
                "    ,'33% Payment' AS PaymentType\r\n",
                "    ,InvoiceTotal AS Total\r\n",
                "    ,(InvoiceTotal * 0.3333) AS Payment\r\n",
                "FROM\r\n",
                "    ActiveInvoices A\r\n",
                "JOIN\r\n",
                "    Vendors V \r\n",
                "ON\r\n",
                "    A.VendorID = V.VendorID\r\n",
                "WHERE \r\n",
                "    InvoiceTotal > 10000\r\n",
                "UNION\r\n",
                "SELECT\r\n",
                "    InvoiceNumber\r\n",
                "    ,VendorName\r\n",
                "    ,'50% Payment' AS PaymentType\r\n",
                "    ,InvoiceTotal AS Total\r\n",
                "    ,(InvoiceTotal * 0.5) AS Payment\r\n",
                "FROM\r\n",
                "    ActiveInvoices A\r\n",
                "JOIN\r\n",
                "    Vendors V \r\n",
                "ON\r\n",
                "    A.VendorID = V.VendorID\r\n",
                "WHERE \r\n",
                "    InvoiceTotal BETWEEN 500 and 1000\r\n",
                "UNION\r\n",
                "SELECT\r\n",
                "    InvoiceNumber\r\n",
                "    ,VendorName\r\n",
                "    ,'Full Amount' AS PaymentType\r\n",
                "    ,InvoiceTotal AS Total\r\n",
                "    ,InvoiceTotal AS Payment\r\n",
                "FROM\r\n",
                "    ActiveInvoices A\r\n",
                "JOIN\r\n",
                "    Vendors V \r\n",
                "ON\r\n",
                "    A.VendorID = V.VendorID\r\n",
                "WHERE \r\n",
                "    InvoiceTotal < 500\r\n",
                "ORDER BY\r\n",
                "    PaymentType\r\n",
                "    ,VendorName\r\n",
                "    ,InvoiceNumber"
            ],
            "metadata": {
                "language": "sql",
                "azdata_cell_guid": "a8029a89-e0b6-408f-bc9c-9f565eedd850"
            },
            "outputs": [
                {
                    "output_type": "display_data",
                    "data": {
                        "text/html": "(11 rows affected)"
                    },
                    "metadata": {}
                },
                {
                    "output_type": "display_data",
                    "data": {
                        "text/html": "Total execution time: 00:00:00.021"
                    },
                    "metadata": {}
                },
                {
                    "output_type": "execute_result",
                    "metadata": {},
                    "execution_count": 33,
                    "data": {
                        "application/vnd.dataresource+json": {
                            "schema": {
                                "fields": [
                                    {
                                        "name": "InvoiceNumber"
                                    },
                                    {
                                        "name": "VendorName"
                                    },
                                    {
                                        "name": "PaymentType"
                                    },
                                    {
                                        "name": "Total"
                                    },
                                    {
                                        "name": "Payment"
                                    }
                                ]
                            },
                            "data": [
                                {
                                    "0": "0-2436",
                                    "1": "Malloy Lithographing Inc",
                                    "2": "33% Payment",
                                    "3": "10976.06",
                                    "4": "3658.32079800"
                                },
                                {
                                    "0": "P-0608",
                                    "1": "Malloy Lithographing Inc",
                                    "2": "33% Payment",
                                    "3": "20551.18",
                                    "4": "6849.70829400"
                                },
                                {
                                    "0": "9982771",
                                    "1": "Ford Motor Credit Company",
                                    "2": "50% Payment",
                                    "3": "503.20",
                                    "4": "251.60000000"
                                },
                                {
                                    "0": "31361833",
                                    "1": "Ingram",
                                    "2": "50% Payment",
                                    "3": "579.42",
                                    "4": "289.71000000"
                                },
                                {
                                    "0": "547480102",
                                    "1": "Blue Cross",
                                    "2": "Full Amount",
                                    "3": "224.00",
                                    "4": "224.00000000"
                                },
                                {
                                    "0": "134116",
                                    "1": "Cardinal Business Media, Inc.",
                                    "2": "Full Amount",
                                    "3": "90.36",
                                    "4": "90.36000000"
                                },
                                {
                                    "0": "39104",
                                    "1": "Data Reproductions Corp",
                                    "2": "Full Amount",
                                    "3": "85.31",
                                    "4": "85.31000000"
                                },
                                {
                                    "0": "263253268",
                                    "1": "Federal Express Corporation",
                                    "2": "Full Amount",
                                    "3": "59.97",
                                    "4": "59.97000000"
                                },
                                {
                                    "0": "263253270",
                                    "1": "Federal Express Corporation",
                                    "2": "Full Amount",
                                    "3": "67.92",
                                    "4": "67.92000000"
                                },
                                {
                                    "0": "263253273",
                                    "1": "Federal Express Corporation",
                                    "2": "Full Amount",
                                    "3": "30.75",
                                    "4": "30.75000000"
                                },
                                {
                                    "0": "963253264",
                                    "1": "Federal Express Corporation",
                                    "2": "Full Amount",
                                    "3": "52.25",
                                    "4": "52.25000000"
                                }
                            ]
                        },
                        "text/html": [
                            "<table>",
                            "<tr><th>InvoiceNumber</th><th>VendorName</th><th>PaymentType</th><th>Total</th><th>Payment</th></tr>",
                            "<tr><td>0-2436</td><td>Malloy Lithographing Inc</td><td>33% Payment</td><td>10976.06</td><td>3658.32079800</td></tr>",
                            "<tr><td>P-0608</td><td>Malloy Lithographing Inc</td><td>33% Payment</td><td>20551.18</td><td>6849.70829400</td></tr>",
                            "<tr><td>9982771</td><td>Ford Motor Credit Company</td><td>50% Payment</td><td>503.20</td><td>251.60000000</td></tr>",
                            "<tr><td>31361833</td><td>Ingram</td><td>50% Payment</td><td>579.42</td><td>289.71000000</td></tr>",
                            "<tr><td>547480102</td><td>Blue Cross</td><td>Full Amount</td><td>224.00</td><td>224.00000000</td></tr>",
                            "<tr><td>134116</td><td>Cardinal Business Media, Inc.</td><td>Full Amount</td><td>90.36</td><td>90.36000000</td></tr>",
                            "<tr><td>39104</td><td>Data Reproductions Corp</td><td>Full Amount</td><td>85.31</td><td>85.31000000</td></tr>",
                            "<tr><td>263253268</td><td>Federal Express Corporation</td><td>Full Amount</td><td>59.97</td><td>59.97000000</td></tr>",
                            "<tr><td>263253270</td><td>Federal Express Corporation</td><td>Full Amount</td><td>67.92</td><td>67.92000000</td></tr>",
                            "<tr><td>263253273</td><td>Federal Express Corporation</td><td>Full Amount</td><td>30.75</td><td>30.75000000</td></tr>",
                            "<tr><td>963253264</td><td>Federal Express Corporation</td><td>Full Amount</td><td>52.25</td><td>52.25000000</td></tr>",
                            "</table>"
                        ]
                    }
                }
            ],
            "execution_count": 33
        },
        {
            "cell_type": "code",
            "source": [
                "SELECT\r\n",
                "    VendorID\r\n",
                "    ,SUM(InvoiceTotal) AS SumInvoices\r\n",
                "    ,CASE \r\n",
                "        WHEN SUM(InvoiceTotal) < 1000\r\n",
                "            THEN 'Low'\r\n",
                "        ELSE 'High'\r\n",
                "    END AS InvoiceRange\r\n",
                "FROM\r\n",
                "    ActiveInvoices\r\n",
                "GROUP BY \r\n",
                "    VendorID"
            ],
            "metadata": {
                "language": "sql",
                "azdata_cell_guid": "c2bd1ae4-1291-48df-b8f4-30c6008a3e7b",
                "tags": []
            },
            "outputs": [
                {
                    "output_type": "display_data",
                    "data": {
                        "text/html": "(7 rows affected)"
                    },
                    "metadata": {}
                },
                {
                    "output_type": "display_data",
                    "data": {
                        "text/html": "Total execution time: 00:00:00.043"
                    },
                    "metadata": {}
                },
                {
                    "output_type": "execute_result",
                    "metadata": {},
                    "execution_count": 30,
                    "data": {
                        "application/vnd.dataresource+json": {
                            "schema": {
                                "fields": [
                                    {
                                        "name": "VendorID"
                                    },
                                    {
                                        "name": "SumInvoices"
                                    },
                                    {
                                        "name": "InvoiceRange"
                                    }
                                ]
                            },
                            "data": [
                                {
                                    "0": "37",
                                    "1": "224.00",
                                    "2": "Low"
                                },
                                {
                                    "0": "72",
                                    "1": "85.31",
                                    "2": "Low"
                                },
                                {
                                    "0": "80",
                                    "1": "90.36",
                                    "2": "Low"
                                },
                                {
                                    "0": "83",
                                    "1": "579.42",
                                    "2": "Low"
                                },
                                {
                                    "0": "106",
                                    "1": "503.20",
                                    "2": "Low"
                                },
                                {
                                    "0": "110",
                                    "1": "31527.24",
                                    "2": "High"
                                },
                                {
                                    "0": "123",
                                    "1": "210.89",
                                    "2": "Low"
                                }
                            ]
                        },
                        "text/html": [
                            "<table>",
                            "<tr><th>VendorID</th><th>SumInvoices</th><th>InvoiceRange</th></tr>",
                            "<tr><td>37</td><td>224.00</td><td>Low</td></tr>",
                            "<tr><td>72</td><td>85.31</td><td>Low</td></tr>",
                            "<tr><td>80</td><td>90.36</td><td>Low</td></tr>",
                            "<tr><td>83</td><td>579.42</td><td>Low</td></tr>",
                            "<tr><td>106</td><td>503.20</td><td>Low</td></tr>",
                            "<tr><td>110</td><td>31527.24</td><td>High</td></tr>",
                            "<tr><td>123</td><td>210.89</td><td>Low</td></tr>",
                            "</table>"
                        ]
                    }
                }
            ],
            "execution_count": 30
        },
        {
            "cell_type": "code",
            "source": [
                "SELECT\r\n",
                "    *\r\n",
                "FROM\r\n",
                "    ActiveInvoices"
            ],
            "metadata": {
                "azdata_cell_guid": "992f6bfb-fba9-4a12-b69d-74f021471d08",
                "language": "sql"
            },
            "outputs": [
                {
                    "output_type": "display_data",
                    "data": {
                        "text/html": "(11 rows affected)"
                    },
                    "metadata": {}
                },
                {
                    "output_type": "display_data",
                    "data": {
                        "text/html": "Total execution time: 00:00:00.011"
                    },
                    "metadata": {}
                },
                {
                    "output_type": "execute_result",
                    "metadata": {},
                    "execution_count": 4,
                    "data": {
                        "application/vnd.dataresource+json": {
                            "schema": {
                                "fields": [
                                    {
                                        "name": "InvoiceID"
                                    },
                                    {
                                        "name": "VendorID"
                                    },
                                    {
                                        "name": "InvoiceNumber"
                                    },
                                    {
                                        "name": "InvoiceDate"
                                    },
                                    {
                                        "name": "InvoiceTotal"
                                    },
                                    {
                                        "name": "PaymentTotal"
                                    },
                                    {
                                        "name": "CreditTotal"
                                    },
                                    {
                                        "name": "TermsID"
                                    },
                                    {
                                        "name": "InvoiceDueDate"
                                    },
                                    {
                                        "name": "PaymentDate"
                                    }
                                ]
                            },
                            "data": [
                                {
                                    "0": "89",
                                    "1": "72",
                                    "2": "39104",
                                    "3": "2016-03-10 00:00:00",
                                    "4": "85.31",
                                    "5": "0.00",
                                    "6": "0.00",
                                    "7": "3",
                                    "8": "2016-04-09 00:00:00",
                                    "9": "NULL"
                                },
                                {
                                    "0": "94",
                                    "1": "123",
                                    "2": "963253264",
                                    "3": "2016-03-18 00:00:00",
                                    "4": "52.25",
                                    "5": "0.00",
                                    "6": "0.00",
                                    "7": "3",
                                    "8": "2016-04-17 00:00:00",
                                    "9": "NULL"
                                },
                                {
                                    "0": "98",
                                    "1": "83",
                                    "2": "31361833",
                                    "3": "2016-03-21 00:00:00",
                                    "4": "579.42",
                                    "5": "0.00",
                                    "6": "0.00",
                                    "7": "2",
                                    "8": "2016-04-10 00:00:00",
                                    "9": "NULL"
                                },
                                {
                                    "0": "99",
                                    "1": "123",
                                    "2": "263253268",
                                    "3": "2016-03-21 00:00:00",
                                    "4": "59.97",
                                    "5": "0.00",
                                    "6": "0.00",
                                    "7": "3",
                                    "8": "2016-04-20 00:00:00",
                                    "9": "NULL"
                                },
                                {
                                    "0": "100",
                                    "1": "123",
                                    "2": "263253270",
                                    "3": "2016-03-22 00:00:00",
                                    "4": "67.92",
                                    "5": "0.00",
                                    "6": "0.00",
                                    "7": "3",
                                    "8": "2016-04-21 00:00:00",
                                    "9": "NULL"
                                },
                                {
                                    "0": "101",
                                    "1": "123",
                                    "2": "263253273",
                                    "3": "2016-03-22 00:00:00",
                                    "4": "30.75",
                                    "5": "0.00",
                                    "6": "0.00",
                                    "7": "3",
                                    "8": "2016-04-21 00:00:00",
                                    "9": "NULL"
                                },
                                {
                                    "0": "102",
                                    "1": "110",
                                    "2": "P-0608",
                                    "3": "2016-03-23 00:00:00",
                                    "4": "20551.18",
                                    "5": "0.00",
                                    "6": "1200.00",
                                    "7": "3",
                                    "8": "2016-04-22 00:00:00",
                                    "9": "NULL"
                                },
                                {
                                    "0": "105",
                                    "1": "106",
                                    "2": "9982771",
                                    "3": "2016-03-24 00:00:00",
                                    "4": "503.20",
                                    "5": "0.00",
                                    "6": "0.00",
                                    "7": "3",
                                    "8": "2016-04-23 00:00:00",
                                    "9": "NULL"
                                },
                                {
                                    "0": "110",
                                    "1": "80",
                                    "2": "134116",
                                    "3": "2016-03-28 00:00:00",
                                    "4": "90.36",
                                    "5": "0.00",
                                    "6": "0.00",
                                    "7": "2",
                                    "8": "2016-04-17 00:00:00",
                                    "9": "NULL"
                                },
                                {
                                    "0": "112",
                                    "1": "110",
                                    "2": "0-2436",
                                    "3": "2016-03-31 00:00:00",
                                    "4": "10976.06",
                                    "5": "0.00",
                                    "6": "0.00",
                                    "7": "3",
                                    "8": "2016-04-30 00:00:00",
                                    "9": "NULL"
                                },
                                {
                                    "0": "113",
                                    "1": "37",
                                    "2": "547480102",
                                    "3": "2016-04-01 00:00:00",
                                    "4": "224.00",
                                    "5": "0.00",
                                    "6": "0.00",
                                    "7": "3",
                                    "8": "2016-04-30 00:00:00",
                                    "9": "NULL"
                                }
                            ]
                        },
                        "text/html": [
                            "<table>",
                            "<tr><th>InvoiceID</th><th>VendorID</th><th>InvoiceNumber</th><th>InvoiceDate</th><th>InvoiceTotal</th><th>PaymentTotal</th><th>CreditTotal</th><th>TermsID</th><th>InvoiceDueDate</th><th>PaymentDate</th></tr>",
                            "<tr><td>89</td><td>72</td><td>39104</td><td>2016-03-10 00:00:00</td><td>85.31</td><td>0.00</td><td>0.00</td><td>3</td><td>2016-04-09 00:00:00</td><td>NULL</td></tr>",
                            "<tr><td>94</td><td>123</td><td>963253264</td><td>2016-03-18 00:00:00</td><td>52.25</td><td>0.00</td><td>0.00</td><td>3</td><td>2016-04-17 00:00:00</td><td>NULL</td></tr>",
                            "<tr><td>98</td><td>83</td><td>31361833</td><td>2016-03-21 00:00:00</td><td>579.42</td><td>0.00</td><td>0.00</td><td>2</td><td>2016-04-10 00:00:00</td><td>NULL</td></tr>",
                            "<tr><td>99</td><td>123</td><td>263253268</td><td>2016-03-21 00:00:00</td><td>59.97</td><td>0.00</td><td>0.00</td><td>3</td><td>2016-04-20 00:00:00</td><td>NULL</td></tr>",
                            "<tr><td>100</td><td>123</td><td>263253270</td><td>2016-03-22 00:00:00</td><td>67.92</td><td>0.00</td><td>0.00</td><td>3</td><td>2016-04-21 00:00:00</td><td>NULL</td></tr>",
                            "<tr><td>101</td><td>123</td><td>263253273</td><td>2016-03-22 00:00:00</td><td>30.75</td><td>0.00</td><td>0.00</td><td>3</td><td>2016-04-21 00:00:00</td><td>NULL</td></tr>",
                            "<tr><td>102</td><td>110</td><td>P-0608</td><td>2016-03-23 00:00:00</td><td>20551.18</td><td>0.00</td><td>1200.00</td><td>3</td><td>2016-04-22 00:00:00</td><td>NULL</td></tr>",
                            "<tr><td>105</td><td>106</td><td>9982771</td><td>2016-03-24 00:00:00</td><td>503.20</td><td>0.00</td><td>0.00</td><td>3</td><td>2016-04-23 00:00:00</td><td>NULL</td></tr>",
                            "<tr><td>110</td><td>80</td><td>134116</td><td>2016-03-28 00:00:00</td><td>90.36</td><td>0.00</td><td>0.00</td><td>2</td><td>2016-04-17 00:00:00</td><td>NULL</td></tr>",
                            "<tr><td>112</td><td>110</td><td>0-2436</td><td>2016-03-31 00:00:00</td><td>10976.06</td><td>0.00</td><td>0.00</td><td>3</td><td>2016-04-30 00:00:00</td><td>NULL</td></tr>",
                            "<tr><td>113</td><td>37</td><td>547480102</td><td>2016-04-01 00:00:00</td><td>224.00</td><td>0.00</td><td>0.00</td><td>3</td><td>2016-04-30 00:00:00</td><td>NULL</td></tr>",
                            "</table>"
                        ]
                    }
                }
            ],
            "execution_count": 4
        }
    ]
}