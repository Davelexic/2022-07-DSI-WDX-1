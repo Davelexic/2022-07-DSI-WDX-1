{
    "metadata": {
        "kernelspec": {
            "name": "SQL",
            "display_name": "SQL",
            "language": "sql"
        },
        "language_info": {
            "name": "sql",
            "version": ""
        }
    },
    "nbformat_minor": 2,
    "nbformat": 4,
    "cells": [
        {
            "cell_type": "code",
            "source": [
                "-- Provide an additional columns called PurchasesMade with a string stating the total money spent on purchases and the vendors name.\r\n",
                "SELECT \r\n",
                "    VendorName\r\n",
                "    , VendorCity\r\n",
                "    , VendorState\r\n",
                "    , YTDPurchases\r\n",
                "    ,CASE\r\n",
                "        YTDPurchases\r\n",
                "        WHEN 0 THEN \r\n",
                "            'No product purchased.'\r\n",
                "        ELSE \r\n",
                "            '$' + CONVERT(VarChar(20), YTDPurchases) + ' of product purchased by' + VendorName + '.'\r\n",
                "        END AS PurchasesMade\r\n",
                "FROM \r\n",
                "    Vendors\r\n",
                "\r\n",
                "\r\n",
                ""
            ],
            "metadata": {
                "azdata_cell_guid": "c72681f9-f719-4c13-a5a0-ebb8915f4c0d",
                "language": "sql"
            },
            "outputs": [],
            "execution_count": null
        },
        {
            "cell_type": "code",
            "source": [
                "-- Use AS, LEFT JOIN, WHERE, and ORDER BY to find overpaid invoices by VendorID. \r\n",
                "-- Include the amount Overpaid and the Vendor Name in the query output. \r\n",
                "SELECT \r\n",
                "    V.VendorName, \r\n",
                "    P.InvoiceTotal - P.PaymentTotal AS Overpaid\r\n",
                "\r\n",
                "FROM \r\n",
                "    PaidInvoices P\r\n",
                "    LEFT JOIN\r\n",
                "        Vendors V\r\n",
                "    ON \r\n",
                "        P.VendorID = V.VendorID\r\n",
                "WHERE \r\n",
                "    P.InvoiceTotal - P.PaymentTotal <> 0\r\n",
                "ORDER BY \r\n",
                "    VendorName\r\n",
                ""
            ],
            "metadata": {
                "azdata_cell_guid": "d6774c7e-b6fe-48e2-81b2-82a0bc40cebf",
                "language": "sql"
            },
            "outputs": [
                {
                    "output_type": "display_data",
                    "data": {
                        "text/html": "(2 rows affected)"
                    },
                    "metadata": {}
                },
                {
                    "output_type": "display_data",
                    "data": {
                        "text/html": "Total execution time: 00:00:00.091"
                    },
                    "metadata": {}
                },
                {
                    "output_type": "execute_result",
                    "execution_count": 9,
                    "data": {
                        "application/vnd.dataresource+json": {
                            "schema": {
                                "fields": [
                                    {
                                        "name": "VendorName"
                                    },
                                    {
                                        "name": "Overpaid"
                                    }
                                ]
                            },
                            "data": [
                                {
                                    "0": "Malloy Lithographing Inc",
                                    "1": "2295.95"
                                },
                                {
                                    "0": "Zylka Design",
                                    "1": "200.00"
                                }
                            ]
                        },
                        "text/html": "<table><tr><th>VendorName</th><th>Overpaid</th></tr><tr><td>Malloy Lithographing Inc</td><td>2295.95</td></tr><tr><td>Zylka Design</td><td>200.00</td></tr></table>"
                    },
                    "metadata": {}
                }
            ],
            "execution_count": 9
        },
        {
            "cell_type": "code",
            "source": [
                "-- Use AS, WHERE, EXCEPT, and ORDER BY to find overpaid invoices by VendorID. \r\n",
                "-- Include the amount Overpaid and the Vendor Name in the query output.\r\n",
                "\r\n",
                "SELECT \r\n",
                "    V.VendorName, \r\n",
                "    P.InvoiceTotal - P.PaymentTotal AS Overpaid\r\n",
                "\r\n",
                "FROM \r\n",
                "    PaidInvoices P\r\n",
                "    JOIN\r\n",
                "    Vendors V\r\n",
                "    ON \r\n",
                "    P.VendorID = V.VendorID\r\n",
                "EXCEPT\r\n",
                "\r\n",
                "SELECT  \r\n",
                "    V.VendorName, \r\n",
                "    P.InvoiceTotal - P.PaymentTotal AS Overpaid\r\n",
                "FROM \r\n",
                "    PaidInvoices P\r\n",
                "    JOIN\r\n",
                "    Vendors V\r\n",
                "    ON P.VendorID = V.VendorID\r\n",
                "    WHERE \r\n",
                "    P.InvoiceTotal - P.PaymentTotal = 0\r\n",
                "ORDER BY V.VendorName\r\n",
                ""
            ],
            "metadata": {
                "language": "sql",
                "azdata_cell_guid": "71ef2d10-fcf3-49b1-ab6d-726e4e622a9a"
            },
            "outputs": [
                {
                    "output_type": "display_data",
                    "data": {
                        "text/html": "(2 rows affected)"
                    },
                    "metadata": {}
                },
                {
                    "output_type": "display_data",
                    "data": {
                        "text/html": "Total execution time: 00:00:00.171"
                    },
                    "metadata": {}
                },
                {
                    "output_type": "execute_result",
                    "metadata": {},
                    "execution_count": 8,
                    "data": {
                        "application/vnd.dataresource+json": {
                            "schema": {
                                "fields": [
                                    {
                                        "name": "VendorName"
                                    },
                                    {
                                        "name": "Overpaid"
                                    }
                                ]
                            },
                            "data": [
                                {
                                    "0": "Malloy Lithographing Inc",
                                    "1": "2295.95"
                                },
                                {
                                    "0": "Zylka Design",
                                    "1": "200.00"
                                }
                            ]
                        },
                        "text/html": [
                            "<table>",
                            "<tr><th>VendorName</th><th>Overpaid</th></tr>",
                            "<tr><td>Malloy Lithographing Inc</td><td>2295.95</td></tr>",
                            "<tr><td>Zylka Design</td><td>200.00</td></tr>",
                            "</table>"
                        ]
                    }
                }
            ],
            "execution_count": 8
        },
        {
            "cell_type": "code",
            "source": [
                "--Update Employees\r\n",
                "UPDATE \r\n",
                "    Employees\r\n",
                "SET \r\n",
                "    LastName = 'Persephone',\r\n",
                "    FirstName = 'Dechario'\r\n",
                "WHERE \r\n",
                "    FirstName = 'Cindy' AND\r\n",
                "    LastName = 'Smith'\r\n",
                ""
            ],
            "metadata": {
                "azdata_cell_guid": "755db8fc-0a05-41f2-abdb-e32cc40e559b",
                "language": "sql"
            },
            "outputs": [
                {
                    "output_type": "display_data",
                    "data": {
                        "text/html": "(1 row affected)"
                    },
                    "metadata": {}
                },
                {
                    "output_type": "display_data",
                    "data": {
                        "text/html": "Total execution time: 00:00:00.104"
                    },
                    "metadata": {}
                }
            ],
            "execution_count": 19
        },
        {
            "cell_type": "code",
            "source": [
                "-- Provide a list of all employees, past and present.\r\n",
                "\r\n",
                "SELECT \r\n",
                "    FirstName,\r\n",
                "    LastName\r\n",
                "FROM Employees\r\n",
                "\r\n",
                "UNION\r\n",
                "\r\n",
                "SELECT\r\n",
                "    FirstName,\r\n",
                "    LastName\r\n",
                "FROM\r\n",
                "    EmployeesOld"
            ],
            "metadata": {
                "azdata_cell_guid": "295c4173-6a41-41e4-8b6e-06c89f9f3f6d",
                "language": "sql"
            },
            "outputs": [
                {
                    "output_type": "display_data",
                    "data": {
                        "text/html": "(10 rows affected)"
                    },
                    "metadata": {}
                },
                {
                    "output_type": "display_data",
                    "data": {
                        "text/html": "Total execution time: 00:00:00.221"
                    },
                    "metadata": {}
                },
                {
                    "output_type": "execute_result",
                    "metadata": {},
                    "execution_count": 20,
                    "data": {
                        "application/vnd.dataresource+json": {
                            "schema": {
                                "fields": [
                                    {
                                        "name": "FirstName"
                                    },
                                    {
                                        "name": "LastName"
                                    }
                                ]
                            },
                            "data": [
                                {
                                    "0": "Cindy",
                                    "1": "Smith"
                                },
                                {
                                    "0": "Dechario",
                                    "1": "Persephone"
                                },
                                {
                                    "0": "Denise",
                                    "1": "Watson"
                                },
                                {
                                    "0": "Elmer",
                                    "1": "Jones"
                                },
                                {
                                    "0": "Olivia",
                                    "1": "Hernandez"
                                },
                                {
                                    "0": "Paulo",
                                    "1": "Locario"
                                },
                                {
                                    "0": "Ralph",
                                    "1": "Simonian"
                                },
                                {
                                    "0": "Rhea",
                                    "1": "O'Leary"
                                },
                                {
                                    "0": "Robert",
                                    "1": "Aaronsen"
                                },
                                {
                                    "0": "Thomas",
                                    "1": "Hardy"
                                }
                            ]
                        },
                        "text/html": [
                            "<table>",
                            "<tr><th>FirstName</th><th>LastName</th></tr>",
                            "<tr><td>Cindy</td><td>Smith</td></tr>",
                            "<tr><td>Dechario</td><td>Persephone</td></tr>",
                            "<tr><td>Denise</td><td>Watson</td></tr>",
                            "<tr><td>Elmer</td><td>Jones</td></tr>",
                            "<tr><td>Olivia</td><td>Hernandez</td></tr>",
                            "<tr><td>Paulo</td><td>Locario</td></tr>",
                            "<tr><td>Ralph</td><td>Simonian</td></tr>",
                            "<tr><td>Rhea</td><td>O'Leary</td></tr>",
                            "<tr><td>Robert</td><td>Aaronsen</td></tr>",
                            "<tr><td>Thomas</td><td>Hardy</td></tr>",
                            "</table>"
                        ]
                    }
                }
            ],
            "execution_count": 20
        },
        {
            "cell_type": "code",
            "source": [
                "-- Provide a list of unique employee Department Numbers. \r\n",
                "\r\n",
                "SELECT DISTINCT EmployeeID\r\n",
                "FROM \r\n",
                "    Employees\r\n",
                ""
            ],
            "metadata": {
                "language": "sql",
                "azdata_cell_guid": "27fc5f55-e8b8-4e45-9802-a0e69dd03a46"
            },
            "outputs": [
                {
                    "output_type": "display_data",
                    "data": {
                        "text/html": "(9 rows affected)"
                    },
                    "metadata": {}
                },
                {
                    "output_type": "display_data",
                    "data": {
                        "text/html": "Total execution time: 00:00:00.176"
                    },
                    "metadata": {}
                },
                {
                    "output_type": "execute_result",
                    "metadata": {},
                    "execution_count": 22,
                    "data": {
                        "application/vnd.dataresource+json": {
                            "schema": {
                                "fields": [
                                    {
                                        "name": "EmployeeID"
                                    }
                                ]
                            },
                            "data": [
                                {
                                    "0": "1"
                                },
                                {
                                    "0": "2"
                                },
                                {
                                    "0": "3"
                                },
                                {
                                    "0": "4"
                                },
                                {
                                    "0": "5"
                                },
                                {
                                    "0": "6"
                                },
                                {
                                    "0": "7"
                                },
                                {
                                    "0": "8"
                                },
                                {
                                    "0": "9"
                                }
                            ]
                        },
                        "text/html": [
                            "<table>",
                            "<tr><th>EmployeeID</th></tr>",
                            "<tr><td>1</td></tr>",
                            "<tr><td>2</td></tr>",
                            "<tr><td>3</td></tr>",
                            "<tr><td>4</td></tr>",
                            "<tr><td>5</td></tr>",
                            "<tr><td>6</td></tr>",
                            "<tr><td>7</td></tr>",
                            "<tr><td>8</td></tr>",
                            "<tr><td>9</td></tr>",
                            "</table>"
                        ]
                    }
                }
            ],
            "execution_count": 22
        }
    ]
}