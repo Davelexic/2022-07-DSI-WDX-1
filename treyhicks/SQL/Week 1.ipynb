{
    "metadata": {
        "kernelspec": {
            "name": "SQL",
            "display_name": "SQL",
            "language": "sql"
        },
        "language_info": {
            "name": "sql",
            "version": ""
        }
    },
    "nbformat_minor": 2,
    "nbformat": 4,
    "cells": [
        {
            "cell_type": "code",
            "source": [
                "SELECT * \r\n",
                "FROM GLAccounts\r\n",
                "WHERE APP_NAME() LIKE 'a%'\r\n",
                "\r\n",
                "\r\n",
                "\r\n",
                "\r\n",
                "\r\n",
                ""
            ],
            "metadata": {
                "azdata_cell_guid": "8ae9271e-8938-45ff-9033-446dcfca1227",
                "language": "sql",
                "tags": []
            },
            "outputs": [
                {
                    "output_type": "display_data",
                    "data": {
                        "text/html": "(75 rows affected)"
                    },
                    "metadata": {}
                },
                {
                    "output_type": "display_data",
                    "data": {
                        "text/html": "Total execution time: 00:00:00.051"
                    },
                    "metadata": {}
                },
                {
                    "output_type": "execute_result",
                    "metadata": {},
                    "execution_count": 9,
                    "data": {
                        "application/vnd.dataresource+json": {
                            "schema": {
                                "fields": [
                                    {
                                        "name": "AccountNo"
                                    },
                                    {
                                        "name": "AccountDescription"
                                    }
                                ]
                            },
                            "data": [
                                {
                                    "0": "100",
                                    "1": "Cash"
                                },
                                {
                                    "0": "110",
                                    "1": "Accounts Receivable"
                                },
                                {
                                    "0": "120",
                                    "1": "Book Inventory"
                                },
                                {
                                    "0": "150",
                                    "1": "Furniture"
                                },
                                {
                                    "0": "160",
                                    "1": "Computer Equipment"
                                },
                                {
                                    "0": "162",
                                    "1": "Capitalized Lease"
                                },
                                {
                                    "0": "167",
                                    "1": "Software"
                                },
                                {
                                    "0": "170",
                                    "1": "Other Equipment"
                                },
                                {
                                    "0": "181",
                                    "1": "Book Development"
                                },
                                {
                                    "0": "200",
                                    "1": "Accounts Payable"
                                },
                                {
                                    "0": "205",
                                    "1": "Royalties Payable"
                                },
                                {
                                    "0": "221",
                                    "1": "401K Employee Contributions"
                                },
                                {
                                    "0": "230",
                                    "1": "Sales Taxes Payable"
                                },
                                {
                                    "0": "234",
                                    "1": "Medicare Taxes Payable"
                                },
                                {
                                    "0": "235",
                                    "1": "Income Taxes Payable"
                                },
                                {
                                    "0": "237",
                                    "1": "State Payroll Taxes Payable"
                                },
                                {
                                    "0": "238",
                                    "1": "Employee FICA Taxes Payable"
                                },
                                {
                                    "0": "239",
                                    "1": "Employer FICA Taxes Payable"
                                },
                                {
                                    "0": "241",
                                    "1": "Employer FUTA Taxes Payable"
                                },
                                {
                                    "0": "242",
                                    "1": "Employee SDI Taxes Payable"
                                },
                                {
                                    "0": "243",
                                    "1": "Employer UCI Taxes Payable"
                                },
                                {
                                    "0": "251",
                                    "1": "IBM Credit Corporation Payable"
                                },
                                {
                                    "0": "280",
                                    "1": "Capital Stock"
                                },
                                {
                                    "0": "290",
                                    "1": "Retained Earnings"
                                },
                                {
                                    "0": "300",
                                    "1": "Retail Sales"
                                },
                                {
                                    "0": "301",
                                    "1": "College Sales"
                                },
                                {
                                    "0": "302",
                                    "1": "Trade Sales"
                                },
                                {
                                    "0": "306",
                                    "1": "Consignment Sales"
                                },
                                {
                                    "0": "310",
                                    "1": "Compositing Revenue"
                                },
                                {
                                    "0": "394",
                                    "1": "Book Club Royalties"
                                },
                                {
                                    "0": "400",
                                    "1": "Book Printing Costs"
                                },
                                {
                                    "0": "403",
                                    "1": "Book Production Costs"
                                },
                                {
                                    "0": "500",
                                    "1": "Salaries and Wages"
                                },
                                {
                                    "0": "505",
                                    "1": "FICA"
                                },
                                {
                                    "0": "506",
                                    "1": "FUTA"
                                },
                                {
                                    "0": "507",
                                    "1": "UCI"
                                },
                                {
                                    "0": "508",
                                    "1": "Medicare"
                                },
                                {
                                    "0": "510",
                                    "1": "Group Insurance"
                                },
                                {
                                    "0": "520",
                                    "1": "Building Lease"
                                },
                                {
                                    "0": "521",
                                    "1": "Utilities"
                                },
                                {
                                    "0": "522",
                                    "1": "Telephone"
                                },
                                {
                                    "0": "523",
                                    "1": "Building Maintenance"
                                },
                                {
                                    "0": "527",
                                    "1": "Computer Equipment Maintenance"
                                },
                                {
                                    "0": "528",
                                    "1": "IBM Lease"
                                },
                                {
                                    "0": "532",
                                    "1": "Equipment Rental"
                                },
                                {
                                    "0": "536",
                                    "1": "Card Deck Advertising"
                                },
                                {
                                    "0": "540",
                                    "1": "Direct Mail Advertising"
                                },
                                {
                                    "0": "541",
                                    "1": "Space Advertising"
                                },
                                {
                                    "0": "546",
                                    "1": "Exhibits and Shows"
                                },
                                {
                                    "0": "548",
                                    "1": "Web Site Production and Fees"
                                },
                                {
                                    "0": "550",
                                    "1": "Packaging Materials"
                                },
                                {
                                    "0": "551",
                                    "1": "Business Forms"
                                },
                                {
                                    "0": "552",
                                    "1": "Postage"
                                },
                                {
                                    "0": "553",
                                    "1": "Freight"
                                },
                                {
                                    "0": "555",
                                    "1": "Collection Agency Fees"
                                },
                                {
                                    "0": "556",
                                    "1": "Credit Card Handling"
                                },
                                {
                                    "0": "565",
                                    "1": "Bank Fees"
                                },
                                {
                                    "0": "568",
                                    "1": "Auto License Fee"
                                },
                                {
                                    "0": "569",
                                    "1": "Auto Expense"
                                },
                                {
                                    "0": "570",
                                    "1": "Office Supplies"
                                },
                                {
                                    "0": "572",
                                    "1": "Books, Dues, and Subscriptions"
                                },
                                {
                                    "0": "574",
                                    "1": "Business Licenses and Taxes"
                                },
                                {
                                    "0": "576",
                                    "1": "PC Software"
                                },
                                {
                                    "0": "580",
                                    "1": "Meals"
                                },
                                {
                                    "0": "582",
                                    "1": "Travel and Accomodations"
                                },
                                {
                                    "0": "589",
                                    "1": "Outside Services"
                                },
                                {
                                    "0": "590",
                                    "1": "Business Insurance"
                                },
                                {
                                    "0": "591",
                                    "1": "Accounting"
                                },
                                {
                                    "0": "610",
                                    "1": "Charitable Contributions"
                                },
                                {
                                    "0": "611",
                                    "1": "Profit Sharing Contributions"
                                },
                                {
                                    "0": "620",
                                    "1": "Interest Paid to Banks"
                                },
                                {
                                    "0": "621",
                                    "1": "Other Interest"
                                },
                                {
                                    "0": "630",
                                    "1": "Federal Corporation Income Taxes"
                                },
                                {
                                    "0": "631",
                                    "1": "State Corporation Income Taxes"
                                },
                                {
                                    "0": "632",
                                    "1": "Sales Tax"
                                }
                            ]
                        },
                        "text/html": [
                            "<table>",
                            "<tr><th>AccountNo</th><th>AccountDescription</th></tr>",
                            "<tr><td>100</td><td>Cash</td></tr>",
                            "<tr><td>110</td><td>Accounts Receivable</td></tr>",
                            "<tr><td>120</td><td>Book Inventory</td></tr>",
                            "<tr><td>150</td><td>Furniture</td></tr>",
                            "<tr><td>160</td><td>Computer Equipment</td></tr>",
                            "<tr><td>162</td><td>Capitalized Lease</td></tr>",
                            "<tr><td>167</td><td>Software</td></tr>",
                            "<tr><td>170</td><td>Other Equipment</td></tr>",
                            "<tr><td>181</td><td>Book Development</td></tr>",
                            "<tr><td>200</td><td>Accounts Payable</td></tr>",
                            "<tr><td>205</td><td>Royalties Payable</td></tr>",
                            "<tr><td>221</td><td>401K Employee Contributions</td></tr>",
                            "<tr><td>230</td><td>Sales Taxes Payable</td></tr>",
                            "<tr><td>234</td><td>Medicare Taxes Payable</td></tr>",
                            "<tr><td>235</td><td>Income Taxes Payable</td></tr>",
                            "<tr><td>237</td><td>State Payroll Taxes Payable</td></tr>",
                            "<tr><td>238</td><td>Employee FICA Taxes Payable</td></tr>",
                            "<tr><td>239</td><td>Employer FICA Taxes Payable</td></tr>",
                            "<tr><td>241</td><td>Employer FUTA Taxes Payable</td></tr>",
                            "<tr><td>242</td><td>Employee SDI Taxes Payable</td></tr>",
                            "<tr><td>243</td><td>Employer UCI Taxes Payable</td></tr>",
                            "<tr><td>251</td><td>IBM Credit Corporation Payable</td></tr>",
                            "<tr><td>280</td><td>Capital Stock</td></tr>",
                            "<tr><td>290</td><td>Retained Earnings</td></tr>",
                            "<tr><td>300</td><td>Retail Sales</td></tr>",
                            "<tr><td>301</td><td>College Sales</td></tr>",
                            "<tr><td>302</td><td>Trade Sales</td></tr>",
                            "<tr><td>306</td><td>Consignment Sales</td></tr>",
                            "<tr><td>310</td><td>Compositing Revenue</td></tr>",
                            "<tr><td>394</td><td>Book Club Royalties</td></tr>",
                            "<tr><td>400</td><td>Book Printing Costs</td></tr>",
                            "<tr><td>403</td><td>Book Production Costs</td></tr>",
                            "<tr><td>500</td><td>Salaries and Wages</td></tr>",
                            "<tr><td>505</td><td>FICA</td></tr>",
                            "<tr><td>506</td><td>FUTA</td></tr>",
                            "<tr><td>507</td><td>UCI</td></tr>",
                            "<tr><td>508</td><td>Medicare</td></tr>",
                            "<tr><td>510</td><td>Group Insurance</td></tr>",
                            "<tr><td>520</td><td>Building Lease</td></tr>",
                            "<tr><td>521</td><td>Utilities</td></tr>",
                            "<tr><td>522</td><td>Telephone</td></tr>",
                            "<tr><td>523</td><td>Building Maintenance</td></tr>",
                            "<tr><td>527</td><td>Computer Equipment Maintenance</td></tr>",
                            "<tr><td>528</td><td>IBM Lease</td></tr>",
                            "<tr><td>532</td><td>Equipment Rental</td></tr>",
                            "<tr><td>536</td><td>Card Deck Advertising</td></tr>",
                            "<tr><td>540</td><td>Direct Mail Advertising</td></tr>",
                            "<tr><td>541</td><td>Space Advertising</td></tr>",
                            "<tr><td>546</td><td>Exhibits and Shows</td></tr>",
                            "<tr><td>548</td><td>Web Site Production and Fees</td></tr>",
                            "<tr><td>550</td><td>Packaging Materials</td></tr>",
                            "<tr><td>551</td><td>Business Forms</td></tr>",
                            "<tr><td>552</td><td>Postage</td></tr>",
                            "<tr><td>553</td><td>Freight</td></tr>",
                            "<tr><td>555</td><td>Collection Agency Fees</td></tr>",
                            "<tr><td>556</td><td>Credit Card Handling</td></tr>",
                            "<tr><td>565</td><td>Bank Fees</td></tr>",
                            "<tr><td>568</td><td>Auto License Fee</td></tr>",
                            "<tr><td>569</td><td>Auto Expense</td></tr>",
                            "<tr><td>570</td><td>Office Supplies</td></tr>",
                            "<tr><td>572</td><td>Books, Dues, and Subscriptions</td></tr>",
                            "<tr><td>574</td><td>Business Licenses and Taxes</td></tr>",
                            "<tr><td>576</td><td>PC Software</td></tr>",
                            "<tr><td>580</td><td>Meals</td></tr>",
                            "<tr><td>582</td><td>Travel and Accomodations</td></tr>",
                            "<tr><td>589</td><td>Outside Services</td></tr>",
                            "<tr><td>590</td><td>Business Insurance</td></tr>",
                            "<tr><td>591</td><td>Accounting</td></tr>",
                            "<tr><td>610</td><td>Charitable Contributions</td></tr>",
                            "<tr><td>611</td><td>Profit Sharing Contributions</td></tr>",
                            "<tr><td>620</td><td>Interest Paid to Banks</td></tr>",
                            "<tr><td>621</td><td>Other Interest</td></tr>",
                            "<tr><td>630</td><td>Federal Corporation Income Taxes</td></tr>",
                            "<tr><td>631</td><td>State Corporation Income Taxes</td></tr>",
                            "<tr><td>632</td><td>Sales Tax</td></tr>",
                            "</table>"
                        ]
                    }
                }
            ],
            "execution_count": 9
        }
    ]
}