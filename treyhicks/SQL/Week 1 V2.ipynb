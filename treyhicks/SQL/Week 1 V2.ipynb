{
    "metadata": {
        "kernelspec": {
            "name": "SQL",
            "display_name": "SQL",
            "language": "sql"
        },
        "language_info": {
            "name": "sql",
            "version": ""
        }
    },
    "nbformat_minor": 2,
    "nbformat": 4,
    "cells": [
        {
            "cell_type": "code",
            "source": [
                "SELECT\r\n",
                "    VendorID\r\n",
                "FROM\r\n",
                "    Invoices\r\n",
                "GROUP By \r\n",
                "    VendorID\r\n",
                "HAVING AVG (InvoiceTotal) >2000\r\n",
                "\r\n",
                ""
            ],
            "metadata": {
                "azdata_cell_guid": "bd3b5a2a-002a-41c2-b00b-98f839dee1cd",
                "language": "sql"
            },
            "outputs": [
                {
                    "output_type": "display_data",
                    "data": {
                        "text/html": "(10 rows affected)"
                    },
                    "metadata": {}
                },
                {
                    "output_type": "display_data",
                    "data": {
                        "text/html": "Total execution time: 00:00:00.013"
                    },
                    "metadata": {}
                },
                {
                    "output_type": "execute_result",
                    "metadata": {},
                    "execution_count": 24,
                    "data": {
                        "application/vnd.dataresource+json": {
                            "schema": {
                                "fields": [
                                    {
                                        "name": "VendorID"
                                    }
                                ]
                            },
                            "data": [
                                {
                                    "0": "72"
                                },
                                {
                                    "0": "86"
                                },
                                {
                                    "0": "97"
                                },
                                {
                                    "0": "98"
                                },
                                {
                                    "0": "99"
                                },
                                {
                                    "0": "100"
                                },
                                {
                                    "0": "104"
                                },
                                {
                                    "0": "110"
                                },
                                {
                                    "0": "119"
                                },
                                {
                                    "0": "122"
                                }
                            ]
                        },
                        "text/html": [
                            "<table>",
                            "<tr><th>VendorID</th></tr>",
                            "<tr><td>72</td></tr>",
                            "<tr><td>86</td></tr>",
                            "<tr><td>97</td></tr>",
                            "<tr><td>98</td></tr>",
                            "<tr><td>99</td></tr>",
                            "<tr><td>100</td></tr>",
                            "<tr><td>104</td></tr>",
                            "<tr><td>110</td></tr>",
                            "<tr><td>119</td></tr>",
                            "<tr><td>122</td></tr>",
                            "</table>"
                        ]
                    }
                }
            ],
            "execution_count": 24
        }
    ]
}