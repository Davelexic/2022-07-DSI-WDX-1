{
    "metadata": {
        "kernelspec": {
            "name": "SQL",
            "display_name": "SQL",
            "language": "sql"
        },
        "language_info": {
            "name": "sql",
            "version": ""
        }
    },
    "nbformat_minor": 2,
    "nbformat": 4,
    "cells": [
        {
            "cell_type": "code",
            "source": [
                "SELECT --SELECT InvoiceNumber\r\n",
                "    VendorName, SUM( invoicetotal )\r\n",
                "FROM\r\n",
                "    Invoices\r\n",
                "JOIN\r\n",
                "    Vendors\r\n",
                "ON \r\n",
                "    Vendors.VendorID=Invoices.VendorID\r\n",
                "    GROUP BY VendorName\r\n",
                "    ORDER BY\r\n",
                "    VendorName\r\n",
                ""
            ],
            "metadata": {
                "azdata_cell_guid": "5e972e2c-734a-4d5f-9246-12b994715101",
                "language": "sql",
                "tags": []
            },
            "outputs": [
                {
                    "output_type": "display_data",
                    "data": {
                        "text/html": "(35 rows affected)"
                    },
                    "metadata": {}
                },
                {
                    "output_type": "display_data",
                    "data": {
                        "text/html": "Total execution time: 00:00:00.020"
                    },
                    "metadata": {}
                },
                {
                    "output_type": "execute_result",
                    "metadata": {},
                    "execution_count": 2,
                    "data": {
                        "application/vnd.dataresource+json": {
                            "schema": {
                                "fields": [
                                    {
                                        "name": "VendorName"
                                    },
                                    {
                                        "name": "(No column name)"
                                    }
                                ]
                            },
                            "data": [
                                {
                                    "0": "Abbey Office Furnishings",
                                    "1": "17.50"
                                },
                                {
                                    "0": "American Express",
                                    "1": "8344.50"
                                },
                                {
                                    "0": "Bertelsmann Industry Svcs. Inc",
                                    "1": "11687.75"
                                },
                                {
                                    "0": "Blue Cross",
                                    "1": "564.00"
                                },
                                {
                                    "0": "Cahners Publishing Company",
                                    "1": "2184.50"
                                },
                                {
                                    "0": "Cardinal Business Media, Inc.",
                                    "1": "265.36"
                                },
                                {
                                    "0": "Coffee Break Service",
                                    "1": "64.77"
                                },
                                {
                                    "0": "Compuserve",
                                    "1": "8364.40"
                                },
                                {
                                    "0": "Computerworld",
                                    "1": "2433.00"
                                },
                                {
                                    "0": "Data Reproductions Corp",
                                    "1": "22100.69"
                                },
                                {
                                    "0": "Dean Witter Reynolds",
                                    "1": "1367.50"
                                },
                                {
                                    "0": "Digital Dreamworks",
                                    "1": "7125.34"
                                },
                                {
                                    "0": "Dristas Groom & McCormick",
                                    "1": "220.00"
                                },
                                {
                                    "0": "Edward Data Services",
                                    "1": "207.78"
                                },
                                {
                                    "0": "Evans Executone Inc",
                                    "1": "95.00"
                                },
                                {
                                    "0": "Federal Express Corporation",
                                    "1": "4378.02"
                                },
                                {
                                    "0": "Ford Motor Credit Company",
                                    "1": "503.20"
                                },
                                {
                                    "0": "Franchise Tax Board",
                                    "1": "1600.00"
                                },
                                {
                                    "0": "Fresno County Tax Collector",
                                    "1": "856.92"
                                },
                                {
                                    "0": "Gostanian General Building",
                                    "1": "450.00"
                                },
                                {
                                    "0": "IBM",
                                    "1": "1200.12"
                                },
                                {
                                    "0": "Ingram",
                                    "1": "2154.42"
                                },
                                {
                                    "0": "Malloy Lithographing Inc",
                                    "1": "119892.41"
                                },
                                {
                                    "0": "Pacific Bell",
                                    "1": "390.51"
                                },
                                {
                                    "0": "Pollstar",
                                    "1": "1750.00"
                                },
                                {
                                    "0": "Postmaster",
                                    "1": "290.00"
                                },
                                {
                                    "0": "Reiter's Scientific & Pro Books",
                                    "1": "600.00"
                                },
                                {
                                    "0": "Roadway Package System, Inc",
                                    "1": "43.67"
                                },
                                {
                                    "0": "Suburban Propane",
                                    "1": "16.62"
                                },
                                {
                                    "0": "United Parcel Service",
                                    "1": "23177.96"
                                },
                                {
                                    "0": "Wakefield Co",
                                    "1": "356.48"
                                },
                                {
                                    "0": "Wang Laboratories, Inc.",
                                    "1": "936.93"
                                },
                                {
                                    "0": "Wells Fargo Bank",
                                    "1": "662.00"
                                },
                                {
                                    "0": "Yesmed, Inc",
                                    "1": "4901.26"
                                },
                                {
                                    "0": "Zylka Design",
                                    "1": "6940.25"
                                }
                            ]
                        },
                        "text/html": [
                            "<table>",
                            "<tr><th>VendorName</th><th>(No column name)</th></tr>",
                            "<tr><td>Abbey Office Furnishings</td><td>17.50</td></tr>",
                            "<tr><td>American Express</td><td>8344.50</td></tr>",
                            "<tr><td>Bertelsmann Industry Svcs. Inc</td><td>11687.75</td></tr>",
                            "<tr><td>Blue Cross</td><td>564.00</td></tr>",
                            "<tr><td>Cahners Publishing Company</td><td>2184.50</td></tr>",
                            "<tr><td>Cardinal Business Media, Inc.</td><td>265.36</td></tr>",
                            "<tr><td>Coffee Break Service</td><td>64.77</td></tr>",
                            "<tr><td>Compuserve</td><td>8364.40</td></tr>",
                            "<tr><td>Computerworld</td><td>2433.00</td></tr>",
                            "<tr><td>Data Reproductions Corp</td><td>22100.69</td></tr>",
                            "<tr><td>Dean Witter Reynolds</td><td>1367.50</td></tr>",
                            "<tr><td>Digital Dreamworks</td><td>7125.34</td></tr>",
                            "<tr><td>Dristas Groom &amp; McCormick</td><td>220.00</td></tr>",
                            "<tr><td>Edward Data Services</td><td>207.78</td></tr>",
                            "<tr><td>Evans Executone Inc</td><td>95.00</td></tr>",
                            "<tr><td>Federal Express Corporation</td><td>4378.02</td></tr>",
                            "<tr><td>Ford Motor Credit Company</td><td>503.20</td></tr>",
                            "<tr><td>Franchise Tax Board</td><td>1600.00</td></tr>",
                            "<tr><td>Fresno County Tax Collector</td><td>856.92</td></tr>",
                            "<tr><td>Gostanian General Building</td><td>450.00</td></tr>",
                            "<tr><td>IBM</td><td>1200.12</td></tr>",
                            "<tr><td>Ingram</td><td>2154.42</td></tr>",
                            "<tr><td>Malloy Lithographing Inc</td><td>119892.41</td></tr>",
                            "<tr><td>Pacific Bell</td><td>390.51</td></tr>",
                            "<tr><td>Pollstar</td><td>1750.00</td></tr>",
                            "<tr><td>Postmaster</td><td>290.00</td></tr>",
                            "<tr><td>Reiter's Scientific &amp; Pro Books</td><td>600.00</td></tr>",
                            "<tr><td>Roadway Package System, Inc</td><td>43.67</td></tr>",
                            "<tr><td>Suburban Propane</td><td>16.62</td></tr>",
                            "<tr><td>United Parcel Service</td><td>23177.96</td></tr>",
                            "<tr><td>Wakefield Co</td><td>356.48</td></tr>",
                            "<tr><td>Wang Laboratories, Inc.</td><td>936.93</td></tr>",
                            "<tr><td>Wells Fargo Bank</td><td>662.00</td></tr>",
                            "<tr><td>Yesmed, Inc</td><td>4901.26</td></tr>",
                            "<tr><td>Zylka Design</td><td>6940.25</td></tr>",
                            "</table>"
                        ]
                    }
                }
            ],
            "execution_count": 2
        },
        {
            "cell_type": "code",
            "source": [
                "SELECt d"
            ],
            "metadata": {
                "azdata_cell_guid": "383d637a-d946-4c14-858c-5987c08d24b8",
                "language": "sql"
            },
            "outputs": [],
            "execution_count": null
        }
    ]
}