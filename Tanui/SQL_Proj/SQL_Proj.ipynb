{
    "metadata": {
        "kernelspec": {
            "name": "SQL",
            "display_name": "SQL",
            "language": "sql"
        },
        "language_info": {
            "name": "sql",
            "version": ""
        }
    },
    "nbformat_minor": 2,
    "nbformat": 4,
    "cells": [
        {
            "cell_type": "code",
            "source": [
                "SELECT VendorID, LastName, FirstName\r\n",
                "FROM ContactUpdates \r\n",
                "WHERE LastName LIKE 'a%'"
            ],
            "metadata": {
                "azdata_cell_guid": "9ed0778c-024b-4eeb-bba2-edbea29e1c6e",
                "language": "sql"
            },
            "outputs": [
                {
                    "output_type": "display_data",
                    "data": {
                        "text/html": "(1 row affected)"
                    },
                    "metadata": {}
                },
                {
                    "output_type": "display_data",
                    "data": {
                        "text/html": "Total execution time: 00:00:00.019"
                    },
                    "metadata": {}
                },
                {
                    "output_type": "execute_result",
                    "execution_count": 8,
                    "data": {
                        "application/vnd.dataresource+json": {
                            "schema": {
                                "fields": [
                                    {
                                        "name": "VendorID"
                                    },
                                    {
                                        "name": "LastName"
                                    },
                                    {
                                        "name": "FirstName"
                                    }
                                ]
                            },
                            "data": [
                                {
                                    "0": "44",
                                    "1": "Antavius",
                                    "2": "Anthony"
                                }
                            ]
                        },
                        "text/html": "<table><tr><th>VendorID</th><th>LastName</th><th>FirstName</th></tr><tr><td>44</td><td>Antavius</td><td>Anthony</td></tr></table>"
                    },
                    "metadata": {}
                }
            ],
            "execution_count": 8
        }
    ]
}